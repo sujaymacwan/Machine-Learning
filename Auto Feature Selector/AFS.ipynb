{
 "cells": [
  {
   "cell_type": "markdown",
   "metadata": {},
   "source": [
    "#  AutoFeatureSelector Tool\n",
    "\n",
    "### Using different feature selector methods to build an Automatic Feature Selection tool\n",
    "- Pearson Correlation\n",
    "- Chi-Square\n",
    "- RFE\n",
    "- Embedded\n",
    "- Tree (Random Forest)\n",
    "- Tree (Light GBM)"
   ]
  },
  {
   "cell_type": "markdown",
   "metadata": {},
   "source": [
    "### Dataset: FIFA 19 Player Skills\n",
    "#### Attributes: FIFA 2019 players attributes like Age, Nationality, Overall, Potential, Club, Value, Wage, Preferred Foot, International Reputation, Weak Foot, Skill Moves, Work Rate, Position, Jersey Number, Joined, Loaned From, Contract Valid Until, Height, Weight, LS, ST, RS, LW, LF, CF, RF, RW, LAM, CAM, RAM, LM, LCM, CM, RCM, RM, LWB, LDM, CDM, RDM, RWB, LB, LCB, CB, RCB, RB, Crossing, Finishing, Heading, Accuracy, ShortPassing, Volleys, Dribbling, Curve, FKAccuracy, LongPassing, BallControl, Acceleration, SprintSpeed, Agility, Reactions, Balance, ShotPower, Jumping, Stamina, Strength, LongShots, Aggression, Interceptions, Positioning, Vision, Penalties, Composure, Marking, StandingTackle, SlidingTackle, GKDiving, GKHandling, GKKicking, GKPositioning, GKReflexes, and Release Clause."
   ]
  },
  {
   "cell_type": "code",
   "execution_count": 177,
   "metadata": {},
   "outputs": [],
   "source": [
    "%matplotlib inline\n",
    "import numpy as np\n",
    "import pandas as pd \n",
    "import seaborn as sns\n",
    "import matplotlib.pyplot as plt\n",
    "import scipy.stats as ss\n",
    "from collections import Counter\n",
    "import math\n",
    "from scipy import stats\n",
    "from sklearn.feature_selection import SelectKBest, chi2, RFE, SelectFromModel\n",
    "from sklearn.linear_model import LogisticRegression\n",
    "from sklearn.ensemble import RandomForestClassifier\n",
    "from lightgbm import LGBMClassifier\n"
   ]
  },
  {
   "cell_type": "code",
   "execution_count": 178,
   "metadata": {},
   "outputs": [],
   "source": [
    "player_df = pd.read_csv(\"fifa19.csv\")"
   ]
  },
  {
   "cell_type": "code",
   "execution_count": 179,
   "metadata": {},
   "outputs": [],
   "source": [
    "# Select relevant columns\n",
    "numcols = ['Overall', 'Crossing','Finishing', 'ShortPassing', 'Dribbling','LongPassing', 'BallControl', 'Acceleration',\n",
    "           'SprintSpeed', 'Agility', 'Stamina','Volleys','FKAccuracy','Reactions','Balance','ShotPower','Strength',\n",
    "           'LongShots','Aggression','Interceptions']\n",
    "catcols = ['Preferred Foot','Position','Body Type','Nationality','Weak Foot']\n",
    "player_df = player_df[numcols+catcols]\n",
    "traindf = pd.concat([player_df[numcols], pd.get_dummies(player_df[catcols])],axis=1)\n",
    "# Exclude features with 'Nationality'\n",
    "nationality_columns = [col for col in traindf.columns if 'Nationality' in col]\n",
    "traindf = traindf.drop(nationality_columns, axis=1)"
   ]
  },
  {
   "cell_type": "code",
   "execution_count": 180,
   "metadata": {},
   "outputs": [],
   "source": [
    "player_df = player_df[numcols+catcols]"
   ]
  },
  {
   "cell_type": "code",
   "execution_count": 181,
   "metadata": {},
   "outputs": [],
   "source": [
    "\n",
    "features = traindf.columns\n",
    "traindf = traindf.dropna()\n",
    "traindf = pd.DataFrame(traindf, columns=features)\n",
    "\n",
    "y = traindf['Overall'] >= 87\n",
    "X = traindf.copy()\n",
    "del X['Overall']"
   ]
  },
  {
   "cell_type": "code",
   "execution_count": 182,
   "metadata": {},
   "outputs": [
    {
     "data": {
      "text/html": [
       "<div>\n",
       "<style scoped>\n",
       "    .dataframe tbody tr th:only-of-type {\n",
       "        vertical-align: middle;\n",
       "    }\n",
       "\n",
       "    .dataframe tbody tr th {\n",
       "        vertical-align: top;\n",
       "    }\n",
       "\n",
       "    .dataframe thead th {\n",
       "        text-align: right;\n",
       "    }\n",
       "</style>\n",
       "<table border=\"1\" class=\"dataframe\">\n",
       "  <thead>\n",
       "    <tr style=\"text-align: right;\">\n",
       "      <th></th>\n",
       "      <th>Crossing</th>\n",
       "      <th>Finishing</th>\n",
       "      <th>ShortPassing</th>\n",
       "      <th>Dribbling</th>\n",
       "      <th>LongPassing</th>\n",
       "      <th>BallControl</th>\n",
       "      <th>Acceleration</th>\n",
       "      <th>SprintSpeed</th>\n",
       "      <th>Agility</th>\n",
       "      <th>Stamina</th>\n",
       "      <th>...</th>\n",
       "      <th>Body Type_Akinfenwa</th>\n",
       "      <th>Body Type_C. Ronaldo</th>\n",
       "      <th>Body Type_Courtois</th>\n",
       "      <th>Body Type_Lean</th>\n",
       "      <th>Body Type_Messi</th>\n",
       "      <th>Body Type_Neymar</th>\n",
       "      <th>Body Type_Normal</th>\n",
       "      <th>Body Type_PLAYER_BODY_TYPE_25</th>\n",
       "      <th>Body Type_Shaqiri</th>\n",
       "      <th>Body Type_Stocky</th>\n",
       "    </tr>\n",
       "  </thead>\n",
       "  <tbody>\n",
       "    <tr>\n",
       "      <th>0</th>\n",
       "      <td>84.0</td>\n",
       "      <td>95.0</td>\n",
       "      <td>90.0</td>\n",
       "      <td>97.0</td>\n",
       "      <td>87.0</td>\n",
       "      <td>96.0</td>\n",
       "      <td>91.0</td>\n",
       "      <td>86.0</td>\n",
       "      <td>91.0</td>\n",
       "      <td>72.0</td>\n",
       "      <td>...</td>\n",
       "      <td>False</td>\n",
       "      <td>False</td>\n",
       "      <td>False</td>\n",
       "      <td>False</td>\n",
       "      <td>True</td>\n",
       "      <td>False</td>\n",
       "      <td>False</td>\n",
       "      <td>False</td>\n",
       "      <td>False</td>\n",
       "      <td>False</td>\n",
       "    </tr>\n",
       "    <tr>\n",
       "      <th>1</th>\n",
       "      <td>84.0</td>\n",
       "      <td>94.0</td>\n",
       "      <td>81.0</td>\n",
       "      <td>88.0</td>\n",
       "      <td>77.0</td>\n",
       "      <td>94.0</td>\n",
       "      <td>89.0</td>\n",
       "      <td>91.0</td>\n",
       "      <td>87.0</td>\n",
       "      <td>88.0</td>\n",
       "      <td>...</td>\n",
       "      <td>False</td>\n",
       "      <td>True</td>\n",
       "      <td>False</td>\n",
       "      <td>False</td>\n",
       "      <td>False</td>\n",
       "      <td>False</td>\n",
       "      <td>False</td>\n",
       "      <td>False</td>\n",
       "      <td>False</td>\n",
       "      <td>False</td>\n",
       "    </tr>\n",
       "    <tr>\n",
       "      <th>2</th>\n",
       "      <td>79.0</td>\n",
       "      <td>87.0</td>\n",
       "      <td>84.0</td>\n",
       "      <td>96.0</td>\n",
       "      <td>78.0</td>\n",
       "      <td>95.0</td>\n",
       "      <td>94.0</td>\n",
       "      <td>90.0</td>\n",
       "      <td>96.0</td>\n",
       "      <td>81.0</td>\n",
       "      <td>...</td>\n",
       "      <td>False</td>\n",
       "      <td>False</td>\n",
       "      <td>False</td>\n",
       "      <td>False</td>\n",
       "      <td>False</td>\n",
       "      <td>True</td>\n",
       "      <td>False</td>\n",
       "      <td>False</td>\n",
       "      <td>False</td>\n",
       "      <td>False</td>\n",
       "    </tr>\n",
       "    <tr>\n",
       "      <th>3</th>\n",
       "      <td>17.0</td>\n",
       "      <td>13.0</td>\n",
       "      <td>50.0</td>\n",
       "      <td>18.0</td>\n",
       "      <td>51.0</td>\n",
       "      <td>42.0</td>\n",
       "      <td>57.0</td>\n",
       "      <td>58.0</td>\n",
       "      <td>60.0</td>\n",
       "      <td>43.0</td>\n",
       "      <td>...</td>\n",
       "      <td>False</td>\n",
       "      <td>False</td>\n",
       "      <td>False</td>\n",
       "      <td>True</td>\n",
       "      <td>False</td>\n",
       "      <td>False</td>\n",
       "      <td>False</td>\n",
       "      <td>False</td>\n",
       "      <td>False</td>\n",
       "      <td>False</td>\n",
       "    </tr>\n",
       "    <tr>\n",
       "      <th>4</th>\n",
       "      <td>93.0</td>\n",
       "      <td>82.0</td>\n",
       "      <td>92.0</td>\n",
       "      <td>86.0</td>\n",
       "      <td>91.0</td>\n",
       "      <td>91.0</td>\n",
       "      <td>78.0</td>\n",
       "      <td>76.0</td>\n",
       "      <td>79.0</td>\n",
       "      <td>90.0</td>\n",
       "      <td>...</td>\n",
       "      <td>False</td>\n",
       "      <td>False</td>\n",
       "      <td>False</td>\n",
       "      <td>False</td>\n",
       "      <td>False</td>\n",
       "      <td>False</td>\n",
       "      <td>True</td>\n",
       "      <td>False</td>\n",
       "      <td>False</td>\n",
       "      <td>False</td>\n",
       "    </tr>\n",
       "  </tbody>\n",
       "</table>\n",
       "<p>5 rows × 59 columns</p>\n",
       "</div>"
      ],
      "text/plain": [
       "   Crossing  Finishing  ShortPassing  Dribbling  LongPassing  BallControl  \\\n",
       "0      84.0       95.0          90.0       97.0         87.0         96.0   \n",
       "1      84.0       94.0          81.0       88.0         77.0         94.0   \n",
       "2      79.0       87.0          84.0       96.0         78.0         95.0   \n",
       "3      17.0       13.0          50.0       18.0         51.0         42.0   \n",
       "4      93.0       82.0          92.0       86.0         91.0         91.0   \n",
       "\n",
       "   Acceleration  SprintSpeed  Agility  Stamina  ...  Body Type_Akinfenwa  \\\n",
       "0          91.0         86.0     91.0     72.0  ...                False   \n",
       "1          89.0         91.0     87.0     88.0  ...                False   \n",
       "2          94.0         90.0     96.0     81.0  ...                False   \n",
       "3          57.0         58.0     60.0     43.0  ...                False   \n",
       "4          78.0         76.0     79.0     90.0  ...                False   \n",
       "\n",
       "   Body Type_C. Ronaldo  Body Type_Courtois  Body Type_Lean  Body Type_Messi  \\\n",
       "0                 False               False           False             True   \n",
       "1                  True               False           False            False   \n",
       "2                 False               False           False            False   \n",
       "3                 False               False            True            False   \n",
       "4                 False               False           False            False   \n",
       "\n",
       "   Body Type_Neymar  Body Type_Normal  Body Type_PLAYER_BODY_TYPE_25  \\\n",
       "0             False             False                          False   \n",
       "1             False             False                          False   \n",
       "2              True             False                          False   \n",
       "3             False             False                          False   \n",
       "4             False              True                          False   \n",
       "\n",
       "   Body Type_Shaqiri  Body Type_Stocky  \n",
       "0              False             False  \n",
       "1              False             False  \n",
       "2              False             False  \n",
       "3              False             False  \n",
       "4              False             False  \n",
       "\n",
       "[5 rows x 59 columns]"
      ]
     },
     "execution_count": 182,
     "metadata": {},
     "output_type": "execute_result"
    }
   ],
   "source": [
    "X.head()"
   ]
  },
  {
   "cell_type": "code",
   "execution_count": 183,
   "metadata": {},
   "outputs": [
    {
     "data": {
      "text/plain": [
       "59"
      ]
     },
     "execution_count": 183,
     "metadata": {},
     "output_type": "execute_result"
    }
   ],
   "source": [
    "len(X.columns)"
   ]
  },
  {
   "cell_type": "markdown",
   "metadata": {},
   "source": [
    "### Set some fixed set of features"
   ]
  },
  {
   "cell_type": "code",
   "execution_count": 184,
   "metadata": {},
   "outputs": [],
   "source": [
    "feature_name = list(X.columns)\n",
    "# no of maximum features we need to select\n",
    "num_feats=30"
   ]
  },
  {
   "cell_type": "markdown",
   "metadata": {},
   "source": [
    "## Filter Feature Selection - Pearson Correlation"
   ]
  },
  {
   "cell_type": "markdown",
   "metadata": {},
   "source": [
    "### Pearson Correlation function"
   ]
  },
  {
   "cell_type": "code",
   "execution_count": 185,
   "metadata": {},
   "outputs": [],
   "source": [
    "def cor_selector(X, y, num_feats):\n",
    "    cor_support = X.corrwith(y)\n",
    "    cor_feature = cor_support.abs().sort_values(ascending=False).index\n",
    "    return cor_support, cor_feature"
   ]
  },
  {
   "cell_type": "code",
   "execution_count": 186,
   "metadata": {},
   "outputs": [
    {
     "name": "stdout",
     "output_type": "stream",
     "text": [
      "59 selected features\n"
     ]
    }
   ],
   "source": [
    "cor_support, cor_feature = cor_selector(X, y,num_feats)\n",
    "print(str(len(cor_feature)), 'selected features')"
   ]
  },
  {
   "cell_type": "markdown",
   "metadata": {},
   "source": [
    "### List the selected features from Pearson Correlation"
   ]
  },
  {
   "cell_type": "code",
   "execution_count": 187,
   "metadata": {},
   "outputs": [
    {
     "name": "stdout",
     "output_type": "stream",
     "text": [
      "Index(['Reactions', 'Body Type_C. Ronaldo', 'Body Type_Messi',\n",
      "       'Body Type_Neymar', 'Body Type_Courtois',\n",
      "       'Body Type_PLAYER_BODY_TYPE_25', 'Position_LF', 'Position_RF',\n",
      "       'ShortPassing', 'Volleys', 'LongPassing', 'FKAccuracy', 'BallControl',\n",
      "       'Finishing', 'LongShots', 'ShotPower', 'Dribbling', 'Crossing',\n",
      "       'Agility', 'Weak Foot', 'Stamina', 'Strength', 'SprintSpeed',\n",
      "       'Acceleration', 'Position_LAM', 'Aggression', 'Balance', 'Position_LW',\n",
      "       'Interceptions', 'Position_CM', 'Body Type_Lean', 'Position_RB',\n",
      "       'Position_LS', 'Position_RCM', 'Position_LCM', 'Position_CB',\n",
      "       'Position_LCB', 'Position_LM', 'Position_GK', 'Position_RW',\n",
      "       'Body Type_Normal', 'Position_LB', 'Body Type_Stocky', 'Position_RM',\n",
      "       'Preferred Foot_Left', 'Preferred Foot_Right', 'Position_RCB',\n",
      "       'Position_ST', 'Position_CAM', 'Position_CDM', 'Position_RWB',\n",
      "       'Position_RS', 'Position_LWB', 'Position_CF', 'Position_LDM',\n",
      "       'Position_RDM', 'Position_RAM', 'Body Type_Akinfenwa',\n",
      "       'Body Type_Shaqiri'],\n",
      "      dtype='object')\n"
     ]
    }
   ],
   "source": [
    "print(cor_feature)"
   ]
  },
  {
   "cell_type": "markdown",
   "metadata": {},
   "source": [
    "## Filter Feature Selection - Chi-Sqaure"
   ]
  },
  {
   "cell_type": "code",
   "execution_count": 215,
   "metadata": {},
   "outputs": [],
   "source": [
    "from sklearn.feature_selection import SelectKBest\n",
    "from sklearn.feature_selection import chi2\n",
    "from sklearn.preprocessing import MinMaxScaler\n",
    "from sklearn.feature_selection import f_regression\n"
   ]
  },
  {
   "cell_type": "markdown",
   "metadata": {},
   "source": [
    "### Chi-Squared Selector function"
   ]
  },
  {
   "cell_type": "code",
   "execution_count": 259,
   "metadata": {},
   "outputs": [],
   "source": [
    "def chi_squared_selector(X, y, num_feats):\n",
    "    chi_support = SelectKBest(score_func=f_regression, k=num_feats)\n",
    "    chi_support.fit(X, y)\n",
    "    chi_feature = X.columns[chi_support.get_support()]\n",
    "    return chi_feature\n",
    "\n",
    "from sklearn.feature_selection import mutual_info_regression\n",
    "\n",
    "def mutual_info_selector(X, y, num_feats):\n",
    "    mi_support = SelectKBest(score_func=mutual_info_regression, k=num_feats)\n",
    "    mi_support.fit(X, y)\n",
    "    mi_feature = X.columns[mi_support.get_support()]\n",
    "    return mi_feature\n"
   ]
  },
  {
   "cell_type": "code",
   "execution_count": 260,
   "metadata": {},
   "outputs": [
    {
     "name": "stdout",
     "output_type": "stream",
     "text": [
      "30 selected features\n"
     ]
    }
   ],
   "source": [
    "chi_feature = chi_squared_selector(X, y, num_feats)\n",
    "print(str(len(chi_feature)), 'selected features')"
   ]
  },
  {
   "cell_type": "markdown",
   "metadata": {},
   "source": [
    "### List the selected features from Chi-Square "
   ]
  },
  {
   "cell_type": "code",
   "execution_count": 239,
   "metadata": {},
   "outputs": [
    {
     "data": {
      "text/plain": [
       "Index(['Crossing', 'Finishing', 'ShortPassing', 'Dribbling', 'LongPassing',\n",
       "       'BallControl', 'Acceleration', 'SprintSpeed', 'Agility', 'Stamina',\n",
       "       'Volleys', 'FKAccuracy', 'Reactions', 'Balance', 'ShotPower',\n",
       "       'Strength', 'LongShots', 'Aggression', 'Interceptions', 'Weak Foot',\n",
       "       'Position_CM', 'Position_LAM', 'Position_LF', 'Position_LW',\n",
       "       'Position_RF', 'Body Type_C. Ronaldo', 'Body Type_Courtois',\n",
       "       'Body Type_Messi', 'Body Type_Neymar', 'Body Type_PLAYER_BODY_TYPE_25'],\n",
       "      dtype='object')"
      ]
     },
     "execution_count": 239,
     "metadata": {},
     "output_type": "execute_result"
    }
   ],
   "source": [
    "chi_feature"
   ]
  },
  {
   "cell_type": "markdown",
   "metadata": {},
   "source": [
    "## Wrapper Feature Selection - Recursive Feature Elimination"
   ]
  },
  {
   "cell_type": "code",
   "execution_count": 240,
   "metadata": {},
   "outputs": [],
   "source": [
    "from sklearn.feature_selection import RFE\n",
    "from sklearn.linear_model import LogisticRegression\n",
    "from sklearn.preprocessing import MinMaxScaler\n",
    "from sklearn.ensemble import RandomForestRegressor\n"
   ]
  },
  {
   "cell_type": "markdown",
   "metadata": {},
   "source": [
    "### RFE Selector function"
   ]
  },
  {
   "cell_type": "code",
   "execution_count": 241,
   "metadata": {},
   "outputs": [],
   "source": [
    "def rfe_selector(X, y, num_feats):\n",
    "    model = RandomForestRegressor(n_estimators=100, random_state=0)\n",
    "    model.fit(X, y)\n",
    "    feature_importance = model.feature_importances_\n",
    "\n",
    "    # Get the indices of the top k features\n",
    "    top_k_indices = feature_importance.argsort()[-num_feats:][::-1]\n",
    "\n",
    "    rf_feature = X.columns[top_k_indices]\n",
    "    return rfe_support, rfe_feature"
   ]
  },
  {
   "cell_type": "code",
   "execution_count": 242,
   "metadata": {},
   "outputs": [
    {
     "name": "stdout",
     "output_type": "stream",
     "text": [
      "30 selected features\n"
     ]
    }
   ],
   "source": [
    "rfe_support, rfe_feature = rfe_selector(X, y,num_feats)\n",
    "print(str(len(rfe_feature)), 'selected features')"
   ]
  },
  {
   "cell_type": "markdown",
   "metadata": {},
   "source": [
    "### List the selected features from RFE"
   ]
  },
  {
   "cell_type": "code",
   "execution_count": 243,
   "metadata": {},
   "outputs": [
    {
     "data": {
      "text/plain": [
       "['Reactions',\n",
       " 'Balance',\n",
       " 'Strength',\n",
       " 'Weak Foot',\n",
       " 'Preferred Foot_Left',\n",
       " 'Preferred Foot_Right',\n",
       " 'Position_CAM',\n",
       " 'Position_CM',\n",
       " 'Position_GK',\n",
       " 'Position_LAM',\n",
       " 'Position_LCB',\n",
       " 'Position_LF',\n",
       " 'Position_LM',\n",
       " 'Position_LS',\n",
       " 'Position_LW',\n",
       " 'Position_RAM',\n",
       " 'Position_RB',\n",
       " 'Position_RCB',\n",
       " 'Position_RCM',\n",
       " 'Position_RF',\n",
       " 'Position_RM',\n",
       " 'Position_RW',\n",
       " 'Position_ST',\n",
       " 'Body Type_C. Ronaldo',\n",
       " 'Body Type_Courtois',\n",
       " 'Body Type_Lean',\n",
       " 'Body Type_Messi',\n",
       " 'Body Type_Neymar',\n",
       " 'Body Type_PLAYER_BODY_TYPE_25',\n",
       " 'Body Type_Stocky']"
      ]
     },
     "execution_count": 243,
     "metadata": {},
     "output_type": "execute_result"
    }
   ],
   "source": [
    "rfe_feature"
   ]
  },
  {
   "cell_type": "markdown",
   "metadata": {},
   "source": [
    "## Embedded Selection - Lasso: SelectFromModel"
   ]
  },
  {
   "cell_type": "code",
   "execution_count": 244,
   "metadata": {},
   "outputs": [],
   "source": [
    "from sklearn.feature_selection import SelectFromModel\n",
    "from sklearn.linear_model import LogisticRegression\n",
    "from sklearn.preprocessing import MinMaxScaler"
   ]
  },
  {
   "cell_type": "code",
   "execution_count": 245,
   "metadata": {},
   "outputs": [],
   "source": [
    "def embedded_log_reg_selector(X, y, num_feats):\n",
    "    # Your code goes here (Multiple lines)\n",
    "    # Standardize features using StandardScaler\n",
    "    print(\"total number of features set by us is :\",num_feats)\n",
    "    scaler = MinMaxScaler()\n",
    "    X_scaled = scaler.fit_transform(X)\n",
    "\n",
    "    # Choose Logistic Regression with L1 penalty (Lasso) as the estimator\n",
    "    estimator = LogisticRegression(penalty='l1', solver='liblinear')\n",
    "\n",
    "    # Use SelectFromModel to perform feature selection\n",
    "    embedded_lr_selector = SelectFromModel(estimator, max_features=num_feats)\n",
    "    embedded_lr_selector.fit(X_scaled, y)\n",
    "\n",
    "    # Get the selected features\n",
    "    embedded_lr_support = embedded_lr_selector.get_support()\n",
    "    embedded_lr_feature = X.columns[embedded_lr_support].tolist()\n",
    "\n",
    "    # Print the selected features\n",
    "    print(\"Selected features:\")\n",
    "    print(embedded_lr_feature)\n",
    "\n",
    "    return embedded_lr_support, embedded_lr_feature"
   ]
  },
  {
   "cell_type": "code",
   "execution_count": 246,
   "metadata": {},
   "outputs": [
    {
     "name": "stdout",
     "output_type": "stream",
     "text": [
      "total number of features set by us is : 30\n",
      "Selected features:\n",
      "['LongPassing', 'Reactions', 'Balance', 'Aggression', 'Preferred Foot_Right', 'Position_CAM', 'Position_CM', 'Position_GK', 'Position_LCB', 'Position_LM', 'Position_LW', 'Position_RB', 'Position_RCB', 'Position_RW', 'Body Type_Lean', 'Body Type_Stocky']\n",
      "16 selected features\n"
     ]
    }
   ],
   "source": [
    "embedded_lr_support, embedded_lr_feature = embedded_log_reg_selector(X, y, num_feats)\n",
    "print(str(len(embedded_lr_feature)), 'selected features')"
   ]
  },
  {
   "cell_type": "code",
   "execution_count": 247,
   "metadata": {},
   "outputs": [
    {
     "data": {
      "text/plain": [
       "['LongPassing',\n",
       " 'Reactions',\n",
       " 'Balance',\n",
       " 'Aggression',\n",
       " 'Preferred Foot_Right',\n",
       " 'Position_CAM',\n",
       " 'Position_CM',\n",
       " 'Position_GK',\n",
       " 'Position_LCB',\n",
       " 'Position_LM',\n",
       " 'Position_LW',\n",
       " 'Position_RB',\n",
       " 'Position_RCB',\n",
       " 'Position_RW',\n",
       " 'Body Type_Lean',\n",
       " 'Body Type_Stocky']"
      ]
     },
     "execution_count": 247,
     "metadata": {},
     "output_type": "execute_result"
    }
   ],
   "source": [
    "embedded_lr_feature"
   ]
  },
  {
   "cell_type": "markdown",
   "metadata": {},
   "source": [
    "## Tree based(Random Forest): SelectFromModel"
   ]
  },
  {
   "cell_type": "code",
   "execution_count": 248,
   "metadata": {},
   "outputs": [],
   "source": [
    "from sklearn.feature_selection import SelectFromModel\n",
    "from sklearn.ensemble import RandomForestClassifier"
   ]
  },
  {
   "cell_type": "code",
   "execution_count": 249,
   "metadata": {},
   "outputs": [],
   "source": [
    "def embedded_rf_selector(X, y, num_feats):\n",
    "    # Your code goes here (Multiple lines)\n",
    "    \n",
    "    # Choosing RandomForestClassifier as the estimator\n",
    "    estimator = RandomForestClassifier()\n",
    "\n",
    "    # Using SelectFromModel to perform feature selection\n",
    "    embedded_rf_selector = SelectFromModel(estimator, max_features=num_feats)\n",
    "    embedded_rf_selector.fit(X, y)\n",
    "\n",
    "    # Get the selected features\n",
    "    embedded_rf_support = embedded_rf_selector.get_support()\n",
    "    embedded_rf_feature = X.columns[embedded_rf_support].tolist()\n",
    "\n",
    "    # Print the selected features\n",
    "    print(\"Selected features:\")\n",
    "    print(embedded_rf_feature)\n",
    "    # Your code ends here\n",
    "    return embedded_rf_support, embedded_rf_feature"
   ]
  },
  {
   "cell_type": "code",
   "execution_count": 250,
   "metadata": {},
   "outputs": [
    {
     "name": "stdout",
     "output_type": "stream",
     "text": [
      "Selected features:\n",
      "['Crossing', 'Finishing', 'ShortPassing', 'Dribbling', 'LongPassing', 'BallControl', 'Acceleration', 'SprintSpeed', 'Agility', 'Stamina', 'Volleys', 'FKAccuracy', 'Reactions', 'Balance', 'ShotPower', 'Strength', 'LongShots', 'Aggression', 'Interceptions']\n",
      "19 selected features\n"
     ]
    }
   ],
   "source": [
    "embedded_rf_support, embedded_rf_feature = embedded_rf_selector(X, y, num_feats)\n",
    "print(str(len(embedded_rf_feature)), 'selected features')\n"
   ]
  },
  {
   "cell_type": "code",
   "execution_count": 251,
   "metadata": {},
   "outputs": [
    {
     "data": {
      "text/plain": [
       "['Crossing',\n",
       " 'Finishing',\n",
       " 'ShortPassing',\n",
       " 'Dribbling',\n",
       " 'LongPassing',\n",
       " 'BallControl',\n",
       " 'Acceleration',\n",
       " 'SprintSpeed',\n",
       " 'Agility',\n",
       " 'Stamina',\n",
       " 'Volleys',\n",
       " 'FKAccuracy',\n",
       " 'Reactions',\n",
       " 'Balance',\n",
       " 'ShotPower',\n",
       " 'Strength',\n",
       " 'LongShots',\n",
       " 'Aggression',\n",
       " 'Interceptions']"
      ]
     },
     "execution_count": 251,
     "metadata": {},
     "output_type": "execute_result"
    }
   ],
   "source": [
    "embedded_rf_feature"
   ]
  },
  {
   "cell_type": "markdown",
   "metadata": {},
   "source": [
    "## Tree based(Light GBM): SelectFromModel"
   ]
  },
  {
   "cell_type": "code",
   "execution_count": 252,
   "metadata": {},
   "outputs": [],
   "source": [
    "from sklearn.feature_selection import SelectFromModel\n",
    "from lightgbm import LGBMClassifier"
   ]
  },
  {
   "cell_type": "code",
   "execution_count": 253,
   "metadata": {},
   "outputs": [],
   "source": [
    "def embedded_lgbm_selector(X, y, num_feats):\n",
    "    embedded_lgbm_selector = SelectFromModel(LGBMClassifier(n_estimators=100), max_features=num_feats)\n",
    "    embedded_lgbm_selector.fit(X, y)\n",
    "    embedded_lgbm_support = embedded_lgbm_selector.get_support()\n",
    "    embedded_lgbm_feature = X.loc[:, embedded_lgbm_support].columns.tolist()\n",
    "    return embedded_lgbm_support, embedded_lgbm_feature"
   ]
  },
  {
   "cell_type": "code",
   "execution_count": 254,
   "metadata": {},
   "outputs": [
    {
     "name": "stdout",
     "output_type": "stream",
     "text": [
      "[LightGBM] [Warning] Found whitespace in feature_names, replace with underlines\n",
      "[LightGBM] [Info] Number of positive: 55, number of negative: 18104\n",
      "[LightGBM] [Info] Auto-choosing col-wise multi-threading, the overhead of testing was 0.003605 seconds.\n",
      "You can set `force_col_wise=true` to remove the overhead.\n",
      "[LightGBM] [Info] Total Bins 1664\n",
      "[LightGBM] [Info] Number of data points in the train set: 18159, number of used features: 50\n",
      "[LightGBM] [Info] [binary:BoostFromScore]: pavg=0.003029 -> initscore=-5.796555\n",
      "[LightGBM] [Info] Start training from score -5.796555\n",
      "[LightGBM] [Warning] No further splits with positive gain, best gain: -inf\n",
      "[LightGBM] [Warning] No further splits with positive gain, best gain: -inf\n",
      "[LightGBM] [Warning] No further splits with positive gain, best gain: -inf\n",
      "[LightGBM] [Warning] No further splits with positive gain, best gain: -inf\n",
      "[LightGBM] [Warning] No further splits with positive gain, best gain: -inf\n",
      "[LightGBM] [Warning] No further splits with positive gain, best gain: -inf\n",
      "[LightGBM] [Warning] No further splits with positive gain, best gain: -inf\n",
      "[LightGBM] [Warning] No further splits with positive gain, best gain: -inf\n",
      "[LightGBM] [Warning] No further splits with positive gain, best gain: -inf\n",
      "[LightGBM] [Warning] No further splits with positive gain, best gain: -inf\n",
      "[LightGBM] [Warning] No further splits with positive gain, best gain: -inf\n",
      "[LightGBM] [Warning] No further splits with positive gain, best gain: -inf\n",
      "[LightGBM] [Warning] No further splits with positive gain, best gain: -inf\n",
      "[LightGBM] [Warning] No further splits with positive gain, best gain: -inf\n",
      "[LightGBM] [Warning] No further splits with positive gain, best gain: -inf\n",
      "[LightGBM] [Warning] No further splits with positive gain, best gain: -inf\n",
      "[LightGBM] [Warning] No further splits with positive gain, best gain: -inf\n",
      "19 selected features\n"
     ]
    }
   ],
   "source": [
    "embedded_lgbm_support, embedded_lgbm_feature = embedded_lgbm_selector(X, y, num_feats)\n",
    "print(str(len(embedded_lgbm_feature)), 'selected features')\n"
   ]
  },
  {
   "cell_type": "code",
   "execution_count": 255,
   "metadata": {},
   "outputs": [
    {
     "data": {
      "text/plain": [
       "['Crossing',\n",
       " 'Finishing',\n",
       " 'ShortPassing',\n",
       " 'Dribbling',\n",
       " 'LongPassing',\n",
       " 'BallControl',\n",
       " 'Acceleration',\n",
       " 'SprintSpeed',\n",
       " 'Agility',\n",
       " 'Stamina',\n",
       " 'Volleys',\n",
       " 'FKAccuracy',\n",
       " 'Reactions',\n",
       " 'Balance',\n",
       " 'ShotPower',\n",
       " 'Strength',\n",
       " 'LongShots',\n",
       " 'Aggression',\n",
       " 'Interceptions']"
      ]
     },
     "execution_count": 255,
     "metadata": {},
     "output_type": "execute_result"
    }
   ],
   "source": [
    "embedded_lgbm_feature"
   ]
  },
  {
   "cell_type": "markdown",
   "metadata": {},
   "source": [
    "## Putting all of it together: AutoFeatureSelector Tool"
   ]
  },
  {
   "cell_type": "code",
   "execution_count": 256,
   "metadata": {},
   "outputs": [
    {
     "name": "stdout",
     "output_type": "stream",
     "text": [
      "                          Feature   Pearson  Chi-2    RFE  Logistics  \\\n",
      "1                       Reactions  0.150929   True   True       True   \n",
      "2                         Balance  0.020264   True   True       True   \n",
      "3                     LongPassing  0.062561   True  False       True   \n",
      "4                        Strength  0.032390   True   True      False   \n",
      "5                      Aggression  0.021708   True  False       True   \n",
      "6                    ShortPassing  0.063966   True  False      False   \n",
      "7                         Volleys  0.063605   True  False      False   \n",
      "8                      FKAccuracy  0.058284   True  False      False   \n",
      "9                     BallControl  0.058178   True  False      False   \n",
      "10                      Finishing  0.056083   True  False      False   \n",
      "11                      LongShots  0.054059   True  False      False   \n",
      "12                      ShotPower  0.051085   True  False      False   \n",
      "13                      Dribbling  0.045555   True  False      False   \n",
      "14                       Crossing  0.042217   True  False      False   \n",
      "15                        Agility  0.040878   True  False      False   \n",
      "16                        Stamina  0.035491   True  False      False   \n",
      "17                    SprintSpeed  0.032290   True  False      False   \n",
      "18                   Acceleration  0.031233   True  False      False   \n",
      "19                    Position_LW  0.019900   True   True       True   \n",
      "20                  Interceptions  0.016686   True  False      False   \n",
      "21                    Position_CM -0.015894   True   True       True   \n",
      "22  Body Type_PLAYER_BODY_TYPE_25  0.134639   True   True      False   \n",
      "23               Body Type_Neymar  0.134639   True   True      False   \n",
      "24                Body Type_Messi  0.134639   True   True      False   \n",
      "25             Body Type_Courtois  0.134639   True   True      False   \n",
      "26           Body Type_C. Ronaldo  0.134639   True   True      False   \n",
      "27                    Position_LF  0.068181   True   True      False   \n",
      "28                    Position_RF  0.065915   True   True      False   \n",
      "29                      Weak Foot  0.040816   True   True      False   \n",
      "30                   Position_LAM  0.027611   True   True      False   \n",
      "\n",
      "    Random Forest  LightGBM     Total  \n",
      "1            True      True  5.150929  \n",
      "2            True      True  5.020264  \n",
      "3            True      True  4.062561  \n",
      "4            True      True   4.03239  \n",
      "5            True      True  4.021708  \n",
      "6            True      True  3.063966  \n",
      "7            True      True  3.063605  \n",
      "8            True      True  3.058284  \n",
      "9            True      True  3.058178  \n",
      "10           True      True  3.056083  \n",
      "11           True      True  3.054059  \n",
      "12           True      True  3.051085  \n",
      "13           True      True  3.045555  \n",
      "14           True      True  3.042217  \n",
      "15           True      True  3.040878  \n",
      "16           True      True  3.035491  \n",
      "17           True      True   3.03229  \n",
      "18           True      True  3.031233  \n",
      "19          False     False    3.0199  \n",
      "20           True      True  3.016686  \n",
      "21          False     False  2.984106  \n",
      "22          False     False  2.134639  \n",
      "23          False     False  2.134639  \n",
      "24          False     False  2.134639  \n",
      "25          False     False  2.134639  \n",
      "26          False     False  2.134639  \n",
      "27          False     False  2.068181  \n",
      "28          False     False  2.065915  \n",
      "29          False     False  2.040816  \n",
      "30          False     False  2.027611  \n"
     ]
    }
   ],
   "source": [
    "pd.set_option('display.max_rows', None)\n",
    "# put all selection together\n",
    "feature_selection_df = pd.DataFrame({'Feature':feature_name, 'Pearson':cor_support, 'Chi-2':chi_support, 'RFE':rfe_support, 'Logistics':embedded_lr_support,\n",
    "                                    'Random Forest':embedded_rf_support, 'LightGBM':embedded_lgbm_support})\n",
    "# count the selected times for each feature\n",
    "\n",
    "\n",
    "# Count the selected times for each feature\n",
    "feature_selection_df['Total'] = np.sum(feature_selection_df.iloc[:, 1:], axis=1)\n",
    "\n",
    "# Display the top features\n",
    "top_features_df = feature_selection_df.sort_values(['Total', 'Feature'], ascending=False).head(num_feats)\n",
    "top_features_df.index = range(1, len(top_features_df) + 1)\n",
    "\n",
    "# Display the top features\n",
    "print(top_features_df)\n"
   ]
  },
  {
   "cell_type": "markdown",
   "metadata": {},
   "source": [
    "## Python script to select the best one"
   ]
  },
  {
   "cell_type": "code",
   "execution_count": 262,
   "metadata": {},
   "outputs": [],
   "source": [
    "import pandas as pd\n",
    "from sklearn.feature_selection import SelectKBest, chi2, RFE, SelectFromModel\n",
    "from sklearn.ensemble import RandomForestClassifier\n",
    "from sklearn.linear_model import LogisticRegression\n",
    "from lightgbm import LGBMClassifier\n",
    "from sklearn.feature_selection import f_classif\n",
    "from sklearn.impute import SimpleImputer\n",
    "from sklearn.feature_selection import f_classif\n",
    "from sklearn.ensemble import RandomForestRegressor \n",
    "\n",
    "def preprocess_dataset(dataset_path):\n",
    "    df = pd.read_csv(dataset_path)\n",
    "\n",
    "    # Separate numeric and non-numeric columns\n",
    "    numeric_cols = df.select_dtypes(include=['number']).columns\n",
    "    non_numeric_cols = df.select_dtypes(exclude=['number']).columns\n",
    "\n",
    "    # Impute missing values for numeric columns with the mean\n",
    "    numeric_imputer = SimpleImputer(strategy='mean')\n",
    "    df[numeric_cols] = numeric_imputer.fit_transform(df[numeric_cols])\n",
    "\n",
    "    # Impute missing values for non-numeric columns with the most frequent value\n",
    "    non_numeric_imputer = SimpleImputer(strategy='most_frequent')\n",
    "    df[non_numeric_cols] = non_numeric_imputer.fit_transform(df[non_numeric_cols])\n",
    "\n",
    "    # Exclude non-numeric columns\n",
    "    df_numeric = df[numeric_cols]\n",
    "\n",
    "    X = df_numeric.iloc[:, :-1]\n",
    "    y = df_numeric.iloc[:, -1]\n",
    "    num_feats = len(X.columns)\n",
    "    return X, y, num_feats\n",
    "\n",
    "def rf_feature_importance_selector(X, y, num_feats):\n",
    "    model = RandomForestRegressor(n_estimators=100, random_state=0)\n",
    "    model.fit(X, y)\n",
    "    feature_importance = model.feature_importances_\n",
    "\n",
    "    # Get the indices of the top k features\n",
    "    top_k_indices = feature_importance.argsort()[-num_feats:][::-1]\n",
    "\n",
    "    rf_feature = X.columns[top_k_indices]\n",
    "    return rf_feature\n",
    "\n",
    "def cor_selector(X, y, num_feats):\n",
    "    cor_support = SelectKBest(score_func=f_classif, k=num_feats)\n",
    "    cor_support.fit(X, y)\n",
    "    cor_feature = X.columns[cor_support.get_support()]\n",
    "    return cor_feature\n",
    "\n",
    "\n",
    "def chi_squared_selector(X, y, num_feats):\n",
    "    chi_support = SelectKBest(score_func=chi2, k=num_feats)\n",
    "    chi_support.fit(X, y)\n",
    "    chi_feature = X.columns[chi_support.get_support()]\n",
    "    return chi_feature\n",
    "\n",
    "\n",
    "def rfe_selector(X, y, num_feats):\n",
    "    model = LogisticRegression(solver='lbfgs', max_iter=1000)\n",
    "    rfe_selector = RFE(model, n_features_to_select=num_feats)\n",
    "    rfe_selector = rfe_selector.fit(X, y)\n",
    "    rfe_feature = X.columns[rfe_selector.support_]\n",
    "    return rfe_feature\n",
    "\n",
    "\n",
    "def embedded_log_reg_selector(X, y, num_feats):\n",
    "    embedded_lr_selector = SelectFromModel(LogisticRegression(penalty=\"l1\", solver='liblinear'), max_features=num_feats)\n",
    "    embedded_lr_selector.fit(X, y)\n",
    "    embedded_lr_feature = X.columns[embedded_lr_selector.get_support()]\n",
    "    return embedded_lr_feature\n",
    "\n",
    "\n",
    "def embedded_rf_selector(X, y, num_feats):\n",
    "    model = RandomForestClassifier(n_estimators=100, random_state=0)\n",
    "    model.fit(X, y)\n",
    "    embedded_rf_selector = SelectFromModel(model, max_features=num_feats)\n",
    "    embedded_rf_selector.fit(X, y)\n",
    "    embedded_rf_feature = X.columns[embedded_rf_selector.get_support()]\n",
    "    return embedded_rf_feature\n",
    "\n",
    "\n",
    "def embedded_lgbm_selector(X, y, num_feats):\n",
    "    model = LGBMClassifier(n_estimators=100, random_state=0)\n",
    "    model.fit(X, y)\n",
    "    embedded_lgbm_selector = SelectFromModel(model, max_features=num_feats)\n",
    "    embedded_lgbm_selector.fit(X, y)\n",
    "    embedded_lgbm_feature = X.columns[embedded_lgbm_selector.get_support()]\n",
    "    return embedded_lgbm_feature\n",
    "\n",
    "\n",
    "def auto_feature_selector(dataset_path, methods=[]):\n",
    "    X, y, num_feats = preprocess_dataset(dataset_path)\n",
    "    selected_features = {}\n",
    "\n",
    "    is_regression = y.dtype.kind == 'f'\n",
    "\n",
    "    if 'pearson' in methods:\n",
    "        selected_features['pearson'] = cor_selector(X, y, num_feats)\n",
    "\n",
    "    if 'chi-square' in methods and not is_regression:\n",
    "        chi_feature = chi_squared_selector(X, y, num_feats)\n",
    "        selected_features['chi-square'] = chi_feature\n",
    "\n",
    "    if 'rfe' in methods and not is_regression:\n",
    "        selected_features['rfe'] = rf_feature_importance_selector(X, y, num_feats)\n",
    "\n",
    "    if 'log-reg' in methods and not is_regression:\n",
    "        log_reg_model = LogisticRegression(solver='liblinear', penalty=\"l1\")\n",
    "        selected_features['log-reg'] = embedded_selector(X, y, log_reg_model, num_feats)\n",
    "\n",
    "    if 'rf' in methods:\n",
    "        selected_features['rf'] = rf_feature_importance_selector(X, y, num_feats)\n",
    "\n",
    "    if 'lgbm' in methods:\n",
    "        selected_features['lgbm'] = embedded_lgbm_selector(X, y, num_feats)\n",
    "\n",
    "    # Convert the selected features to DataFrame for consistent output\n",
    "    result_df = pd.DataFrame(selected_features)\n",
    "    return result_df\n",
    "\n",
    "\n"
   ]
  },
  {
   "cell_type": "code",
   "execution_count": null,
   "metadata": {},
   "outputs": [],
   "source": [
    "dataset_path = \"fifa19.csv\"\n",
    "methods_to_try = ['pearson', 'chi-square', 'rfe', 'log-reg', 'rf', 'lgbm']\n",
    "best_features = auto_feature_selector(dataset_path, methods=methods_to_try)\n",
    "print(best_features)\n"
   ]
  },
  {
   "cell_type": "code",
   "execution_count": null,
   "metadata": {},
   "outputs": [],
   "source": []
  }
 ],
 "metadata": {
  "kernelspec": {
   "display_name": "Python 3 (ipykernel)",
   "language": "python",
   "name": "python3"
  },
  "language_info": {
   "codemirror_mode": {
    "name": "ipython",
    "version": 3
   },
   "file_extension": ".py",
   "mimetype": "text/x-python",
   "name": "python",
   "nbconvert_exporter": "python",
   "pygments_lexer": "ipython3",
   "version": "3.11.5"
  }
 },
 "nbformat": 4,
 "nbformat_minor": 4
}
