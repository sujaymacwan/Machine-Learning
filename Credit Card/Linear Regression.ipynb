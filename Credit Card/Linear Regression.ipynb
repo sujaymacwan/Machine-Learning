{
 "cells": [
  {
   "cell_type": "code",
   "execution_count": 22,
   "metadata": {
    "id": "_0ewhhXbCSUo"
   },
   "outputs": [],
   "source": [
    "import pandas as pd\n",
    "from sklearn.model_selection import train_test_split, GridSearchCV\n",
    "from sklearn.preprocessing import StandardScaler\n",
    "from sklearn.linear_model import LogisticRegression\n",
    "from sklearn.metrics import accuracy_score, classification_report\n",
    "from sklearn.impute import SimpleImputer"
   ]
  },
  {
   "cell_type": "code",
   "execution_count": 41,
   "metadata": {
    "id": "OuhSnDAdCX5D"
   },
   "outputs": [],
   "source": [
    "features_df = pd.read_csv(\"https://raw.githubusercontent.com/pujan08/ML_Logistic_Regression_For_Credit_Card/main/Credit_card.csv\")\n"
   ]
  },
  {
   "cell_type": "code",
   "execution_count": 23,
   "metadata": {
    "colab": {
     "base_uri": "https://localhost:8080/"
    },
    "id": "3SP4wXhtJJ4w",
    "outputId": "2a3bdea5-8b4f-43bd-eaeb-510d44fb06e4"
   },
   "outputs": [
    {
     "name": "stdout",
     "output_type": "stream",
     "text": [
      "       Ind_ID GENDER Car_Owner Propert_Owner CHILDREN Annual_income  \\\n",
      "0     5008827      M         Y             Y        0      180000.0   \n",
      "1     5009744      F         Y             N        0      315000.0   \n",
      "2     5009746      F         Y             N        0      315000.0   \n",
      "3     5009749      F         Y             N        0       missing   \n",
      "4     5009752      F         Y             N        0      315000.0   \n",
      "...       ...    ...       ...           ...      ...           ...   \n",
      "1543  5028645      F         N             Y        0       missing   \n",
      "1544  5023655      F         N             N        0      225000.0   \n",
      "1545  5115992      M         Y             Y        2      180000.0   \n",
      "1546  5118219      M         Y             N        0      270000.0   \n",
      "1547  5053790      F         Y             Y        0      225000.0   \n",
      "\n",
      "               Type_Income                      EDUCATION  \\\n",
      "0                Pensioner               Higher education   \n",
      "1     Commercial associate               Higher education   \n",
      "2     Commercial associate               Higher education   \n",
      "3     Commercial associate               Higher education   \n",
      "4     Commercial associate               Higher education   \n",
      "...                    ...                            ...   \n",
      "1543  Commercial associate               Higher education   \n",
      "1544  Commercial associate              Incomplete higher   \n",
      "1545               Working               Higher education   \n",
      "1546               Working  Secondary / secondary special   \n",
      "1547               Working               Higher education   \n",
      "\n",
      "            Marital_status       Housing_type Birthday_count Employed_days  \\\n",
      "0                  Married  House / apartment       -18772.0        365243   \n",
      "1                  Married  House / apartment       -13557.0          -586   \n",
      "2                  Married  House / apartment        missing          -586   \n",
      "3                  Married  House / apartment       -13557.0          -586   \n",
      "4                  Married  House / apartment       -13557.0          -586   \n",
      "...                    ...                ...            ...           ...   \n",
      "1543               Married  House / apartment       -11957.0         -2182   \n",
      "1544  Single / not married  House / apartment       -10229.0         -1209   \n",
      "1545               Married  House / apartment       -13174.0         -2477   \n",
      "1546        Civil marriage  House / apartment       -15292.0          -645   \n",
      "1547               Married  House / apartment       -16601.0         -2859   \n",
      "\n",
      "     Mobile_phone Work_Phone Phone EMAIL_ID Type_Occupation Family_Members  \n",
      "0               1          0     0        0         missing              2  \n",
      "1               1          1     1        0         missing              2  \n",
      "2               1          1     1        0         missing              2  \n",
      "3               1          1     1        0         missing              2  \n",
      "4               1          1     1        0         missing              2  \n",
      "...           ...        ...   ...      ...             ...            ...  \n",
      "1543            1          0     0        0        Managers              2  \n",
      "1544            1          0     0        0     Accountants              1  \n",
      "1545            1          0     0        0        Managers              4  \n",
      "1546            1          1     1        0         Drivers              2  \n",
      "1547            1          0     0        0         missing              2  \n",
      "\n",
      "[1548 rows x 18 columns]\n"
     ]
    }
   ],
   "source": [
    "#Find missing values and impute them\n",
    "string_imputer = SimpleImputer(strategy='constant', fill_value='missing')\n",
    "features_df_imputed = pd.DataFrame(string_imputer.fit_transform(features_df), columns=features_df.columns)\n",
    "string_imputer.fit(features_df)\n",
    "missing_values_after_imputation = features_df_imputed.isna().sum().sum()\n",
    "print(features_df_imputed)"
   ]
  },
  {
   "cell_type": "code",
   "execution_count": 24,
   "metadata": {
    "colab": {
     "base_uri": "https://localhost:8080/"
    },
    "id": "QRIPb6g8JTlK",
    "outputId": "153f3e99-a497-4fd3-bfa4-5abfc876a4b8"
   },
   "outputs": [
    {
     "name": "stdout",
     "output_type": "stream",
     "text": [
      "Sanity Check Passed: No missing values after imputation in features_df.\n"
     ]
    }
   ],
   "source": [
    "#check and print if there are any missing values\n",
    "if missing_values_after_imputation == 0:\n",
    "    print(\"Sanity Check Passed: No missing values after imputation in features_df.\")\n",
    "else:\n",
    "    print(f\"Sanity Check Failed: There are still {missing_values_after_imputation} missing values in features_df after imputation.\")\n"
   ]
  },
  {
   "cell_type": "code",
   "execution_count": 40,
   "metadata": {
    "id": "6xsgPlJWISqV"
   },
   "outputs": [],
   "source": [
    "target_df = pd.read_csv(\"https://raw.githubusercontent.com/pujan08/ML_Logistic_Regression_For_Credit_Card/main/Credit_card_label.csv\")"
   ]
  },
  {
   "cell_type": "code",
   "execution_count": 31,
   "metadata": {
    "colab": {
     "base_uri": "https://localhost:8080/"
    },
    "id": "qiaCfsKlMtz_",
    "outputId": "9737340c-84fe-4642-ae8e-e6db156a580e"
   },
   "outputs": [
    {
     "name": "stdout",
     "output_type": "stream",
     "text": [
      "         Ind_ID  label\n",
      "0     5008827.0    1.0\n",
      "1     5009744.0    1.0\n",
      "2     5009746.0    1.0\n",
      "3     5009749.0    1.0\n",
      "4     5009752.0    1.0\n",
      "...         ...    ...\n",
      "1543  5028645.0    0.0\n",
      "1544  5023655.0    0.0\n",
      "1545  5115992.0    0.0\n",
      "1546  5118219.0    0.0\n",
      "1547  5053790.0    0.0\n",
      "\n",
      "[1548 rows x 2 columns]\n"
     ]
    }
   ],
   "source": [
    "#Find missing values and impute them\n",
    "numeric_imputer = SimpleImputer(strategy='mean')\n",
    "target_df_imputed = pd.DataFrame(numeric_imputer.fit_transform(target_df), columns=target_df.columns)\n",
    "numeric_imputer.fit(target_df)\n",
    "print(target_df_imputed)"
   ]
  },
  {
   "cell_type": "code",
   "execution_count": 32,
   "metadata": {
    "colab": {
     "base_uri": "https://localhost:8080/"
    },
    "id": "hFolTTLZMuQp",
    "outputId": "9d618f14-3ee9-463c-fd8e-5813d72b950d"
   },
   "outputs": [
    {
     "name": "stdout",
     "output_type": "stream",
     "text": [
      "Sanity Check Passed: No missing values after imputation in target_df.\n"
     ]
    }
   ],
   "source": [
    "#check and print if there are any missing values\n",
    "missing_values_after_imputation = target_df_imputed.isna().sum().sum()\n",
    "if missing_values_after_imputation == 0:\n",
    "    print(\"Sanity Check Passed: No missing values after imputation in target_df.\")\n",
    "else:\n",
    "    print(f\"Sanity Check Failed: There are still {missing_values_after_imputation} missing values in target_df after imputation.\")\n"
   ]
  },
  {
   "cell_type": "code",
   "execution_count": 4,
   "metadata": {
    "id": "xMDPaU4nCgOK"
   },
   "outputs": [],
   "source": [
    "merged_df = pd.merge(features_df, target_df, on='Ind_ID', how='inner')"
   ]
  },
  {
   "cell_type": "code",
   "execution_count": 8,
   "metadata": {
    "id": "rRgl2hnNCkkk"
   },
   "outputs": [],
   "source": [
    "y = merged_df['label']\n",
    "X = pd.get_dummies(X, columns=['Car_Owner','Propert_Owner','Annual_income','Employed_days','Family_Members'])"
   ]
  },
  {
   "cell_type": "code",
   "execution_count": 33,
   "metadata": {
    "id": "ztwkeNLeCqoY"
   },
   "outputs": [],
   "source": [
    "X_train, X_test, y_train, y_test = train_test_split(X, y, test_size=0.2, random_state=42)"
   ]
  },
  {
   "cell_type": "code",
   "execution_count": 34,
   "metadata": {
    "id": "I3jbh81dCuXS"
   },
   "outputs": [],
   "source": [
    "scaler = StandardScaler()\n",
    "X_train_scaled = scaler.fit_transform(X_train)\n",
    "X_test_scaled = scaler.transform(X_test)"
   ]
  },
  {
   "cell_type": "code",
   "execution_count": 35,
   "metadata": {
    "id": "rRHYaX8BDfX1"
   },
   "outputs": [],
   "source": [
    "model = LogisticRegression()\n",
    "param_grid = {\n",
    "    'penalty': ['l1', 'l2'],\n",
    "    'C': [0.001, 0.01, 0.1, 1, 10, 100, 1000],\n",
    "    'solver': ['liblinear']\n",
    "}"
   ]
  },
  {
   "cell_type": "code",
   "execution_count": 36,
   "metadata": {
    "colab": {
     "base_uri": "https://localhost:8080/",
     "height": 117
    },
    "id": "E-myAe4NDls1",
    "outputId": "15215cb0-656d-4978-c06d-eebca0f55eb9"
   },
   "outputs": [
    {
     "data": {
      "text/html": [
       "<style>#sk-container-id-4 {color: black;background-color: white;}#sk-container-id-4 pre{padding: 0;}#sk-container-id-4 div.sk-toggleable {background-color: white;}#sk-container-id-4 label.sk-toggleable__label {cursor: pointer;display: block;width: 100%;margin-bottom: 0;padding: 0.3em;box-sizing: border-box;text-align: center;}#sk-container-id-4 label.sk-toggleable__label-arrow:before {content: \"▸\";float: left;margin-right: 0.25em;color: #696969;}#sk-container-id-4 label.sk-toggleable__label-arrow:hover:before {color: black;}#sk-container-id-4 div.sk-estimator:hover label.sk-toggleable__label-arrow:before {color: black;}#sk-container-id-4 div.sk-toggleable__content {max-height: 0;max-width: 0;overflow: hidden;text-align: left;background-color: #f0f8ff;}#sk-container-id-4 div.sk-toggleable__content pre {margin: 0.2em;color: black;border-radius: 0.25em;background-color: #f0f8ff;}#sk-container-id-4 input.sk-toggleable__control:checked~div.sk-toggleable__content {max-height: 200px;max-width: 100%;overflow: auto;}#sk-container-id-4 input.sk-toggleable__control:checked~label.sk-toggleable__label-arrow:before {content: \"▾\";}#sk-container-id-4 div.sk-estimator input.sk-toggleable__control:checked~label.sk-toggleable__label {background-color: #d4ebff;}#sk-container-id-4 div.sk-label input.sk-toggleable__control:checked~label.sk-toggleable__label {background-color: #d4ebff;}#sk-container-id-4 input.sk-hidden--visually {border: 0;clip: rect(1px 1px 1px 1px);clip: rect(1px, 1px, 1px, 1px);height: 1px;margin: -1px;overflow: hidden;padding: 0;position: absolute;width: 1px;}#sk-container-id-4 div.sk-estimator {font-family: monospace;background-color: #f0f8ff;border: 1px dotted black;border-radius: 0.25em;box-sizing: border-box;margin-bottom: 0.5em;}#sk-container-id-4 div.sk-estimator:hover {background-color: #d4ebff;}#sk-container-id-4 div.sk-parallel-item::after {content: \"\";width: 100%;border-bottom: 1px solid gray;flex-grow: 1;}#sk-container-id-4 div.sk-label:hover label.sk-toggleable__label {background-color: #d4ebff;}#sk-container-id-4 div.sk-serial::before {content: \"\";position: absolute;border-left: 1px solid gray;box-sizing: border-box;top: 0;bottom: 0;left: 50%;z-index: 0;}#sk-container-id-4 div.sk-serial {display: flex;flex-direction: column;align-items: center;background-color: white;padding-right: 0.2em;padding-left: 0.2em;position: relative;}#sk-container-id-4 div.sk-item {position: relative;z-index: 1;}#sk-container-id-4 div.sk-parallel {display: flex;align-items: stretch;justify-content: center;background-color: white;position: relative;}#sk-container-id-4 div.sk-item::before, #sk-container-id-4 div.sk-parallel-item::before {content: \"\";position: absolute;border-left: 1px solid gray;box-sizing: border-box;top: 0;bottom: 0;left: 50%;z-index: -1;}#sk-container-id-4 div.sk-parallel-item {display: flex;flex-direction: column;z-index: 1;position: relative;background-color: white;}#sk-container-id-4 div.sk-parallel-item:first-child::after {align-self: flex-end;width: 50%;}#sk-container-id-4 div.sk-parallel-item:last-child::after {align-self: flex-start;width: 50%;}#sk-container-id-4 div.sk-parallel-item:only-child::after {width: 0;}#sk-container-id-4 div.sk-dashed-wrapped {border: 1px dashed gray;margin: 0 0.4em 0.5em 0.4em;box-sizing: border-box;padding-bottom: 0.4em;background-color: white;}#sk-container-id-4 div.sk-label label {font-family: monospace;font-weight: bold;display: inline-block;line-height: 1.2em;}#sk-container-id-4 div.sk-label-container {text-align: center;}#sk-container-id-4 div.sk-container {/* jupyter's `normalize.less` sets `[hidden] { display: none; }` but bootstrap.min.css set `[hidden] { display: none !important; }` so we also need the `!important` here to be able to override the default hidden behavior on the sphinx rendered scikit-learn.org. See: https://github.com/scikit-learn/scikit-learn/issues/21755 */display: inline-block !important;position: relative;}#sk-container-id-4 div.sk-text-repr-fallback {display: none;}</style><div id=\"sk-container-id-4\" class=\"sk-top-container\"><div class=\"sk-text-repr-fallback\"><pre>GridSearchCV(cv=5, estimator=LogisticRegression(),\n",
       "             param_grid={&#x27;C&#x27;: [0.001, 0.01, 0.1, 1, 10, 100, 1000],\n",
       "                         &#x27;penalty&#x27;: [&#x27;l1&#x27;, &#x27;l2&#x27;], &#x27;solver&#x27;: [&#x27;liblinear&#x27;]},\n",
       "             scoring=&#x27;accuracy&#x27;)</pre><b>In a Jupyter environment, please rerun this cell to show the HTML representation or trust the notebook. <br />On GitHub, the HTML representation is unable to render, please try loading this page with nbviewer.org.</b></div><div class=\"sk-container\" hidden><div class=\"sk-item sk-dashed-wrapped\"><div class=\"sk-label-container\"><div class=\"sk-label sk-toggleable\"><input class=\"sk-toggleable__control sk-hidden--visually\" id=\"sk-estimator-id-6\" type=\"checkbox\" ><label for=\"sk-estimator-id-6\" class=\"sk-toggleable__label sk-toggleable__label-arrow\">GridSearchCV</label><div class=\"sk-toggleable__content\"><pre>GridSearchCV(cv=5, estimator=LogisticRegression(),\n",
       "             param_grid={&#x27;C&#x27;: [0.001, 0.01, 0.1, 1, 10, 100, 1000],\n",
       "                         &#x27;penalty&#x27;: [&#x27;l1&#x27;, &#x27;l2&#x27;], &#x27;solver&#x27;: [&#x27;liblinear&#x27;]},\n",
       "             scoring=&#x27;accuracy&#x27;)</pre></div></div></div><div class=\"sk-parallel\"><div class=\"sk-parallel-item\"><div class=\"sk-item\"><div class=\"sk-label-container\"><div class=\"sk-label sk-toggleable\"><input class=\"sk-toggleable__control sk-hidden--visually\" id=\"sk-estimator-id-7\" type=\"checkbox\" ><label for=\"sk-estimator-id-7\" class=\"sk-toggleable__label sk-toggleable__label-arrow\">estimator: LogisticRegression</label><div class=\"sk-toggleable__content\"><pre>LogisticRegression()</pre></div></div></div><div class=\"sk-serial\"><div class=\"sk-item\"><div class=\"sk-estimator sk-toggleable\"><input class=\"sk-toggleable__control sk-hidden--visually\" id=\"sk-estimator-id-8\" type=\"checkbox\" ><label for=\"sk-estimator-id-8\" class=\"sk-toggleable__label sk-toggleable__label-arrow\">LogisticRegression</label><div class=\"sk-toggleable__content\"><pre>LogisticRegression()</pre></div></div></div></div></div></div></div></div></div></div>"
      ],
      "text/plain": [
       "GridSearchCV(cv=5, estimator=LogisticRegression(),\n",
       "             param_grid={'C': [0.001, 0.01, 0.1, 1, 10, 100, 1000],\n",
       "                         'penalty': ['l1', 'l2'], 'solver': ['liblinear']},\n",
       "             scoring='accuracy')"
      ]
     },
     "execution_count": 36,
     "metadata": {},
     "output_type": "execute_result"
    }
   ],
   "source": [
    "# Use GridSearchCV for hyperparameter tuning\n",
    "grid_search = GridSearchCV(model, param_grid=param_grid, scoring='accuracy', cv=5)\n",
    "grid_search.fit(X_train_scaled, y_train)\n"
   ]
  },
  {
   "cell_type": "code",
   "execution_count": 37,
   "metadata": {
    "colab": {
     "base_uri": "https://localhost:8080/"
    },
    "id": "bf-QtnOMDnFM",
    "outputId": "dd923848-b937-4fa5-d910-0642fb26ece7"
   },
   "outputs": [
    {
     "name": "stdout",
     "output_type": "stream",
     "text": [
      "Best Parameters: {'C': 0.1, 'penalty': 'l1', 'solver': 'liblinear'}\n",
      "Best Mean Accuracy: 0.8966142092203213\n"
     ]
    }
   ],
   "source": [
    "# Display the best parameters and corresponding mean cross-validated score\n",
    "print(\"Best Parameters:\", grid_search.best_params_)\n",
    "print(\"Best Mean Accuracy:\", grid_search.best_score_)\n"
   ]
  },
  {
   "cell_type": "code",
   "execution_count": 38,
   "metadata": {
    "id": "fNqoLwe7Dq32"
   },
   "outputs": [],
   "source": [
    "# Make predictions on the test data using the best model\n",
    "best_model = grid_search.best_estimator_\n",
    "y_pred = best_model.predict(X_test_scaled)\n"
   ]
  },
  {
   "cell_type": "code",
   "execution_count": 39,
   "metadata": {
    "colab": {
     "base_uri": "https://localhost:8080/"
    },
    "id": "JfNqP1I3GcXV",
    "outputId": "241363d3-0e0d-4294-92f3-5afa0c6a41cb"
   },
   "outputs": [
    {
     "name": "stdout",
     "output_type": "stream",
     "text": [
      "Accuracy: 0.9096774193548387\n",
      "Classification Report:\n",
      "               precision    recall  f1-score   support\n",
      "\n",
      "           0       0.92      0.98      0.95       280\n",
      "           1       0.58      0.23      0.33        30\n",
      "\n",
      "    accuracy                           0.91       310\n",
      "   macro avg       0.75      0.61      0.64       310\n",
      "weighted avg       0.89      0.91      0.89       310\n",
      "\n"
     ]
    }
   ],
   "source": [
    "# Evaluate the best model\n",
    "accuracy = accuracy_score(y_test, y_pred)\n",
    "report = classification_report(y_test, y_pred)\n",
    "\n",
    "print(\"Accuracy:\", accuracy)\n",
    "print(\"Classification Report:\\n\", report)\n"
   ]
  }
 ],
 "metadata": {
  "colab": {
   "provenance": []
  },
  "kernelspec": {
   "display_name": "Python 3 (ipykernel)",
   "language": "python",
   "name": "python3"
  },
  "language_info": {
   "codemirror_mode": {
    "name": "ipython",
    "version": 3
   },
   "file_extension": ".py",
   "mimetype": "text/x-python",
   "name": "python",
   "nbconvert_exporter": "python",
   "pygments_lexer": "ipython3",
   "version": "3.11.5"
  }
 },
 "nbformat": 4,
 "nbformat_minor": 1
}
