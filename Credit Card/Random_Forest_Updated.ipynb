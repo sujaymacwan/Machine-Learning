{
 "cells": [
  {
   "cell_type": "code",
   "execution_count": 704,
   "id": "e41c2901",
   "metadata": {},
   "outputs": [],
   "source": [
    "import numpy as np\n",
    "import pandas as pd\n",
    "from sklearn.impute import SimpleImputer\n",
    "from sklearn.model_selection import train_test_split, GridSearchCV\n",
    "from sklearn import preprocessing\n",
    "from sklearn.ensemble import RandomForestClassifier\n",
    "from sklearn.metrics import confusion_matrix\n",
    "from sklearn.preprocessing import MinMaxScaler, OneHotEncoder\n",
    "from sklearn.metrics import accuracy_score, classification_report, f1_score\n",
    "from imblearn.over_sampling import RandomOverSampler\n",
    "from imblearn.over_sampling import SMOTE\n",
    "from imblearn.over_sampling import BorderlineSMOTE\n",
    "from imblearn.over_sampling import ADASYN\n",
    "import seaborn as sns\n",
    "import matplotlib.pyplot as plt"
   ]
  },
  {
   "cell_type": "code",
   "execution_count": 705,
   "id": "b0077135",
   "metadata": {},
   "outputs": [],
   "source": [
    "features_df = pd.read_csv(\"https://raw.githubusercontent.com/pujan08/ML_Logistic_Regression_For_Credit_Card/main/Credit_card.csv\")"
   ]
  },
  {
   "cell_type": "markdown",
   "id": "dca2c886",
   "metadata": {},
   "source": [
    "Pre-Processing Part"
   ]
  },
  {
   "cell_type": "code",
   "execution_count": 706,
   "id": "cf4a0adc",
   "metadata": {},
   "outputs": [
    {
     "name": "stdout",
     "output_type": "stream",
     "text": [
      "       Ind_ID  GENDER  Car_Owner  Propert_Owner  CHILDREN  Annual_income  \\\n",
      "0     5008827       1          1              1         0       180000.0   \n",
      "1     5009744       0          1              0         0       315000.0   \n",
      "2     5009746       0          1              0         0       315000.0   \n",
      "3     5009749       0          1              0         0            NaN   \n",
      "4     5009752       0          1              0         0       315000.0   \n",
      "...       ...     ...        ...            ...       ...            ...   \n",
      "1543  5028645       0          0              1         0            NaN   \n",
      "1544  5023655       0          0              0         0       225000.0   \n",
      "1545  5115992       1          1              1         2       180000.0   \n",
      "1546  5118219       1          1              0         0       270000.0   \n",
      "1547  5053790       0          1              1         0       225000.0   \n",
      "\n",
      "      Type_Income  EDUCATION  Marital_status  Housing_type  Birthday_count  \\\n",
      "0               1          1               1             1        -18772.0   \n",
      "1               0          1               1             1        -13557.0   \n",
      "2               0          1               1             1             NaN   \n",
      "3               0          1               1             1        -13557.0   \n",
      "4               0          1               1             1        -13557.0   \n",
      "...           ...        ...             ...           ...             ...   \n",
      "1543            0          1               1             1        -11957.0   \n",
      "1544            0          2               3             1        -10229.0   \n",
      "1545            3          1               1             1        -13174.0   \n",
      "1546            3          4               0             1        -15292.0   \n",
      "1547            3          1               1             1        -16601.0   \n",
      "\n",
      "      Employed_days  Mobile_phone  Work_Phone  Phone  EMAIL_ID  \\\n",
      "0            365243             1           0      0         0   \n",
      "1              -586             1           1      1         0   \n",
      "2              -586             1           1      1         0   \n",
      "3              -586             1           1      1         0   \n",
      "4              -586             1           1      1         0   \n",
      "...             ...           ...         ...    ...       ...   \n",
      "1543          -2182             1           0      0         0   \n",
      "1544          -1209             1           0      0         0   \n",
      "1545          -2477             1           0      0         0   \n",
      "1546           -645             1           1      1         0   \n",
      "1547          -2859             1           0      0         0   \n",
      "\n",
      "      Type_Occupation  Family_Members  \n",
      "0                  18               2  \n",
      "1                  18               2  \n",
      "2                  18               2  \n",
      "3                  18               2  \n",
      "4                  18               2  \n",
      "...               ...             ...  \n",
      "1543               10               2  \n",
      "1544                0               1  \n",
      "1545               10               4  \n",
      "1546                4               2  \n",
      "1547               18               2  \n",
      "\n",
      "[1548 rows x 18 columns]\n"
     ]
    }
   ],
   "source": [
    "# Converting categorical features into numerical value with both label encoder and one hot encoder\n",
    "label_encoder = preprocessing.LabelEncoder()\n",
    "onehotencoder = OneHotEncoder()\n",
    "\n",
    "features_df['GENDER'] = label_encoder.fit_transform(features_df['GENDER'])\n",
    "features_df['Car_Owner'] = label_encoder.fit_transform(features_df['Car_Owner'])\n",
    "features_df['Propert_Owner'] = label_encoder.fit_transform(features_df['Propert_Owner'])\n",
    "'''\n",
    "df = onehotencoder.fit_transform(features_df[['Type_Income']]).toarray()\n",
    "df2 = pd.DataFrame(df)\n",
    "df2_new = pd.concat([features_df,df2], axis=1)\n",
    "df3=pd.get_dummies(features_df[[\"Type_Income\"]])\n",
    "features_df=pd.concat([features_df,df3],axis=1)\n",
    "del features_df['Type_Income']\n",
    "'''\n",
    "features_df['Type_Income'] = label_encoder.fit_transform(features_df['Type_Income'])\n",
    "'''\n",
    "df = onehotencoder.fit_transform(features_df[['EDUCATION']]).toarray()\n",
    "df2 = pd.DataFrame(df)\n",
    "df2_new = pd.concat([features_df,df2], axis=1)\n",
    "df3=pd.get_dummies(features_df[[\"EDUCATION\"]])\n",
    "features_df=pd.concat([features_df,df3],axis=1)\n",
    "del features_df['EDUCATION']\n",
    "'''\n",
    "features_df['EDUCATION'] = label_encoder.fit_transform(features_df['EDUCATION'])\n",
    "features_df['Marital_status'] = label_encoder.fit_transform(features_df['Marital_status'])\n",
    "'''\n",
    "df = onehotencoder.fit_transform(features_df[['Housing_type']]).toarray()\n",
    "df2 = pd.DataFrame(df)\n",
    "df2_new = pd.concat([features_df,df2], axis=1)\n",
    "df3=pd.get_dummies(features_df[[\"Housing_type\"]])\n",
    "features_df=pd.concat([features_df,df3],axis=1)\n",
    "del features_df['Housing_type']\n",
    "'''\n",
    "features_df['Housing_type'] = label_encoder.fit_transform(features_df['Housing_type'])\n",
    "'''\n",
    "df = onehotencoder.fit_transform(features_df[['Type_Occupation']]).toarray()\n",
    "df2 = pd.DataFrame(df)\n",
    "df2_new = pd.concat([features_df,df2], axis=1)\n",
    "df3=pd.get_dummies(features_df[[\"Type_Occupation\"]])\n",
    "features_df=pd.concat([features_df,df3],axis=1)\n",
    "del features_df['Type_Occupation']\n",
    "'''\n",
    "features_df['Type_Occupation'] = label_encoder.fit_transform(features_df['Type_Occupation'])\n",
    "print(features_df)"
   ]
  },
  {
   "cell_type": "code",
   "execution_count": 707,
   "id": "fe5602b1",
   "metadata": {},
   "outputs": [
    {
     "name": "stdout",
     "output_type": "stream",
     "text": [
      "         Ind_ID  GENDER  Car_Owner  Propert_Owner  CHILDREN  Annual_income  \\\n",
      "0     5008827.0     1.0        1.0            1.0       0.0   180000.00000   \n",
      "1     5009744.0     0.0        1.0            0.0       0.0   315000.00000   \n",
      "2     5009746.0     0.0        1.0            0.0       0.0   315000.00000   \n",
      "3     5009749.0     0.0        1.0            0.0       0.0   191399.32623   \n",
      "4     5009752.0     0.0        1.0            0.0       0.0   315000.00000   \n",
      "...         ...     ...        ...            ...       ...            ...   \n",
      "1543  5028645.0     0.0        0.0            1.0       0.0   191399.32623   \n",
      "1544  5023655.0     0.0        0.0            0.0       0.0   225000.00000   \n",
      "1545  5115992.0     1.0        1.0            1.0       2.0   180000.00000   \n",
      "1546  5118219.0     1.0        1.0            0.0       0.0   270000.00000   \n",
      "1547  5053790.0     0.0        1.0            1.0       0.0   225000.00000   \n",
      "\n",
      "      Type_Income  EDUCATION  Marital_status  Housing_type  Birthday_count  \\\n",
      "0             1.0        1.0             1.0           1.0   -18772.000000   \n",
      "1             0.0        1.0             1.0           1.0   -13557.000000   \n",
      "2             0.0        1.0             1.0           1.0   -16040.342071   \n",
      "3             0.0        1.0             1.0           1.0   -13557.000000   \n",
      "4             0.0        1.0             1.0           1.0   -13557.000000   \n",
      "...           ...        ...             ...           ...             ...   \n",
      "1543          0.0        1.0             1.0           1.0   -11957.000000   \n",
      "1544          0.0        2.0             3.0           1.0   -10229.000000   \n",
      "1545          3.0        1.0             1.0           1.0   -13174.000000   \n",
      "1546          3.0        4.0             0.0           1.0   -15292.000000   \n",
      "1547          3.0        1.0             1.0           1.0   -16601.000000   \n",
      "\n",
      "      Employed_days  Mobile_phone  Work_Phone  Phone  EMAIL_ID  \\\n",
      "0          365243.0           1.0         0.0    0.0       0.0   \n",
      "1            -586.0           1.0         1.0    1.0       0.0   \n",
      "2            -586.0           1.0         1.0    1.0       0.0   \n",
      "3            -586.0           1.0         1.0    1.0       0.0   \n",
      "4            -586.0           1.0         1.0    1.0       0.0   \n",
      "...             ...           ...         ...    ...       ...   \n",
      "1543        -2182.0           1.0         0.0    0.0       0.0   \n",
      "1544        -1209.0           1.0         0.0    0.0       0.0   \n",
      "1545        -2477.0           1.0         0.0    0.0       0.0   \n",
      "1546         -645.0           1.0         1.0    1.0       0.0   \n",
      "1547        -2859.0           1.0         0.0    0.0       0.0   \n",
      "\n",
      "      Type_Occupation  Family_Members  \n",
      "0                18.0             2.0  \n",
      "1                18.0             2.0  \n",
      "2                18.0             2.0  \n",
      "3                18.0             2.0  \n",
      "4                18.0             2.0  \n",
      "...               ...             ...  \n",
      "1543             10.0             2.0  \n",
      "1544              0.0             1.0  \n",
      "1545             10.0             4.0  \n",
      "1546              4.0             2.0  \n",
      "1547             18.0             2.0  \n",
      "\n",
      "[1548 rows x 18 columns]\n"
     ]
    }
   ],
   "source": [
    "#Find missing values and impute them\n",
    "string_imputer = SimpleImputer(strategy='mean')\n",
    "features_df_imputed = pd.DataFrame(string_imputer.fit_transform(features_df), columns=features_df.columns)\n",
    "string_imputer.fit(features_df)\n",
    "missing_values_after_imputation = features_df_imputed.isna().sum().sum()\n",
    "print(features_df_imputed)"
   ]
  },
  {
   "cell_type": "code",
   "execution_count": 708,
   "id": "066cffcf",
   "metadata": {},
   "outputs": [
    {
     "name": "stdout",
     "output_type": "stream",
     "text": [
      "Sanity Check Passed: No missing values after imputation in features_df.\n"
     ]
    }
   ],
   "source": [
    "#check and print if there are any missing values\n",
    "if missing_values_after_imputation == 0:\n",
    "    print(\"Sanity Check Passed: No missing values after imputation in features_df.\")\n",
    "else:\n",
    "    print(f\"Sanity Check Failed: There are still {missing_values_after_imputation} missing values in features_df after imputation.\")"
   ]
  },
  {
   "cell_type": "code",
   "execution_count": 709,
   "id": "f66be336",
   "metadata": {},
   "outputs": [
    {
     "name": "stdout",
     "output_type": "stream",
     "text": [
      "[[0.         0.09489051 0.         ... 0.25       0.2        1.        ]\n",
      " [0.00647667 0.18248175 0.         ... 0.25       0.2        1.        ]\n",
      " [0.0064908  0.18248175 0.         ... 0.25       0.2        1.        ]\n",
      " ...\n",
      " [0.75689515 0.09489051 0.14285714 ... 0.25       0.2        0.55555556]\n",
      " [0.77262422 0.15328467 0.         ... 1.         0.2        0.22222222]\n",
      " [0.31756895 0.12408759 0.         ... 0.25       0.2        1.        ]]\n",
      "        Ind_ID  GENDER  Car_Owner  Propert_Owner  CHILDREN  Annual_income  \\\n",
      "0     0.000000     1.0        1.0            1.0  0.000000       0.094891   \n",
      "1     0.006477     0.0        1.0            0.0  0.000000       0.182482   \n",
      "2     0.006491     0.0        1.0            0.0  0.000000       0.182482   \n",
      "3     0.006512     0.0        1.0            0.0  0.000000       0.102287   \n",
      "4     0.006533     0.0        1.0            0.0  0.000000       0.182482   \n",
      "...        ...     ...        ...            ...       ...            ...   \n",
      "1543  0.139972     0.0        0.0            1.0  0.000000       0.102287   \n",
      "1544  0.104729     0.0        0.0            0.0  0.000000       0.124088   \n",
      "1545  0.756895     1.0        1.0            1.0  0.142857       0.094891   \n",
      "1546  0.772624     1.0        1.0            0.0  0.000000       0.153285   \n",
      "1547  0.317569     0.0        1.0            1.0  0.000000       0.124088   \n",
      "\n",
      "      Type_Income  EDUCATION  Marital_status  Housing_type  Birthday_count  \\\n",
      "0        0.333333       0.25             1.0           0.2        0.358100   \n",
      "1        0.000000       0.25             1.0           0.2        0.660577   \n",
      "2        0.000000       0.25             1.0           0.2        0.516540   \n",
      "3        0.000000       0.25             1.0           0.2        0.660577   \n",
      "4        0.000000       0.25             1.0           0.2        0.660577   \n",
      "...           ...        ...             ...           ...             ...   \n",
      "1543     0.000000       0.25             1.0           0.2        0.753379   \n",
      "1544     0.000000       0.50             3.0           0.2        0.853605   \n",
      "1545     1.000000       0.25             1.0           0.2        0.682791   \n",
      "1546     1.000000       1.00             0.0           0.2        0.559944   \n",
      "1547     1.000000       0.25             1.0           0.2        0.484021   \n",
      "\n",
      "      Employed_days  Mobile_phone  Work_Phone  Phone  EMAIL_ID  \\\n",
      "0          1.000000           1.0         0.0    0.0       0.0   \n",
      "1          0.037621           1.0         1.0    1.0       0.0   \n",
      "2          0.037621           1.0         1.0    1.0       0.0   \n",
      "3          0.037621           1.0         1.0    1.0       0.0   \n",
      "4          0.037621           1.0         1.0    1.0       0.0   \n",
      "...             ...           ...         ...    ...       ...   \n",
      "1543       0.033423           1.0         0.0    0.0       0.0   \n",
      "1544       0.035982           1.0         0.0    0.0       0.0   \n",
      "1545       0.032647           1.0         0.0    0.0       0.0   \n",
      "1546       0.037466           1.0         1.0    1.0       0.0   \n",
      "1547       0.031642           1.0         0.0    0.0       0.0   \n",
      "\n",
      "      Type_Occupation  Family_Members  \n",
      "0            1.000000        0.071429  \n",
      "1            1.000000        0.071429  \n",
      "2            1.000000        0.071429  \n",
      "3            1.000000        0.071429  \n",
      "4            1.000000        0.071429  \n",
      "...               ...             ...  \n",
      "1543         0.555556        0.071429  \n",
      "1544         0.000000        0.000000  \n",
      "1545         0.555556        0.214286  \n",
      "1546         0.222222        0.071429  \n",
      "1547         1.000000        0.071429  \n",
      "\n",
      "[1548 rows x 18 columns]\n"
     ]
    }
   ],
   "source": [
    "# Normalizing the data to remove bias\n",
    "min_max = MinMaxScaler()\n",
    "features_df_imputed_min_max = min_max.fit_transform(features_df_imputed[['Ind_ID', 'Annual_income', 'CHILDREN',\n",
    "                                                               'Birthday_count', 'Employed_days','Family_Members', 'Type_Income','EDUCATION'\n",
    "                                                                        , 'Housing_type', 'Type_Occupation']])\n",
    "\n",
    "features_df_imputed[['Ind_ID', 'Annual_income', 'CHILDREN','Birthday_count', 'Employed_days','Family_Members', 'Type_Income', 'EDUCATION'\n",
    "                    , 'Housing_type', 'Type_Occupation']] = features_df_imputed_min_max\n",
    "\n",
    "print(features_df_imputed_min_max)\n",
    "print(features_df_imputed)"
   ]
  },
  {
   "cell_type": "code",
   "execution_count": 710,
   "id": "6e00b311",
   "metadata": {},
   "outputs": [],
   "source": [
    "target_df = pd.read_csv(\"https://raw.githubusercontent.com/pujan08/ML_Logistic_Regression_For_Credit_Card/main/Credit_card_label.csv\")"
   ]
  },
  {
   "cell_type": "code",
   "execution_count": 711,
   "id": "62670fb2",
   "metadata": {},
   "outputs": [
    {
     "name": "stdout",
     "output_type": "stream",
     "text": [
      "         Ind_ID  label\n",
      "0     5008827.0    1.0\n",
      "1     5009744.0    1.0\n",
      "2     5009746.0    1.0\n",
      "3     5009749.0    1.0\n",
      "4     5009752.0    1.0\n",
      "...         ...    ...\n",
      "1543  5028645.0    0.0\n",
      "1544  5023655.0    0.0\n",
      "1545  5115992.0    0.0\n",
      "1546  5118219.0    0.0\n",
      "1547  5053790.0    0.0\n",
      "\n",
      "[1548 rows x 2 columns]\n"
     ]
    }
   ],
   "source": [
    "#Find missing values and impute them\n",
    "numeric_imputer = SimpleImputer(strategy='mean')\n",
    "target_df_imputed = pd.DataFrame(numeric_imputer.fit_transform(target_df), columns=target_df.columns)\n",
    "numeric_imputer.fit(target_df)\n",
    "print(target_df_imputed)"
   ]
  },
  {
   "cell_type": "code",
   "execution_count": 712,
   "id": "66d0391a",
   "metadata": {},
   "outputs": [
    {
     "name": "stdout",
     "output_type": "stream",
     "text": [
      "Sanity Check Passed: No missing values after imputation in target_df.\n"
     ]
    }
   ],
   "source": [
    "#check and print if there are any missing values\n",
    "missing_values_after_imputation = target_df_imputed.isna().sum().sum()\n",
    "if missing_values_after_imputation == 0:\n",
    "    print(\"Sanity Check Passed: No missing values after imputation in target_df.\")\n",
    "else:\n",
    "    print(f\"Sanity Check Failed: There are still {missing_values_after_imputation} missing values in target_df after imputation.\")\n"
   ]
  },
  {
   "cell_type": "markdown",
   "id": "5f5009be",
   "metadata": {},
   "source": [
    "2. Training and Testing Part"
   ]
  },
  {
   "cell_type": "code",
   "execution_count": 713,
   "id": "1a1f8d08",
   "metadata": {},
   "outputs": [],
   "source": [
    "# Defining features and labels\n",
    "X = features_df_imputed\n",
    "y = target_df_imputed['label']"
   ]
  },
  {
   "cell_type": "code",
   "execution_count": null,
   "id": "5a674aac",
   "metadata": {},
   "outputs": [],
   "source": []
  },
  {
   "cell_type": "code",
   "execution_count": 714,
   "id": "6828a43e",
   "metadata": {},
   "outputs": [],
   "source": [
    "# Defining train and test sets\n",
    "X_train, X_test, y_train, y_test = train_test_split(X, y, test_size=0.2, random_state=69420)"
   ]
  },
  {
   "cell_type": "code",
   "execution_count": 715,
   "id": "0a551bbc",
   "metadata": {},
   "outputs": [
    {
     "name": "stdout",
     "output_type": "stream",
     "text": [
      "0.0    1094\n",
      "1.0    1094\n",
      "Name: label, dtype: int64\n"
     ]
    }
   ],
   "source": [
    "# Oversampling the dataset\n",
    "ros = RandomOverSampler(random_state=69420)\n",
    "X_resampled, y_resampled = ros.fit_resample(X_train, y_train)\n",
    "print(pd.Series(y_resampled).value_counts())"
   ]
  },
  {
   "cell_type": "code",
   "execution_count": null,
   "id": "bf0aaeb9",
   "metadata": {},
   "outputs": [],
   "source": []
  },
  {
   "cell_type": "code",
   "execution_count": 716,
   "id": "d42a149e",
   "metadata": {},
   "outputs": [
    {
     "data": {
      "text/plain": [
       "RandomForestClassifier(n_estimators=10, random_state=69420)"
      ]
     },
     "execution_count": 716,
     "metadata": {},
     "output_type": "execute_result"
    }
   ],
   "source": [
    "# Build a model of random forest with random hyperparameters \n",
    "rf_model = RandomForestClassifier(n_estimators=10, max_features='auto', random_state=69420)\n",
    "\n",
    "# Train the model\n",
    "rf_model.fit(X_resampled, y_resampled)"
   ]
  },
  {
   "cell_type": "code",
   "execution_count": 717,
   "id": "403f4fd1",
   "metadata": {},
   "outputs": [
    {
     "name": "stdout",
     "output_type": "stream",
     "text": [
      "[[272   7]\n",
      " [ 19  12]]\n",
      "accuracy:  0.9161290322580645\n",
      "f1 score:  0.48000000000000004\n",
      "              precision    recall  f1-score   support\n",
      "\n",
      "         0.0       0.93      0.97      0.95       279\n",
      "         1.0       0.63      0.39      0.48        31\n",
      "\n",
      "    accuracy                           0.92       310\n",
      "   macro avg       0.78      0.68      0.72       310\n",
      "weighted avg       0.90      0.92      0.91       310\n",
      "\n"
     ]
    }
   ],
   "source": [
    "# Run Test set on the model and print the confusion matrix\n",
    "rf_pred = rf_model.predict(X_test)\n",
    "print(confusion_matrix(y_test, rf_pred))\n",
    "print('accuracy: ', accuracy_score(y_test, rf_pred))\n",
    "print('f1 score: ', f1_score(y_test, rf_pred))\n",
    "print(classification_report(y_test, rf_pred))"
   ]
  },
  {
   "cell_type": "code",
   "execution_count": 718,
   "id": "2a2f92ac",
   "metadata": {},
   "outputs": [
    {
     "data": {
      "text/plain": [
       "GridSearchCV(cv=5, estimator=RandomForestClassifier(),\n",
       "             param_grid={'max_features': [None, 'sqrt', 'log2'],\n",
       "                         'n_estimators': [1, 10, 50, 100, 150, 200, 500],\n",
       "                         'random_state': [69420]},\n",
       "             scoring='f1')"
      ]
     },
     "execution_count": 718,
     "metadata": {},
     "output_type": "execute_result"
    }
   ],
   "source": [
    "# Use GridSearchCV to tune the hyperparameters\n",
    "rf_model_gscv = RandomForestClassifier()\n",
    "\n",
    "param_grid = {\n",
    "    'n_estimators': [1, 10, 50, 100, 150, 200, 500],\n",
    "    'max_features': [None, 'sqrt', 'log2'],\n",
    "    'random_state': [69420]\n",
    "}\n",
    "\n",
    "grid_search = GridSearchCV(rf_model_gscv, param_grid,  cv=5, scoring='f1')\n",
    "grid_search.fit(X_resampled, y_resampled) "
   ]
  },
  {
   "cell_type": "code",
   "execution_count": 719,
   "id": "9dd82b26",
   "metadata": {},
   "outputs": [
    {
     "name": "stdout",
     "output_type": "stream",
     "text": [
      "Best Parameters: {'max_features': 'sqrt', 'n_estimators': 150, 'random_state': 69420}\n",
      "[[274   5]\n",
      " [ 19  12]]\n",
      "accuracy:  0.9225806451612903\n",
      "f1 score:  0.5\n",
      "              precision    recall  f1-score   support\n",
      "\n",
      "         0.0       0.94      0.98      0.96       279\n",
      "         1.0       0.71      0.39      0.50        31\n",
      "\n",
      "    accuracy                           0.92       310\n",
      "   macro avg       0.82      0.68      0.73       310\n",
      "weighted avg       0.91      0.92      0.91       310\n",
      "\n"
     ]
    }
   ],
   "source": [
    "# Build a model with the best params and run test set on it\n",
    "print(\"Best Parameters:\", grid_search.best_params_)\n",
    "best_grid = grid_search.best_estimator_\n",
    "rf_model_gscv_pred = best_grid.predict(X_test)\n",
    "print(confusion_matrix(y_test, rf_model_gscv_pred))\n",
    "print('accuracy: ', accuracy_score(y_test, rf_model_gscv_pred))\n",
    "print('f1 score: ', f1_score(y_test, rf_model_gscv_pred))\n",
    "print(classification_report(y_test, rf_model_gscv_pred))"
   ]
  },
  {
   "cell_type": "code",
   "execution_count": 720,
   "id": "28172762",
   "metadata": {},
   "outputs": [
    {
     "name": "stdout",
     "output_type": "stream",
     "text": [
      "      Car_Owner  Propert_Owner  CHILDREN  Annual_income  Type_Income  \\\n",
      "0           1.0            1.0  0.000000       0.094891     0.333333   \n",
      "1           1.0            0.0  0.000000       0.182482     0.000000   \n",
      "2           1.0            0.0  0.000000       0.182482     0.000000   \n",
      "3           1.0            0.0  0.000000       0.102287     0.000000   \n",
      "4           1.0            0.0  0.000000       0.182482     0.000000   \n",
      "...         ...            ...       ...            ...          ...   \n",
      "1543        0.0            1.0  0.000000       0.102287     0.000000   \n",
      "1544        0.0            0.0  0.000000       0.124088     0.000000   \n",
      "1545        1.0            1.0  0.142857       0.094891     1.000000   \n",
      "1546        1.0            0.0  0.000000       0.153285     1.000000   \n",
      "1547        1.0            1.0  0.000000       0.124088     1.000000   \n",
      "\n",
      "      EDUCATION  Marital_status  Housing_type  Birthday_count  Employed_days  \\\n",
      "0          0.25             1.0           0.2        0.358100       1.000000   \n",
      "1          0.25             1.0           0.2        0.660577       0.037621   \n",
      "2          0.25             1.0           0.2        0.516540       0.037621   \n",
      "3          0.25             1.0           0.2        0.660577       0.037621   \n",
      "4          0.25             1.0           0.2        0.660577       0.037621   \n",
      "...         ...             ...           ...             ...            ...   \n",
      "1543       0.25             1.0           0.2        0.753379       0.033423   \n",
      "1544       0.50             3.0           0.2        0.853605       0.035982   \n",
      "1545       0.25             1.0           0.2        0.682791       0.032647   \n",
      "1546       1.00             0.0           0.2        0.559944       0.037466   \n",
      "1547       0.25             1.0           0.2        0.484021       0.031642   \n",
      "\n",
      "      Type_Occupation  Family_Members  \n",
      "0            1.000000        0.071429  \n",
      "1            1.000000        0.071429  \n",
      "2            1.000000        0.071429  \n",
      "3            1.000000        0.071429  \n",
      "4            1.000000        0.071429  \n",
      "...               ...             ...  \n",
      "1543         0.555556        0.071429  \n",
      "1544         0.000000        0.000000  \n",
      "1545         0.555556        0.214286  \n",
      "1546         0.222222        0.071429  \n",
      "1547         1.000000        0.071429  \n",
      "\n",
      "[1548 rows x 12 columns]\n"
     ]
    }
   ],
   "source": [
    "# Removing features\n",
    "features_df_removed = features_df_imputed.drop(['Ind_ID', 'GENDER', 'Mobile_phone', 'Work_Phone', 'Phone', 'EMAIL_ID'], axis=1)\n",
    "print(features_df_removed)\n",
    "X_dropped = features_df_removed\n",
    "X_train, X_test, y_train, y_test = train_test_split(X_dropped, y, test_size=0.2, random_state=69420)"
   ]
  },
  {
   "cell_type": "code",
   "execution_count": 721,
   "id": "b075fe80",
   "metadata": {},
   "outputs": [
    {
     "name": "stdout",
     "output_type": "stream",
     "text": [
      "0.0    1094\n",
      "1.0    1094\n",
      "Name: label, dtype: int64\n"
     ]
    }
   ],
   "source": [
    "# Oversampling the dataset\n",
    "X_resampled, y_resampled = ros.fit_resample(X_train, y_train)\n",
    "print(pd.Series(y_resampled).value_counts())"
   ]
  },
  {
   "cell_type": "code",
   "execution_count": 722,
   "id": "df6753ee",
   "metadata": {},
   "outputs": [
    {
     "name": "stdout",
     "output_type": "stream",
     "text": [
      "Best Parameters: {'max_features': 'sqrt', 'n_estimators': 200, 'random_state': 69420}\n",
      "[[275   4]\n",
      " [ 17  14]]\n",
      "accuracy:  0.932258064516129\n",
      "f1 score:  0.5714285714285714\n",
      "              precision    recall  f1-score   support\n",
      "\n",
      "         0.0       0.94      0.99      0.96       279\n",
      "         1.0       0.78      0.45      0.57        31\n",
      "\n",
      "    accuracy                           0.93       310\n",
      "   macro avg       0.86      0.72      0.77       310\n",
      "weighted avg       0.93      0.93      0.92       310\n",
      "\n"
     ]
    }
   ],
   "source": [
    "# Run GridSearchCV again, run test set on the best model, and print the accuracy\n",
    "grid_search.fit(X_resampled, y_resampled) \n",
    "print(\"Best Parameters:\", grid_search.best_params_)\n",
    "best_grid = grid_search.best_estimator_\n",
    "rf_model_gscv_pred = best_grid.predict(X_test)\n",
    "print(confusion_matrix(y_test, rf_model_gscv_pred))\n",
    "print('accuracy: ', accuracy_score(y_test, rf_model_gscv_pred))\n",
    "print('f1 score: ', f1_score(y_test, rf_model_gscv_pred))\n",
    "print(classification_report(y_test, rf_model_gscv_pred))"
   ]
  },
  {
   "cell_type": "code",
   "execution_count": null,
   "id": "b2715e95",
   "metadata": {},
   "outputs": [],
   "source": []
  }
 ],
 "metadata": {
  "kernelspec": {
   "display_name": "Python 3 (ipykernel)",
   "language": "python",
   "name": "python3"
  },
  "language_info": {
   "codemirror_mode": {
    "name": "ipython",
    "version": 3
   },
   "file_extension": ".py",
   "mimetype": "text/x-python",
   "name": "python",
   "nbconvert_exporter": "python",
   "pygments_lexer": "ipython3",
   "version": "3.11.5"
  }
 },
 "nbformat": 4,
 "nbformat_minor": 5
}
