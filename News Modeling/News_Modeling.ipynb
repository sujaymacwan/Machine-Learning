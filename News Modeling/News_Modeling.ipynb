{
  "cells": [
    {
      "cell_type": "markdown",
      "metadata": {
        "id": "cVB3e0wjZblJ"
      },
      "source": [
        "# News Modeling\n",
        "\n",
        "Topic modeling involves **extracting features from document terms** and using\n",
        "mathematical structures and frameworks like matrix factorization and SVD to generate **clusters or groups of terms** that are distinguishable from each other and these clusters of words form topics or concepts\n",
        "\n",
        "Topic modeling is a method for **unsupervised classification** of documents, similar to clustering on numeric data\n",
        "\n",
        "These concepts can be used to interpret the main **themes** of a corpus and also make **semantic connections among words that co-occur together** frequently in various documents\n",
        "\n",
        "Topic modeling can help in the following areas:\n",
        "- discovering the **hidden themes** in the collection\n",
        "- **classifying** the documents into the discovered themes\n",
        "- using the classification to **organize/summarize/search** the documents\n",
        "\n",
        "Frameworks and algorithms to build topic models:\n",
        "- Latent semantic indexing\n",
        "- Latent Dirichlet allocation\n",
        "- Non-negative matrix factorization"
      ]
    },
    {
      "cell_type": "markdown",
      "metadata": {
        "id": "fhMhVCJ-ZblL"
      },
      "source": [
        "## Latent Dirichlet Allocation (LDA)\n",
        "The latent Dirichlet allocation (LDA) technique is a **generative probabilistic model** where each **document is assumed to have a combination of topics** similar to a probabilistic latent semantic indexing model\n",
        "\n",
        "In simple words, the idea behind LDA is that of two folds:\n",
        "- each **document** can be described by a **distribution of topics**\n",
        "- each **topic** can be described by a **distribution of words**"
      ]
    },
    {
      "cell_type": "markdown",
      "metadata": {
        "id": "4m29g8o8ZblL"
      },
      "source": [
        "### LDA Algorithm\n",
        "\n",
        "- 1. For each document, **randomly initialize each word to one of the K topics** (k is chosen beforehand)\n",
        "- 2. For each document D, go through each word w and compute:\n",
        "    - **P(T |D)** , which is a proportion of words in D assigned to topic T\n",
        "    - **P(W |T )** , which is a proportion of assignments to topic T over all documents having the word W\n",
        "- **Reassign word W with topic T** with probability P(T |D)´ P(W |T ) considering all other words and their topic assignments\n",
        "\n",
        "![LDA](https://raw.githubusercontent.com/subashgandyer/datasets/main/images/LDA.png)"
      ]
    },
    {
      "cell_type": "markdown",
      "metadata": {
        "id": "CktT65keZblL"
      },
      "source": [
        "### Steps\n",
        "- Install the necessary library\n",
        "- Import the necessary libraries\n",
        "- Download the dataset\n",
        "- Load the dataset\n",
        "- Pre-process the dataset\n",
        "    - Stop words removal\n",
        "    - Email removal\n",
        "    - Non-alphabetic words removal\n",
        "    - Tokenize\n",
        "    - Lowercase\n",
        "    - BiGrams & TriGrams\n",
        "    - Lemmatization\n",
        "- Create a dictionary for the document\n",
        "- Filter low frequency words\n",
        "- Create an Index to word dictionary\n",
        "- Train the Topic Model\n",
        "- Predict on the dataset\n",
        "- Evaluate the Topic Model\n",
        "    - Model Perplexity\n",
        "    - Topic Coherence\n",
        "- Visualize the topics"
      ]
    },
    {
      "cell_type": "markdown",
      "metadata": {
        "id": "rjF4ZywHZblL"
      },
      "source": [
        "### Install the necessary library"
      ]
    },
    {
      "cell_type": "code",
      "execution_count": 1,
      "metadata": {
        "colab": {
          "base_uri": "https://localhost:8080/"
        },
        "id": "6JMweaNJaIkr",
        "outputId": "8b33e78f-49ae-4c25-8983-1d1613758015"
      },
      "outputs": [
        {
          "name": "stdout",
          "output_type": "stream",
          "text": [
            "Requirement already satisfied: pandas in /usr/local/lib/python3.10/dist-packages (1.5.3)\n",
            "Requirement already satisfied: python-dateutil>=2.8.1 in /usr/local/lib/python3.10/dist-packages (from pandas) (2.8.2)\n",
            "Requirement already satisfied: pytz>=2020.1 in /usr/local/lib/python3.10/dist-packages (from pandas) (2023.4)\n",
            "Requirement already satisfied: numpy>=1.21.0 in /usr/local/lib/python3.10/dist-packages (from pandas) (1.25.2)\n",
            "Requirement already satisfied: six>=1.5 in /usr/local/lib/python3.10/dist-packages (from python-dateutil>=2.8.1->pandas) (1.16.0)\n"
          ]
        }
      ],
      "source": [
        "!pip install pandas"
      ]
    },
    {
      "cell_type": "code",
      "execution_count": 2,
      "metadata": {
        "colab": {
          "base_uri": "https://localhost:8080/"
        },
        "id": "cRlCel_gZblL",
        "outputId": "3179f4dc-7bfe-4ede-887a-ba719ec0bf12"
      },
      "outputs": [
        {
          "name": "stdout",
          "output_type": "stream",
          "text": [
            "Collecting pyLDAvis\n",
            "  Downloading pyLDAvis-3.4.1-py3-none-any.whl (2.6 MB)\n",
            "\u001b[2K     \u001b[90m━━━━━━━━━━━━━━━━━━━━━━━━━━━━━━━━━━━━━━━━\u001b[0m \u001b[32m2.6/2.6 MB\u001b[0m \u001b[31m20.7 MB/s\u001b[0m eta \u001b[36m0:00:00\u001b[0m\n",
            "\u001b[?25hRequirement already satisfied: gensim in /usr/local/lib/python3.10/dist-packages (4.3.2)\n",
            "Requirement already satisfied: spacy in /usr/local/lib/python3.10/dist-packages (3.7.4)\n",
            "Requirement already satisfied: numpy>=1.24.2 in /usr/local/lib/python3.10/dist-packages (from pyLDAvis) (1.25.2)\n",
            "Requirement already satisfied: scipy in /usr/local/lib/python3.10/dist-packages (from pyLDAvis) (1.11.4)\n",
            "Collecting pandas>=2.0.0 (from pyLDAvis)\n",
            "  Downloading pandas-2.2.1-cp310-cp310-manylinux_2_17_x86_64.manylinux2014_x86_64.whl (13.0 MB)\n",
            "\u001b[2K     \u001b[90m━━━━━━━━━━━━━━━━━━━━━━━━━━━━━━━━━━━━━━━━\u001b[0m \u001b[32m13.0/13.0 MB\u001b[0m \u001b[31m69.1 MB/s\u001b[0m eta \u001b[36m0:00:00\u001b[0m\n",
            "\u001b[?25hRequirement already satisfied: joblib>=1.2.0 in /usr/local/lib/python3.10/dist-packages (from pyLDAvis) (1.3.2)\n",
            "Requirement already satisfied: jinja2 in /usr/local/lib/python3.10/dist-packages (from pyLDAvis) (3.1.3)\n",
            "Requirement already satisfied: numexpr in /usr/local/lib/python3.10/dist-packages (from pyLDAvis) (2.9.0)\n",
            "Collecting funcy (from pyLDAvis)\n",
            "  Downloading funcy-2.0-py2.py3-none-any.whl (30 kB)\n",
            "Requirement already satisfied: scikit-learn>=1.0.0 in /usr/local/lib/python3.10/dist-packages (from pyLDAvis) (1.2.2)\n",
            "Requirement already satisfied: setuptools in /usr/local/lib/python3.10/dist-packages (from pyLDAvis) (67.7.2)\n",
            "Requirement already satisfied: smart-open>=1.8.1 in /usr/local/lib/python3.10/dist-packages (from gensim) (6.4.0)\n",
            "Requirement already satisfied: spacy-legacy<3.1.0,>=3.0.11 in /usr/local/lib/python3.10/dist-packages (from spacy) (3.0.12)\n",
            "Requirement already satisfied: spacy-loggers<2.0.0,>=1.0.0 in /usr/local/lib/python3.10/dist-packages (from spacy) (1.0.5)\n",
            "Requirement already satisfied: murmurhash<1.1.0,>=0.28.0 in /usr/local/lib/python3.10/dist-packages (from spacy) (1.0.10)\n",
            "Requirement already satisfied: cymem<2.1.0,>=2.0.2 in /usr/local/lib/python3.10/dist-packages (from spacy) (2.0.8)\n",
            "Requirement already satisfied: preshed<3.1.0,>=3.0.2 in /usr/local/lib/python3.10/dist-packages (from spacy) (3.0.9)\n",
            "Requirement already satisfied: thinc<8.3.0,>=8.2.2 in /usr/local/lib/python3.10/dist-packages (from spacy) (8.2.3)\n",
            "Requirement already satisfied: wasabi<1.2.0,>=0.9.1 in /usr/local/lib/python3.10/dist-packages (from spacy) (1.1.2)\n",
            "Requirement already satisfied: srsly<3.0.0,>=2.4.3 in /usr/local/lib/python3.10/dist-packages (from spacy) (2.4.8)\n",
            "Requirement already satisfied: catalogue<2.1.0,>=2.0.6 in /usr/local/lib/python3.10/dist-packages (from spacy) (2.0.10)\n",
            "Requirement already satisfied: weasel<0.4.0,>=0.1.0 in /usr/local/lib/python3.10/dist-packages (from spacy) (0.3.4)\n",
            "Requirement already satisfied: typer<0.10.0,>=0.3.0 in /usr/local/lib/python3.10/dist-packages (from spacy) (0.9.0)\n",
            "Requirement already satisfied: tqdm<5.0.0,>=4.38.0 in /usr/local/lib/python3.10/dist-packages (from spacy) (4.66.2)\n",
            "Requirement already satisfied: requests<3.0.0,>=2.13.0 in /usr/local/lib/python3.10/dist-packages (from spacy) (2.31.0)\n",
            "Requirement already satisfied: pydantic!=1.8,!=1.8.1,<3.0.0,>=1.7.4 in /usr/local/lib/python3.10/dist-packages (from spacy) (2.6.4)\n",
            "Requirement already satisfied: packaging>=20.0 in /usr/local/lib/python3.10/dist-packages (from spacy) (24.0)\n",
            "Requirement already satisfied: langcodes<4.0.0,>=3.2.0 in /usr/local/lib/python3.10/dist-packages (from spacy) (3.3.0)\n",
            "Requirement already satisfied: python-dateutil>=2.8.2 in /usr/local/lib/python3.10/dist-packages (from pandas>=2.0.0->pyLDAvis) (2.8.2)\n",
            "Requirement already satisfied: pytz>=2020.1 in /usr/local/lib/python3.10/dist-packages (from pandas>=2.0.0->pyLDAvis) (2023.4)\n",
            "Collecting tzdata>=2022.7 (from pandas>=2.0.0->pyLDAvis)\n",
            "  Downloading tzdata-2024.1-py2.py3-none-any.whl (345 kB)\n",
            "\u001b[2K     \u001b[90m━━━━━━━━━━━━━━━━━━━━━━━━━━━━━━━━━━━━━━━━\u001b[0m \u001b[32m345.4/345.4 kB\u001b[0m \u001b[31m29.6 MB/s\u001b[0m eta \u001b[36m0:00:00\u001b[0m\n",
            "\u001b[?25hRequirement already satisfied: annotated-types>=0.4.0 in /usr/local/lib/python3.10/dist-packages (from pydantic!=1.8,!=1.8.1,<3.0.0,>=1.7.4->spacy) (0.6.0)\n",
            "Requirement already satisfied: pydantic-core==2.16.3 in /usr/local/lib/python3.10/dist-packages (from pydantic!=1.8,!=1.8.1,<3.0.0,>=1.7.4->spacy) (2.16.3)\n",
            "Requirement already satisfied: typing-extensions>=4.6.1 in /usr/local/lib/python3.10/dist-packages (from pydantic!=1.8,!=1.8.1,<3.0.0,>=1.7.4->spacy) (4.10.0)\n",
            "Requirement already satisfied: charset-normalizer<4,>=2 in /usr/local/lib/python3.10/dist-packages (from requests<3.0.0,>=2.13.0->spacy) (3.3.2)\n",
            "Requirement already satisfied: idna<4,>=2.5 in /usr/local/lib/python3.10/dist-packages (from requests<3.0.0,>=2.13.0->spacy) (3.6)\n",
            "Requirement already satisfied: urllib3<3,>=1.21.1 in /usr/local/lib/python3.10/dist-packages (from requests<3.0.0,>=2.13.0->spacy) (2.0.7)\n",
            "Requirement already satisfied: certifi>=2017.4.17 in /usr/local/lib/python3.10/dist-packages (from requests<3.0.0,>=2.13.0->spacy) (2024.2.2)\n",
            "Requirement already satisfied: threadpoolctl>=2.0.0 in /usr/local/lib/python3.10/dist-packages (from scikit-learn>=1.0.0->pyLDAvis) (3.3.0)\n",
            "Requirement already satisfied: blis<0.8.0,>=0.7.8 in /usr/local/lib/python3.10/dist-packages (from thinc<8.3.0,>=8.2.2->spacy) (0.7.11)\n",
            "Requirement already satisfied: confection<1.0.0,>=0.0.1 in /usr/local/lib/python3.10/dist-packages (from thinc<8.3.0,>=8.2.2->spacy) (0.1.4)\n",
            "Requirement already satisfied: click<9.0.0,>=7.1.1 in /usr/local/lib/python3.10/dist-packages (from typer<0.10.0,>=0.3.0->spacy) (8.1.7)\n",
            "Requirement already satisfied: cloudpathlib<0.17.0,>=0.7.0 in /usr/local/lib/python3.10/dist-packages (from weasel<0.4.0,>=0.1.0->spacy) (0.16.0)\n",
            "Requirement already satisfied: MarkupSafe>=2.0 in /usr/local/lib/python3.10/dist-packages (from jinja2->pyLDAvis) (2.1.5)\n",
            "Requirement already satisfied: six>=1.5 in /usr/local/lib/python3.10/dist-packages (from python-dateutil>=2.8.2->pandas>=2.0.0->pyLDAvis) (1.16.0)\n",
            "Installing collected packages: funcy, tzdata, pandas, pyLDAvis\n",
            "  Attempting uninstall: pandas\n",
            "    Found existing installation: pandas 1.5.3\n",
            "    Uninstalling pandas-1.5.3:\n",
            "      Successfully uninstalled pandas-1.5.3\n",
            "\u001b[31mERROR: pip's dependency resolver does not currently take into account all the packages that are installed. This behaviour is the source of the following dependency conflicts.\n",
            "bigframes 0.26.0 requires pandas<2.1.4,>=1.5.0, but you have pandas 2.2.1 which is incompatible.\n",
            "google-colab 1.0.0 requires pandas==1.5.3, but you have pandas 2.2.1 which is incompatible.\u001b[0m\u001b[31m\n",
            "\u001b[0mSuccessfully installed funcy-2.0 pandas-2.2.1 pyLDAvis-3.4.1 tzdata-2024.1\n"
          ]
        }
      ],
      "source": [
        "!pip install pyLDAvis gensim spacy"
      ]
    },
    {
      "cell_type": "markdown",
      "metadata": {
        "id": "onAobA0MZblM"
      },
      "source": [
        "### Import the libraries"
      ]
    },
    {
      "cell_type": "code",
      "execution_count": 3,
      "metadata": {
        "colab": {
          "base_uri": "https://localhost:8080/"
        },
        "id": "fWNtJu4ihLsH",
        "outputId": "d620775f-dd7b-44b8-d5ce-6b8e56319c25"
      },
      "outputs": [
        {
          "name": "stdout",
          "output_type": "stream",
          "text": [
            "/bin/bash: -c: line 1: syntax error near unexpected token `'stopwords''\n",
            "/bin/bash: -c: line 1: ` nltk.download('stopwords')'\n"
          ]
        }
      ],
      "source": [
        "import nltk\n",
        "! nltk.download('stopwords')"
      ]
    },
    {
      "cell_type": "code",
      "execution_count": 4,
      "metadata": {
        "id": "SQbYMnNOZblM"
      },
      "outputs": [],
      "source": [
        "import nltk\n",
        "from nltk.corpus import stopwords\n",
        "from nltk.tokenize import word_tokenize\n",
        "from nltk.stem import WordNetLemmatizer\n",
        "from gensim import corpora\n",
        "from gensim.models import LdaModel\n",
        "from gensim.models import CoherenceModel\n",
        "from gensim.models.phrases import Phrases, Phraser\n",
        "import re\n",
        "import spacy\n",
        "import pyLDAvis\n",
        "import pyLDAvis.gensim_models as gensimvis\n",
        "import matplotlib.pyplot as plt"
      ]
    },
    {
      "cell_type": "markdown",
      "metadata": {
        "id": "wVpD8cp9ZblM"
      },
      "source": [
        "### Download the dataset\n",
        "Dataset: https://raw.githubusercontent.com/subashgandyer/datasets/main/newsgroups.json\n",
        "\n",
        "#### 20-Newsgroups dataset\n",
        "- 11K newsgroups posts\n",
        "- 20 news topics"
      ]
    },
    {
      "cell_type": "markdown",
      "metadata": {
        "id": "B4zdCzODZblN"
      },
      "source": [
        "### Load the dataset"
      ]
    },
    {
      "cell_type": "code",
      "execution_count": 5,
      "metadata": {
        "colab": {
          "base_uri": "https://localhost:8080/"
        },
        "id": "UU_9J7QVZblN",
        "outputId": "869019ba-bc05-42ef-e138-e5bfa6dd1f8a"
      },
      "outputs": [
        {
          "name": "stdout",
          "output_type": "stream",
          "text": [
            "                                             content  target  \\\n",
            "0  From: lerxst@wam.umd.edu (where's my thing)\\nS...       7   \n",
            "1  From: guykuo@carson.u.washington.edu (Guy Kuo)...       4   \n",
            "2  From: twillis@ec.ecn.purdue.edu (Thomas E Will...       4   \n",
            "3  From: jgreen@amber (Joe Green)\\nSubject: Re: W...       1   \n",
            "4  From: jcm@head-cfa.harvard.edu (Jonathan McDow...      14   \n",
            "\n",
            "            target_names  \n",
            "0              rec.autos  \n",
            "1  comp.sys.mac.hardware  \n",
            "2  comp.sys.mac.hardware  \n",
            "3          comp.graphics  \n",
            "4              sci.space  \n"
          ]
        },
        {
          "name": "stderr",
          "output_type": "stream",
          "text": [
            "/usr/local/lib/python3.10/dist-packages/ipykernel/ipkernel.py:283: DeprecationWarning: `should_run_async` will not call `transform_cell` automatically in the future. Please pass the result to `transformed_cell` argument and any exception that happen during thetransform in `preprocessing_exc_tuple` in IPython 7.17 and above.\n",
            "  and should_run_async(code)\n"
          ]
        }
      ],
      "source": [
        "import pandas as pd\n",
        "\n",
        "# Path to the JSON file\n",
        "file_path = \"newsgroups.json\"  # Replace this with the actual path to your JSON file\n",
        "\n",
        "# Load JSON data into a pandas DataFrame\n",
        "df = pd.read_json(file_path)\n",
        "\n",
        "\n",
        "# Display the DataFrame\n",
        "print(df.head())"
      ]
    },
    {
      "cell_type": "code",
      "execution_count": 6,
      "metadata": {
        "colab": {
          "base_uri": "https://localhost:8080/"
        },
        "id": "SFPNVB2sZblN",
        "outputId": "4f3b5f07-1c24-4aac-ea9c-7eed05492319"
      },
      "outputs": [
        {
          "name": "stdout",
          "output_type": "stream",
          "text": [
            "First few rows of the DataFrame:\n",
            "                                             content  target  \\\n",
            "0  From: lerxst@wam.umd.edu (where's my thing)\\nS...       7   \n",
            "1  From: guykuo@carson.u.washington.edu (Guy Kuo)...       4   \n",
            "2  From: twillis@ec.ecn.purdue.edu (Thomas E Will...       4   \n",
            "3  From: jgreen@amber (Joe Green)\\nSubject: Re: W...       1   \n",
            "4  From: jcm@head-cfa.harvard.edu (Jonathan McDow...      14   \n",
            "\n",
            "            target_names  \n",
            "0              rec.autos  \n",
            "1  comp.sys.mac.hardware  \n",
            "2  comp.sys.mac.hardware  \n",
            "3          comp.graphics  \n",
            "4              sci.space  \n",
            "\n",
            "Shape of the DataFrame: (11314, 3)\n",
            "\n",
            "Column names:\n",
            "Index(['content', 'target', 'target_names'], dtype='object')\n",
            "\n",
            "Data types of columns:\n",
            "content         object\n",
            "target           int64\n",
            "target_names    object\n",
            "dtype: object\n",
            "\n",
            "Number of missing values in each column:\n",
            "content         0\n",
            "target          0\n",
            "target_names    0\n",
            "dtype: int64\n",
            "\n",
            "Summary statistics for numeric columns:\n",
            "             target\n",
            "count  11314.000000\n",
            "mean       9.293000\n",
            "std        5.562719\n",
            "min        0.000000\n",
            "25%        5.000000\n",
            "50%        9.000000\n",
            "75%       14.000000\n",
            "max       19.000000\n",
            "\n",
            "Number of unique values in each column:\n",
            "content         11314\n",
            "target             20\n",
            "target_names       20\n",
            "dtype: int64\n"
          ]
        },
        {
          "name": "stderr",
          "output_type": "stream",
          "text": [
            "/usr/local/lib/python3.10/dist-packages/ipykernel/ipkernel.py:283: DeprecationWarning: `should_run_async` will not call `transform_cell` automatically in the future. Please pass the result to `transformed_cell` argument and any exception that happen during thetransform in `preprocessing_exc_tuple` in IPython 7.17 and above.\n",
            "  and should_run_async(code)\n"
          ]
        }
      ],
      "source": [
        "# 1. Display the first few rows\n",
        "print(\"First few rows of the DataFrame:\")\n",
        "print(df.head())\n",
        "\n",
        "# 2. Check the shape\n",
        "print(\"\\nShape of the DataFrame:\", df.shape)\n",
        "\n",
        "# 3. Check column names\n",
        "print(\"\\nColumn names:\")\n",
        "print(df.columns)\n",
        "\n",
        "# 4. Check data types\n",
        "print(\"\\nData types of columns:\")\n",
        "print(df.dtypes)\n",
        "\n",
        "# 5. Check for missing values\n",
        "print(\"\\nNumber of missing values in each column:\")\n",
        "print(df.isnull().sum())\n",
        "\n",
        "# 6. Summary statistics\n",
        "print(\"\\nSummary statistics for numeric columns:\")\n",
        "print(df.describe())\n",
        "\n",
        "# 7. Unique values\n",
        "print(\"\\nNumber of unique values in each column:\")\n",
        "print(df.nunique())\n"
      ]
    },
    {
      "cell_type": "code",
      "execution_count": null,
      "metadata": {
        "id": "v9QlxtwGit3z"
      },
      "outputs": [],
      "source": []
    },
    {
      "cell_type": "markdown",
      "metadata": {
        "id": "IV28H7iXZblO"
      },
      "source": [
        "### Preprocess the data"
      ]
    },
    {
      "cell_type": "markdown",
      "metadata": {
        "id": "dwjAEs9nZblO"
      },
      "source": [
        "### Email Removal"
      ]
    },
    {
      "cell_type": "code",
      "execution_count": null,
      "metadata": {
        "id": "dBsuv3L-ZblO"
      },
      "outputs": [],
      "source": []
    },
    {
      "cell_type": "code",
      "execution_count": 7,
      "metadata": {
        "colab": {
          "base_uri": "https://localhost:8080/"
        },
        "id": "LHAyUcL0ZblO",
        "outputId": "03f2025d-6457-418f-aaf6-da04eebee5be"
      },
      "outputs": [
        {
          "name": "stderr",
          "output_type": "stream",
          "text": [
            "/usr/local/lib/python3.10/dist-packages/ipykernel/ipkernel.py:283: DeprecationWarning: `should_run_async` will not call `transform_cell` automatically in the future. Please pass the result to `transformed_cell` argument and any exception that happen during thetransform in `preprocessing_exc_tuple` in IPython 7.17 and above.\n",
            "  and should_run_async(code)\n"
          ]
        }
      ],
      "source": [
        "import re\n",
        "\n",
        "# Function to remove email addresses from text\n",
        "def remove_emails(text):\n",
        "    # Regular expression pattern to match email addresses\n",
        "    email_pattern = r'\\b[A-Za-z0-9._%+-]+@[A-Za-z0-9.-]+\\.[A-Z|a-z]{2,}\\b'\n",
        "    # Replace email addresses with an empty string\n",
        "    text_without_emails = re.sub(email_pattern, '', text)\n",
        "    return text_without_emails\n",
        "\n",
        "# Remove email addresses from the 'content' column\n",
        "df['content'] = df['content'].apply(remove_emails)\n"
      ]
    },
    {
      "cell_type": "markdown",
      "metadata": {
        "id": "My2YkhusZblO"
      },
      "source": [
        "### Newline Removal"
      ]
    },
    {
      "cell_type": "code",
      "execution_count": 8,
      "metadata": {
        "colab": {
          "base_uri": "https://localhost:8080/"
        },
        "id": "iEZfng2QZblO",
        "outputId": "6a93f6b3-7c39-42c7-afa1-c289483cac1d"
      },
      "outputs": [
        {
          "name": "stderr",
          "output_type": "stream",
          "text": [
            "/usr/local/lib/python3.10/dist-packages/ipykernel/ipkernel.py:283: DeprecationWarning: `should_run_async` will not call `transform_cell` automatically in the future. Please pass the result to `transformed_cell` argument and any exception that happen during thetransform in `preprocessing_exc_tuple` in IPython 7.17 and above.\n",
            "  and should_run_async(code)\n"
          ]
        }
      ],
      "source": [
        "# Function to remove newline characters from text\n",
        "def remove_newlines(text):\n",
        "    # Replace newline characters with an empty string\n",
        "    text_without_newlines = text.replace('\\n', '')\n",
        "    return text_without_newlines\n",
        "\n",
        "# Remove newline characters from the 'content' column\n",
        "df['content'] = df['content'].apply(remove_newlines)\n"
      ]
    },
    {
      "cell_type": "markdown",
      "metadata": {
        "id": "9WvkyIdPZblO"
      },
      "source": [
        "### Single Quotes Removal"
      ]
    },
    {
      "cell_type": "code",
      "execution_count": 9,
      "metadata": {
        "colab": {
          "base_uri": "https://localhost:8080/"
        },
        "id": "ILNjM9sbZblO",
        "outputId": "a417b505-8c77-4c8f-9743-79b9fe235070"
      },
      "outputs": [
        {
          "name": "stderr",
          "output_type": "stream",
          "text": [
            "/usr/local/lib/python3.10/dist-packages/ipykernel/ipkernel.py:283: DeprecationWarning: `should_run_async` will not call `transform_cell` automatically in the future. Please pass the result to `transformed_cell` argument and any exception that happen during thetransform in `preprocessing_exc_tuple` in IPython 7.17 and above.\n",
            "  and should_run_async(code)\n"
          ]
        }
      ],
      "source": [
        "# Function to remove single quotes from text\n",
        "def remove_single_quotes(text):\n",
        "    # Replace single quotes with an empty string\n",
        "    text_without_single_quotes = text.replace(\"'\", \"\")\n",
        "    return text_without_single_quotes\n",
        "\n",
        "# Remove single quotes from the 'content' column\n",
        "df['content'] = df['content'].apply(remove_single_quotes)"
      ]
    },
    {
      "cell_type": "markdown",
      "metadata": {
        "id": "fPDRFqd3ZblO"
      },
      "source": [
        "### Tokenize\n",
        "- Create **sent_to_words()**\n",
        "    - Use **gensim.utils.simple_preprocess**\n",
        "    - Use **generator** instead of an usual function"
      ]
    },
    {
      "cell_type": "code",
      "execution_count": 10,
      "metadata": {
        "colab": {
          "base_uri": "https://localhost:8080/"
        },
        "id": "wGYPRvRNZblO",
        "outputId": "bcf28b3e-5583-4d39-c6af-38e85e09c467"
      },
      "outputs": [
        {
          "name": "stderr",
          "output_type": "stream",
          "text": [
            "/usr/local/lib/python3.10/dist-packages/ipykernel/ipkernel.py:283: DeprecationWarning: `should_run_async` will not call `transform_cell` automatically in the future. Please pass the result to `transformed_cell` argument and any exception that happen during thetransform in `preprocessing_exc_tuple` in IPython 7.17 and above.\n",
            "  and should_run_async(code)\n"
          ]
        },
        {
          "name": "stdout",
          "output_type": "stream",
          "text": [
            "                                             content  \\\n",
            "0  From:  (wheres my thing)Subject: WHAT car is t...   \n",
            "1  From:  (Guy Kuo)Subject: SI Clock Poll - Final...   \n",
            "2  From:  (Thomas E Willis)Subject: PB questions....   \n",
            "3  From: jgreen@amber (Joe Green)Subject: Re: Wei...   \n",
            "4  From:  (Jonathan McDowell)Subject: Re: Shuttle...   \n",
            "\n",
            "                                              tokens  \n",
            "0  [from, wheres, my, thing, subject, what, car, ...  \n",
            "1  [from, guy, kuo, subject, si, clock, poll, fin...  \n",
            "2  [from, thomas, willis, subject, pb, questions,...  \n",
            "3  [from, jgreen, amber, joe, green, subject, re,...  \n",
            "4  [from, jonathan, mcdowell, subject, re, shuttl...  \n"
          ]
        }
      ],
      "source": [
        "from gensim.utils import simple_preprocess\n",
        "\n",
        "# Generator function to tokenize text into words\n",
        "def sent_to_words(sentences):\n",
        "    for sentence in sentences:\n",
        "        # Tokenize each sentence into words\n",
        "        yield simple_preprocess(str(sentence), deacc=True)  # deacc=True removes punctuation\n",
        "\n",
        "# Tokenize the 'content' column and create a new column 'tokens'\n",
        "df['tokens'] = list(sent_to_words(df['content']))\n",
        "\n",
        "# Display the first few rows of the DataFrame with the tokenized text\n",
        "print(df[['content', 'tokens']].head())\n"
      ]
    },
    {
      "cell_type": "markdown",
      "metadata": {
        "id": "BxK_9uo9k_wa"
      },
      "source": []
    },
    {
      "cell_type": "code",
      "execution_count": 10,
      "metadata": {
        "colab": {
          "base_uri": "https://localhost:8080/"
        },
        "id": "kfUVh2v1ZblO",
        "outputId": "679a1c8a-3819-4e6f-ca80-525f3829f164"
      },
      "outputs": [
        {
          "name": "stderr",
          "output_type": "stream",
          "text": [
            "/usr/local/lib/python3.10/dist-packages/ipykernel/ipkernel.py:283: DeprecationWarning: `should_run_async` will not call `transform_cell` automatically in the future. Please pass the result to `transformed_cell` argument and any exception that happen during thetransform in `preprocessing_exc_tuple` in IPython 7.17 and above.\n",
            "  and should_run_async(code)\n"
          ]
        }
      ],
      "source": []
    },
    {
      "cell_type": "markdown",
      "metadata": {
        "id": "4nrWugLAZblO"
      },
      "source": [
        "### Stop words Removal\n",
        "- Extend the stop words corpus with the following words\n",
        "    - from\n",
        "    - subject\n",
        "    - re\n",
        "    - edu\n",
        "    - use\n",
        "1.   We import the simple_preprocess() function from gensim.utils and the STOPWORDS corpus from gensim.parsing.preprocessing.\n",
        "2.   We define a set of additional stop words to be added to the existing stop words corpus.\n",
        "3. We extend the existing stop words corpus (STOPWORDS) with the additional stop words.\n",
        "4. We define a function remove_stopwords() that removes stop words from a list of tokens.\n",
        "5. We apply the remove_stopwords() function to the 'tokens' column of the DataFrame to create a new column 'tokens_no_stopwords' containing the tokenized text without stop words.\n",
        "6. Finally, we display the first few rows of the DataFrame with the 'tokens' and 'tokens_no_stopwords' columns.\n",
        "\n",
        "\n",
        "\n"
      ]
    },
    {
      "cell_type": "code",
      "execution_count": 11,
      "metadata": {
        "colab": {
          "base_uri": "https://localhost:8080/"
        },
        "id": "cEcFeLaVZblO",
        "outputId": "6b100421-21f7-480a-a878-a7d2cb30442e"
      },
      "outputs": [
        {
          "name": "stderr",
          "output_type": "stream",
          "text": [
            "/usr/local/lib/python3.10/dist-packages/ipykernel/ipkernel.py:283: DeprecationWarning: `should_run_async` will not call `transform_cell` automatically in the future. Please pass the result to `transformed_cell` argument and any exception that happen during thetransform in `preprocessing_exc_tuple` in IPython 7.17 and above.\n",
            "  and should_run_async(code)\n"
          ]
        },
        {
          "name": "stdout",
          "output_type": "stream",
          "text": [
            "                                              tokens  \\\n",
            "0  [from, wheres, my, thing, subject, what, car, ...   \n",
            "1  [from, guy, kuo, subject, si, clock, poll, fin...   \n",
            "2  [from, thomas, willis, subject, pb, questions,...   \n",
            "3  [from, jgreen, amber, joe, green, subject, re,...   \n",
            "4  [from, jonathan, mcdowell, subject, re, shuttl...   \n",
            "\n",
            "                                 tokens_no_stopwords  \n",
            "0  [wheres, thing, car, nntp, posting, host, rac,...  \n",
            "1  [guy, kuo, si, clock, poll, final, callsummary...  \n",
            "2  [thomas, willis, pb, questions, organization, ...  \n",
            "3  [jgreen, amber, joe, green, weitek, organizati...  \n",
            "4  [jonathan, mcdowell, shuttle, launch, smithson...  \n"
          ]
        }
      ],
      "source": [
        "from gensim.utils import simple_preprocess\n",
        "from gensim.parsing.preprocessing import STOPWORDS\n",
        "\n",
        "# Define additional stop words to be added to the existing stop words corpus\n",
        "additional_stopwords = {'from', 'subject', 're', 'edu', 'use'}\n",
        "\n",
        "# Extend the existing stop words corpus with additional stop words\n",
        "STOPWORDS |= additional_stopwords\n",
        "\n",
        "# Function to remove stop words from tokenized text\n",
        "def remove_stopwords(tokens):\n",
        "    return [word for word in tokens if word not in STOPWORDS]\n",
        "\n",
        "# Remove stop words from the 'tokens' column and create a new column 'tokens_no_stopwords'\n",
        "df['tokens_no_stopwords'] = df['tokens'].apply(remove_stopwords)\n",
        "\n",
        "# Display the first few rows of the DataFrame with the tokenized text without stop words\n",
        "print(df[['tokens', 'tokens_no_stopwords']].head())\n"
      ]
    },
    {
      "cell_type": "markdown",
      "metadata": {
        "id": "7PWKiSgzZblO"
      },
      "source": [
        "#### remove_stopwords( )"
      ]
    },
    {
      "cell_type": "code",
      "execution_count": 12,
      "metadata": {
        "colab": {
          "base_uri": "https://localhost:8080/"
        },
        "id": "kAJRP6bAZblO",
        "outputId": "d468c022-4227-405a-b668-6ea7ae9189b3"
      },
      "outputs": [
        {
          "name": "stderr",
          "output_type": "stream",
          "text": [
            "/usr/local/lib/python3.10/dist-packages/ipykernel/ipkernel.py:283: DeprecationWarning: `should_run_async` will not call `transform_cell` automatically in the future. Please pass the result to `transformed_cell` argument and any exception that happen during thetransform in `preprocessing_exc_tuple` in IPython 7.17 and above.\n",
            "  and should_run_async(code)\n"
          ]
        }
      ],
      "source": [
        "def remove_stopwords(texts):\n",
        "    return None"
      ]
    },
    {
      "cell_type": "code",
      "execution_count": 12,
      "metadata": {
        "colab": {
          "base_uri": "https://localhost:8080/"
        },
        "id": "zRhNJs6wZblP",
        "outputId": "f5cb66b6-ea5e-46b9-afe6-e8abd99092a3"
      },
      "outputs": [
        {
          "name": "stderr",
          "output_type": "stream",
          "text": [
            "/usr/local/lib/python3.10/dist-packages/ipykernel/ipkernel.py:283: DeprecationWarning: `should_run_async` will not call `transform_cell` automatically in the future. Please pass the result to `transformed_cell` argument and any exception that happen during thetransform in `preprocessing_exc_tuple` in IPython 7.17 and above.\n",
            "  and should_run_async(code)\n"
          ]
        }
      ],
      "source": []
    },
    {
      "cell_type": "markdown",
      "metadata": {
        "id": "7ja1cMGSZblP"
      },
      "source": [
        "### Bigrams\n",
        "- Use **gensim.models.Phrases**\n",
        "- 100 as threshold\n",
        "1. We import the Phrases model from gensim.models.\n",
        "We create a Phrases model bigram_model by passing the tokenized text (df['tokens_no_stopwords']) as input, along with min_count=1 to consider all words and threshold=100 to identify candidate bigrams with a score greater than or equal to 100.\n",
        "2. We apply the bigram model to the tokenized text using the bigram_model[] syntax, and store the result in a new column 'tokens_bigrams' in the DataFrame.\n",
        "3. Finally, we display the first few rows of the DataFrame with the original tokenized text and the tokenized text with bigrams."
      ]
    },
    {
      "cell_type": "code",
      "execution_count": 13,
      "metadata": {
        "colab": {
          "base_uri": "https://localhost:8080/"
        },
        "id": "70XUmpdiZblP",
        "outputId": "61e087ca-2bc3-4127-eaa3-a4174dbbc733"
      },
      "outputs": [
        {
          "name": "stderr",
          "output_type": "stream",
          "text": [
            "/usr/local/lib/python3.10/dist-packages/ipykernel/ipkernel.py:283: DeprecationWarning: `should_run_async` will not call `transform_cell` automatically in the future. Please pass the result to `transformed_cell` argument and any exception that happen during thetransform in `preprocessing_exc_tuple` in IPython 7.17 and above.\n",
            "  and should_run_async(code)\n"
          ]
        },
        {
          "name": "stdout",
          "output_type": "stream",
          "text": [
            "                                 tokens_no_stopwords  \\\n",
            "0  [wheres, thing, car, nntp, posting, host, rac,...   \n",
            "1  [guy, kuo, si, clock, poll, final, callsummary...   \n",
            "2  [thomas, willis, pb, questions, organization, ...   \n",
            "3  [jgreen, amber, joe, green, weitek, organizati...   \n",
            "4  [jonathan, mcdowell, shuttle, launch, smithson...   \n",
            "\n",
            "                                      tokens_bigrams  \n",
            "0  [wheres, thing, car, nntp_posting, host_rac, w...  \n",
            "1  [guy_kuo, si, clock, poll, final, callsummary,...  \n",
            "2  [thomas, willis, pb, questions, organization, ...  \n",
            "3  [jgreen_amber, joe, green, weitek, organizatio...  \n",
            "4  [jonathan_mcdowell, shuttle_launch, smithsonia...  \n"
          ]
        }
      ],
      "source": [
        "from gensim.models import Phrases\n",
        "\n",
        "# Create bigrams from the tokenized text\n",
        "bigram_model = Phrases(df['tokens_no_stopwords'], min_count=1, threshold=100)\n",
        "\n",
        "# Apply the bigram model to the tokenized text\n",
        "df['tokens_bigrams'] = list(bigram_model[df['tokens_no_stopwords']])\n",
        "\n",
        "# Display the first few rows of the DataFrame with the tokenized text and bigrams\n",
        "print(df[['tokens_no_stopwords', 'tokens_bigrams']].head())\n"
      ]
    },
    {
      "cell_type": "markdown",
      "metadata": {
        "id": "2NNO9uZzZblP"
      },
      "source": [
        "#### make_bigrams( )"
      ]
    },
    {
      "cell_type": "code",
      "execution_count": 14,
      "metadata": {
        "colab": {
          "base_uri": "https://localhost:8080/"
        },
        "id": "k150wHveZblP",
        "outputId": "f2ac1017-5f5d-495d-a2a8-8f9c29e75abe"
      },
      "outputs": [
        {
          "name": "stderr",
          "output_type": "stream",
          "text": [
            "/usr/local/lib/python3.10/dist-packages/ipykernel/ipkernel.py:283: DeprecationWarning: `should_run_async` will not call `transform_cell` automatically in the future. Please pass the result to `transformed_cell` argument and any exception that happen during thetransform in `preprocessing_exc_tuple` in IPython 7.17 and above.\n",
            "  and should_run_async(code)\n"
          ]
        }
      ],
      "source": [
        "def make_bigrams(texts):\n",
        "    return None"
      ]
    },
    {
      "cell_type": "markdown",
      "metadata": {
        "id": "y3NVCvA0ZblP"
      },
      "source": [
        "### Lemmatization\n",
        "- Use spacy\n",
        "    - Download spacy en model (if you have not done that before)\n",
        "    - Load the spacy model"
      ]
    },
    {
      "cell_type": "code",
      "execution_count": 15,
      "metadata": {
        "colab": {
          "base_uri": "https://localhost:8080/"
        },
        "id": "YmC55noTZblP",
        "outputId": "19d05336-b738-4fd6-fb10-f1ede4de3409"
      },
      "outputs": [
        {
          "name": "stderr",
          "output_type": "stream",
          "text": [
            "/usr/local/lib/python3.10/dist-packages/ipykernel/ipkernel.py:283: DeprecationWarning: `should_run_async` will not call `transform_cell` automatically in the future. Please pass the result to `transformed_cell` argument and any exception that happen during thetransform in `preprocessing_exc_tuple` in IPython 7.17 and above.\n",
            "  and should_run_async(code)\n"
          ]
        },
        {
          "name": "stdout",
          "output_type": "stream",
          "text": [
            "Collecting en-core-web-sm==3.7.1\n",
            "  Downloading https://github.com/explosion/spacy-models/releases/download/en_core_web_sm-3.7.1/en_core_web_sm-3.7.1-py3-none-any.whl (12.8 MB)\n",
            "\u001b[2K     \u001b[90m━━━━━━━━━━━━━━━━━━━━━━━━━━━━━━━━━━━━━━━━\u001b[0m \u001b[32m12.8/12.8 MB\u001b[0m \u001b[31m67.0 MB/s\u001b[0m eta \u001b[36m0:00:00\u001b[0m\n",
            "\u001b[?25hRequirement already satisfied: spacy<3.8.0,>=3.7.2 in /usr/local/lib/python3.10/dist-packages (from en-core-web-sm==3.7.1) (3.7.4)\n",
            "Requirement already satisfied: spacy-legacy<3.1.0,>=3.0.11 in /usr/local/lib/python3.10/dist-packages (from spacy<3.8.0,>=3.7.2->en-core-web-sm==3.7.1) (3.0.12)\n",
            "Requirement already satisfied: spacy-loggers<2.0.0,>=1.0.0 in /usr/local/lib/python3.10/dist-packages (from spacy<3.8.0,>=3.7.2->en-core-web-sm==3.7.1) (1.0.5)\n",
            "Requirement already satisfied: murmurhash<1.1.0,>=0.28.0 in /usr/local/lib/python3.10/dist-packages (from spacy<3.8.0,>=3.7.2->en-core-web-sm==3.7.1) (1.0.10)\n",
            "Requirement already satisfied: cymem<2.1.0,>=2.0.2 in /usr/local/lib/python3.10/dist-packages (from spacy<3.8.0,>=3.7.2->en-core-web-sm==3.7.1) (2.0.8)\n",
            "Requirement already satisfied: preshed<3.1.0,>=3.0.2 in /usr/local/lib/python3.10/dist-packages (from spacy<3.8.0,>=3.7.2->en-core-web-sm==3.7.1) (3.0.9)\n",
            "Requirement already satisfied: thinc<8.3.0,>=8.2.2 in /usr/local/lib/python3.10/dist-packages (from spacy<3.8.0,>=3.7.2->en-core-web-sm==3.7.1) (8.2.3)\n",
            "Requirement already satisfied: wasabi<1.2.0,>=0.9.1 in /usr/local/lib/python3.10/dist-packages (from spacy<3.8.0,>=3.7.2->en-core-web-sm==3.7.1) (1.1.2)\n",
            "Requirement already satisfied: srsly<3.0.0,>=2.4.3 in /usr/local/lib/python3.10/dist-packages (from spacy<3.8.0,>=3.7.2->en-core-web-sm==3.7.1) (2.4.8)\n",
            "Requirement already satisfied: catalogue<2.1.0,>=2.0.6 in /usr/local/lib/python3.10/dist-packages (from spacy<3.8.0,>=3.7.2->en-core-web-sm==3.7.1) (2.0.10)\n",
            "Requirement already satisfied: weasel<0.4.0,>=0.1.0 in /usr/local/lib/python3.10/dist-packages (from spacy<3.8.0,>=3.7.2->en-core-web-sm==3.7.1) (0.3.4)\n",
            "Requirement already satisfied: typer<0.10.0,>=0.3.0 in /usr/local/lib/python3.10/dist-packages (from spacy<3.8.0,>=3.7.2->en-core-web-sm==3.7.1) (0.9.0)\n",
            "Requirement already satisfied: smart-open<7.0.0,>=5.2.1 in /usr/local/lib/python3.10/dist-packages (from spacy<3.8.0,>=3.7.2->en-core-web-sm==3.7.1) (6.4.0)\n",
            "Requirement already satisfied: tqdm<5.0.0,>=4.38.0 in /usr/local/lib/python3.10/dist-packages (from spacy<3.8.0,>=3.7.2->en-core-web-sm==3.7.1) (4.66.2)\n",
            "Requirement already satisfied: requests<3.0.0,>=2.13.0 in /usr/local/lib/python3.10/dist-packages (from spacy<3.8.0,>=3.7.2->en-core-web-sm==3.7.1) (2.31.0)\n",
            "Requirement already satisfied: pydantic!=1.8,!=1.8.1,<3.0.0,>=1.7.4 in /usr/local/lib/python3.10/dist-packages (from spacy<3.8.0,>=3.7.2->en-core-web-sm==3.7.1) (2.6.4)\n",
            "Requirement already satisfied: jinja2 in /usr/local/lib/python3.10/dist-packages (from spacy<3.8.0,>=3.7.2->en-core-web-sm==3.7.1) (3.1.3)\n",
            "Requirement already satisfied: setuptools in /usr/local/lib/python3.10/dist-packages (from spacy<3.8.0,>=3.7.2->en-core-web-sm==3.7.1) (67.7.2)\n",
            "Requirement already satisfied: packaging>=20.0 in /usr/local/lib/python3.10/dist-packages (from spacy<3.8.0,>=3.7.2->en-core-web-sm==3.7.1) (24.0)\n",
            "Requirement already satisfied: langcodes<4.0.0,>=3.2.0 in /usr/local/lib/python3.10/dist-packages (from spacy<3.8.0,>=3.7.2->en-core-web-sm==3.7.1) (3.3.0)\n",
            "Requirement already satisfied: numpy>=1.19.0 in /usr/local/lib/python3.10/dist-packages (from spacy<3.8.0,>=3.7.2->en-core-web-sm==3.7.1) (1.25.2)\n",
            "Requirement already satisfied: annotated-types>=0.4.0 in /usr/local/lib/python3.10/dist-packages (from pydantic!=1.8,!=1.8.1,<3.0.0,>=1.7.4->spacy<3.8.0,>=3.7.2->en-core-web-sm==3.7.1) (0.6.0)\n",
            "Requirement already satisfied: pydantic-core==2.16.3 in /usr/local/lib/python3.10/dist-packages (from pydantic!=1.8,!=1.8.1,<3.0.0,>=1.7.4->spacy<3.8.0,>=3.7.2->en-core-web-sm==3.7.1) (2.16.3)\n",
            "Requirement already satisfied: typing-extensions>=4.6.1 in /usr/local/lib/python3.10/dist-packages (from pydantic!=1.8,!=1.8.1,<3.0.0,>=1.7.4->spacy<3.8.0,>=3.7.2->en-core-web-sm==3.7.1) (4.10.0)\n",
            "Requirement already satisfied: charset-normalizer<4,>=2 in /usr/local/lib/python3.10/dist-packages (from requests<3.0.0,>=2.13.0->spacy<3.8.0,>=3.7.2->en-core-web-sm==3.7.1) (3.3.2)\n",
            "Requirement already satisfied: idna<4,>=2.5 in /usr/local/lib/python3.10/dist-packages (from requests<3.0.0,>=2.13.0->spacy<3.8.0,>=3.7.2->en-core-web-sm==3.7.1) (3.6)\n",
            "Requirement already satisfied: urllib3<3,>=1.21.1 in /usr/local/lib/python3.10/dist-packages (from requests<3.0.0,>=2.13.0->spacy<3.8.0,>=3.7.2->en-core-web-sm==3.7.1) (2.0.7)\n",
            "Requirement already satisfied: certifi>=2017.4.17 in /usr/local/lib/python3.10/dist-packages (from requests<3.0.0,>=2.13.0->spacy<3.8.0,>=3.7.2->en-core-web-sm==3.7.1) (2024.2.2)\n",
            "Requirement already satisfied: blis<0.8.0,>=0.7.8 in /usr/local/lib/python3.10/dist-packages (from thinc<8.3.0,>=8.2.2->spacy<3.8.0,>=3.7.2->en-core-web-sm==3.7.1) (0.7.11)\n",
            "Requirement already satisfied: confection<1.0.0,>=0.0.1 in /usr/local/lib/python3.10/dist-packages (from thinc<8.3.0,>=8.2.2->spacy<3.8.0,>=3.7.2->en-core-web-sm==3.7.1) (0.1.4)\n",
            "Requirement already satisfied: click<9.0.0,>=7.1.1 in /usr/local/lib/python3.10/dist-packages (from typer<0.10.0,>=0.3.0->spacy<3.8.0,>=3.7.2->en-core-web-sm==3.7.1) (8.1.7)\n",
            "Requirement already satisfied: cloudpathlib<0.17.0,>=0.7.0 in /usr/local/lib/python3.10/dist-packages (from weasel<0.4.0,>=0.1.0->spacy<3.8.0,>=3.7.2->en-core-web-sm==3.7.1) (0.16.0)\n",
            "Requirement already satisfied: MarkupSafe>=2.0 in /usr/local/lib/python3.10/dist-packages (from jinja2->spacy<3.8.0,>=3.7.2->en-core-web-sm==3.7.1) (2.1.5)\n",
            "\u001b[38;5;2m✔ Download and installation successful\u001b[0m\n",
            "You can now load the package via spacy.load('en_core_web_sm')\n",
            "\u001b[38;5;3m⚠ Restart to reload dependencies\u001b[0m\n",
            "If you are in a Jupyter or Colab notebook, you may need to restart Python in\n",
            "order to load all the package's dependencies. You can do this by selecting the\n",
            "'Restart kernel' or 'Restart runtime' option.\n"
          ]
        }
      ],
      "source": [
        "!python -m spacy download en_core_web_sm\n"
      ]
    },
    {
      "cell_type": "code",
      "execution_count": 16,
      "metadata": {
        "colab": {
          "base_uri": "https://localhost:8080/"
        },
        "id": "8cn_iQziZblP",
        "outputId": "36a89e73-3a65-4988-ff1d-a6c31c8bfcb7"
      },
      "outputs": [
        {
          "name": "stderr",
          "output_type": "stream",
          "text": [
            "/usr/local/lib/python3.10/dist-packages/ipykernel/ipkernel.py:283: DeprecationWarning: `should_run_async` will not call `transform_cell` automatically in the future. Please pass the result to `transformed_cell` argument and any exception that happen during thetransform in `preprocessing_exc_tuple` in IPython 7.17 and above.\n",
            "  and should_run_async(code)\n"
          ]
        },
        {
          "name": "stdout",
          "output_type": "stream",
          "text": [
            "                                      tokens_bigrams  \\\n",
            "0  [wheres, thing, car, nntp_posting, host_rac, w...   \n",
            "1  [guy_kuo, si, clock, poll, final, callsummary,...   \n",
            "2  [thomas, willis, pb, questions, organization, ...   \n",
            "3  [jgreen_amber, joe, green, weitek, organizatio...   \n",
            "4  [jonathan_mcdowell, shuttle_launch, smithsonia...   \n",
            "\n",
            "                                   tokens_lemmatized  \n",
            "0  [where, s, thing, car, nntp_poste, host_rac, w...  \n",
            "1  [guy_kuo, si, clock, poll, final, callsummary,...  \n",
            "2  [thomas, willis, pb, question, organization, p...  \n",
            "3  [jgreen_amber, joe, green, weitek, organizatio...  \n",
            "4  [jonathan_mcdowell, shuttle_launch, smithsonia...  \n"
          ]
        }
      ],
      "source": [
        "import spacy\n",
        "\n",
        "# Load the English model\n",
        "nlp = spacy.load(\"en_core_web_sm\")\n",
        "\n",
        "# Function to perform lemmatization on text\n",
        "def lemmatize_text(text):\n",
        "    doc = nlp(text)\n",
        "    lemmatized_text = [token.lemma_ for token in doc]\n",
        "    return lemmatized_text\n",
        "\n",
        "# Apply lemmatization to the 'tokens_bigrams' column and create a new column 'tokens_lemmatized'\n",
        "df['tokens_lemmatized'] = df['tokens_bigrams'].apply(lambda x: lemmatize_text(\" \".join(x)))\n",
        "\n",
        "# Display the first few rows of the DataFrame with the lemmatized text\n",
        "print(df[['tokens_bigrams', 'tokens_lemmatized']].head())\n"
      ]
    },
    {
      "cell_type": "markdown",
      "metadata": {
        "id": "32dqZ1yiZblY"
      },
      "source": [
        "#### lemmatizaton( )"
      ]
    },
    {
      "cell_type": "code",
      "execution_count": 17,
      "metadata": {
        "colab": {
          "base_uri": "https://localhost:8080/"
        },
        "id": "PTLX2UzeZblY",
        "outputId": "75b06116-856d-44b2-d4ff-e953b234514e"
      },
      "outputs": [
        {
          "name": "stderr",
          "output_type": "stream",
          "text": [
            "/usr/local/lib/python3.10/dist-packages/ipykernel/ipkernel.py:283: DeprecationWarning: `should_run_async` will not call `transform_cell` automatically in the future. Please pass the result to `transformed_cell` argument and any exception that happen during thetransform in `preprocessing_exc_tuple` in IPython 7.17 and above.\n",
            "  and should_run_async(code)\n"
          ]
        }
      ],
      "source": [
        "def lemmatization(texts, allowed_postags=['NOUN', 'ADJ', 'VERB', 'ADV']):\n",
        "    \"\"\"https://spacy.io/api/annotation\"\"\"\n",
        "    texts_out = []\n",
        "    for sent in texts:\n",
        "        doc = nlp(\" \".join(sent))\n",
        "        texts_out.append([token.lemma_ for token in doc if token.pos_ in allowed_postags])\n",
        "    return texts_out"
      ]
    },
    {
      "cell_type": "code",
      "execution_count": 18,
      "metadata": {
        "colab": {
          "base_uri": "https://localhost:8080/"
        },
        "id": "BzwxClIZZblZ",
        "outputId": "5591e5ad-da82-473a-e55d-7f6f1b9208cb"
      },
      "outputs": [
        {
          "name": "stderr",
          "output_type": "stream",
          "text": [
            "/usr/local/lib/python3.10/dist-packages/ipykernel/ipkernel.py:283: DeprecationWarning: `should_run_async` will not call `transform_cell` automatically in the future. Please pass the result to `transformed_cell` argument and any exception that happen during thetransform in `preprocessing_exc_tuple` in IPython 7.17 and above.\n",
            "  and should_run_async(code)\n"
          ]
        }
      ],
      "source": [
        "data_lemmatized = lemmatization(df['tokens_bigrams'], allowed_postags=['NOUN', 'ADJ', 'VERB', 'ADV'])"
      ]
    },
    {
      "cell_type": "code",
      "execution_count": 19,
      "metadata": {
        "colab": {
          "base_uri": "https://localhost:8080/"
        },
        "id": "Ft7A_Eg4ZblZ",
        "outputId": "afb0987a-03d0-482f-a2d5-c96721514938"
      },
      "outputs": [
        {
          "name": "stdout",
          "output_type": "stream",
          "text": [
            "[['thing', 'car', 'nntp_poste', 'host_rac', 'wam_umd', 'eduorganization', 'university', 'parkline', 'wondering_enlighten', 'car', 'sawthe', 'day', 'door_sport', 'car', 'look', 'late_early', 'door', 'small', 'addition_bumper', 'separate', 'rest', 'body', 'know', 'tellme_model', 'engine', 'spec', 'yearsof', 'production', 'car', 'history', 'info', 'youhave', 'funky_looke', 'car', 'mail', 'thank', 'lerxst']]\n"
          ]
        },
        {
          "name": "stderr",
          "output_type": "stream",
          "text": [
            "/usr/local/lib/python3.10/dist-packages/ipykernel/ipkernel.py:283: DeprecationWarning: `should_run_async` will not call `transform_cell` automatically in the future. Please pass the result to `transformed_cell` argument and any exception that happen during thetransform in `preprocessing_exc_tuple` in IPython 7.17 and above.\n",
            "  and should_run_async(code)\n"
          ]
        }
      ],
      "source": [
        "print(data_lemmatized[:1])"
      ]
    },
    {
      "cell_type": "markdown",
      "metadata": {
        "id": "Zk81VQMUZblZ"
      },
      "source": [
        "### Create a Dictionary"
      ]
    },
    {
      "cell_type": "code",
      "execution_count": 20,
      "metadata": {
        "colab": {
          "base_uri": "https://localhost:8080/"
        },
        "id": "jlyuVcgfZblZ",
        "outputId": "ce50fd2e-3544-4588-9df0-166c3a157610"
      },
      "outputs": [
        {
          "name": "stderr",
          "output_type": "stream",
          "text": [
            "/usr/local/lib/python3.10/dist-packages/ipykernel/ipkernel.py:283: DeprecationWarning: `should_run_async` will not call `transform_cell` automatically in the future. Please pass the result to `transformed_cell` argument and any exception that happen during thetransform in `preprocessing_exc_tuple` in IPython 7.17 and above.\n",
            "  and should_run_async(code)\n"
          ]
        },
        {
          "name": "stdout",
          "output_type": "stream",
          "text": [
            "Dictionary<122634 unique tokens: ['addition_bumper', 'body', 'car', 'day', 'door']...>\n"
          ]
        }
      ],
      "source": [
        "from gensim import corpora\n",
        "\n",
        "# Create a dictionary from the lemmatized data\n",
        "dictionary = corpora.Dictionary(data_lemmatized)\n",
        "\n",
        "# Print the dictionary\n",
        "print(dictionary)\n"
      ]
    },
    {
      "cell_type": "markdown",
      "metadata": {
        "id": "at66gHC-ZblZ"
      },
      "source": [
        "### Create Corpus"
      ]
    },
    {
      "cell_type": "code",
      "execution_count": 21,
      "metadata": {
        "colab": {
          "base_uri": "https://localhost:8080/"
        },
        "id": "f7hsGXPHZblZ",
        "outputId": "d801ac02-ac1f-4d90-ffb1-69df976a2f3d"
      },
      "outputs": [
        {
          "name": "stderr",
          "output_type": "stream",
          "text": [
            "/usr/local/lib/python3.10/dist-packages/ipykernel/ipkernel.py:283: DeprecationWarning: `should_run_async` will not call `transform_cell` automatically in the future. Please pass the result to `transformed_cell` argument and any exception that happen during thetransform in `preprocessing_exc_tuple` in IPython 7.17 and above.\n",
            "  and should_run_async(code)\n"
          ]
        },
        {
          "name": "stdout",
          "output_type": "stream",
          "text": [
            "[[(0, 1), (1, 1), (2, 5), (3, 1), (4, 1), (5, 1), (6, 1), (7, 1), (8, 1), (9, 1), (10, 1), (11, 1), (12, 1), (13, 1), (14, 1), (15, 1), (16, 1), (17, 1), (18, 1), (19, 1), (20, 1), (21, 1), (22, 1), (23, 1), (24, 1), (25, 1), (26, 1), (27, 1), (28, 1), (29, 1), (30, 1), (31, 1), (32, 1)]]\n"
          ]
        }
      ],
      "source": [
        "# Create a corpus from the lemmatized data\n",
        "corpus = [dictionary.doc2bow(text) for text in data_lemmatized]\n",
        "\n",
        "# Print the first few elements of the corpus\n",
        "print(corpus[:1])\n"
      ]
    },
    {
      "cell_type": "markdown",
      "metadata": {
        "id": "Dmcsi_7hZbla"
      },
      "source": [
        "### Filter low-frequency words"
      ]
    },
    {
      "cell_type": "code",
      "execution_count": 22,
      "metadata": {
        "colab": {
          "base_uri": "https://localhost:8080/"
        },
        "id": "Rj8unH-ZZbla",
        "outputId": "e0904921-0ee2-43ef-de81-86cfda3e24ea"
      },
      "outputs": [
        {
          "name": "stderr",
          "output_type": "stream",
          "text": [
            "/usr/local/lib/python3.10/dist-packages/ipykernel/ipkernel.py:283: DeprecationWarning: `should_run_async` will not call `transform_cell` automatically in the future. Please pass the result to `transformed_cell` argument and any exception that happen during thetransform in `preprocessing_exc_tuple` in IPython 7.17 and above.\n",
            "  and should_run_async(code)\n"
          ]
        },
        {
          "name": "stdout",
          "output_type": "stream",
          "text": [
            "[[(0, 1), (1, 5), (2, 1), (3, 1), (4, 1), (5, 1), (6, 1), (7, 1), (8, 1), (9, 1), (10, 1), (11, 1), (12, 1), (13, 1), (14, 1), (15, 1), (16, 1), (17, 1), (18, 1), (19, 1), (20, 1), (21, 1), (22, 1), (23, 1)]]\n"
          ]
        }
      ],
      "source": [
        "# Filter out tokens that appear in less than 5 documents or more than 50% of the documents\n",
        "dictionary.filter_extremes(no_below=5, no_above=0.5)\n",
        "\n",
        "# Re-create the corpus after filtering\n",
        "corpus = [dictionary.doc2bow(text) for text in data_lemmatized]\n",
        "\n",
        "# Print the first few elements of the filtered corpus\n",
        "print(corpus[:1])\n"
      ]
    },
    {
      "cell_type": "markdown",
      "metadata": {
        "id": "DEKuM0jqZbla"
      },
      "source": [
        "### Create Index 2 word dictionary"
      ]
    },
    {
      "cell_type": "code",
      "execution_count": 23,
      "metadata": {
        "colab": {
          "base_uri": "https://localhost:8080/"
        },
        "id": "kXpNz-pBZbla",
        "outputId": "3d13fb32-205f-443e-c380-41b1fd4de3c6"
      },
      "outputs": [
        {
          "name": "stdout",
          "output_type": "stream",
          "text": [
            "{0: 'body', 1: 'car', 2: 'day', 3: 'door', 4: 'eduorganization', 5: 'engine', 6: 'history', 7: 'info', 8: 'know', 9: 'late_early'}\n"
          ]
        },
        {
          "name": "stderr",
          "output_type": "stream",
          "text": [
            "/usr/local/lib/python3.10/dist-packages/ipykernel/ipkernel.py:283: DeprecationWarning: `should_run_async` will not call `transform_cell` automatically in the future. Please pass the result to `transformed_cell` argument and any exception that happen during thetransform in `preprocessing_exc_tuple` in IPython 7.17 and above.\n",
            "  and should_run_async(code)\n"
          ]
        }
      ],
      "source": [
        "# Create index to word dictionary\n",
        "id2word = {v: k for k, v in dictionary.token2id.items()}\n",
        "\n",
        "# Print the first few elements of the index to word dictionary\n",
        "print(dict(list(id2word.items())[:10]))"
      ]
    },
    {
      "cell_type": "code",
      "execution_count": null,
      "metadata": {
        "id": "hYtEcFLRZbla"
      },
      "outputs": [],
      "source": []
    },
    {
      "cell_type": "markdown",
      "metadata": {
        "id": "DKMEG47TZbla"
      },
      "source": [
        "### Build a News Topic Model\n",
        "\n",
        "#### LdaModel\n",
        "- **num_topics** : this is the number of topics you need to define beforehand\n",
        "- **chunksize** : the number of documents to be used in each training chunk\n",
        "- **alpha** : this is the hyperparameters that affect the sparsity of the topics\n",
        "- **passess** : total number of training assess\n",
        "1. We import the necessary libraries, including LdaModel from Gensim and visualization tools like pyLDAvis.\n",
        "2. We define the parameters for the LDA model, including the number of topics, chunk size, alpha value, and number of passes.\n",
        "3. We train the LDA model on the corpus using the LdaModel class.\n",
        "We print the topics generated by the model.\n",
        "4. Optionally, we visualize the topics using pyLDAvis."
      ]
    },
    {
      "cell_type": "code",
      "execution_count": 25,
      "metadata": {
        "colab": {
          "base_uri": "https://localhost:8080/",
          "height": 1000
        },
        "id": "QlCgg2SsZbla",
        "outputId": "a731e2b9-9c88-473f-85a4-28db51538b5f"
      },
      "outputs": [
        {
          "name": "stderr",
          "output_type": "stream",
          "text": [
            "/usr/local/lib/python3.10/dist-packages/ipykernel/ipkernel.py:283: DeprecationWarning: `should_run_async` will not call `transform_cell` automatically in the future. Please pass the result to `transformed_cell` argument and any exception that happen during thetransform in `preprocessing_exc_tuple` in IPython 7.17 and above.\n",
            "  and should_run_async(code)\n"
          ]
        },
        {
          "name": "stdout",
          "output_type": "stream",
          "text": [
            "Topic 0: 0.021*\"window\" + 0.017*\"key\" + 0.014*\"drive\" + 0.014*\"bit\" + 0.013*\"run\" + 0.013*\"card\" + 0.011*\"chip\" + 0.011*\"software\" + 0.010*\"problem\" + 0.009*\"machine\"\n",
            "Topic 1: 0.020*\"think\" + 0.018*\"know\" + 0.018*\"people\" + 0.018*\"say\" + 0.014*\"go\" + 0.014*\"time\" + 0.013*\"come\" + 0.012*\"article\" + 0.012*\"thing\" + 0.010*\"s\"\n",
            "Topic 2: 0.029*\"game\" + 0.028*\"team\" + 0.023*\"year\" + 0.020*\"play\" + 0.015*\"good\" + 0.014*\"win\" + 0.014*\"player\" + 0.011*\"season\" + 0.008*\"hockey\" + 0.008*\"well\"\n",
            "Topic 3: 0.017*\"space\" + 0.010*\"year\" + 0.009*\"program\" + 0.007*\"new\" + 0.006*\"information\" + 0.006*\"research\" + 0.005*\"technology\" + 0.005*\"service\" + 0.005*\"datum\" + 0.005*\"include\"\n",
            "Topic 4: 0.879*\"ax\" + 0.060*\"max\" + 0.002*\"ei\" + 0.001*\"rlk\" + 0.001*\"tm\" + 0.001*\"resistor\" + 0.001*\"pl_pl\" + 0.001*\"bj\" + 0.001*\"wm\" + 0.001*\"bhj_bhj\"\n",
            "Topic 5: 0.020*\"article\" + 0.019*\"organization\" + 0.019*\"nntp_poste\" + 0.018*\"line\" + 0.014*\"host\" + 0.013*\"good\" + 0.012*\"know\" + 0.012*\"car\" + 0.011*\"need\" + 0.011*\"look\"\n",
            "Topic 6: 0.017*\"drug\" + 0.013*\"health\" + 0.013*\"rate\" + 0.012*\"child\" + 0.012*\"patient\" + 0.010*\"disease\" + 0.010*\"m\" + 0.010*\"_\" + 0.009*\"age\" + 0.009*\"study\"\n",
            "Topic 7: 0.041*\"file\" + 0.018*\"image\" + 0.017*\"program\" + 0.012*\"information\" + 0.012*\"list\" + 0.012*\"available\" + 0.011*\"include\" + 0.011*\"server\" + 0.011*\"send\" + 0.010*\"source\"\n",
            "Topic 8: 0.012*\"people\" + 0.009*\"law\" + 0.008*\"right\" + 0.008*\"state\" + 0.007*\"believe\" + 0.007*\"mean\" + 0.007*\"gun\" + 0.007*\"question\" + 0.006*\"government\" + 0.006*\"claim\"\n",
            "Topic 9: 0.014*\"armenian\" + 0.013*\"war\" + 0.013*\"people\" + 0.010*\"government\" + 0.009*\"israeli\" + 0.009*\"kill\" + 0.008*\"year\" + 0.007*\"turkish\" + 0.007*\"jewish\" + 0.007*\"attack\"\n"
          ]
        },
        {
          "data": {
            "text/html": [
              "\n",
              "<link rel=\"stylesheet\" type=\"text/css\" href=\"https://cdn.jsdelivr.net/gh/bmabey/pyLDAvis@3.4.0/pyLDAvis/js/ldavis.v1.0.0.css\">\n",
              "\n",
              "\n",
              "<div id=\"ldavis_el2061382434774193124219956537\" style=\"background-color:white;\"></div>\n",
              "<script type=\"text/javascript\">\n",
              "\n",
              "var ldavis_el2061382434774193124219956537_data = {\"mdsDat\": {\"x\": [0.10061230496299896, 0.11737594839229622, 0.029220512493363274, 0.06885190202072826, -0.4713966899399168, 0.13165268707526165, -0.15049337766698825, 0.08394024767805251, 0.1142203471830709, -0.023983882198866758], \"y\": [-0.21880413844706342, 0.14133049180758062, 0.15242349647669381, -0.06523762700678801, -0.10417811162200315, -0.022039020773182573, 0.12999598860488107, -0.24690283545827815, 0.03720906513453834, 0.19620269128362228], \"topics\": [1, 2, 3, 4, 5, 6, 7, 8, 9, 10], \"cluster\": [1, 1, 1, 1, 1, 1, 1, 1, 1, 1], \"Freq\": [10.10428080056017, 21.544976602194904, 5.766686334578935, 7.662192356945758, 8.116854313847318, 16.492101744492917, 2.4280950488077284, 5.601871273175403, 17.780958630381726, 4.501982895015133]}, \"tinfo\": {\"Term\": [\"ax\", \"max\", \"file\", \"people\", \"nntp_poste\", \"window\", \"year\", \"game\", \"say\", \"team\", \"think\", \"good\", \"article\", \"key\", \"program\", \"know\", \"line\", \"drive\", \"organization\", \"m\", \"go\", \"host\", \"car\", \"play\", \"space\", \"bit\", \"image\", \"government\", \"card\", \"mail\", \"window\", \"machine\", \"disk\", \"mode\", \"scsi\", \"screen\", \"interface\", \"upgrade\", \"mhz\", \"printer\", \"keyboard\", \"ide\", \"mouse\", \"jumper\", \"memory\", \"chip\", \"serial\", \"pc\", \"cpu\", \"ram\", \"modem\", \"controller\", \"documentation\", \"clock\", \"vga\", \"bio\", \"configuration\", \"hard_drive\", \"connector\", \"mac\", \"card\", \"port\", \"do\", \"key\", \"software\", \"color\", \"hardware\", \"bit\", \"device\", \"instal\", \"video\", \"drive\", \"run\", \"driver\", \"datum\", \"bus\", \"set\", \"problem\", \"access\", \"support\", \"work\", \"fast\", \"version\", \"program\", \"application\", \"number\", \"time\", \"love\", \"eye\", \"sin\", \"realize\", \"dog\", \"wife\", \"cop\", \"kid\", \"mother\", \"morning\", \"boy\", \"father\", \"funny\", \"daughter\", \"eternal\", \"koresh\", \"afraid\", \"glad\", \"apartment\", \"joke\", \"complain\", \"prayer\", \"living\", \"forever\", \"suddenly\", \"tomorrow\", \"prophet\", \"wonderful\", \"pray\", \"believer\", \"remember\", \"hell\", \"happen\", \"die\", \"story\", \"day\", \"stay\", \"go\", \"stop\", \"say\", \"tell\", \"hate\", \"come\", \"stand\", \"woman\", \"talk\", \"away\", \"s\", \"see\", \"think\", \"speak\", \"live\", \"job\", \"thing\", \"take\", \"hear\", \"people\", \"hand\", \"start\", \"know\", \"time\", \"maybe\", \"man\", \"bad\", \"way\", \"leave\", \"feel\", \"want\", \"let\", \"article\", \"m\", \"life\", \"right\", \"try\", \"look\", \"believe\", \"get\", \"work\", \"good\", \"game\", \"play\", \"player\", \"season\", \"hockey\", \"baseball\", \"nhl\", \"fan\", \"playoff\", \"score\", \"ice\", \"gordon_bank\", \"pen\", \"stat\", \"league\", \"coach\", \"pitch\", \"ranger\", \"devil\", \"catholic\", \"talent\", \"leafs\", \"verse\", \"power_play\", \"brave\", \"flyer\", \"team\", \"sciencelines_article\", \"scoring\", \"chastity_intellect\", \"urbanaline\", \"university_illinois\", \"win\", \"wing\", \"year\", \"division\", \"cap\", \"goal\", \"lose\", \"hit\", \"king\", \"good\", \"well\", \"point\", \"run\", \"time\", \"great\", \"think\", \"get\", \"second\", \"article\", \"bad\", \"home\", \"launch\", \"mission\", \"orbit\", \"satellite\", \"moon\", \"ripem\", \"energy\", \"cycle\", \"flight\", \"henry_spencer\", \"surveillance\", \"spacecraft\", \"electrical\", \"mar\", \"shuttle\", \"anonymous\", \"space_shuttle\", \"engineer\", \"specification\", \"phase\", \"space_station\", \"japanese\", \"vice_president\", \"solar\", \"derive\", \"lunar\", \"astronomy\", \"regional\", \"thermal\", \"ozone\", \"space\", \"fund\", \"development\", \"rocket\", \"conference\", \"project\", \"develop\", \"probe\", \"laboratory\", \"nuclear\", \"research\", \"material\", \"technology\", \"service\", \"national\", \"program\", \"plan\", \"center\", \"commercial\", \"year\", \"earth\", \"information\", \"report\", \"design\", \"new\", \"datum\", \"cost\", \"public\", \"high\", \"include\", \"provide\", \"base\", \"area\", \"group\", \"available\", \"work\", \"science\", \"large\", \"ax\", \"max\", \"ei\", \"rlk\", \"resistor\", \"pl_pl\", \"bhj_bhj\", \"fq\", \"cx\", \"giz_giz\", \"qax\", \"bhj\", \"spill\", \"eau_claire\", \"qq\", \"lk\", \"midelfort_clinic\", \"wm_wm\", \"giz\", \"rtp_ncline\", \"night_biker\", \"ninjaite_drinke\", \"gp\", \"rust\", \"showed_picture\", \"pmf\", \"bhj_giz\", \"parkline\", \"bh\", \"wam_umd\", \"bj\", \"tm\", \"wm\", \"pl\", \"sl\", \"gq\", \"bike\", \"thanks_advance\", \"buy\", \"dealer\", \"circuit\", \"mile\", \"usaline\", \"motorcycle\", \"gateway\", \"helmet\", \"eduin_article\", \"tire\", \"tin_version\", \"auto\", \"public_access\", \"sale\", \"mph\", \"band\", \"battery\", \"slot\", \"greatly_appreciate\", \"rider\", \"video_card\", \"wheel\", \"distribution_usaorganization\", \"technologyline\", \"communication_service\", \"detector\", \"replacement\", \"gear\", \"car\", \"cheap\", \"nntp_poste\", \"host\", \"price\", \"thank\", \"sell\", \"posting_host\", \"engine\", \"oil\", \"appreciate\", \"version_pl\", \"organization\", \"reply\", \"university\", \"line\", \"interested\", \"ride\", \"wire\", \"mail\", \"replace\", \"advice\", \"article\", \"need\", \"new\", \"model\", \"look\", \"good\", \"phone\", \"power\", \"get\", \"know\", \"help\", \"work\", \"drive\", \"want\", \"problem\", \"post\", \"question\", \"m\", \"try\", \"drug\", \"health\", \"patient\", \"disease\", \"egg\", \"medicine\", \"zone\", \"physician\", \"pitcher\", \"msg\", \"opinions_employer\", \"rk\", \"funding\", \"vat\", \"diagnose\", \"ai\", \"diet\", \"abortion\", \"cancer\", \"cage\", \"steve_dyer\", \"jake_livni\", \"gene\", \"op\", \"c\", \"syndrome\", \"react\", \"sm\", \"sy\", \"infection\", \"tax\", \"medical\", \"_\", \"david_veal\", \"treatment\", \"substance\", \"food\", \"doctor\", \"rate\", \"adult\", \"age\", \"pain\", \"risk\", \"increase\", \"effect\", \"study\", \"child\", \"percent\", \"cause\", \"m\", \"report\", \"eat\", \"low\", \"result\", \"new_york\", \"difference\", \"insurance\", \"problem\", \"case\", \"image\", \"motif\", \"entry\", \"widget\", \"archive\", \"pub\", \"mit\", \"comp\", \"gif\", \"postscript\", \"tar\", \"ftp\", \"public_domain\", \"binary\", \"jpeg\", \"gary_dare\", \"log\", \"deskjet\", \"functionality\", \"openwindow\", \"equation\", \"detection\", \"sci_space\", \"ctrl_key\", \"modification\", \"submission\", \"western_digital\", \"explosion\", \"reserve_universityline\", \"tiff\", \"file\", \"directory\", \"compile\", \"faq\", \"available_anonymous\", \"sun\", \"server\", \"string\", \"library\", \"format\", \"export\", \"client\", \"window_manag\", \"resource\", \"list\", \"program\", \"copy\", \"code\", \"available\", \"version\", \"source\", \"contain\", \"send\", \"information\", \"include\", \"graphic\", \"text\", \"author\", \"mail\", \"user\", \"request\", \"info\", \"email\", \"post\", \"application\", \"line\", \"message\", \"set\", \"number\", \"law\", \"religion\", \"faith\", \"belief\", \"atheist\", \"legal\", \"moral\", \"conclusion\", \"existence\", \"christian\", \"firearm\", \"proof\", \"illegal\", \"atheism\", \"federal\", \"worship\", \"scripture\", \"interpretation\", \"imply\", \"gift\", \"morality\", \"crypto\", \"absolute\", \"assumption\", \"debate\", \"ban\", \"constitution\", \"relationship\", \"amendment\", \"passage\", \"argument\", \"evidence\", \"gun\", \"authority\", \"church\", \"truth\", \"nature\", \"act\", \"religious\", \"bible\", \"objective\", \"claim\", \"human\", \"prove\", \"statement\", \"god\", \"exist\", \"government\", \"issue\", \"encryption\", \"state\", \"discussion\", \"view\", \"public\", \"reason\", \"believe\", \"mean\", \"fact\", \"true\", \"question\", \"example\", \"right\", \"people\", \"case\", \"word\", \"person\", \"point\", \"follow\", \"think\", \"article\", \"post\", \"good\", \"way\", \"armenian\", \"war\", \"israeli\", \"turkish\", \"turk\", \"arab\", \"civilian\", \"village\", \"serdar_argic\", \"troop\", \"nazi\", \"turkey\", \"territory\", \"armenia\", \"wiring\", \"youth\", \"human_right\", \"occupy\", \"relation\", \"massacre\", \"island\", \"marry\", \"islander\", \"capital\", \"greece\", \"mountain_passe\", \"laser\", \"closed_road\", \"proceeded_work\", \"palestinian\", \"german\", \"soldier\", \"greek\", \"pair\", \"jewish\", \"population\", \"city\", \"attack\", \"nation\", \"land\", \"peace\", \"military\", \"kill\", \"history\", \"government\", \"country\", \"force\", \"black\", \"slave\", \"medium\", \"people\", \"year\", \"state\", \"world\", \"report\", \"article\", \"number\", \"area\", \"live\"], \"Freq\": [60576.0, 4113.0, 2174.0, 5513.0, 2760.0, 1813.0, 3358.0, 1408.0, 3831.0, 1367.0, 5358.0, 4077.0, 6222.0, 1663.0, 1922.0, 5821.0, 3811.0, 2155.0, 3687.0, 2261.0, 3001.0, 2022.0, 1652.0, 987.0, 1192.0, 1546.0, 875.0, 1348.0, 1116.0, 1593.0, 1812.412784306315, 753.1390164338998, 609.5965582187775, 436.2795630104272, 423.3755668687671, 398.5050910053886, 266.87750995247427, 248.79447876338722, 247.65274965923487, 216.19776322900108, 195.5334453541867, 193.33715012193483, 191.48439248679585, 186.80919659959144, 528.9116112608419, 925.2165113703686, 165.20996940278988, 569.4800132514258, 153.5343259417582, 146.63715340911926, 145.20886328537006, 213.77825646077903, 138.1295734734056, 137.41803550948538, 137.02069779903067, 135.75697449060002, 128.2896965608448, 127.6757299870327, 127.12301523182656, 124.44707390925805, 1078.6103237223797, 256.02696804403394, 593.7067656643407, 1467.7386922629084, 920.4786652212111, 569.0098965536321, 407.3574371705845, 1184.2137331282638, 414.27154085660516, 290.25866362888075, 329.7406149830496, 1236.8446679207543, 1106.3114087425233, 558.824074723625, 619.9302953993908, 275.1943522045152, 661.5432147037367, 851.6448064310905, 353.9897225117571, 538.2540518859339, 724.8715219026286, 386.19071853441886, 418.63971849581986, 528.4063337017479, 373.8952050708738, 390.76458721223986, 396.5640116839949, 540.186594313187, 316.0069615421844, 311.10505906634734, 291.9194232485929, 227.6293965843264, 194.26846019619515, 193.54915327015638, 193.5290044974443, 168.52255650458852, 160.3291517964394, 144.405710905234, 128.22176299601426, 126.0246096181774, 121.97530267264149, 117.67382723395043, 113.82231265394394, 113.08828817828143, 108.5698513513962, 107.01499867577084, 106.22447883053243, 106.06820869798634, 93.93094796787166, 88.33631961075763, 86.17319657287925, 84.04542973236033, 83.24888761916807, 79.91375456137959, 78.82570486074123, 78.43046091230757, 78.05019010046651, 780.5085036680274, 360.9843895619135, 1086.1243214040887, 526.346858134014, 424.00408509418514, 1621.434018166559, 185.13569883127263, 2622.325197193978, 631.401153326518, 3263.1589153998957, 1794.6534857484992, 177.50526701987397, 2303.9268787754486, 362.68753592676495, 373.96565171050133, 960.6969759343178, 471.805962108999, 1813.1661610772353, 998.7401590974619, 3696.6657665942616, 467.5243692065941, 887.8667023956971, 442.70725791038114, 2120.359887563405, 1145.5442022733996, 830.7982216399324, 3288.6716066318713, 701.1524984447221, 1087.0809834285458, 3293.9292009727105, 2579.8694754047146, 770.3289858721236, 912.3797929924466, 950.1172089451734, 1732.8721516782002, 839.1228596071361, 624.4197952720058, 1639.7561960078358, 910.6265515816979, 2182.477914867354, 1189.4039484782877, 793.4266358353059, 1125.8448366482291, 1039.0584922617743, 1094.9870551364068, 932.3211142814747, 922.8505947371988, 976.8738419546086, 928.2209881269631, 1407.3903915384321, 986.8180398279458, 689.5667253743176, 518.7091476332624, 394.09452461094736, 250.10676274584154, 245.11974881712675, 244.69421638218824, 234.7907875504577, 182.89361706420192, 152.73239525466977, 150.86516960210537, 150.8565613552703, 149.71409307796176, 140.85178324391464, 131.91463296983383, 118.54018798943055, 112.71258730850953, 107.55467402640282, 105.95216051525546, 102.93682276792111, 99.99334962959534, 86.47680586733046, 85.60441990926591, 83.6806534672245, 81.41672445538049, 1352.1400865777125, 79.44502547069717, 71.18024768434415, 70.37218414286247, 116.29074477573748, 134.0759984261747, 696.5436695283637, 190.60235341244072, 1144.5019670720578, 215.16510212833347, 101.69737204348795, 238.81132909344834, 313.6470716467188, 252.80500916505642, 150.577186690105, 747.8566193949783, 380.1367597413664, 318.7454797099749, 304.93632396522617, 371.048252544457, 248.0902210660558, 332.55335846976266, 267.2669094545838, 189.30475426567793, 202.3405701983969, 165.26233131477244, 159.40735526875073, 285.3796814345063, 216.93147907624032, 184.1330545078475, 179.8572366249709, 165.57983707998864, 162.06427502056368, 139.14837324060153, 136.24251259737764, 128.72621485741615, 110.43265000181236, 98.5751875852859, 97.3901207927342, 96.11000687288424, 89.01654310965554, 86.23458913748239, 84.76344170229437, 84.59385211566061, 77.72381121398668, 76.73979166822731, 75.60030174569103, 71.04613697192913, 69.30484602797759, 68.95240358407735, 67.25244011275404, 61.66903493333714, 58.31896076948505, 57.59514674786893, 57.541764166610214, 54.483262290859145, 53.816815133969946, 1119.3131474685447, 173.96022440344353, 204.03177809734512, 101.7232714542624, 120.20102988609439, 244.8619121629422, 270.39377630305853, 106.37112748699401, 111.28972542847774, 93.50205095308341, 363.4589422417029, 191.01850231555625, 353.56198210671255, 333.8588368425928, 243.07980125015018, 596.6172716813816, 244.10274709390012, 224.77810875925863, 167.21496883609473, 650.3626196774762, 202.91946613884664, 381.97413475889573, 267.26112963885043, 234.41783264599835, 467.1957160372485, 312.53152796392953, 243.6495537861017, 278.6001277007241, 290.96228369748286, 304.8534349865525, 258.7544268950237, 265.64750998359926, 231.6509522937904, 265.53355644653556, 254.4368573572485, 286.12454550128996, 210.81016532988383, 213.76707933922108, 60575.64097890697, 4112.679205884932, 108.4091678449777, 68.82823715240238, 59.62240758419273, 51.38766900208854, 41.996654025372635, 41.8614951969878, 41.9667399840393, 40.91740949685532, 40.06787640027738, 34.93439661429453, 26.420860852035755, 24.425745550381222, 24.40318564501409, 24.351644506067114, 23.535088671122665, 22.623956160165523, 22.57775509485249, 21.702536685423688, 21.171562451757037, 21.171562451757037, 21.232710507545843, 21.086526493326247, 19.802631967846583, 19.4908675562494, 18.766565405105734, 18.605017144469027, 18.490893632434872, 16.426826786473118, 50.252692720867195, 62.57700894108409, 49.60960903749865, 39.583197515718204, 29.564836225152256, 22.111206783360014, 517.5218347218614, 304.4817120559351, 1099.2115674741578, 203.1942406532626, 194.31000257804067, 188.13309959387624, 471.1976383327296, 164.21538791873658, 161.01828825346698, 155.5727061661354, 140.43309517014174, 137.24016926422627, 133.65648329065337, 133.91676446725154, 124.00375992622453, 569.004569420243, 121.23239186695072, 118.61001560399639, 110.01896781965517, 109.71007701995401, 108.45547919596987, 104.72121181069846, 103.04822721895695, 100.64798951537813, 100.38255635457718, 95.88449100749854, 94.7785915123793, 90.80968874529118, 89.74923594626436, 88.36795800438314, 1623.3903527208995, 406.85222509976387, 2645.597886130931, 1920.0212560391963, 750.5865787216079, 1294.8543198897144, 722.1729945534253, 1256.0118806103292, 333.04219298888637, 172.8357172335467, 326.7780323482245, 243.82741834054258, 2657.976473795425, 903.5420116977493, 1083.6351627795052, 2577.6691700624583, 563.4811858499507, 284.1191140369147, 244.24495731343114, 1066.5600524017675, 278.57336172508377, 221.18588249917303, 2845.0128039927695, 1549.5238118212665, 1437.5237185825526, 443.80528829901766, 1490.3298610711454, 1758.19078030141, 446.91424990542606, 651.2920611067888, 948.1688249370402, 1675.1140568069927, 767.7902278444551, 1115.1610671260767, 893.4887297134293, 1058.9098123655924, 934.7836439033099, 825.7957658334752, 826.4140691527969, 741.3985692233927, 722.6983012971375, 347.88418910407506, 272.9385241699619, 240.26507564628767, 211.08655721382127, 88.82398431901808, 75.20656530600432, 66.81028380556627, 65.37472206769006, 61.92129427131529, 60.214328168361675, 58.04719787030841, 58.26478127212683, 56.758120750389644, 54.801305551739844, 53.02006258289177, 52.831686811121294, 51.90017752506701, 50.42913360545437, 47.22128225672472, 45.225245109111775, 43.75099910382491, 43.449873430787804, 43.38042129668134, 41.99149863275579, 40.408026460662384, 39.43483725283356, 38.6946033783507, 38.68037402012221, 38.627078736595365, 38.289018661557286, 159.29838547715806, 148.5449752607825, 209.47575929711365, 61.64363935819016, 149.19914168104123, 53.91089049862614, 178.88025794470093, 150.83695809576164, 267.81749144071296, 94.75344046535363, 195.35750912086476, 112.80335257382323, 142.76537864429193, 175.98223118841125, 179.66077952979563, 187.3844022051517, 243.03795702123452, 82.40132056574525, 174.38982966196392, 210.76175915029, 140.6940564778736, 85.88981768123578, 108.31840672263039, 98.88752029917558, 74.14134613959246, 83.96510975243487, 75.60781496528075, 84.28825636548348, 81.51110234248559, 874.8151075758823, 339.95720654415845, 333.7634719634178, 263.4705310615042, 252.18397287481335, 176.5523259182046, 150.58072645065886, 119.23780273870842, 110.73167663695358, 106.66692963719262, 105.29566980242855, 81.16580186859116, 72.10499486708991, 70.75980189462861, 65.45460563041448, 58.87570505434372, 54.83689200745376, 53.98139276050412, 52.56748561182599, 52.37320524995956, 51.961119556806246, 49.591804033750385, 44.59765183614507, 43.4395953435934, 39.886868084932296, 39.42463953970329, 39.27827302798419, 38.78007863673325, 38.393431255028354, 37.774887373324155, 1951.3697201470886, 259.54744336442104, 141.84555309484796, 287.57937161565945, 76.53856553996826, 305.4552250035628, 521.7960937166666, 134.59243066095405, 196.21583331477132, 328.1556686125648, 112.93727542955345, 190.8217483301787, 104.92996950095738, 189.829047784408, 568.7197242942763, 797.1446963908829, 333.8338475075316, 340.7412171305034, 552.4159901198753, 435.04717088627774, 463.7922911483082, 298.9443906702291, 519.9174632019676, 590.5309151985562, 536.013016903098, 290.63276644606026, 232.76643653327937, 220.6489285792625, 435.4161717719708, 297.0334188604699, 225.62716210346878, 289.3985251596486, 283.667248946696, 374.27601673622513, 271.1407343680281, 401.62474620510403, 276.56020505408577, 298.6540278649905, 266.18363344347074, 1347.4265479262444, 691.4236956990306, 526.3767821133372, 434.60433468426123, 408.1365405854526, 315.83833863137414, 273.79921071563416, 271.9182364524624, 252.3613985742834, 252.3693086223025, 244.88111225300827, 204.4650207234796, 192.46579428043356, 192.3751627080192, 174.59075565630553, 164.0885321676999, 160.7355682797125, 143.09222375100603, 143.03972739898597, 141.25326063175788, 139.07638905007627, 135.94672581766795, 135.01505399515224, 134.86050044580136, 129.5569802389009, 128.17610557832305, 121.65623092069967, 119.83465232920905, 116.37552680786318, 113.10892306635985, 609.5723468974242, 798.6414786690359, 1086.4879854608203, 299.9670909493277, 417.47071364990524, 472.10559109663797, 267.62438114154594, 405.6253640076573, 330.32849192928666, 188.0446750858321, 229.98898789264987, 894.6980784167915, 463.5142945863697, 369.42075782233957, 424.7380087448529, 288.4686057016593, 682.1813846589064, 979.6642986610107, 776.0833576377985, 416.01421014132256, 1188.14335235226, 428.0126983132202, 530.7421442583462, 693.2011713783436, 888.7963388560914, 1124.2843042421937, 1093.302368784079, 856.0985909374438, 761.5752748977094, 1081.5584435353203, 611.626006297795, 1198.0254983877066, 1744.1637601104192, 835.3260314123834, 628.5806493123056, 647.7570666144196, 828.8364873944421, 595.8543549092512, 752.3937130263719, 755.4785614422809, 565.0875376014869, 578.3225947912674, 563.5105904284002, 548.5664058120105, 484.60432671120014, 346.3072514327116, 261.7503725961767, 188.75893117588993, 165.38859807410245, 152.42197996798976, 146.566147356663, 118.84114875594497, 100.58170357679023, 97.01605227407208, 93.47969459875102, 92.18005802962378, 85.52369315649612, 84.15527753574398, 82.82226171935474, 82.23721697674456, 73.81633163145631, 73.7215701737627, 71.99251626445951, 70.1870505823242, 70.09776332118156, 64.9520719700703, 62.24328374683239, 58.248887139449856, 58.064780563251674, 57.65597379561845, 57.47961565535135, 57.47961565535135, 56.9124666398399, 133.8866352826664, 192.21552580195376, 217.9082890157712, 101.11485471632379, 257.72887649058373, 159.82108204892577, 230.77081727722214, 257.58597770777203, 132.2901993480182, 188.2968911847233, 162.96603022028654, 171.27723135907195, 338.95067896335365, 226.97589060091087, 367.92333151879626, 232.30966288392764, 225.6483578822052, 172.9836318859, 146.24948956430438, 150.29304267648806, 480.04562945073917, 313.70585634665935, 247.5173903546075, 215.69471975547833, 188.35474854664406, 235.64632364929602, 192.19277450701998, 159.26906940940606, 161.3711074781809], \"Total\": [60576.0, 4113.0, 2174.0, 5513.0, 2760.0, 1813.0, 3358.0, 1408.0, 3831.0, 1367.0, 5358.0, 4077.0, 6222.0, 1663.0, 1922.0, 5821.0, 3811.0, 2155.0, 3687.0, 2261.0, 3001.0, 2022.0, 1652.0, 987.0, 1192.0, 1546.0, 875.0, 1348.0, 1116.0, 1593.0, 1813.3519262560658, 754.0794764715718, 610.5356494292548, 437.21873848169383, 424.31460276252966, 399.4442801598193, 267.8166014317932, 249.73455453441906, 248.5922656409391, 217.13685258187778, 196.472548222756, 194.27620120311164, 192.42360900436702, 187.7482628742472, 531.8084274071941, 930.4686040144336, 166.14905848944247, 572.8364276537516, 154.4733901460002, 147.57691612327451, 146.1479857018579, 215.1815138981243, 139.06888006746976, 138.35715954176624, 137.95975144497228, 136.69602451420155, 129.22883299350983, 128.61479525537752, 128.0621135327963, 125.38618221235316, 1116.3344414839132, 260.3494029689373, 636.8020119566748, 1663.9349920447462, 1042.2341905054534, 649.8572150418186, 452.49531191729204, 1546.639492996515, 511.274407042374, 336.5412456154435, 398.52538805487205, 2155.8294079105794, 2055.6192190514016, 882.3415572319552, 1119.1921939049053, 336.7380777353965, 1404.9066502303626, 2626.9963720223327, 550.7983515005405, 1268.7777433981528, 3166.618841528526, 711.1748438565145, 895.1636915398276, 1922.8982316808833, 742.9283660605912, 1907.3962145321377, 4387.556137307286, 541.1251572530755, 316.9420919655912, 312.04010561129036, 292.98338302402544, 228.56446952888766, 195.20355578385482, 194.48421209488686, 194.50182006583148, 169.4576521246396, 161.26422389115532, 145.34084776994837, 129.1568037769166, 126.9596996198977, 122.9103753049313, 118.60890843951543, 114.75733009729409, 114.02339359292684, 109.50498228862155, 107.94998712111284, 107.15959917966502, 107.00334727673237, 94.86598654047057, 89.27149651344017, 87.10836572043112, 84.98060137613884, 84.18396689370809, 80.84879653998621, 79.76080268845057, 79.36552263605195, 78.98527831333628, 790.2599178231413, 367.329178836657, 1131.6226216432126, 557.0686696157384, 447.527749111935, 1784.7745524332574, 191.02408976073568, 3001.7190074114724, 686.1507222325054, 3831.554586233134, 2146.578873016652, 184.6876595828754, 2831.2729505644465, 396.7437240955413, 411.97181625837624, 1145.0440139962052, 528.9865493943122, 2301.917072183599, 1225.7398065020961, 5358.545908001333, 540.3343298928299, 1116.5315929664296, 509.256387115803, 3022.2648452247927, 1535.7831320993837, 1078.8651490218615, 5513.609530815374, 883.968391130531, 1505.1363219964408, 5821.380470112649, 4387.556137307286, 998.084871364985, 1236.4890324107862, 1341.6857030430144, 3039.2249260733734, 1158.2656147200755, 784.2172084620461, 3086.8894844230017, 1389.237945428278, 6222.536648586012, 2261.6248298477026, 1139.9006183258714, 2768.82671334601, 2406.5417561836703, 2994.2008606115455, 2064.938446049377, 2161.8847755892148, 3166.618841528526, 4077.6680160438686, 1408.3313240119367, 987.8234691043625, 690.5076127627041, 519.650241210759, 395.03539681873133, 251.04764620526956, 246.06061960408505, 245.6351470655884, 235.731650944982, 183.83455232516852, 153.67338771900307, 151.80611059957053, 151.79753841252278, 150.65507982753462, 141.79277464569097, 132.8555637885381, 119.48108705266799, 113.65354308525939, 108.4956915207324, 106.89323948209527, 103.87777868160991, 100.93421123919843, 87.41787907792876, 86.54527998701819, 84.62154912480445, 82.35766228403057, 1367.787652943407, 80.38598019624678, 72.12111096593345, 71.313095349912, 122.27226358310035, 142.49229391011485, 914.6623665611794, 224.78148621951033, 3358.5714669493846, 332.97229776455083, 111.20091268015473, 409.18560401279876, 624.3659225712091, 455.9218620697859, 201.64839258621282, 4077.6680160438686, 1800.1240318998953, 2185.5238328999226, 2055.6192190514016, 4387.556137307286, 1302.3717193688665, 5358.545908001333, 2161.8847755892148, 940.9280815391319, 6222.536648586012, 1341.6857030430144, 782.3748139946175, 286.32062593011716, 217.8724322348267, 185.0739717682882, 180.79815036896093, 166.5208281636805, 163.00556564468, 140.089409148293, 137.1835725973878, 129.66721123529342, 111.37357666181799, 99.51631008243068, 98.33103944858175, 97.0511275891711, 89.95749481182825, 87.17550153919679, 85.70447864908013, 85.53479268707788, 78.66487348943502, 77.68132025517811, 76.541352959454, 71.98704688305847, 70.24586695074021, 69.89340180417652, 68.19340807758626, 62.61027077708428, 59.25986787276553, 58.53625433428178, 58.48281195325487, 55.424277710335666, 54.757786665595816, 1192.1847546621093, 192.910723067474, 247.4249276485225, 112.17245833825461, 137.44229785840312, 321.33476011224917, 372.74857888352534, 120.43626910939315, 130.2142284455963, 104.02484077002387, 683.5300412860526, 284.33276278964155, 705.5351641580318, 654.8403293174504, 421.47777384735133, 1922.8982316808833, 486.34839166635544, 425.50967162520266, 264.90702845204925, 3358.5714669493846, 400.81281808942543, 1571.2298949664043, 770.0405237280798, 600.4742943563258, 2658.731722707169, 1119.1921939049053, 683.0362786367914, 977.007880626565, 1169.4252929391844, 1647.0034048538541, 1041.6784161548596, 1211.682454399601, 701.9307780756966, 1527.2626191043155, 1247.5818749490936, 3166.618841528526, 603.2517257203943, 820.8563203797121, 60576.54994526189, 4113.588161040879, 109.31825366896057, 69.73765509244456, 60.540441367717676, 52.296652574088455, 42.90562002530515, 42.77044414467657, 42.87909930735004, 41.82635850080262, 40.97682531983688, 35.84352802181268, 27.343645754225705, 25.335182004543494, 25.3121430107129, 25.265581639424436, 24.444532881899406, 23.532905135983558, 23.48670878531469, 22.611877952660294, 22.0807922998522, 22.0807922998522, 22.151328252756407, 21.999753894776386, 20.711838491684517, 20.3998164758089, 19.675514352794504, 19.51578370524803, 19.400355961485367, 17.337271655628054, 65.7737260485974, 118.5551158626948, 84.53157892388124, 78.8302331995969, 59.104627070054214, 30.287513917009743, 518.459986551548, 305.41990586753144, 1102.9470580985658, 204.13245660791097, 195.24822226242384, 189.0713752796492, 473.5584378736775, 165.15357744858755, 161.95651315014598, 156.51090043983643, 141.37612467988282, 138.17834135770204, 134.59473561026772, 134.88105997780275, 124.94205273986672, 573.345238754556, 122.17070797208314, 119.54844118142883, 110.95717476416803, 110.64836809670955, 109.39372335792015, 105.65943571698992, 103.98646755843261, 101.58616419902953, 101.32089368782371, 96.82274204145288, 95.71686850639284, 91.74789814645766, 90.68754782135072, 89.30619415422736, 1652.3327250209204, 411.68448739443903, 2760.0647317000994, 2022.2514044309896, 777.206606627113, 1360.4092125105635, 777.4547876365446, 1428.128721185179, 355.9918252369015, 179.31319315579503, 353.2908312141468, 259.63034953317396, 3687.0059314723085, 1113.6039141252988, 1414.4688656575584, 3811.9483845055497, 680.0240054213473, 317.8379524839915, 268.884166100319, 1593.0979030803614, 320.16678044591475, 241.68135248341696, 6222.536648586012, 2870.8709733049814, 2658.731722707169, 584.9989656423005, 2994.2008606115455, 4077.6680160438686, 623.8080603678435, 1089.2965385449463, 2161.8847755892148, 5821.380470112649, 1576.7824566363522, 3166.618841528526, 2155.8294079105794, 3086.8894844230017, 2626.9963720223327, 2040.4362641559542, 2254.395459632885, 2261.6248298477026, 2406.5417561836703, 348.83885891149697, 273.88616677787553, 241.21260494828041, 212.03409296401864, 89.77158810573667, 76.15415466215603, 67.75824432084667, 66.32223831188114, 62.86901732583957, 61.161826137825, 58.994821526465046, 59.21680003274591, 57.70591843218143, 55.749751335105366, 53.967611462105225, 53.7792732369081, 52.84775609103681, 51.37685352434081, 48.168873064198586, 46.17294510105718, 44.69849173095159, 44.39740181656683, 44.32805407477377, 42.939418231479486, 41.3555516106448, 40.38235171837201, 39.64244638655305, 39.62856010388412, 39.57463687336829, 39.23651910312911, 180.974410437917, 172.90267809187796, 259.8531164298424, 67.03722619199797, 191.62620131451965, 58.31814368115021, 248.7587637730531, 220.54733044039753, 554.2750004972953, 132.49651010179957, 391.6084490451678, 191.8461751534685, 295.8789121285794, 472.96769030840875, 497.02576851088907, 539.9632193980115, 920.7601851694575, 136.58775390487705, 774.1622229631085, 2261.6248298477026, 770.0405237280798, 180.96431002334947, 684.6586616104734, 710.0852519841266, 178.0039945435754, 609.7348843956316, 222.79133529934316, 2626.9963720223327, 1669.9908558742977, 875.742596815435, 340.88460796433833, 334.6909248406228, 264.3979144110884, 253.1114390780949, 177.47973803008128, 151.50813971655018, 120.16526221495788, 111.65910476121603, 107.59435305775483, 106.22311534981382, 82.0932266187508, 73.03242987521794, 71.68725086099525, 66.38202958370216, 59.80334988591428, 55.76437304177059, 54.90917943970063, 53.49493184796876, 53.300614080771815, 52.88874956742307, 50.519834569927035, 45.52511516995906, 44.36713627482752, 40.81468675064856, 40.35215917638702, 40.205848633687935, 39.708384376397746, 39.32120656663669, 38.70229405330498, 2174.8568812682493, 276.8157819923564, 154.2481478380809, 325.60296171110446, 81.01403096079521, 362.26364168490545, 649.3255221547695, 150.22860435437372, 240.05409626392066, 449.40143744592325, 136.3604291110966, 276.0475022350895, 128.5075843960702, 276.9116000582409, 1202.7799308203066, 1922.8982316808833, 613.911686391817, 633.1213238648332, 1247.5818749490936, 895.1636915398276, 983.938789355222, 535.1534654525602, 1276.8817330273414, 1571.2298949664043, 1647.0034048538541, 588.7059863934692, 404.9939340307101, 378.39140747914075, 1593.0979030803614, 733.2762317157398, 415.3711474627643, 827.5368710999826, 785.3430709613182, 2040.4362641559542, 742.9283660605912, 3811.9483845055497, 830.7146286395666, 1404.9066502303626, 1907.3962145321377, 1348.3632621323395, 692.3603368493616, 527.3134115088886, 435.5409652824746, 409.07315210768576, 316.77861087300704, 274.73583105835377, 272.8549316765728, 253.29809900465187, 253.3061015845698, 245.81774897229428, 205.40181987479733, 193.40251891076065, 193.31178979730484, 175.5275285517051, 165.02526240202445, 161.67218162945048, 144.0289507248193, 143.97641635271805, 142.19051855704032, 140.01297801502278, 136.88342902354884, 135.95182514212107, 135.79719498698464, 130.4937001436619, 129.11279103731098, 122.59286035826787, 120.77139837941242, 117.3122371290099, 114.04558451962494, 626.030514096944, 830.1193350768222, 1137.5473087351845, 307.6342571466321, 437.16293522044725, 500.57640131256545, 277.1826632033078, 428.8460359010075, 349.22641190549274, 193.24204910093582, 240.95226835053757, 1094.886704795597, 530.571918435514, 415.1359808535707, 490.47622223964464, 317.2091492285977, 865.0713797782284, 1348.420009540423, 1042.382574626396, 495.04927829715655, 1786.4469183424465, 512.8111953669852, 679.5932538150602, 977.007880626565, 1378.7076350549987, 2064.938446049377, 2103.8020564329613, 1487.431292697335, 1289.869474839647, 2254.395459632885, 935.4261005616494, 2768.82671334601, 5513.609530815374, 1669.9908558742977, 1052.5144371625447, 1147.0594525022032, 2185.5238328999226, 1515.9040875024289, 5358.545908001333, 6222.536648586012, 2040.4362641559542, 4077.6680160438686, 3039.2249260733734, 549.5007624385695, 485.53876429971706, 347.24161308270806, 262.68471345405885, 189.69328483046266, 166.32295220728722, 153.35640543952167, 147.50050629442114, 119.77548345544957, 101.51608431592679, 97.95041602105275, 94.41404792267174, 93.11448776008885, 86.45804384803776, 85.0904829188098, 83.75690645036624, 83.17157976468324, 74.7508232410237, 74.65617578734914, 72.92687973036291, 71.12155369125364, 71.03237128169333, 65.88683016668233, 63.17839681128537, 59.18323885229238, 58.999117816145215, 58.59079728652388, 58.41394934707123, 58.41394934707123, 57.84682402948191, 141.68237573499374, 213.21395165760822, 248.72334665480813, 114.01817404310458, 358.1220616474516, 229.91362181019218, 407.538125454317, 480.7650627931916, 184.30857593729954, 315.62966579370664, 269.12872394185354, 296.2294901262226, 941.757374990943, 509.45996048140745, 1348.420009540423, 629.6130664139102, 596.2202017925019, 351.7675202992564, 254.59734335761613, 295.9076990750102, 5513.609530815374, 3358.5714669493846, 1786.4469183424465, 1194.376946732833, 770.0405237280798, 6222.536648586012, 1907.3962145321377, 701.9307780756966, 1116.5315929664296], \"Category\": [\"Default\", \"Default\", \"Default\", \"Default\", \"Default\", \"Default\", \"Default\", \"Default\", \"Default\", \"Default\", \"Default\", \"Default\", \"Default\", \"Default\", \"Default\", \"Default\", \"Default\", \"Default\", \"Default\", \"Default\", \"Default\", \"Default\", \"Default\", \"Default\", \"Default\", \"Default\", \"Default\", \"Default\", \"Default\", \"Default\", \"Topic1\", \"Topic1\", \"Topic1\", \"Topic1\", \"Topic1\", \"Topic1\", \"Topic1\", \"Topic1\", \"Topic1\", \"Topic1\", \"Topic1\", \"Topic1\", \"Topic1\", \"Topic1\", \"Topic1\", \"Topic1\", \"Topic1\", \"Topic1\", \"Topic1\", \"Topic1\", \"Topic1\", \"Topic1\", \"Topic1\", \"Topic1\", \"Topic1\", \"Topic1\", \"Topic1\", \"Topic1\", \"Topic1\", \"Topic1\", \"Topic1\", \"Topic1\", \"Topic1\", \"Topic1\", \"Topic1\", \"Topic1\", \"Topic1\", \"Topic1\", \"Topic1\", \"Topic1\", \"Topic1\", \"Topic1\", \"Topic1\", \"Topic1\", \"Topic1\", \"Topic1\", \"Topic1\", \"Topic1\", \"Topic1\", \"Topic1\", \"Topic1\", \"Topic1\", \"Topic1\", \"Topic1\", \"Topic1\", \"Topic1\", \"Topic1\", \"Topic2\", \"Topic2\", \"Topic2\", \"Topic2\", \"Topic2\", \"Topic2\", \"Topic2\", \"Topic2\", \"Topic2\", \"Topic2\", \"Topic2\", \"Topic2\", \"Topic2\", \"Topic2\", \"Topic2\", \"Topic2\", \"Topic2\", \"Topic2\", \"Topic2\", \"Topic2\", \"Topic2\", \"Topic2\", \"Topic2\", \"Topic2\", \"Topic2\", \"Topic2\", \"Topic2\", \"Topic2\", \"Topic2\", \"Topic2\", \"Topic2\", \"Topic2\", \"Topic2\", \"Topic2\", \"Topic2\", \"Topic2\", \"Topic2\", \"Topic2\", \"Topic2\", \"Topic2\", \"Topic2\", \"Topic2\", \"Topic2\", \"Topic2\", \"Topic2\", \"Topic2\", \"Topic2\", \"Topic2\", \"Topic2\", \"Topic2\", \"Topic2\", \"Topic2\", \"Topic2\", \"Topic2\", \"Topic2\", \"Topic2\", \"Topic2\", \"Topic2\", \"Topic2\", \"Topic2\", \"Topic2\", \"Topic2\", \"Topic2\", \"Topic2\", \"Topic2\", \"Topic2\", \"Topic2\", \"Topic2\", \"Topic2\", \"Topic2\", \"Topic2\", \"Topic2\", \"Topic2\", \"Topic2\", \"Topic2\", \"Topic2\", \"Topic2\", \"Topic2\", \"Topic2\", \"Topic3\", \"Topic3\", \"Topic3\", \"Topic3\", \"Topic3\", \"Topic3\", \"Topic3\", \"Topic3\", \"Topic3\", \"Topic3\", \"Topic3\", \"Topic3\", \"Topic3\", \"Topic3\", \"Topic3\", \"Topic3\", \"Topic3\", \"Topic3\", \"Topic3\", \"Topic3\", \"Topic3\", \"Topic3\", \"Topic3\", \"Topic3\", \"Topic3\", \"Topic3\", \"Topic3\", \"Topic3\", \"Topic3\", \"Topic3\", \"Topic3\", \"Topic3\", \"Topic3\", \"Topic3\", \"Topic3\", \"Topic3\", \"Topic3\", \"Topic3\", \"Topic3\", \"Topic3\", \"Topic3\", \"Topic3\", \"Topic3\", \"Topic3\", \"Topic3\", \"Topic3\", \"Topic3\", \"Topic3\", \"Topic3\", \"Topic3\", \"Topic3\", \"Topic3\", \"Topic3\", \"Topic4\", \"Topic4\", \"Topic4\", \"Topic4\", \"Topic4\", \"Topic4\", \"Topic4\", \"Topic4\", \"Topic4\", \"Topic4\", \"Topic4\", \"Topic4\", \"Topic4\", \"Topic4\", \"Topic4\", \"Topic4\", \"Topic4\", \"Topic4\", \"Topic4\", \"Topic4\", \"Topic4\", \"Topic4\", \"Topic4\", \"Topic4\", \"Topic4\", \"Topic4\", \"Topic4\", \"Topic4\", \"Topic4\", \"Topic4\", \"Topic4\", \"Topic4\", \"Topic4\", \"Topic4\", \"Topic4\", \"Topic4\", \"Topic4\", \"Topic4\", \"Topic4\", \"Topic4\", \"Topic4\", \"Topic4\", \"Topic4\", \"Topic4\", \"Topic4\", \"Topic4\", \"Topic4\", \"Topic4\", \"Topic4\", \"Topic4\", \"Topic4\", \"Topic4\", \"Topic4\", \"Topic4\", \"Topic4\", \"Topic4\", \"Topic4\", \"Topic4\", \"Topic4\", \"Topic4\", \"Topic4\", \"Topic4\", \"Topic4\", \"Topic4\", \"Topic4\", \"Topic4\", \"Topic4\", \"Topic4\", \"Topic5\", \"Topic5\", \"Topic5\", \"Topic5\", \"Topic5\", \"Topic5\", \"Topic5\", \"Topic5\", \"Topic5\", \"Topic5\", \"Topic5\", \"Topic5\", \"Topic5\", \"Topic5\", \"Topic5\", \"Topic5\", \"Topic5\", \"Topic5\", \"Topic5\", \"Topic5\", \"Topic5\", \"Topic5\", \"Topic5\", \"Topic5\", \"Topic5\", \"Topic5\", \"Topic5\", \"Topic5\", \"Topic5\", \"Topic5\", \"Topic5\", \"Topic5\", \"Topic5\", \"Topic5\", \"Topic5\", \"Topic5\", \"Topic6\", \"Topic6\", \"Topic6\", \"Topic6\", \"Topic6\", \"Topic6\", \"Topic6\", \"Topic6\", \"Topic6\", \"Topic6\", \"Topic6\", \"Topic6\", \"Topic6\", \"Topic6\", \"Topic6\", \"Topic6\", \"Topic6\", \"Topic6\", \"Topic6\", \"Topic6\", \"Topic6\", \"Topic6\", \"Topic6\", \"Topic6\", \"Topic6\", \"Topic6\", \"Topic6\", \"Topic6\", \"Topic6\", \"Topic6\", \"Topic6\", \"Topic6\", \"Topic6\", \"Topic6\", \"Topic6\", \"Topic6\", \"Topic6\", \"Topic6\", \"Topic6\", \"Topic6\", \"Topic6\", \"Topic6\", \"Topic6\", \"Topic6\", \"Topic6\", \"Topic6\", \"Topic6\", \"Topic6\", \"Topic6\", \"Topic6\", \"Topic6\", \"Topic6\", \"Topic6\", \"Topic6\", \"Topic6\", \"Topic6\", \"Topic6\", \"Topic6\", \"Topic6\", \"Topic6\", \"Topic6\", \"Topic6\", \"Topic6\", \"Topic6\", \"Topic6\", \"Topic6\", \"Topic6\", \"Topic6\", \"Topic6\", \"Topic6\", \"Topic6\", \"Topic7\", \"Topic7\", \"Topic7\", \"Topic7\", \"Topic7\", \"Topic7\", \"Topic7\", \"Topic7\", \"Topic7\", \"Topic7\", \"Topic7\", \"Topic7\", \"Topic7\", \"Topic7\", \"Topic7\", \"Topic7\", \"Topic7\", \"Topic7\", \"Topic7\", \"Topic7\", \"Topic7\", \"Topic7\", \"Topic7\", \"Topic7\", \"Topic7\", \"Topic7\", \"Topic7\", \"Topic7\", \"Topic7\", \"Topic7\", \"Topic7\", \"Topic7\", \"Topic7\", \"Topic7\", \"Topic7\", \"Topic7\", \"Topic7\", \"Topic7\", \"Topic7\", \"Topic7\", \"Topic7\", \"Topic7\", \"Topic7\", \"Topic7\", \"Topic7\", \"Topic7\", \"Topic7\", \"Topic7\", \"Topic7\", \"Topic7\", \"Topic7\", \"Topic7\", \"Topic7\", \"Topic7\", \"Topic7\", \"Topic7\", \"Topic7\", \"Topic7\", \"Topic7\", \"Topic8\", \"Topic8\", \"Topic8\", \"Topic8\", \"Topic8\", \"Topic8\", \"Topic8\", \"Topic8\", \"Topic8\", \"Topic8\", \"Topic8\", \"Topic8\", \"Topic8\", \"Topic8\", \"Topic8\", \"Topic8\", \"Topic8\", \"Topic8\", \"Topic8\", \"Topic8\", \"Topic8\", \"Topic8\", \"Topic8\", \"Topic8\", \"Topic8\", \"Topic8\", \"Topic8\", \"Topic8\", \"Topic8\", \"Topic8\", \"Topic8\", \"Topic8\", \"Topic8\", \"Topic8\", \"Topic8\", \"Topic8\", \"Topic8\", \"Topic8\", \"Topic8\", \"Topic8\", \"Topic8\", \"Topic8\", \"Topic8\", \"Topic8\", \"Topic8\", \"Topic8\", \"Topic8\", \"Topic8\", \"Topic8\", \"Topic8\", \"Topic8\", \"Topic8\", \"Topic8\", \"Topic8\", \"Topic8\", \"Topic8\", \"Topic8\", \"Topic8\", \"Topic8\", \"Topic8\", \"Topic8\", \"Topic8\", \"Topic8\", \"Topic8\", \"Topic8\", \"Topic8\", \"Topic8\", \"Topic8\", \"Topic8\", \"Topic9\", \"Topic9\", \"Topic9\", \"Topic9\", \"Topic9\", \"Topic9\", \"Topic9\", \"Topic9\", \"Topic9\", \"Topic9\", \"Topic9\", \"Topic9\", \"Topic9\", \"Topic9\", \"Topic9\", \"Topic9\", \"Topic9\", \"Topic9\", \"Topic9\", \"Topic9\", \"Topic9\", \"Topic9\", \"Topic9\", \"Topic9\", \"Topic9\", \"Topic9\", \"Topic9\", \"Topic9\", \"Topic9\", \"Topic9\", \"Topic9\", \"Topic9\", \"Topic9\", \"Topic9\", \"Topic9\", \"Topic9\", \"Topic9\", \"Topic9\", \"Topic9\", \"Topic9\", \"Topic9\", \"Topic9\", \"Topic9\", \"Topic9\", \"Topic9\", \"Topic9\", \"Topic9\", \"Topic9\", \"Topic9\", \"Topic9\", \"Topic9\", \"Topic9\", \"Topic9\", \"Topic9\", \"Topic9\", \"Topic9\", \"Topic9\", \"Topic9\", \"Topic9\", \"Topic9\", \"Topic9\", \"Topic9\", \"Topic9\", \"Topic9\", \"Topic9\", \"Topic9\", \"Topic9\", \"Topic9\", \"Topic9\", \"Topic9\", \"Topic9\", \"Topic9\", \"Topic9\", \"Topic10\", \"Topic10\", \"Topic10\", \"Topic10\", \"Topic10\", \"Topic10\", \"Topic10\", \"Topic10\", \"Topic10\", \"Topic10\", \"Topic10\", \"Topic10\", \"Topic10\", \"Topic10\", \"Topic10\", \"Topic10\", \"Topic10\", \"Topic10\", \"Topic10\", \"Topic10\", \"Topic10\", \"Topic10\", \"Topic10\", \"Topic10\", \"Topic10\", \"Topic10\", \"Topic10\", \"Topic10\", \"Topic10\", \"Topic10\", \"Topic10\", \"Topic10\", \"Topic10\", \"Topic10\", \"Topic10\", \"Topic10\", \"Topic10\", \"Topic10\", \"Topic10\", \"Topic10\", \"Topic10\", \"Topic10\", \"Topic10\", \"Topic10\", \"Topic10\", \"Topic10\", \"Topic10\", \"Topic10\", \"Topic10\", \"Topic10\", \"Topic10\", \"Topic10\", \"Topic10\", \"Topic10\", \"Topic10\", \"Topic10\", \"Topic10\", \"Topic10\", \"Topic10\"], \"logprob\": [30.0, 29.0, 28.0, 27.0, 26.0, 25.0, 24.0, 23.0, 22.0, 21.0, 20.0, 19.0, 18.0, 17.0, 16.0, 15.0, 14.0, 13.0, 12.0, 11.0, 10.0, 9.0, 8.0, 7.0, 6.0, 5.0, 4.0, 3.0, 2.0, 1.0, -3.8574, -4.7356, -4.947, -5.2815, -5.3116, -5.3721, -5.773, -5.8432, -5.8478, -5.9836, -6.0841, -6.0954, -6.105, -6.1297, -5.089, -4.5298, -6.2526, -5.0151, -6.3259, -6.3719, -6.3816, -5.9949, -6.4316, -6.4368, -6.4397, -6.449, -6.5055, -6.5103, -6.5147, -6.5359, -4.3764, -5.8145, -4.9734, -4.0683, -4.5349, -5.0159, -5.3501, -4.283, -5.3333, -5.689, -5.5615, -4.2395, -4.351, -5.034, -4.9302, -5.7423, -4.8652, -4.6126, -5.4906, -5.0715, -4.7738, -5.4035, -5.3228, -5.09, -5.4358, -5.3917, -5.377, -5.8251, -6.3612, -6.3769, -6.4405, -6.6893, -6.8478, -6.8515, -6.8516, -6.9899, -7.0398, -7.1444, -7.2632, -7.2805, -7.3132, -7.3491, -7.3824, -7.3888, -7.4296, -7.444, -7.4514, -7.4529, -7.5744, -7.6359, -7.6606, -7.6856, -7.6952, -7.7361, -7.7498, -7.7548, -7.7597, -5.4571, -6.2282, -5.1266, -5.851, -6.0673, -4.7259, -6.8959, -4.2452, -5.6691, -4.0266, -4.6244, -6.938, -4.3746, -6.2235, -6.1928, -5.2493, -5.9604, -4.6142, -5.2105, -3.9018, -5.9696, -5.3282, -6.0241, -4.4577, -5.0734, -5.3946, -4.0188, -5.5643, -5.1258, -4.0172, -4.2615, -5.4702, -5.3009, -5.2604, -4.6595, -5.3846, -5.6802, -4.7147, -5.3029, -4.4288, -5.0358, -5.4406, -5.0907, -5.1709, -5.1185, -5.2793, -5.2895, -5.2326, -5.2837, -3.5495, -3.9045, -4.2629, -4.5476, -4.8224, -5.2771, -5.2972, -5.2989, -5.3403, -5.5901, -5.7703, -5.7826, -5.7826, -5.7902, -5.8512, -5.9168, -6.0237, -6.0741, -6.121, -6.136, -6.1648, -6.1939, -6.3391, -6.3492, -6.3719, -6.3994, -3.5895, -6.4239, -6.5337, -6.5452, -6.0429, -5.9006, -4.2528, -5.5488, -3.7562, -5.4276, -6.177, -5.3233, -5.0507, -5.2663, -5.7845, -4.1817, -4.8584, -5.0346, -5.0789, -4.8826, -5.2852, -4.9922, -5.2107, -5.5556, -5.489, -5.6914, -5.7275, -5.4293, -5.7036, -5.8675, -5.891, -5.9737, -5.9952, -6.1476, -6.1687, -6.2255, -6.3788, -6.4923, -6.5044, -6.5177, -6.5943, -6.6261, -6.6433, -6.6453, -6.73, -6.7427, -6.7577, -6.8198, -6.8446, -6.8497, -6.8747, -6.9614, -7.0172, -7.0297, -7.0306, -7.0853, -7.0976, -4.0627, -5.9243, -5.7649, -6.4609, -6.294, -5.5825, -5.4833, -6.4162, -6.371, -6.5452, -5.1875, -5.8308, -5.2151, -5.2724, -5.5898, -4.6919, -5.5856, -5.668, -5.9639, -4.6056, -5.7703, -5.1378, -5.4949, -5.6261, -4.9364, -5.3385, -5.5874, -5.4534, -5.41, -5.3633, -5.5273, -5.501, -5.6379, -5.5014, -5.5441, -5.4267, -5.7322, -5.7183, -0.1292, -2.819, -6.4549, -6.9092, -7.0528, -7.2014, -7.4032, -7.4064, -7.4039, -7.4292, -7.4502, -7.5873, -7.8666, -7.9452, -7.9461, -7.9482, -7.9823, -8.0218, -8.0238, -8.0634, -8.0881, -8.0881, -8.0853, -8.0922, -8.155, -8.1709, -8.2087, -8.2174, -8.2235, -8.3419, -7.2237, -7.0044, -7.2366, -7.4624, -7.7542, -8.0447, -5.6007, -6.1311, -4.8474, -6.5356, -6.5803, -6.6126, -5.6945, -6.7486, -6.7682, -6.8026, -6.905, -6.928, -6.9545, -6.9525, -7.0294, -5.5059, -7.052, -7.0739, -7.1491, -7.1519, -7.1634, -7.1984, -7.2145, -7.2381, -7.2408, -7.2866, -7.2982, -7.341, -7.3527, -7.3682, -4.4575, -5.8413, -3.9691, -4.2896, -5.2289, -4.6836, -5.2675, -4.714, -6.0415, -6.6974, -6.0605, -6.3533, -3.9644, -5.0434, -4.8617, -3.9951, -5.5156, -6.2003, -6.3516, -4.8775, -6.2201, -6.4507, -3.8964, -4.504, -4.5791, -5.7544, -4.543, -4.3777, -5.7474, -5.3708, -4.9952, -4.4261, -5.2062, -4.833, -5.0546, -4.8847, -5.0094, -5.1334, -5.1326, -5.2412, -5.2667, -4.0821, -4.3247, -4.4522, -4.5817, -5.4473, -5.6137, -5.7321, -5.7538, -5.8081, -5.8361, -5.8727, -5.869, -5.8952, -5.9303, -5.9633, -5.9669, -5.9846, -6.0134, -6.0791, -6.1223, -6.1555, -6.1624, -6.164, -6.1965, -6.2349, -6.2593, -6.2783, -6.2786, -6.28, -6.2888, -4.8632, -4.9331, -4.5894, -5.8126, -4.9287, -5.9466, -4.7473, -4.9178, -4.3437, -5.3827, -4.6591, -5.2083, -4.9728, -4.7636, -4.7429, -4.7008, -4.4407, -5.5224, -4.7727, -4.5832, -4.9874, -5.4809, -5.2489, -5.34, -5.628, -5.5036, -5.6084, -5.4997, -5.5332, -3.9959, -4.9411, -4.9595, -5.196, -5.2398, -5.5963, -5.7555, -5.9888, -6.0629, -6.1002, -6.1132, -6.3735, -6.4918, -6.5107, -6.5886, -6.6945, -6.7656, -6.7813, -6.8079, -6.8116, -6.8195, -6.8661, -6.9723, -6.9986, -7.0839, -7.0956, -7.0993, -7.1121, -7.1221, -7.1383, -3.1937, -5.211, -5.8152, -5.1085, -6.4322, -5.0482, -4.5127, -5.8677, -5.4907, -4.9765, -6.0431, -5.5186, -6.1167, -5.5238, -4.4266, -4.0889, -4.9593, -4.9388, -4.4557, -4.6945, -4.6305, -5.0697, -4.5163, -4.3889, -4.4858, -5.0979, -5.3199, -5.3734, -4.6937, -5.0761, -5.3511, -5.1022, -5.1222, -4.845, -5.1673, -4.7744, -5.1475, -5.0707, -5.1858, -4.719, -5.3862, -5.659, -5.8506, -5.9134, -6.1698, -6.3126, -6.3195, -6.3941, -6.3941, -6.4242, -6.6046, -6.6651, -6.6655, -6.7625, -6.8246, -6.8452, -6.9615, -6.9619, -6.9744, -6.99, -7.0127, -7.0196, -7.0207, -7.0609, -7.0716, -7.1238, -7.1389, -7.1682, -7.1966, -5.5122, -5.2421, -4.9343, -6.2213, -5.8908, -5.7678, -6.3354, -5.9196, -6.1249, -6.6883, -6.487, -5.1285, -5.7862, -6.0131, -5.8735, -6.2604, -5.3997, -5.0378, -5.2707, -5.8943, -4.8448, -5.8658, -5.6507, -5.3837, -5.1351, -4.9001, -4.928, -5.1726, -5.2896, -4.9388, -5.5089, -4.8366, -4.461, -5.1972, -5.4815, -5.4515, -5.205, -5.535, -5.3017, -5.2976, -5.588, -5.5649, -5.5908, -4.2441, -4.368, -4.7041, -4.984, -5.3109, -5.4431, -5.5247, -5.5639, -5.7736, -5.9404, -5.9765, -6.0136, -6.0276, -6.1026, -6.1187, -6.1347, -6.1418, -6.2498, -6.2511, -6.2748, -6.3002, -6.3015, -6.3777, -6.4203, -6.4867, -6.4898, -6.4969, -6.4999, -6.4999, -6.5099, -5.6544, -5.2928, -5.1673, -5.9351, -4.9995, -5.4773, -5.11, -5.0, -5.6664, -5.3134, -5.4578, -5.4081, -4.7255, -5.1265, -4.6435, -5.1033, -5.1324, -5.3982, -5.5661, -5.5388, -4.3775, -4.8029, -5.0399, -5.1775, -5.3131, -5.089, -5.2929, -5.4808, -5.4677], \"loglift\": [30.0, 29.0, 28.0, 27.0, 26.0, 25.0, 24.0, 23.0, 22.0, 21.0, 20.0, 19.0, 18.0, 17.0, 16.0, 15.0, 14.0, 13.0, 12.0, 11.0, 10.0, 9.0, 8.0, 7.0, 6.0, 5.0, 4.0, 3.0, 2.0, 1.0, 2.2917, 2.291, 2.2907, 2.2901, 2.29, 2.2899, 2.2887, 2.2884, 2.2884, 2.2879, 2.2874, 2.2874, 2.2873, 2.2872, 2.2867, 2.2866, 2.2865, 2.2863, 2.2861, 2.2858, 2.2858, 2.2857, 2.2854, 2.2854, 2.2854, 2.2853, 2.2849, 2.2849, 2.2849, 2.2847, 2.2578, 2.2755, 2.2221, 2.1667, 2.168, 2.1594, 2.1871, 2.0252, 2.0818, 2.1443, 2.1027, 1.7366, 1.6727, 1.8355, 1.7015, 2.0904, 1.5391, 1.1658, 1.8501, 1.4347, 0.8178, 1.6816, 1.5322, 1.0005, 1.6056, 0.7068, -0.1115, 1.5333, 1.5321, 1.532, 1.5314, 1.5309, 1.5302, 1.5302, 1.53, 1.5295, 1.5292, 1.5286, 1.5278, 1.5276, 1.5274, 1.5271, 1.5268, 1.5268, 1.5265, 1.5263, 1.5263, 1.5262, 1.5251, 1.5245, 1.5242, 1.524, 1.5239, 1.5234, 1.5232, 1.5232, 1.5231, 1.5226, 1.5176, 1.494, 1.4783, 1.481, 1.439, 1.5037, 1.3999, 1.4519, 1.3745, 1.356, 1.4954, 1.3289, 1.4453, 1.4382, 1.3595, 1.4206, 1.2964, 1.3302, 1.1638, 1.3903, 1.3059, 1.395, 1.1806, 1.2419, 1.2737, 1.0183, 1.3033, 1.2096, 0.9656, 1.004, 1.276, 1.2311, 1.1899, 0.9732, 1.2127, 1.3072, 0.9024, 1.1126, 0.4873, 0.8924, 1.1727, 0.6351, 0.6952, 0.5291, 0.7398, 0.6838, 0.359, 0.055, 2.8524, 2.8521, 2.8517, 2.8513, 2.8507, 2.8493, 2.8492, 2.8492, 2.8491, 2.8479, 2.8469, 2.8469, 2.8469, 2.8468, 2.8464, 2.846, 2.8452, 2.8448, 2.8444, 2.8442, 2.844, 2.8437, 2.8422, 2.8421, 2.8419, 2.8416, 2.8416, 2.8413, 2.8399, 2.8398, 2.8029, 2.7922, 2.5806, 2.6881, 1.7765, 2.4164, 2.7637, 2.3146, 2.1646, 2.2634, 2.561, 1.157, 1.298, 0.9279, 0.9448, 0.3829, 1.1949, 0.0734, 0.7626, 1.2496, -0.5729, 0.7589, 1.2622, 2.5656, 2.5645, 2.5638, 2.5637, 2.5632, 2.5631, 2.5621, 2.562, 2.5616, 2.5604, 2.5594, 2.5593, 2.5591, 2.5584, 2.558, 2.5578, 2.5578, 2.5568, 2.5567, 2.5565, 2.5557, 2.5554, 2.5553, 2.555, 2.5537, 2.5529, 2.5527, 2.5527, 2.5517, 2.5515, 2.5058, 2.4655, 2.376, 2.4711, 2.4348, 2.2971, 2.2478, 2.4447, 2.4118, 2.4622, 1.9373, 2.1711, 1.878, 1.8952, 2.0185, 1.3986, 1.8795, 1.9307, 2.1088, 0.9271, 1.8882, 1.1546, 1.5107, 1.6283, 0.83, 1.2932, 1.5381, 1.3142, 1.1778, 0.882, 1.1762, 1.0513, 1.4603, 0.8194, 0.979, 0.1649, 1.5175, 1.2234, 2.5112, 2.511, 2.5029, 2.4981, 2.4959, 2.4937, 2.4898, 2.4897, 2.4897, 2.4893, 2.4888, 2.4855, 2.4769, 2.4747, 2.4747, 2.4744, 2.4733, 2.4718, 2.4718, 2.4702, 2.4692, 2.4692, 2.4689, 2.4688, 2.4663, 2.4656, 2.4639, 2.4634, 2.4632, 2.4573, 2.2421, 1.8722, 1.9783, 1.8223, 1.8185, 2.1966, 1.8005, 1.7992, 1.7989, 1.7977, 1.7975, 1.7973, 1.7973, 1.7966, 1.7965, 1.7963, 1.7956, 1.7955, 1.7953, 1.7951, 1.7948, 1.7947, 1.7946, 1.7944, 1.7938, 1.7938, 1.7937, 1.7934, 1.7932, 1.793, 1.793, 1.7926, 1.7924, 1.792, 1.7919, 1.7917, 1.7846, 1.7905, 1.7599, 1.7504, 1.7674, 1.7529, 1.7285, 1.6739, 1.7357, 1.7655, 1.7243, 1.7395, 1.475, 1.5933, 1.5359, 1.411, 1.6143, 1.6901, 1.7062, 1.401, 1.6631, 1.7137, 1.0197, 1.1856, 1.1874, 1.5261, 1.1046, 0.961, 1.4688, 1.288, 0.9781, 0.5566, 1.0827, 0.7586, 0.9215, 0.7324, 0.769, 0.8977, 0.7987, 0.687, 0.5993, 3.7153, 3.7146, 3.7141, 3.7136, 3.7075, 3.7055, 3.704, 3.7037, 3.7029, 3.7025, 3.7019, 3.7019, 3.7015, 3.7009, 3.7003, 3.7003, 3.7, 3.6994, 3.6982, 3.6973, 3.6966, 3.6965, 3.6965, 3.6957, 3.6949, 3.6943, 3.6939, 3.6938, 3.6938, 3.6936, 3.5905, 3.5662, 3.5026, 3.6342, 3.4678, 3.6395, 3.3883, 3.3382, 2.9907, 3.3828, 3.0226, 3.187, 2.9893, 2.7294, 2.7005, 2.6597, 2.3861, 3.2127, 2.2276, 1.345, 2.0182, 2.9728, 1.8742, 1.7467, 2.8422, 1.7354, 2.6374, 0.2787, 0.6982, 2.881, 2.8793, 2.8793, 2.8786, 2.8784, 2.8768, 2.8759, 2.8743, 2.8737, 2.8734, 2.8733, 2.8707, 2.8693, 2.869, 2.868, 2.8664, 2.8653, 2.865, 2.8646, 2.8645, 2.8644, 2.8635, 2.8615, 2.8609, 2.8591, 2.8588, 2.8587, 2.8584, 2.8582, 2.8578, 2.7736, 2.8177, 2.7982, 2.7579, 2.8252, 2.7115, 2.6634, 2.7722, 2.6804, 2.5676, 2.6936, 2.5128, 2.6794, 2.5045, 2.1331, 2.0015, 2.2729, 2.2625, 2.0674, 2.1605, 2.1299, 2.2998, 1.9836, 1.9035, 1.7595, 2.1762, 2.3282, 2.3427, 1.5849, 1.9784, 2.2718, 1.8314, 1.8638, 1.1861, 1.8741, 0.6317, 1.7822, 1.3336, 0.9128, 1.7263, 1.7257, 1.7253, 1.7249, 1.7247, 1.7241, 1.7236, 1.7236, 1.7233, 1.7233, 1.7232, 1.7225, 1.7222, 1.7222, 1.7217, 1.7213, 1.7212, 1.7205, 1.7205, 1.7204, 1.7203, 1.7202, 1.7201, 1.7201, 1.7198, 1.7198, 1.7194, 1.7193, 1.719, 1.7188, 1.7004, 1.6884, 1.6811, 1.7018, 1.681, 1.6685, 1.6919, 1.6714, 1.6714, 1.6998, 1.6805, 1.5251, 1.5919, 1.6104, 1.5831, 1.6321, 1.4895, 1.4076, 1.432, 1.5531, 1.3192, 1.5463, 1.4798, 1.3839, 1.288, 1.1191, 1.0725, 1.1746, 1.2001, 0.9926, 1.3022, 0.8893, 0.5761, 1.0343, 1.2116, 1.1556, 0.7575, 0.7933, -0.2361, -0.3815, 0.4431, -0.2261, 0.0419, 3.099, 3.0987, 3.098, 3.0971, 3.0957, 3.095, 3.0945, 3.0943, 3.0928, 3.0914, 3.0911, 3.0907, 3.0906, 3.0898, 3.0896, 3.0894, 3.0894, 3.0881, 3.0881, 3.0878, 3.0874, 3.0874, 3.0864, 3.0857, 3.0847, 3.0847, 3.0846, 3.0845, 3.0845, 3.0844, 3.0441, 2.997, 2.9684, 2.9806, 2.7717, 2.737, 2.5319, 2.4766, 2.769, 2.5841, 2.599, 2.5528, 2.0788, 2.2921, 1.8018, 2.1036, 2.129, 2.3909, 2.5463, 2.4232, 0.6596, 0.7298, 1.1241, 1.3891, 1.6925, -0.1729, 0.8057, 1.6174, 1.1664]}, \"token.table\": {\"Topic\": [5, 7, 9, 7, 9, 1, 4, 6, 9, 9, 10, 4, 7, 2, 6, 7, 2, 2, 3, 4, 6, 7, 9, 7, 9, 4, 2, 1, 4, 8, 2, 6, 10, 8, 2, 4, 6, 7, 8, 9, 10, 8, 9, 10, 10, 2, 3, 6, 8, 9, 10, 9, 4, 9, 9, 1, 2, 9, 10, 4, 8, 9, 2, 9, 6, 1, 4, 6, 8, 9, 1, 8, 2, 3, 6, 10, 5, 1, 2, 3, 6, 9, 10, 9, 6, 1, 3, 4, 6, 8, 9, 10, 3, 6, 9, 2, 3, 9, 2, 5, 5, 5, 5, 2, 9, 6, 8, 1, 1, 2, 3, 6, 9, 1, 5, 1, 2, 6, 9, 10, 2, 3, 1, 2, 2, 6, 7, 7, 7, 3, 7, 10, 2, 6, 1, 6, 1, 2, 3, 6, 7, 8, 9, 3, 1, 2, 6, 7, 9, 10, 2, 3, 4, 6, 9, 10, 3, 6, 10, 2, 7, 9, 10, 1, 6, 9, 2, 9, 6, 2, 3, 4, 10, 10, 2, 3, 9, 10, 1, 8, 1, 10, 3, 1, 8, 9, 1, 6, 8, 1, 2, 3, 6, 9, 1, 4, 8, 6, 8, 1, 8, 2, 9, 3, 4, 1, 1, 9, 1, 4, 7, 8, 9, 1, 6, 2, 1, 6, 8, 9, 1, 2, 4, 6, 2, 9, 10, 1, 9, 8, 5, 4, 1, 4, 8, 9, 2, 7, 9, 2, 3, 4, 6, 8, 9, 6, 9, 4, 1, 4, 6, 9, 8, 8, 6, 1, 4, 7, 8, 9, 1, 3, 4, 1, 6, 9, 3, 7, 2, 10, 7, 1, 3, 4, 6, 7, 9, 1, 8, 4, 9, 7, 1, 6, 3, 4, 6, 1, 2, 3, 9, 2, 7, 1, 2, 1, 6, 10, 1, 6, 7, 2, 4, 9, 2, 7, 8, 5, 6, 1, 2, 3, 4, 6, 7, 8, 9, 7, 5, 4, 1, 6, 8, 1, 9, 4, 4, 6, 4, 8, 8, 2, 7, 9, 1, 2, 3, 4, 6, 8, 9, 1, 4, 8, 9, 9, 8, 8, 9, 2, 1, 2, 3, 7, 9, 10, 9, 3, 1, 6, 8, 9, 1, 2, 6, 2, 9, 2, 3, 6, 9, 1, 8, 9, 4, 3, 1, 2, 3, 4, 6, 8, 9, 10, 2, 7, 10, 2, 4, 9, 10, 2, 1, 8, 5, 8, 8, 4, 10, 7, 2, 3, 8, 6, 6, 7, 9, 10, 1, 2, 3, 6, 8, 9, 5, 5, 2, 1, 2, 3, 6, 9, 3, 4, 9, 2, 9, 2, 3, 6, 8, 9, 3, 9, 10, 5, 5, 7, 1, 8, 1, 2, 3, 4, 6, 9, 10, 6, 10, 9, 10, 1, 2, 4, 6, 7, 8, 9, 10, 2, 9, 1, 2, 6, 8, 9, 10, 1, 2, 9, 10, 1, 1, 4, 2, 10, 7, 2, 6, 2, 3, 6, 1, 2, 6, 8, 9, 10, 4, 1, 2, 3, 4, 6, 7, 9, 2, 3, 9, 10, 2, 3, 6, 8, 3, 1, 2, 3, 6, 10, 1, 2, 3, 6, 8, 4, 7, 8, 9, 10, 10, 3, 1, 9, 8, 9, 1, 2, 3, 4, 6, 7, 8, 9, 10, 1, 3, 4, 6, 7, 9, 10, 7, 1, 6, 8, 1, 4, 6, 8, 9, 10, 1, 6, 6, 7, 4, 6, 9, 1, 9, 10, 10, 10, 1, 2, 4, 7, 8, 9, 7, 4, 9, 10, 2, 4, 6, 2, 8, 1, 1, 3, 9, 1, 2, 2, 9, 10, 2, 3, 1, 2, 6, 9, 2, 1, 4, 2, 4, 10, 1, 2, 4, 6, 8, 9, 10, 10, 4, 9, 3, 3, 1, 2, 3, 6, 9, 10, 9, 1, 2, 3, 6, 9, 10, 1, 4, 7, 8, 2, 9, 1, 2, 3, 6, 8, 9, 10, 1, 2, 3, 4, 6, 8, 9, 2, 9, 10, 2, 5, 8, 1, 2, 3, 6, 8, 9, 1, 2, 3, 4, 7, 10, 2, 3, 4, 6, 7, 8, 4, 2, 3, 5, 6, 7, 9, 1, 1, 1, 6, 8, 2, 8, 9, 10, 4, 10, 10, 4, 9, 5, 1, 2, 3, 6, 1, 2, 3, 6, 9, 4, 7, 7, 1, 2, 3, 4, 6, 9, 10, 1, 6, 1, 2, 8, 9, 1, 5, 6, 2, 4, 9, 10, 4, 8, 1, 4, 6, 1, 8, 4, 9, 9, 2, 2, 8, 6, 10, 1, 6, 7, 9, 10, 2, 4, 7, 9, 10, 2, 4, 9, 10, 1, 2, 3, 4, 6, 8, 9, 1, 2, 3, 4, 6, 8, 9, 2, 3, 6, 7, 9, 3, 5, 5, 2, 3, 6, 9, 4, 9, 1, 2, 3, 4, 6, 7, 8, 9, 10, 4, 9, 10, 6, 10, 7, 8, 7, 4, 2, 3, 4, 6, 7, 9, 10, 4, 2, 7, 3, 10, 10, 5, 9, 7, 1, 5, 2, 9, 10, 3, 2, 9, 10, 2, 3, 7, 10, 2, 7, 8, 9, 10, 4, 1, 2, 6, 9, 7, 3, 7, 5, 6, 5, 1, 2, 4, 6, 9, 10, 3, 3, 3, 5, 1, 2, 3, 4, 6, 8, 9, 7, 9, 10, 1, 10, 2, 3, 4, 6, 8, 9, 10, 2, 3, 6, 8, 2, 3, 4, 6, 9, 10, 3, 2, 2, 1, 6, 10, 1, 4, 6, 1, 2, 4, 6, 7, 9, 10, 1, 4, 8, 4, 6, 8, 9, 2, 2, 3, 9, 1, 4, 8, 9, 8, 4, 7, 9, 6, 8, 5, 5, 1, 2, 6, 8, 9, 1, 3, 1, 4, 6, 7, 9, 7, 2, 1, 2, 3, 6, 9, 4, 10, 9, 9, 9, 10, 2, 3, 6, 10, 1, 6, 9, 6, 2, 3, 6, 9, 1, 2, 3, 4, 7, 8, 10, 1, 4, 6, 8, 9, 1, 4, 6, 7, 9, 10, 8, 5, 1, 4, 8, 9, 1, 2, 3, 4, 6, 7, 8, 9, 10, 2, 6, 6, 2, 3, 6, 9, 10, 4, 2, 4, 7, 9, 7, 5, 3, 4, 5, 1, 2, 3, 4, 6, 8, 5, 1, 2, 3, 6, 9, 4, 6, 4, 2, 3, 9, 10, 8, 4, 6, 9, 3, 3, 3, 1, 9, 1, 3, 1, 2, 3, 4, 6, 9, 10, 2, 3, 6, 1, 4, 6, 9, 1, 2, 3, 4, 6, 8, 9, 10, 10, 1, 1, 8, 4, 6, 7, 9, 10, 1, 2, 4, 6, 8, 9, 5, 4, 2, 5, 7, 6, 9, 10, 6, 7, 1, 4, 8, 4, 2, 10, 4, 6, 8, 9, 10, 4, 8, 4, 4, 4, 2, 9, 4, 5, 2, 9, 1, 2, 3, 4, 6, 8, 3, 1, 2, 4, 6, 9, 10, 2, 9, 10, 2, 6, 7, 2, 4, 6, 9, 10, 2, 9, 10, 1, 8, 2, 4, 7, 9, 8, 3, 7, 2, 4, 8, 1, 2, 4, 8, 9, 10, 4, 7, 7, 1, 2, 3, 4, 6, 9, 10, 3, 1, 2, 9, 8, 7, 9, 3, 4, 1, 4, 6, 9, 6, 1, 2, 6, 9, 10, 1, 8, 9, 1, 6, 8, 6, 4, 1, 2, 6, 9, 2, 3, 6, 9, 8, 1, 2, 3, 4, 6, 8, 9, 10, 6, 6, 2, 5, 7, 2, 7, 9, 10, 10, 1, 2, 3, 6, 8, 9, 2, 9, 1, 2, 6, 8, 9, 10, 10, 10, 10, 2, 3, 4, 5, 6, 7, 9, 10, 3, 10, 1, 3, 10, 2, 6, 1, 4, 8, 9, 7, 3, 1, 6, 8, 9, 6, 9, 1, 4, 1, 6, 6, 1, 8, 9, 10, 10, 5, 1, 2, 6, 8, 9, 10, 1, 2, 3, 6, 8, 9, 1, 2, 3, 6, 9, 8, 6, 8, 2, 1, 2, 3, 1, 1, 8, 3, 4, 4, 6, 10, 5, 7, 5, 2, 7, 9, 10, 2, 1, 2, 3, 6, 8, 9, 1, 2, 4, 6, 8, 9, 1, 2, 4, 6, 8, 9, 10, 9, 2, 3, 4, 6, 7, 8, 9, 10, 10, 7], \"Freq\": [0.04233160699063575, 0.8043005328220791, 0.1462364605131053, 0.9732008982665998, 0.9929988057083746, 0.6427034486134489, 0.1888168323610132, 0.032679836370175366, 0.13435043841072095, 0.9467267177764442, 0.05130046253961028, 0.27925263821343066, 0.7170000170344842, 0.07447823266064797, 0.9144271898890668, 0.008275359184516442, 0.9910247050128991, 0.2323749659178169, 0.07149998951317443, 0.07149998951317443, 0.028089281594461384, 0.49794635553817906, 0.09703570005359387, 0.9855097849040234, 0.9888141496477745, 0.9917801419460861, 0.9911997477123641, 0.5034132725112526, 0.13056440490265106, 0.3647727188517365, 0.07359375818117435, 0.9255830355863081, 0.9920458830863077, 0.9956088943188697, 0.07835530470793627, 0.330516921677113, 0.2578601845842994, 0.012821777134025936, 0.024218912364271213, 0.06980745328525231, 0.22651806270112487, 0.02555785962459063, 0.9743933981875178, 0.9947021257057026, 0.9990886956437564, 0.3506608515509234, 0.03246264528564919, 0.4572090388003561, 0.0001607061647804415, 0.12133315440923334, 0.0379266548881842, 0.9941295180135271, 0.9908389366490824, 0.9932141241944927, 0.9973766254222344, 0.020800180324878667, 0.14768128030663852, 0.2932825425807892, 0.5366446523818695, 0.03435595984223463, 0.5840513173179886, 0.3805583244062913, 0.022754292922141928, 0.9751839823775111, 0.9934678747487027, 0.18756284032224188, 0.2035938523155959, 0.14748531033885687, 0.4424559310165706, 0.01763411319268941, 0.04937416337098081, 0.9504526448913806, 0.8922722147480657, 0.028356108519535985, 0.03402733022344318, 0.045369773631257576, 0.9999909214826136, 0.017142613913105564, 0.7080644877152298, 0.12297962155053992, 0.12148895947113944, 0.027577248468908952, 0.0022359931191007257, 0.9913812486867439, 0.9954123937041011, 0.14195138286889486, 0.07922867881054596, 0.21952946420422112, 0.05942150910790948, 0.15433086393304266, 0.32764359883111194, 0.018156572227416783, 0.9958269028963014, 0.9913734757017522, 0.9987579462654592, 0.45134517291936455, 0.003874207492870082, 0.5443261527482465, 0.9875257980426725, 0.9278180274493195, 0.9764663784965769, 0.9788927412126658, 0.96566725826415, 0.020699428610957683, 0.9728731447150111, 0.9991127829273624, 0.9904132066338007, 0.9949082314816753, 0.7655306911283352, 0.17845141110761867, 0.0019396892511697682, 0.025862523348930244, 0.02780221260010001, 0.22805458807240359, 0.7601819602413452, 0.03411343943804515, 0.21036620986794508, 0.23310850282664186, 0.028427866198370958, 0.49180208523181757, 0.9907744602393491, 0.992654954544879, 0.8166584600393505, 0.18114969477236503, 0.0027199854951985396, 0.9964213530743984, 0.967222015960346, 0.9745967016292767, 0.9757338507247049, 0.9172586585991506, 0.08093458752345446, 0.9813481051947985, 0.016945739545069827, 0.9822476886302975, 0.9665562217767951, 0.03314418925462597, 0.017964170219539295, 0.08742562840175791, 0.006586862413831075, 0.255091217117458, 0.04910206526674074, 0.08383279435785004, 0.5000027377771771, 0.9916436297896567, 0.06716938447470328, 0.2725526946954306, 0.12142157962734823, 0.22475909420381482, 0.3009705112039589, 0.01162547038985249, 0.028201474138453513, 0.08695454526023166, 0.5287776400960034, 0.2890651099191485, 0.021151105603840138, 0.04700245689742252, 0.9815868972806602, 0.988621170974677, 0.009716178584517711, 0.44528424078691375, 0.26391236710053667, 0.14444586347477933, 0.14661798172252039, 0.9941227420346697, 0.004298909154744518, 0.9948437815891548, 0.04346205606479175, 0.9538777567904293, 0.9936069980665628, 0.18893937816041537, 0.08342777736953405, 0.16194803842321318, 0.5668181344812461, 0.9911552084464018, 0.12786711116940305, 0.011873374608587426, 0.8174361749758267, 0.04201347938423243, 0.30429545393409624, 0.6919099012072902, 0.9901908976285644, 0.9757943203143117, 0.9935601960193412, 0.2779877937543211, 0.5386013503989971, 0.18321922770171165, 0.8755769526439506, 0.01692679521807286, 0.1061771700042752, 0.07028640596461287, 0.8137682379018495, 0.04309015843056668, 0.039558178231339905, 0.03284741585280903, 0.11324727839537219, 0.6304098497342384, 0.2529189217496645, 0.992510531136474, 0.9903028363315731, 0.07779672020825024, 0.9205945224642945, 0.9906232159809215, 0.9968667171550846, 0.11641248909039374, 0.873093668177953, 0.9904910307936345, 0.9917062626603902, 0.9951639895134571, 0.17004468040404921, 0.016817605754246626, 0.057927308709071715, 0.5587182356133046, 0.19433677760462767, 0.9945092221133657, 0.004647239355669934, 0.9975102755659642, 0.24433481773511223, 0.1596320809202733, 0.5440521941568499, 0.052124761116823945, 0.00732025538962445, 0.00732025538962445, 0.35722846301367317, 0.6266138613518529, 0.35736234205165635, 0.2715953799592588, 0.3684802815821523, 0.9969354582976862, 0.9935461214710156, 0.9691858346150867, 0.9794981862597252, 0.9913723445527883, 0.5539709831577683, 0.2796659963360991, 0.10632668870286198, 0.05986460624446851, 0.992593177730743, 0.9248592688251882, 0.07458542490525712, 0.9082379608057629, 0.0011205897110496768, 0.06947656208507995, 0.0011205897110496768, 0.018489730232319666, 0.001680884566574515, 0.9944523441948963, 0.9962166744975552, 0.9902528647534992, 0.18651922497374782, 0.3896919521772945, 0.3813652010623951, 0.03996840535151739, 0.9834421229933137, 0.9897102875662132, 0.9918483348221909, 0.09121429812512888, 0.7243488380524941, 0.05902101643390692, 0.04560714906256444, 0.0778004307537864, 0.16166519832965934, 0.012124889874724449, 0.8244925114812626, 0.8097412941025386, 0.10561842966554852, 0.08214766751764885, 0.9954312331320763, 0.9820705153352088, 0.9442282948039973, 0.053853324798707074, 0.9839585224852982, 0.17548610508985105, 0.03280114113828992, 0.0016400570569144958, 0.3066906696430107, 0.13776479278081766, 0.34441198195204414, 0.057800172681056895, 0.9392528060671747, 0.1638029761419049, 0.8346151641516106, 0.9951229873009426, 0.9991226565889223, 0.9869632645375842, 0.6456993613085176, 0.18319842344102127, 0.1681821592245441, 0.9327859976051914, 0.04396971032482384, 0.02198485516241192, 0.0015703467973151371, 0.3128580149313896, 0.6846602935455047, 0.992314024050879, 0.9975303706212469, 0.5737930818927343, 0.41422572524673545, 0.011596464872528987, 0.6335415071615478, 0.36607138964790686, 0.997595282491995, 0.254482879280679, 0.5064708283723317, 0.23701836795749515, 0.519439440781839, 0.47523182880040593, 0.005525951497679139, 0.9472992929632773, 0.9902662158621283, 0.09657446965739845, 0.06035904353587403, 0.03621542612152442, 0.08047872471449871, 0.022131649296487144, 0.3621542612152442, 0.048287234828699226, 0.2937473452079203, 0.9914049854523252, 0.9879411386047885, 0.9891693418172259, 0.011459959771445278, 0.6264778008390085, 0.3616253972322732, 0.15756007213726306, 0.8403203847320696, 0.9922234724600788, 0.061799171892106465, 0.935414738185066, 0.9915480256950477, 0.997935633178725, 0.9831958672743797, 0.9948662503725346, 0.03734402837048863, 0.9625122150974327, 0.07055608129853574, 0.0032070946044788972, 0.016035473022394487, 0.09514380659954062, 0.01175934688308929, 0.15073344641050818, 0.6542472993136951, 0.1248451891076169, 0.02080753151793615, 0.06589051647346447, 0.7883742497351363, 0.9948752122114108, 0.982160332445588, 0.8286861572424048, 0.16867063377500274, 0.9970275580635295, 0.0006722999609525371, 0.3657311787581801, 0.004033799765715222, 0.0026891998438101482, 0.5754887665753717, 0.050422497071440274, 0.9975092393248062, 0.9974142663491931, 0.009213675404653688, 0.09827920431630602, 0.8845128388467541, 0.006142450269769126, 0.5427638552382187, 0.09561643045647375, 0.3599677381890777, 0.9910434158860522, 0.9969946107254071, 0.7956979179578917, 0.005100627679217254, 0.026778295315890585, 0.17214618417358235, 0.1025354826428668, 0.8970705230324356, 0.9966733526130107, 0.9948544336772794, 0.9835150458818472, 0.18998563456247594, 0.06596723422308193, 0.04221902990277243, 0.06596723422308193, 0.08179937043662158, 0.13259414078839465, 0.39316471596956826, 0.028365910715925226, 0.18089814934542076, 0.7195726385073403, 0.10049897185856708, 0.33041483567267727, 0.05534867805684441, 0.23481257357449145, 0.3790545830559648, 0.9872760129148979, 0.26702184283609387, 0.7298597037519899, 0.981986529247383, 0.9866831081713007, 0.9907480609681802, 0.9019716334749331, 0.09330741035947585, 0.987766966519889, 0.9924409113854953, 0.9990546798262329, 0.9865668079221848, 0.9940940124509892, 0.9853739803090072, 0.9700403254216039, 0.049406286164293114, 0.9457774780021825, 0.010638864873698656, 0.42694227297495047, 0.12350334440337137, 0.43850625653331854, 0.9940971695713885, 0.9916272999836994, 0.9792772674211804, 0.980243116292642, 0.9953884994265323, 0.004330851744584357, 0.8734994826384758, 0.025318825583723933, 0.09627816570652917, 0.0006662848837822088, 0.5840870198173551, 0.17595926956840824, 0.23705623816854998, 0.08826983732370758, 0.9079183267581351, 0.22758105769001288, 0.18343818012082935, 0.43112877092569246, 0.015940483566649608, 0.14174768463882267, 0.9946898672498312, 0.7267765184929359, 0.2729119987810208, 0.9480244146256493, 0.7263719320206271, 0.23111834200656317, 0.5044963137193177, 0.4943044689977153, 0.004606979643958807, 0.36625488169472514, 0.1904218252836307, 0.03839149703299006, 0.27949009840016764, 0.11210317133633098, 0.008446129347257813, 0.9872595674126559, 0.9800071967124769, 0.12061593896786714, 0.8764758231665013, 0.022262052102041085, 0.22720388468847813, 0.17416781938655673, 0.0628575588763513, 0.0013095324765906521, 0.11916745536974933, 0.34637134005822745, 0.04648840291896815, 0.043954215895947196, 0.954685569259973, 0.024887767730997268, 0.7930147808831401, 0.031675340748541975, 0.020362719052634128, 0.09502602224562592, 0.03506912725731433, 0.010604241882841628, 0.9596838903971673, 0.010604241882841628, 0.018557423294972848, 0.9952198714451415, 0.8994568325481176, 0.09723857649168839, 0.9637893533440202, 0.032487281573393936, 0.9967644704794667, 0.770253817869096, 0.2289442755880466, 0.9827697356994571, 0.016334123031015908, 0.9967356878121545, 0.12937739073732465, 0.20801854981295337, 0.48706782395228104, 0.10654608648956147, 0.030441738997017565, 0.038052173746271956, 0.9876669430668568, 0.0838018474473824, 0.03505995658512937, 0.08209160566274194, 0.2488401796651865, 0.3984863358212265, 0.06669942960097783, 0.08465696833970263, 0.011777176746785713, 0.12562321863238093, 0.41612691171976185, 0.44556985358672613, 0.35971076108409394, 0.5549196497211938, 0.07018746557738419, 0.015353508095052792, 0.9973789771066859, 0.020450556068270974, 0.498482304164105, 0.2032274009284428, 0.2313469155223154, 0.04601375115360969, 0.017801940906615164, 0.0009889967170341758, 0.004944983585170879, 0.9494368483528087, 0.026208413001405657, 0.0188475862602883, 0.06596655191100906, 0.015078069008230641, 0.8745280024773773, 0.024501862138374794, 0.9859137007136574, 0.9956180589951307, 0.9934309956895987, 0.9927481869488587, 0.9991520375757267, 0.9932182201956882, 0.16939855690508235, 0.0006071632863981446, 0.015786245446351762, 0.1851848023514341, 0.09714612582370315, 0.006071632863981447, 0.3254395215094055, 0.1414690457307677, 0.05889483878062003, 0.09302961048207935, 0.050743423899316006, 0.38057567924487007, 0.06131497054500684, 0.3721184419283174, 0.02114309329138167, 0.02114309329138167, 0.9684855045403225, 0.06404548467979569, 0.5848681997173796, 0.3492291523105841, 0.1247430440497002, 0.2431216470764565, 0.11519638251528437, 0.37613846445598376, 0.12347015584511142, 0.017183990761948497, 0.8617071570816467, 0.1337131795471521, 0.6553217152894835, 0.34112637234247084, 0.09705539727102129, 0.8279119494482574, 0.07352681611441007, 0.9969508931581258, 0.9928559451440758, 0.984230466953486, 0.9865400996763874, 0.9964243540061763, 0.011512088068338021, 0.046048352273352085, 0.10360879261504219, 0.019186813447230035, 0.07482857244419713, 0.7444483617525254, 0.9685251442789297, 0.982264195676966, 0.2792344027619378, 0.7204247591257994, 0.8698958151687618, 0.10996425654503535, 0.019636474383042026, 0.9891787652385595, 0.979180666930957, 0.9960145416911347, 0.882246005413968, 0.00901477525967951, 0.10817730311615412, 0.9975948384289278, 0.9974199723906869, 0.5893237629334599, 0.049906697041211916, 0.3599653254674647, 0.24795635293062396, 0.7488281858504843, 0.05101882646647433, 0.5658451662645335, 0.28773243882607574, 0.09533821107371465, 0.9934005950064192, 0.13823374154169663, 0.8524414061737959, 0.272471219660984, 0.12989906983837607, 0.5956347592588952, 0.17786303933490244, 0.14862527944423354, 0.260703359025131, 0.27288575897957634, 0.0024364799908890744, 0.053602559799559635, 0.08527679968111761, 0.9899165515083412, 0.9953875976422338, 0.998988950403333, 0.9907443548849408, 0.9944089207107207, 0.03021759392249475, 0.724358894313517, 0.010360317916283914, 0.15799484822332968, 0.0017267196527139858, 0.07511230489305838, 0.9975420977102549, 0.06046480394264228, 0.6557551951398466, 0.05542607028075542, 0.1202097887907293, 0.08781792953574236, 0.019435115552992162, 0.04582300477766629, 0.07498309872709029, 0.062485915605908576, 0.816482630583872, 0.6956746818548523, 0.3035352331926594, 0.01600231531149453, 0.09994888743736748, 0.03698895834296277, 0.6762945716890639, 0.1054578812331279, 0.05561460403339083, 0.009968655439947413, 0.06152413929082716, 0.09311761622395462, 0.05736710285225776, 0.04323317896112179, 0.2510850008895919, 0.473070746709198, 0.019953774905133132, 0.7953200837252971, 0.060007258569363627, 0.14419654671145588, 0.985756971003071, 0.9499088658442115, 0.986292806677876, 0.012691199344668799, 0.3657069284845351, 0.04007747161474357, 0.49762860588306607, 0.07781709071862711, 0.005677641812088673, 0.06726824524157128, 0.3875932225823869, 0.5029102144250805, 0.028829247960673404, 0.011211374206928547, 0.003203249773408156, 0.9979207079212744, 0.04235687303186289, 0.19425738321509534, 0.5915356406173955, 0.15774283749797216, 0.011684654629479417, 0.9787399479953188, 0.5257282217228164, 0.02343447918528955, 0.0022107999231405235, 0.32764054860942554, 0.09329575675653008, 0.02741391904694249, 0.9889446971915491, 0.9985684844830643, 0.05649370313398754, 0.6697642360440523, 0.2730528984809398, 0.7375722518313576, 0.01213112256301575, 0.17711438942002994, 0.07197799387389345, 0.9893561418775486, 0.9854661858661701, 0.9872902867394036, 0.671748124015198, 0.32356454141046187, 0.9998570199500161, 0.048092102562735974, 0.7714774786105563, 0.02905564529831965, 0.1502878205085499, 0.08651003997428573, 0.31847102627896395, 0.011883247249215072, 0.06274354547585559, 0.5195355697356829, 0.13880640985356368, 0.8617564611742079, 0.9848444951260213, 0.11828012623330825, 0.09800353316474113, 0.07434750791807947, 0.13517728712378085, 0.03379432178094521, 0.03379432178094521, 0.5069148267141782, 0.9947190994680425, 0.0037607527390096126, 0.35391214968908624, 0.1697333779121128, 0.333447841713867, 0.14325015582653491, 0.9976175218508425, 0.9818146297150734, 0.994333487668006, 0.17216381791788873, 0.23967904063078627, 0.006751522271289754, 0.577255154195274, 0.9959956740470663, 0.9966461226604667, 0.9972125200170375, 0.2393166624598845, 0.7589757009442051, 0.9921450460206835, 0.9800393726987108, 0.996872294178308, 0.9973216778622608, 0.9927651134245992, 0.99216054335766, 0.9972993127256184, 0.9974049636044849, 0.9930151228546856, 0.983065546517853, 0.9926016926315174, 0.9904174413694103, 0.981004063953112, 0.2767098586739113, 0.7161902224501233, 0.1067671957864565, 0.5765428572468652, 0.0640603174718739, 0.15184667845184927, 0.10202198708483623, 0.01803864622057045, 0.014430916976456359, 0.9668714374225761, 0.9902969680001311, 0.1191276108122287, 0.13828555991945846, 0.0052248952110626615, 0.02333786527607989, 0.5399058384764751, 0.0633953952275603, 0.11041945212712426, 0.026704461903251566, 0.054537281351710945, 0.0022567150904156254, 0.17564765787068284, 0.5408593833362781, 0.049647731989143754, 0.150447672694375, 0.0112357029128939, 0.2584211669965597, 0.2471854640836658, 0.41572100777707427, 0.0674142174773634, 0.9956896003684311, 0.9510528297546899, 0.9510528297546899, 0.019564758528955936, 0.013043172352637291, 0.9586731679188409, 0.008333137891962715, 0.903630318529527, 0.09613088494994969, 0.20499149417464257, 0.009436948580929838, 0.06134016577604394, 0.08598108707069407, 0.22229256657301394, 0.023068096531161823, 0.13945712902929647, 0.15308827697952845, 0.1006607848632516, 0.04150199567929359, 0.9545459006237526, 0.9899556525470927, 0.9647923666703662, 0.03346100693654449, 0.9781222412838657, 0.9755985160170788, 0.9831371381296785, 0.994197067485898, 0.17412502500196256, 0.027393500818065762, 0.00840790619168355, 0.7209101502417703, 0.003797118925276442, 0.0626524622670613, 0.002712227803768887, 0.9861611158569357, 0.40657573672033565, 0.5890135672999735, 0.10524637936635785, 0.8858236930001786, 0.9853609244121972, 0.9735709458027386, 0.9908318719744471, 0.9949728790145921, 0.993302751940087, 0.005237097110404676, 0.21551025528041057, 0.17463762065826374, 0.6056581312190848, 0.9947460385664793, 0.5965239253193199, 0.31630821701334566, 0.08705730743486577, 0.13910471075783304, 0.10981950849302607, 0.6003466464285425, 0.14642601132403477, 0.34087160795987514, 0.022666654237741057, 0.011333327118870529, 0.5649227671560079, 0.061025607563149, 0.9929273139483075, 0.2516799797479711, 0.004809171587540849, 0.7165665665435865, 0.027251972329398147, 0.9800634244932552, 0.995973529664524, 0.9861773356288425, 0.5074195315231483, 0.48204855494699095, 0.9752058208266486, 0.05345961957624096, 0.3104770213850917, 0.5016979683308767, 0.04729120193282854, 0.012336835286824836, 0.07402101172094902, 0.9991663802996004, 0.9992648701428893, 0.9968962549490108, 0.931380927986834, 0.002287781045775928, 0.2836848496762151, 0.14596043072050421, 0.00045755620915518565, 0.09608680392258899, 0.09196879804019231, 0.3793140973896489, 0.17397838233796542, 0.13048378675347405, 0.6959135293518617, 0.9832939775573205, 0.01152297629949985, 0.091156976215055, 0.033326206358192154, 0.003430638889813898, 0.40481538899804, 0.18329413497005684, 0.2769015675349789, 0.006861277779627796, 0.03711150067482449, 0.08262560527602432, 0.8794725442939538, 0.9944759827921843, 0.005508141986767572, 0.00459011832230631, 0.09639248476843251, 0.5976334055642816, 0.2368501054310056, 0.05783549086105951, 0.9936994832404495, 0.9827945108820885, 0.9908714748873545, 0.020586546567631602, 0.9662810295182084, 0.011579932444292777, 0.9947643499094697, 0.8801335410325557, 0.1079409059756908, 0.3243247722280284, 0.18195685578051357, 0.0022839772692114678, 0.355919791118787, 0.03197568176896055, 0.10354030287091986, 0.9757943203143117, 0.2745855143558241, 0.31046884861823293, 0.4144785131469542, 0.7624447473856119, 0.18049712387087954, 0.05601634878751434, 0.9931752314772488, 0.9895014325962612, 0.06503893000188679, 0.04335928666792453, 0.8888653766924528, 0.16511813754853674, 0.24863719549459892, 0.1430383865972789, 0.443514997368744, 0.9972969419754273, 0.28556576209096135, 0.004094132789834571, 0.7093085058388394, 0.9924600827406918, 0.9858634051067185, 0.9761615178283712, 0.9481615203360079, 0.01286375905171601, 0.11266878617709886, 0.3663953440247388, 0.02838898549344223, 0.4799512859985077, 0.9960907427907452, 0.9942496901766703, 0.11366199078702165, 0.12809525945838948, 0.23814893307756918, 0.4835145004908223, 0.036083171678419575, 0.9837939772866549, 0.9966435535903932, 0.006527852440333354, 0.26981790086711194, 0.02393545894788896, 0.0551240872739261, 0.6448067577173724, 0.9917443786109195, 0.991210696497257, 0.9936127395247257, 0.9980352184015163, 0.9449457107193376, 0.05154249331196387, 0.9882824402271991, 0.00885784517489167, 0.0012654064535559527, 0.0012654064535559527, 0.04372720986387592, 0.8714208251443845, 0.08433104759461785, 0.9924184980422543, 0.03861337002732714, 0.009877838844199965, 0.8117787559233427, 0.13918772916827224, 0.05584121702039717, 0.10389063631701799, 0.041556254526807196, 0.3467349987080475, 0.1831072465087442, 0.02467402612529177, 0.24414299534499226, 0.026482340112431828, 0.11074433137926037, 0.16370901160412404, 0.5440917150372357, 0.15648655520982444, 0.01755592186909907, 0.5310666365402469, 0.1770222121800823, 0.06144572654184675, 0.11703947912732714, 0.09509457679095329, 0.9663996432968639, 0.9910730520705147, 0.046946390101627385, 0.16611799574421995, 0.6861395476391694, 0.09750404098030302, 0.21265052270565324, 0.03520704018305517, 0.06759751715146593, 0.1689937928786648, 0.03098219536108855, 0.13941987912489848, 0.028165632146444138, 0.25771553413996384, 0.05914782750753269, 0.1038264931613606, 0.8935370926614064, 0.9937588563433537, 0.4066704480177731, 0.02239215610755056, 0.13038013475525406, 0.43267424220718664, 0.007584439971912287, 0.993831096253045, 0.19264637547142816, 0.19602613644461112, 0.48330581916516185, 0.12505115600776914, 0.979451776656742, 0.989422427647349, 0.08914844292567012, 0.9093141178418351, 0.9729399763283126, 0.5380373902664626, 0.13961729747420865, 0.14837378303008236, 0.00535118561747838, 0.14350906883237474, 0.024810042408308853, 0.9545561327841141, 0.02389312832535144, 0.7876043937065846, 0.0634253951909329, 0.08644968248627156, 0.03866342583556869, 0.006976599315081021, 0.9924212525702752, 0.9955854063366681, 0.8516125574000788, 0.0010439626814588768, 0.14171793400804253, 0.005219813407294384, 0.9884653741566903, 0.3497710673732875, 0.14256071940333045, 0.5072509318304549, 0.9827584338355622, 0.9954603075721459, 0.984455162283024, 0.9988877543580258, 0.995842317319679, 0.9969018205973331, 0.9987486944887316, 0.1700448771156649, 0.31777136410989876, 0.20086551109287915, 0.042511219278916226, 0.1519776089221255, 0.08714799952177826, 0.029757853495241356, 0.8150179954185013, 0.012237507438716235, 0.1729567718005228, 0.020579974880133998, 0.041159949760267996, 0.9286713664660468, 0.00771749058005025, 0.05638736786475611, 0.13391999867879575, 0.02192842083629404, 0.037591578576504074, 0.27880420777573856, 0.4072421012454608, 0.0023494736610315046, 0.06108631518681912, 0.9935255243136797, 0.9930841709252569, 0.19558756843340128, 0.8039111080490982, 0.5100479995606457, 0.2855657961611998, 0.06261068258079783, 0.11300464660924485, 0.02596052692374544, 0.47120568465630924, 0.19218358739758837, 0.024200896190807425, 0.037013135350646646, 0.21282552826621823, 0.0626376136703251, 0.9656313227833295, 0.9865156894030802, 0.9966667566361292, 0.5075744740668487, 0.49065532493128716, 0.34564382659874104, 0.07855541513607751, 0.5734545304933658, 0.9941402832426516, 0.9841387095005122, 0.8827190744470076, 0.09115033920920187, 0.024946408625676302, 0.982499656327068, 0.09380249202508663, 0.9005039234408316, 0.08028954733227758, 0.13313836329782738, 0.4715740501541367, 0.20428100017452905, 0.11077924885086401, 0.9386129084641319, 0.06039332386900581, 0.9937476590487058, 0.9862885487626419, 0.9864636898374519, 0.8661304198325197, 0.13325083382038766, 0.9912292909937677, 0.9508607679347931, 0.9149483103419794, 0.08317711912199813, 0.08902848070416633, 0.7221937203390209, 0.09633678882167251, 0.021260532705472554, 0.013287832940920348, 0.05846646494004953, 0.9956517906446664, 0.011195406812622781, 0.029108057712819234, 0.023510354306507844, 0.13210580038894884, 0.6650071646697933, 0.1388230444765225, 0.11621358470696677, 0.8665047982536995, 0.016310678555363757, 0.9684642404616033, 0.026174709201664953, 0.9843732595015524, 0.9196230209405547, 0.03497773772198623, 0.005829622953664372, 0.008744434430496557, 0.02914811476832186, 0.9474272843223175, 0.031282976369133124, 0.017875986496647497, 0.0998478290100902, 0.8986304610908119, 0.001851977994195363, 0.270388787152523, 0.34631988491453286, 0.3796554888100494, 0.9664910328471774, 0.06858928881326676, 0.9259553989791013, 0.9884608797742143, 0.1545835506415751, 0.8419282668871502, 0.42403013671967543, 0.01182240158140359, 0.11507137539232828, 0.066993608961287, 0.3152640421707624, 0.0662054488558601, 0.9948118043966561, 0.9854796678183801, 0.965768419630125, 0.019534008007361443, 0.7461991058812072, 0.0351612144132506, 0.04297481761619518, 0.01823174080687068, 0.09571663923607107, 0.04167255041570442, 0.9915498897574587, 0.0008733288745032591, 0.8392690483976321, 0.15894585515959317, 0.9884854125602901, 0.8785772508679879, 0.11603850483162104, 0.9884575263496254, 0.010966614567488448, 0.16441420058549674, 0.5017467845453952, 0.1629968367873459, 0.17008365577810006, 0.9915025951124102, 0.009783008797849607, 0.8362143234352403, 0.11925953582140474, 0.034939317135177166, 0.9880309951018541, 0.10864360254013965, 0.5753172589057395, 0.3135849436954031, 0.03087306349718936, 0.9519194578300052, 0.01690667762941322, 0.9953509714322704, 0.9743022774644104, 0.03209513559119775, 0.7014606953952498, 0.10885875886086659, 0.1571669010909168, 0.6899259731039483, 0.062143724382909056, 0.10749184758124809, 0.14033657878662945, 0.9818539424991783, 0.09048317276770966, 0.588026664334234, 0.08455732266201582, 0.038518025687009905, 0.10142320373206751, 0.020740475369928412, 0.0699706147095387, 0.0063816847292087414, 0.9955812862399772, 0.9914723150811916, 0.27835154780008914, 0.5313984094365338, 0.19400259392127425, 0.9859359574347099, 0.7775554646383849, 0.015655479153792985, 0.2035212289993088, 0.9949162310642253, 0.048066879021001464, 0.20622241644494177, 0.031010889690968685, 0.10466175270701931, 0.019381806056855428, 0.5907574486129534, 0.05593551738871623, 0.9429130074097879, 0.12424467567691767, 0.4317398596264798, 0.3004311053993695, 0.017867963391663747, 0.12258253954746058, 0.0033242722589141853, 0.9963452326154704, 0.9850229075674216, 0.9973934019796755, 0.021916353730125206, 0.038176874239572944, 0.053730415596435994, 0.005655833220677473, 0.7663654014017975, 0.0021209374577540524, 0.0798886442420693, 0.03322802017148015, 0.9404017320721088, 0.05614338698937962, 0.9970586587995862, 0.9487024824821574, 0.040892348382851613, 0.00422334360460388, 0.9945974188842138, 0.40230405301662503, 0.17592278928523603, 0.4050315381218225, 0.016364910631184747, 0.9865514855734746, 0.9837804452260299, 0.46807081649977517, 0.022342282410490463, 0.48594464242816754, 0.023459396531014986, 0.9397976794266234, 0.057774447505735044, 0.9930432504051365, 0.9872176517222669, 0.8280526407882527, 0.17062902901091268, 0.9905135006352794, 0.052972862514313296, 0.15156124552706304, 0.7813497220861211, 0.013243215628578324, 0.9966067486343261, 0.9228672375797984, 0.05669137197268687, 0.5312791430583227, 0.3430637881090023, 0.00453530975781495, 0.06414223800338287, 0.9988903784016213, 0.08785134581827723, 0.5702111696744362, 0.038496657156323735, 0.09640615851968251, 0.021387031753513187, 0.18557362936894517, 0.04721896852312388, 0.30942312314564707, 0.21109656516220088, 0.33497691787580824, 0.09666000615321829, 0.9700081288005056, 0.9942298815626004, 0.9947128387370148, 0.9938343552246174, 0.22412641811287212, 0.014212894807157744, 0.7620298215837652, 0.9992544600766731, 0.1789777631265112, 0.817072396881899, 0.849714107742303, 0.14680924374605236, 0.08925776607851929, 0.9074539551316128, 0.9871844314263641, 0.5914949257605121, 0.4022165495171482, 0.9773548938006508, 0.9078290922829501, 0.0485470102825107, 0.01456410308475321, 0.02912820616950642, 0.990461446439772, 0.0532059210047222, 0.30593404577715266, 0.0038004229289087285, 0.0019002114644543642, 0.0370541235568601, 0.5976165055708975, 0.2289508261910179, 0.3085309754325855, 0.09031715350431878, 0.35211058096963443, 0.0022105597011546556, 0.017684477609237245, 0.014233362462749113, 0.47388724434799984, 0.021768672001851584, 0.021768672001851584, 0.015070619078204941, 0.2721084000231448, 0.18084742893845931, 0.993787239680148, 0.24980858923394295, 0.3409187540796957, 0.19353466388803686, 0.08783496284149364, 0.010123351649528082, 0.0008932369102524777, 0.023521905303315247, 0.09349212993975933, 0.9909630562726814, 0.9888095636413444], \"Term\": [\"_\", \"_\", \"_\", \"abortion\", \"absolute\", \"access\", \"access\", \"access\", \"access\", \"act\", \"act\", \"adult\", \"adult\", \"advice\", \"advice\", \"advice\", \"afraid\", \"age\", \"age\", \"age\", \"age\", \"age\", \"age\", \"ai\", \"amendment\", \"anonymous\", \"apartment\", \"application\", \"application\", \"application\", \"appreciate\", \"appreciate\", \"arab\", \"archive\", \"area\", \"area\", \"area\", \"area\", \"area\", \"area\", \"area\", \"argument\", \"argument\", \"armenia\", \"armenian\", \"article\", \"article\", \"article\", \"article\", \"article\", \"article\", \"assumption\", \"astronomy\", \"atheism\", \"atheist\", \"attack\", \"attack\", \"attack\", \"attack\", \"author\", \"author\", \"author\", \"authority\", \"authority\", \"auto\", \"available\", \"available\", \"available\", \"available\", \"available\", \"available_anonymous\", \"available_anonymous\", \"away\", \"away\", \"away\", \"away\", \"ax\", \"bad\", \"bad\", \"bad\", \"bad\", \"bad\", \"bad\", \"ban\", \"band\", \"base\", \"base\", \"base\", \"base\", \"base\", \"base\", \"base\", \"baseball\", \"battery\", \"belief\", \"believe\", \"believe\", \"believe\", \"believer\", \"bh\", \"bhj\", \"bhj_bhj\", \"bhj_giz\", \"bible\", \"bible\", \"bike\", \"binary\", \"bio\", \"bit\", \"bit\", \"bit\", \"bit\", \"bit\", \"bj\", \"bj\", \"black\", \"black\", \"black\", \"black\", \"black\", \"boy\", \"brave\", \"bus\", \"bus\", \"buy\", \"buy\", \"c\", \"cage\", \"cancer\", \"cap\", \"cap\", \"capital\", \"car\", \"car\", \"card\", \"card\", \"case\", \"case\", \"case\", \"case\", \"case\", \"case\", \"case\", \"catholic\", \"cause\", \"cause\", \"cause\", \"cause\", \"cause\", \"cause\", \"center\", \"center\", \"center\", \"center\", \"center\", \"center\", \"chastity_intellect\", \"cheap\", \"cheap\", \"child\", \"child\", \"child\", \"child\", \"chip\", \"chip\", \"christian\", \"church\", \"church\", \"circuit\", \"city\", \"city\", \"city\", \"city\", \"civilian\", \"claim\", \"claim\", \"claim\", \"claim\", \"client\", \"client\", \"clock\", \"closed_road\", \"coach\", \"code\", \"code\", \"code\", \"color\", \"color\", \"color\", \"come\", \"come\", \"come\", \"come\", \"come\", \"commercial\", \"commercial\", \"commercial\", \"communication_service\", \"comp\", \"compile\", \"compile\", \"complain\", \"conclusion\", \"conference\", \"conference\", \"configuration\", \"connector\", \"constitution\", \"contain\", \"contain\", \"contain\", \"contain\", \"contain\", \"controller\", \"controller\", \"cop\", \"copy\", \"copy\", \"copy\", \"copy\", \"cost\", \"cost\", \"cost\", \"cost\", \"country\", \"country\", \"country\", \"cpu\", \"crypto\", \"ctrl_key\", \"cx\", \"cycle\", \"datum\", \"datum\", \"datum\", \"datum\", \"daughter\", \"david_veal\", \"david_veal\", \"day\", \"day\", \"day\", \"day\", \"day\", \"day\", \"dealer\", \"debate\", \"derive\", \"design\", \"design\", \"design\", \"design\", \"deskjet\", \"detection\", \"detector\", \"develop\", \"develop\", \"develop\", \"develop\", \"develop\", \"development\", \"development\", \"development\", \"device\", \"device\", \"device\", \"devil\", \"diagnose\", \"die\", \"die\", \"diet\", \"difference\", \"difference\", \"difference\", \"difference\", \"difference\", \"difference\", \"directory\", \"directory\", \"discussion\", \"discussion\", \"disease\", \"disk\", \"distribution_usaorganization\", \"division\", \"division\", \"division\", \"do\", \"do\", \"do\", \"do\", \"doctor\", \"doctor\", \"documentation\", \"dog\", \"drive\", \"drive\", \"drive\", \"driver\", \"driver\", \"drug\", \"earth\", \"earth\", \"earth\", \"eat\", \"eat\", \"eat\", \"eau_claire\", \"eduin_article\", \"effect\", \"effect\", \"effect\", \"effect\", \"effect\", \"effect\", \"effect\", \"effect\", \"egg\", \"ei\", \"electrical\", \"email\", \"email\", \"email\", \"encryption\", \"encryption\", \"energy\", \"engine\", \"engine\", \"engineer\", \"entry\", \"equation\", \"eternal\", \"evidence\", \"evidence\", \"example\", \"example\", \"example\", \"example\", \"example\", \"example\", \"example\", \"exist\", \"exist\", \"exist\", \"exist\", \"existence\", \"explosion\", \"export\", \"export\", \"eye\", \"fact\", \"fact\", \"fact\", \"fact\", \"fact\", \"fact\", \"faith\", \"fan\", \"faq\", \"faq\", \"faq\", \"faq\", \"fast\", \"fast\", \"fast\", \"father\", \"federal\", \"feel\", \"feel\", \"feel\", \"feel\", \"file\", \"file\", \"firearm\", \"flight\", \"flyer\", \"follow\", \"follow\", \"follow\", \"follow\", \"follow\", \"follow\", \"follow\", \"follow\", \"food\", \"food\", \"food\", \"force\", \"force\", \"force\", \"force\", \"forever\", \"format\", \"format\", \"fq\", \"ftp\", \"functionality\", \"fund\", \"fund\", \"funding\", \"funny\", \"game\", \"gary_dare\", \"gateway\", \"gear\", \"gene\", \"german\", \"german\", \"get\", \"get\", \"get\", \"get\", \"gif\", \"gift\", \"giz\", \"giz_giz\", \"glad\", \"go\", \"go\", \"go\", \"go\", \"go\", \"goal\", \"goal\", \"goal\", \"god\", \"god\", \"good\", \"good\", \"good\", \"good\", \"good\", \"gordon_bank\", \"government\", \"government\", \"gp\", \"gq\", \"gq\", \"graphic\", \"graphic\", \"great\", \"great\", \"great\", \"great\", \"great\", \"great\", \"great\", \"greatly_appreciate\", \"greece\", \"greek\", \"greek\", \"group\", \"group\", \"group\", \"group\", \"group\", \"group\", \"group\", \"group\", \"gun\", \"gun\", \"hand\", \"hand\", \"hand\", \"hand\", \"hand\", \"hand\", \"happen\", \"happen\", \"happen\", \"happen\", \"hard_drive\", \"hardware\", \"hardware\", \"hate\", \"hate\", \"health\", \"hear\", \"hear\", \"hell\", \"hell\", \"helmet\", \"help\", \"help\", \"help\", \"help\", \"help\", \"help\", \"henry_spencer\", \"high\", \"high\", \"high\", \"high\", \"high\", \"high\", \"high\", \"history\", \"history\", \"history\", \"history\", \"hit\", \"hit\", \"hit\", \"hit\", \"hockey\", \"home\", \"home\", \"home\", \"home\", \"home\", \"host\", \"host\", \"host\", \"host\", \"host\", \"human\", \"human\", \"human\", \"human\", \"human\", \"human_right\", \"ice\", \"ide\", \"illegal\", \"image\", \"imply\", \"include\", \"include\", \"include\", \"include\", \"include\", \"include\", \"include\", \"include\", \"include\", \"increase\", \"increase\", \"increase\", \"increase\", \"increase\", \"increase\", \"increase\", \"infection\", \"info\", \"info\", \"info\", \"information\", \"information\", \"information\", \"information\", \"information\", \"information\", \"instal\", \"instal\", \"insurance\", \"insurance\", \"interested\", \"interested\", \"interested\", \"interface\", \"interpretation\", \"island\", \"islander\", \"israeli\", \"issue\", \"issue\", \"issue\", \"issue\", \"issue\", \"issue\", \"jake_livni\", \"japanese\", \"jewish\", \"jewish\", \"job\", \"job\", \"job\", \"joke\", \"jpeg\", \"jumper\", \"key\", \"key\", \"key\", \"keyboard\", \"kid\", \"kill\", \"kill\", \"kill\", \"king\", \"king\", \"know\", \"know\", \"know\", \"know\", \"koresh\", \"laboratory\", \"laboratory\", \"land\", \"land\", \"land\", \"large\", \"large\", \"large\", \"large\", \"large\", \"large\", \"large\", \"laser\", \"launch\", \"law\", \"leafs\", \"league\", \"leave\", \"leave\", \"leave\", \"leave\", \"leave\", \"leave\", \"legal\", \"let\", \"let\", \"let\", \"let\", \"let\", \"let\", \"library\", \"library\", \"library\", \"library\", \"life\", \"life\", \"line\", \"line\", \"line\", \"line\", \"line\", \"line\", \"line\", \"list\", \"list\", \"list\", \"list\", \"list\", \"list\", \"list\", \"live\", \"live\", \"live\", \"living\", \"lk\", \"log\", \"look\", \"look\", \"look\", \"look\", \"look\", \"look\", \"lose\", \"lose\", \"lose\", \"lose\", \"lose\", \"lose\", \"love\", \"low\", \"low\", \"low\", \"low\", \"low\", \"lunar\", \"m\", \"m\", \"m\", \"m\", \"m\", \"m\", \"mac\", \"machine\", \"mail\", \"mail\", \"mail\", \"man\", \"man\", \"man\", \"man\", \"mar\", \"marry\", \"massacre\", \"material\", \"material\", \"max\", \"maybe\", \"maybe\", \"maybe\", \"maybe\", \"mean\", \"mean\", \"mean\", \"mean\", \"mean\", \"medical\", \"medical\", \"medicine\", \"medium\", \"medium\", \"medium\", \"medium\", \"medium\", \"medium\", \"medium\", \"memory\", \"memory\", \"message\", \"message\", \"message\", \"message\", \"mhz\", \"midelfort_clinic\", \"mile\", \"military\", \"military\", \"military\", \"military\", \"mission\", \"mit\", \"mode\", \"model\", \"model\", \"modem\", \"modification\", \"moon\", \"moral\", \"morality\", \"morning\", \"mother\", \"motif\", \"motorcycle\", \"mountain_passe\", \"mouse\", \"mph\", \"msg\", \"nation\", \"nation\", \"national\", \"national\", \"national\", \"national\", \"national\", \"nature\", \"nature\", \"nature\", \"nazi\", \"need\", \"need\", \"need\", \"need\", \"need\", \"need\", \"need\", \"new\", \"new\", \"new\", \"new\", \"new\", \"new\", \"new\", \"new_york\", \"new_york\", \"new_york\", \"new_york\", \"new_york\", \"nhl\", \"night_biker\", \"ninjaite_drinke\", \"nntp_poste\", \"nntp_poste\", \"nntp_poste\", \"nntp_poste\", \"nuclear\", \"nuclear\", \"number\", \"number\", \"number\", \"number\", \"number\", \"number\", \"number\", \"number\", \"number\", \"objective\", \"objective\", \"occupy\", \"oil\", \"oil\", \"op\", \"openwindow\", \"opinions_employer\", \"orbit\", \"organization\", \"organization\", \"organization\", \"organization\", \"organization\", \"organization\", \"organization\", \"ozone\", \"pain\", \"pain\", \"pair\", \"pair\", \"palestinian\", \"parkline\", \"passage\", \"patient\", \"pc\", \"pc\", \"peace\", \"peace\", \"peace\", \"pen\", \"people\", \"people\", \"people\", \"percent\", \"percent\", \"percent\", \"percent\", \"person\", \"person\", \"person\", \"person\", \"person\", \"phase\", \"phone\", \"phone\", \"phone\", \"phone\", \"physician\", \"pitch\", \"pitcher\", \"pl\", \"pl\", \"pl_pl\", \"plan\", \"plan\", \"plan\", \"plan\", \"plan\", \"plan\", \"play\", \"player\", \"playoff\", \"pmf\", \"point\", \"point\", \"point\", \"point\", \"point\", \"point\", \"point\", \"population\", \"population\", \"population\", \"port\", \"port\", \"post\", \"post\", \"post\", \"post\", \"post\", \"post\", \"post\", \"posting_host\", \"posting_host\", \"posting_host\", \"postscript\", \"power\", \"power\", \"power\", \"power\", \"power\", \"power\", \"power_play\", \"pray\", \"prayer\", \"price\", \"price\", \"price\", \"printer\", \"probe\", \"probe\", \"problem\", \"problem\", \"problem\", \"problem\", \"problem\", \"problem\", \"proceeded_work\", \"program\", \"program\", \"program\", \"project\", \"project\", \"project\", \"proof\", \"prophet\", \"prove\", \"prove\", \"prove\", \"provide\", \"provide\", \"provide\", \"provide\", \"pub\", \"public\", \"public\", \"public\", \"public_access\", \"public_domain\", \"qax\", \"qq\", \"question\", \"question\", \"question\", \"question\", \"question\", \"ram\", \"ranger\", \"rate\", \"rate\", \"rate\", \"rate\", \"rate\", \"react\", \"realize\", \"reason\", \"reason\", \"reason\", \"reason\", \"reason\", \"regional\", \"relation\", \"relationship\", \"religion\", \"religious\", \"religious\", \"remember\", \"remember\", \"remember\", \"remember\", \"replace\", \"replace\", \"replace\", \"replacement\", \"reply\", \"reply\", \"reply\", \"reply\", \"report\", \"report\", \"report\", \"report\", \"report\", \"report\", \"report\", \"request\", \"request\", \"request\", \"request\", \"request\", \"research\", \"research\", \"research\", \"research\", \"research\", \"research\", \"reserve_universityline\", \"resistor\", \"resource\", \"resource\", \"resource\", \"resource\", \"result\", \"result\", \"result\", \"result\", \"result\", \"result\", \"result\", \"result\", \"result\", \"ride\", \"ride\", \"rider\", \"right\", \"right\", \"right\", \"right\", \"right\", \"ripem\", \"risk\", \"risk\", \"risk\", \"risk\", \"rk\", \"rlk\", \"rocket\", \"rocket\", \"rtp_ncline\", \"run\", \"run\", \"run\", \"run\", \"run\", \"run\", \"rust\", \"s\", \"s\", \"s\", \"s\", \"s\", \"sale\", \"sale\", \"satellite\", \"say\", \"say\", \"say\", \"say\", \"sci_space\", \"science\", \"science\", \"science\", \"sciencelines_article\", \"score\", \"scoring\", \"screen\", \"scripture\", \"scsi\", \"season\", \"second\", \"second\", \"second\", \"second\", \"second\", \"second\", \"second\", \"see\", \"see\", \"see\", \"sell\", \"sell\", \"sell\", \"sell\", \"send\", \"send\", \"send\", \"send\", \"send\", \"send\", \"send\", \"send\", \"serdar_argic\", \"serial\", \"server\", \"server\", \"service\", \"service\", \"service\", \"service\", \"service\", \"set\", \"set\", \"set\", \"set\", \"set\", \"set\", \"showed_picture\", \"shuttle\", \"sin\", \"sl\", \"sl\", \"slave\", \"slave\", \"slave\", \"slot\", \"sm\", \"software\", \"software\", \"software\", \"solar\", \"soldier\", \"soldier\", \"source\", \"source\", \"source\", \"source\", \"source\", \"space\", \"space\", \"space_shuttle\", \"space_station\", \"spacecraft\", \"speak\", \"speak\", \"specification\", \"spill\", \"stand\", \"stand\", \"start\", \"start\", \"start\", \"start\", \"start\", \"start\", \"stat\", \"state\", \"state\", \"state\", \"state\", \"state\", \"state\", \"statement\", \"statement\", \"statement\", \"stay\", \"stay\", \"steve_dyer\", \"stop\", \"stop\", \"stop\", \"stop\", \"stop\", \"story\", \"story\", \"story\", \"string\", \"string\", \"study\", \"study\", \"study\", \"study\", \"submission\", \"substance\", \"substance\", \"suddenly\", \"sun\", \"sun\", \"support\", \"support\", \"support\", \"support\", \"support\", \"support\", \"surveillance\", \"sy\", \"syndrome\", \"take\", \"take\", \"take\", \"take\", \"take\", \"take\", \"take\", \"talent\", \"talk\", \"talk\", \"talk\", \"tar\", \"tax\", \"tax\", \"team\", \"team\", \"technology\", \"technology\", \"technology\", \"technology\", \"technologyline\", \"tell\", \"tell\", \"tell\", \"tell\", \"territory\", \"text\", \"text\", \"text\", \"thank\", \"thank\", \"thank\", \"thanks_advance\", \"thermal\", \"thing\", \"thing\", \"thing\", \"thing\", \"think\", \"think\", \"think\", \"think\", \"tiff\", \"time\", \"time\", \"time\", \"time\", \"time\", \"time\", \"time\", \"time\", \"tin_version\", \"tire\", \"tm\", \"tm\", \"tm\", \"tomorrow\", \"treatment\", \"treatment\", \"treatment\", \"troop\", \"true\", \"true\", \"true\", \"true\", \"true\", \"true\", \"truth\", \"truth\", \"try\", \"try\", \"try\", \"try\", \"try\", \"try\", \"turk\", \"turkey\", \"turkish\", \"university\", \"university\", \"university\", \"university\", \"university\", \"university\", \"university\", \"university\", \"university_illinois\", \"university_illinois\", \"upgrade\", \"urbanaline\", \"urbanaline\", \"usaline\", \"usaline\", \"user\", \"user\", \"user\", \"user\", \"vat\", \"verse\", \"version\", \"version\", \"version\", \"version\", \"version_pl\", \"version_pl\", \"vga\", \"vice_president\", \"video\", \"video\", \"video_card\", \"view\", \"view\", \"view\", \"view\", \"village\", \"wam_umd\", \"want\", \"want\", \"want\", \"want\", \"want\", \"war\", \"way\", \"way\", \"way\", \"way\", \"way\", \"way\", \"well\", \"well\", \"well\", \"well\", \"well\", \"western_digital\", \"wheel\", \"widget\", \"wife\", \"win\", \"win\", \"win\", \"window\", \"window_manag\", \"window_manag\", \"wing\", \"wing\", \"wire\", \"wire\", \"wiring\", \"wm\", \"wm\", \"wm_wm\", \"woman\", \"woman\", \"woman\", \"woman\", \"wonderful\", \"word\", \"word\", \"word\", \"word\", \"word\", \"word\", \"work\", \"work\", \"work\", \"work\", \"work\", \"work\", \"world\", \"world\", \"world\", \"world\", \"world\", \"world\", \"world\", \"worship\", \"year\", \"year\", \"year\", \"year\", \"year\", \"year\", \"year\", \"year\", \"youth\", \"zone\"]}, \"R\": 30, \"lambda.step\": 0.01, \"plot.opts\": {\"xlab\": \"PC1\", \"ylab\": \"PC2\"}, \"topic.order\": [1, 2, 3, 4, 5, 6, 7, 8, 9, 10]};\n",
              "\n",
              "function LDAvis_load_lib(url, callback){\n",
              "  var s = document.createElement('script');\n",
              "  s.src = url;\n",
              "  s.async = true;\n",
              "  s.onreadystatechange = s.onload = callback;\n",
              "  s.onerror = function(){console.warn(\"failed to load library \" + url);};\n",
              "  document.getElementsByTagName(\"head\")[0].appendChild(s);\n",
              "}\n",
              "\n",
              "if(typeof(LDAvis) !== \"undefined\"){\n",
              "   // already loaded: just create the visualization\n",
              "   !function(LDAvis){\n",
              "       new LDAvis(\"#\" + \"ldavis_el2061382434774193124219956537\", ldavis_el2061382434774193124219956537_data);\n",
              "   }(LDAvis);\n",
              "}else if(typeof define === \"function\" && define.amd){\n",
              "   // require.js is available: use it to load d3/LDAvis\n",
              "   require.config({paths: {d3: \"https://d3js.org/d3.v5\"}});\n",
              "   require([\"d3\"], function(d3){\n",
              "      window.d3 = d3;\n",
              "      LDAvis_load_lib(\"https://cdn.jsdelivr.net/gh/bmabey/pyLDAvis@3.4.0/pyLDAvis/js/ldavis.v3.0.0.js\", function(){\n",
              "        new LDAvis(\"#\" + \"ldavis_el2061382434774193124219956537\", ldavis_el2061382434774193124219956537_data);\n",
              "      });\n",
              "    });\n",
              "}else{\n",
              "    // require.js not available: dynamically load d3 & LDAvis\n",
              "    LDAvis_load_lib(\"https://d3js.org/d3.v5.js\", function(){\n",
              "         LDAvis_load_lib(\"https://cdn.jsdelivr.net/gh/bmabey/pyLDAvis@3.4.0/pyLDAvis/js/ldavis.v3.0.0.js\", function(){\n",
              "                 new LDAvis(\"#\" + \"ldavis_el2061382434774193124219956537\", ldavis_el2061382434774193124219956537_data);\n",
              "            })\n",
              "         });\n",
              "}\n",
              "</script>"
            ],
            "text/plain": [
              "<IPython.core.display.HTML object>"
            ]
          },
          "execution_count": 25,
          "metadata": {},
          "output_type": "execute_result"
        }
      ],
      "source": [
        "from gensim.models import LdaModel\n",
        "import pyLDAvis.gensim_models as gensimvis\n",
        "import pyLDAvis\n",
        "from gensim.corpora import Dictionary\n",
        "\n",
        "# Define LDA parameters\n",
        "num_topics = 10  # Define the number of topics\n",
        "chunksize = 1000  # Number of documents to be used in each training chunk\n",
        "alpha = 'auto'  # Hyperparameter affecting the sparsity of the topics\n",
        "passes = 20  # Total number of training passes\n",
        "\n",
        "# Build LDA model\n",
        "lda_model = LdaModel(corpus=corpus, id2word=id2word, num_topics=num_topics,\n",
        "                     chunksize=chunksize, alpha=alpha, passes=passes)\n",
        "\n",
        "# Print the topics generated by the model\n",
        "for topic_id, topic in lda_model.print_topics():\n",
        "    print(f\"Topic {topic_id}: {topic}\")\n",
        "\n",
        "\n",
        "# Create Dictionary object from corpus\n",
        "dictionary = Dictionary.from_corpus(corpus, id2word=id2word)\n",
        "\n",
        "# Visualize the topics\n",
        "lda_display = gensimvis.prepare(lda_model, corpus, dictionary, sort_topics=False)\n",
        "pyLDAvis.display(lda_display)\n"
      ]
    },
    {
      "cell_type": "markdown",
      "metadata": {
        "id": "NYstjHQYZbla"
      },
      "source": [
        "### Print the Keyword in the 10 topics"
      ]
    },
    {
      "cell_type": "code",
      "execution_count": 26,
      "metadata": {
        "colab": {
          "base_uri": "https://localhost:8080/"
        },
        "id": "NU61oyvqZbla",
        "outputId": "b4a68b02-9489-4df7-e50e-161e71f1e95d"
      },
      "outputs": [
        {
          "name": "stdout",
          "output_type": "stream",
          "text": [
            "Topic 0 : 0.021*\"window\" + 0.017*\"key\" + 0.014*\"drive\" + 0.014*\"bit\" + 0.013*\"run\" + 0.013*\"card\" + 0.011*\"chip\" + 0.011*\"software\" + 0.010*\"problem\" + 0.009*\"machine\"\n",
            "Topic 1 : 0.020*\"think\" + 0.018*\"know\" + 0.018*\"people\" + 0.018*\"say\" + 0.014*\"go\" + 0.014*\"time\" + 0.013*\"come\" + 0.012*\"article\" + 0.012*\"thing\" + 0.010*\"s\"\n",
            "Topic 2 : 0.029*\"game\" + 0.028*\"team\" + 0.023*\"year\" + 0.020*\"play\" + 0.015*\"good\" + 0.014*\"win\" + 0.014*\"player\" + 0.011*\"season\" + 0.008*\"hockey\" + 0.008*\"well\"\n",
            "Topic 3 : 0.017*\"space\" + 0.010*\"year\" + 0.009*\"program\" + 0.007*\"new\" + 0.006*\"information\" + 0.006*\"research\" + 0.005*\"technology\" + 0.005*\"service\" + 0.005*\"datum\" + 0.005*\"include\"\n",
            "Topic 4 : 0.879*\"ax\" + 0.060*\"max\" + 0.002*\"ei\" + 0.001*\"rlk\" + 0.001*\"tm\" + 0.001*\"resistor\" + 0.001*\"pl_pl\" + 0.001*\"bj\" + 0.001*\"wm\" + 0.001*\"bhj_bhj\"\n",
            "Topic 5 : 0.020*\"article\" + 0.019*\"organization\" + 0.019*\"nntp_poste\" + 0.018*\"line\" + 0.014*\"host\" + 0.013*\"good\" + 0.012*\"know\" + 0.012*\"car\" + 0.011*\"need\" + 0.011*\"look\"\n",
            "Topic 6 : 0.017*\"drug\" + 0.013*\"health\" + 0.013*\"rate\" + 0.012*\"child\" + 0.012*\"patient\" + 0.010*\"disease\" + 0.010*\"m\" + 0.010*\"_\" + 0.009*\"age\" + 0.009*\"study\"\n",
            "Topic 7 : 0.041*\"file\" + 0.018*\"image\" + 0.017*\"program\" + 0.012*\"information\" + 0.012*\"list\" + 0.012*\"available\" + 0.011*\"include\" + 0.011*\"server\" + 0.011*\"send\" + 0.010*\"source\"\n",
            "Topic 8 : 0.012*\"people\" + 0.009*\"law\" + 0.008*\"right\" + 0.008*\"state\" + 0.007*\"believe\" + 0.007*\"mean\" + 0.007*\"gun\" + 0.007*\"question\" + 0.006*\"government\" + 0.006*\"claim\"\n",
            "Topic 9 : 0.014*\"armenian\" + 0.013*\"war\" + 0.013*\"people\" + 0.010*\"government\" + 0.009*\"israeli\" + 0.009*\"kill\" + 0.008*\"year\" + 0.007*\"turkish\" + 0.007*\"jewish\" + 0.007*\"attack\"\n"
          ]
        },
        {
          "name": "stderr",
          "output_type": "stream",
          "text": [
            "/usr/local/lib/python3.10/dist-packages/ipykernel/ipkernel.py:283: DeprecationWarning: `should_run_async` will not call `transform_cell` automatically in the future. Please pass the result to `transformed_cell` argument and any exception that happen during thetransform in `preprocessing_exc_tuple` in IPython 7.17 and above.\n",
            "  and should_run_async(code)\n"
          ]
        }
      ],
      "source": [
        "# Print the keywords in each topic\n",
        "topics = lda_model.show_topics(num_topics=num_topics, num_words=10)\n",
        "for topic in topics:\n",
        "    print(\"Topic\", topic[0], \":\", topic[1])"
      ]
    },
    {
      "cell_type": "markdown",
      "metadata": {
        "id": "Zzay83KDZbla"
      },
      "source": [
        "## Evaluation of Topic Models\n",
        "- Model Perplexity\n",
        "- Topic Coherence\n",
        "\n",
        "### Model Perplexity\n",
        "\n",
        "Model perplexity is a measurement of **how well** a **probability distribution** or probability model **predicts a sample**"
      ]
    },
    {
      "cell_type": "code",
      "execution_count": 27,
      "metadata": {
        "colab": {
          "base_uri": "https://localhost:8080/"
        },
        "id": "ZPncRelSZbla",
        "outputId": "250777bf-8827-4b3c-d1af-ee21a2f96f04"
      },
      "outputs": [
        {
          "name": "stderr",
          "output_type": "stream",
          "text": [
            "/usr/local/lib/python3.10/dist-packages/ipykernel/ipkernel.py:283: DeprecationWarning: `should_run_async` will not call `transform_cell` automatically in the future. Please pass the result to `transformed_cell` argument and any exception that happen during thetransform in `preprocessing_exc_tuple` in IPython 7.17 and above.\n",
            "  and should_run_async(code)\n"
          ]
        },
        {
          "name": "stdout",
          "output_type": "stream",
          "text": [
            "Perplexity: -7.340101815294145\n"
          ]
        }
      ],
      "source": [
        "# Compute perplexity\n",
        "perplexity = lda_model.log_perplexity(corpus)\n",
        "print(\"Perplexity:\", perplexity)\n"
      ]
    },
    {
      "cell_type": "markdown",
      "metadata": {
        "id": "nJyXNQJuZbla"
      },
      "source": [
        "### Topic Coherence\n",
        "Topic Coherence measures score a single topic by measuring the **degree of semantic similarity** between **high scoring words** in the topic."
      ]
    },
    {
      "cell_type": "code",
      "execution_count": 33,
      "metadata": {
        "colab": {
          "base_uri": "https://localhost:8080/"
        },
        "id": "Gs-Nq1O3Zbla",
        "outputId": "d02840ca-f968-47cc-931e-eeff0a114425"
      },
      "outputs": [
        {
          "name": "stderr",
          "output_type": "stream",
          "text": [
            "/usr/local/lib/python3.10/dist-packages/ipykernel/ipkernel.py:283: DeprecationWarning: `should_run_async` will not call `transform_cell` automatically in the future. Please pass the result to `transformed_cell` argument and any exception that happen during thetransform in `preprocessing_exc_tuple` in IPython 7.17 and above.\n",
            "  and should_run_async(code)\n"
          ]
        },
        {
          "name": "stdout",
          "output_type": "stream",
          "text": [
            "Coherence Score: 0.6315583725846504\n"
          ]
        }
      ],
      "source": [
        "# Create a new dictionary with keys and values swapped\n",
        "id2token_swapped = {v: k for k, v in id2token.items()}\n",
        "\n",
        "# Create a new dictionary object with the swapped keys and values\n",
        "class MyDict(dict):\n",
        "    def __init__(self, id2token):\n",
        "        self.id2token = id2token\n",
        "        self.token2id = {v: k for k, v in id2token.items()}  # Add token2id attribute\n",
        "\n",
        "id2word_new = MyDict(id2token_swapped)\n",
        "\n",
        "# Compute coherence score\n",
        "coherence_model = CoherenceModel(model=lda_model, texts=data_lemmatized, dictionary=id2word_new, coherence='c_v')\n",
        "coherence_score = coherence_model.get_coherence()\n",
        "print(\"Coherence Score:\", coherence_score)"
      ]
    },
    {
      "cell_type": "markdown",
      "metadata": {
        "id": "RHwsFM_iZbla"
      },
      "source": [
        "### Visualize the Topic Model\n",
        "- Use **pyLDAvis**\n",
        "    - designed to help users **interpret the topics** in a topic model that has been fit to a corpus of text data\n",
        "    - extracts information from a fitted LDA topic model to inform an interactive web-based visualization"
      ]
    },
    {
      "cell_type": "code",
      "execution_count": 36,
      "metadata": {
        "colab": {
          "base_uri": "https://localhost:8080/",
          "height": 916
        },
        "id": "cF7ksT-ZZbla",
        "outputId": "44cb9fba-8325-496a-9477-ec060a12e3a1"
      },
      "outputs": [
        {
          "name": "stderr",
          "output_type": "stream",
          "text": [
            "/usr/local/lib/python3.10/dist-packages/ipykernel/ipkernel.py:283: DeprecationWarning: `should_run_async` will not call `transform_cell` automatically in the future. Please pass the result to `transformed_cell` argument and any exception that happen during thetransform in `preprocessing_exc_tuple` in IPython 7.17 and above.\n",
            "  and should_run_async(code)\n"
          ]
        },
        {
          "data": {
            "text/html": [
              "\n",
              "<link rel=\"stylesheet\" type=\"text/css\" href=\"https://cdn.jsdelivr.net/gh/bmabey/pyLDAvis@3.4.0/pyLDAvis/js/ldavis.v1.0.0.css\">\n",
              "\n",
              "\n",
              "<div id=\"ldavis_el2061382434459685609923280805\" style=\"background-color:white;\"></div>\n",
              "<script type=\"text/javascript\">\n",
              "\n",
              "var ldavis_el2061382434459685609923280805_data = {\"mdsDat\": {\"x\": [0.11737594839229612, 0.11422034718307085, 0.13165268707526162, 0.10061230496299946, -0.4713966899399166, 0.06885190202072818, 0.029220512493363028, 0.08394024767805262, -0.023983882198867046, -0.15049337766698806], \"y\": [-0.14133049180758, -0.03720906513453813, 0.02203902077318283, 0.21880413844706367, 0.10417811162200356, 0.06523762700678781, -0.15242349647669332, 0.246902835458278, -0.19620269128362214, -0.12999598860488176], \"topics\": [1, 2, 3, 4, 5, 6, 7, 8, 9, 10], \"cluster\": [1, 1, 1, 1, 1, 1, 1, 1, 1, 1], \"Freq\": [21.544937370202845, 17.78104065212007, 16.492181405174676, 10.104467101816853, 8.11685469041759, 7.661641193664879, 5.766720245150776, 5.602111520732963, 4.5021137403605085, 2.427932080358838]}, \"tinfo\": {\"Term\": [\"ax\", \"max\", \"file\", \"people\", \"nntp_poste\", \"window\", \"year\", \"game\", \"say\", \"team\", \"think\", \"good\", \"article\", \"key\", \"program\", \"know\", \"line\", \"drive\", \"organization\", \"m\", \"go\", \"host\", \"car\", \"play\", \"space\", \"bit\", \"image\", \"government\", \"card\", \"mail\", \"love\", \"eye\", \"sin\", \"realize\", \"dog\", \"wife\", \"cop\", \"kid\", \"mother\", \"morning\", \"boy\", \"father\", \"funny\", \"daughter\", \"eternal\", \"koresh\", \"afraid\", \"glad\", \"apartment\", \"joke\", \"complain\", \"prayer\", \"living\", \"forever\", \"suddenly\", \"tomorrow\", \"prophet\", \"wonderful\", \"pray\", \"believer\", \"remember\", \"hell\", \"happen\", \"die\", \"story\", \"day\", \"stay\", \"go\", \"stop\", \"say\", \"tell\", \"hate\", \"come\", \"stand\", \"woman\", \"talk\", \"away\", \"s\", \"see\", \"think\", \"speak\", \"live\", \"job\", \"thing\", \"take\", \"hear\", \"people\", \"hand\", \"start\", \"know\", \"time\", \"maybe\", \"man\", \"bad\", \"way\", \"leave\", \"feel\", \"want\", \"let\", \"article\", \"m\", \"life\", \"right\", \"try\", \"look\", \"believe\", \"get\", \"work\", \"good\", \"law\", \"religion\", \"faith\", \"belief\", \"atheist\", \"legal\", \"moral\", \"conclusion\", \"existence\", \"christian\", \"firearm\", \"proof\", \"illegal\", \"atheism\", \"federal\", \"worship\", \"scripture\", \"interpretation\", \"imply\", \"gift\", \"morality\", \"crypto\", \"absolute\", \"assumption\", \"debate\", \"ban\", \"constitution\", \"relationship\", \"amendment\", \"passage\", \"argument\", \"evidence\", \"gun\", \"authority\", \"church\", \"truth\", \"nature\", \"act\", \"religious\", \"bible\", \"objective\", \"claim\", \"human\", \"prove\", \"statement\", \"god\", \"exist\", \"government\", \"issue\", \"encryption\", \"state\", \"discussion\", \"view\", \"public\", \"reason\", \"believe\", \"mean\", \"fact\", \"true\", \"question\", \"example\", \"right\", \"people\", \"case\", \"word\", \"person\", \"point\", \"follow\", \"think\", \"article\", \"post\", \"good\", \"way\", \"bike\", \"thanks_advance\", \"buy\", \"dealer\", \"circuit\", \"mile\", \"usaline\", \"motorcycle\", \"gateway\", \"helmet\", \"eduin_article\", \"tire\", \"tin_version\", \"auto\", \"public_access\", \"sale\", \"mph\", \"band\", \"battery\", \"slot\", \"greatly_appreciate\", \"rider\", \"video_card\", \"wheel\", \"distribution_usaorganization\", \"technologyline\", \"communication_service\", \"detector\", \"replacement\", \"gear\", \"car\", \"cheap\", \"nntp_poste\", \"host\", \"price\", \"thank\", \"sell\", \"posting_host\", \"engine\", \"oil\", \"appreciate\", \"version_pl\", \"organization\", \"reply\", \"university\", \"line\", \"interested\", \"ride\", \"wire\", \"mail\", \"replace\", \"advice\", \"article\", \"need\", \"new\", \"model\", \"look\", \"good\", \"phone\", \"power\", \"get\", \"know\", \"help\", \"work\", \"drive\", \"want\", \"problem\", \"post\", \"question\", \"m\", \"try\", \"window\", \"machine\", \"disk\", \"mode\", \"scsi\", \"screen\", \"interface\", \"upgrade\", \"mhz\", \"printer\", \"keyboard\", \"ide\", \"mouse\", \"jumper\", \"memory\", \"chip\", \"serial\", \"pc\", \"cpu\", \"ram\", \"modem\", \"controller\", \"documentation\", \"clock\", \"vga\", \"bio\", \"configuration\", \"hard_drive\", \"connector\", \"mac\", \"card\", \"port\", \"do\", \"key\", \"software\", \"color\", \"hardware\", \"bit\", \"device\", \"instal\", \"video\", \"drive\", \"run\", \"driver\", \"datum\", \"bus\", \"set\", \"problem\", \"access\", \"support\", \"work\", \"fast\", \"version\", \"program\", \"application\", \"number\", \"time\", \"ax\", \"max\", \"ei\", \"rlk\", \"resistor\", \"pl_pl\", \"bhj_bhj\", \"fq\", \"cx\", \"giz_giz\", \"qax\", \"bhj\", \"spill\", \"eau_claire\", \"qq\", \"lk\", \"midelfort_clinic\", \"wm_wm\", \"giz\", \"rtp_ncline\", \"night_biker\", \"ninjaite_drinke\", \"gp\", \"rust\", \"showed_picture\", \"pmf\", \"bhj_giz\", \"parkline\", \"bh\", \"wam_umd\", \"bj\", \"tm\", \"wm\", \"pl\", \"sl\", \"gq\", \"launch\", \"mission\", \"orbit\", \"satellite\", \"moon\", \"ripem\", \"energy\", \"cycle\", \"flight\", \"henry_spencer\", \"surveillance\", \"spacecraft\", \"electrical\", \"mar\", \"shuttle\", \"anonymous\", \"space_shuttle\", \"engineer\", \"specification\", \"phase\", \"space_station\", \"japanese\", \"vice_president\", \"solar\", \"derive\", \"lunar\", \"astronomy\", \"regional\", \"thermal\", \"ozone\", \"space\", \"fund\", \"development\", \"rocket\", \"conference\", \"project\", \"develop\", \"probe\", \"laboratory\", \"nuclear\", \"research\", \"material\", \"technology\", \"service\", \"national\", \"program\", \"plan\", \"center\", \"commercial\", \"year\", \"earth\", \"information\", \"report\", \"design\", \"new\", \"datum\", \"cost\", \"public\", \"high\", \"include\", \"provide\", \"base\", \"area\", \"group\", \"available\", \"work\", \"science\", \"large\", \"game\", \"play\", \"player\", \"season\", \"hockey\", \"baseball\", \"nhl\", \"fan\", \"playoff\", \"score\", \"ice\", \"gordon_bank\", \"pen\", \"stat\", \"league\", \"coach\", \"pitch\", \"ranger\", \"devil\", \"catholic\", \"talent\", \"leafs\", \"verse\", \"power_play\", \"brave\", \"flyer\", \"team\", \"sciencelines_article\", \"scoring\", \"chastity_intellect\", \"urbanaline\", \"university_illinois\", \"win\", \"wing\", \"year\", \"division\", \"cap\", \"goal\", \"lose\", \"hit\", \"king\", \"good\", \"well\", \"point\", \"run\", \"time\", \"great\", \"think\", \"get\", \"second\", \"article\", \"bad\", \"home\", \"image\", \"motif\", \"entry\", \"widget\", \"archive\", \"pub\", \"mit\", \"comp\", \"gif\", \"postscript\", \"tar\", \"ftp\", \"public_domain\", \"binary\", \"jpeg\", \"gary_dare\", \"log\", \"deskjet\", \"functionality\", \"openwindow\", \"equation\", \"detection\", \"sci_space\", \"ctrl_key\", \"modification\", \"submission\", \"western_digital\", \"explosion\", \"reserve_universityline\", \"tiff\", \"file\", \"directory\", \"compile\", \"faq\", \"available_anonymous\", \"sun\", \"server\", \"string\", \"library\", \"format\", \"export\", \"client\", \"window_manag\", \"resource\", \"list\", \"program\", \"copy\", \"code\", \"available\", \"version\", \"source\", \"contain\", \"send\", \"information\", \"include\", \"graphic\", \"text\", \"author\", \"mail\", \"user\", \"request\", \"info\", \"email\", \"post\", \"application\", \"line\", \"message\", \"set\", \"number\", \"armenian\", \"war\", \"israeli\", \"turkish\", \"turk\", \"arab\", \"civilian\", \"village\", \"serdar_argic\", \"troop\", \"nazi\", \"turkey\", \"territory\", \"armenia\", \"wiring\", \"youth\", \"human_right\", \"occupy\", \"relation\", \"massacre\", \"island\", \"marry\", \"islander\", \"capital\", \"greece\", \"mountain_passe\", \"laser\", \"closed_road\", \"proceeded_work\", \"palestinian\", \"german\", \"soldier\", \"greek\", \"pair\", \"jewish\", \"population\", \"city\", \"attack\", \"nation\", \"land\", \"peace\", \"military\", \"kill\", \"history\", \"government\", \"country\", \"force\", \"black\", \"slave\", \"medium\", \"people\", \"year\", \"state\", \"world\", \"report\", \"article\", \"number\", \"area\", \"live\", \"drug\", \"health\", \"patient\", \"disease\", \"egg\", \"medicine\", \"zone\", \"physician\", \"pitcher\", \"msg\", \"opinions_employer\", \"rk\", \"funding\", \"vat\", \"diagnose\", \"ai\", \"diet\", \"abortion\", \"cancer\", \"cage\", \"steve_dyer\", \"jake_livni\", \"gene\", \"op\", \"c\", \"syndrome\", \"react\", \"sm\", \"sy\", \"infection\", \"tax\", \"medical\", \"_\", \"david_veal\", \"treatment\", \"substance\", \"food\", \"doctor\", \"rate\", \"adult\", \"age\", \"pain\", \"risk\", \"increase\", \"effect\", \"study\", \"child\", \"percent\", \"cause\", \"m\", \"report\", \"eat\", \"low\", \"result\", \"new_york\", \"difference\", \"insurance\", \"problem\", \"case\"], \"Freq\": [60576.0, 4113.0, 2174.0, 5513.0, 2760.0, 1813.0, 3358.0, 1408.0, 3831.0, 1367.0, 5358.0, 4077.0, 6222.0, 1663.0, 1922.0, 5821.0, 3811.0, 2155.0, 3687.0, 2261.0, 3001.0, 2022.0, 1652.0, 987.0, 1192.0, 1546.0, 875.0, 1348.0, 1116.0, 1593.0, 540.1856120342097, 316.0063869129762, 311.1044933507919, 291.9188924203282, 227.62898266148343, 194.2681069371058, 193.54880131905963, 193.5286525829862, 168.52225006202556, 160.32886025281928, 144.4054483169071, 128.22152983668835, 126.0243804541701, 121.97508087192149, 117.67361325506262, 113.82210567867644, 113.08808253776903, 108.56965392724005, 107.01480407896939, 106.22428567121763, 106.06801582283421, 93.930777163197, 88.33615897939322, 86.17303987495248, 84.04527690357928, 83.2487362388246, 79.91360924566476, 78.82556152354337, 78.430318293824, 78.05004817346997, 780.5070843860557, 360.98373314544426, 1086.1223463882354, 526.3459010213073, 424.00331408227294, 1621.4310697399123, 185.13536217925866, 2622.3204287400035, 631.4000051823664, 3263.1529816495295, 1794.6502223383943, 177.5049442430891, 2303.922689299142, 362.6868764132828, 373.9649716888167, 960.6952289964025, 471.80510417382845, 1813.1628640035558, 998.7383429815636, 3696.6590445520887, 467.5235190571013, 887.8650878928465, 442.70645288849227, 2120.356031886564, 1145.5421192080307, 830.7967109107955, 3288.665626489054, 701.15122346425, 1087.0790066730917, 3293.9232112694476, 2579.8647841525135, 770.3275851006563, 912.3781339148254, 950.1154812455784, 1732.8690006116935, 839.1213337404208, 624.4186598228031, 1639.753214264016, 910.6248956921828, 2182.4739462346693, 1189.401785658058, 793.4251930629148, 1125.8427894043207, 1039.0566028307449, 1094.985064004498, 932.3194189424192, 922.8489166194005, 976.8720656005702, 928.219300243605, 1347.4327668726662, 691.426886913368, 526.3792115659933, 434.6063405680523, 408.1384243091202, 315.8397963595961, 273.8004744154064, 271.9194914707387, 252.36256332943768, 252.370473413965, 244.88224248346066, 204.46596441648535, 192.4666825919074, 192.3760506011898, 174.59156146687593, 164.08928950604354, 160.7363101427022, 143.09288418245904, 143.04038758814602, 141.25391257561424, 139.07703094674469, 135.94735326960986, 135.01567714703256, 134.86112288435135, 129.55757819945018, 128.17669716554863, 121.65679241593155, 119.83520541708124, 116.37606393040032, 113.10944511213181, 609.575160332985, 798.6451647390289, 1086.4930000648296, 299.9684754249934, 417.47264045475026, 472.10777006467225, 267.6256163418543, 405.6272361411773, 330.330016535727, 188.04554299196107, 229.99004938961644, 894.702207828834, 463.51643390191776, 369.4224628562084, 424.73996909135474, 288.46993710692664, 682.1845332160486, 979.6688202282858, 776.0869395924717, 416.01613022378467, 1188.1488361390097, 428.01467377380675, 530.7445938590047, 693.2043707964871, 888.8004410290966, 1124.2894932922845, 1093.3074148393648, 856.1025421964397, 761.5787898914122, 1081.5634353873977, 611.6288292118671, 1198.031027784762, 1744.1718101677611, 835.3298867971849, 628.5835504792642, 647.7600562886975, 828.8403128272388, 595.8571050304464, 752.3971856432627, 755.4820482970588, 565.0901457207387, 578.3252639959354, 563.5131912693703, 517.5243357806875, 304.4831835429762, 1099.2168796998615, 203.19522264226265, 194.31094163165025, 188.1340087959961, 471.1999155178319, 164.216181532296, 161.01906641621096, 155.57345801168805, 140.43377384958785, 137.24083251302775, 133.6571292203606, 133.91741165483523, 124.00435920663632, 569.0073192827704, 121.23297775400579, 118.61058881773633, 110.01949951492294, 109.71060722242669, 108.45600333527236, 104.72171790318286, 103.04872522630832, 100.64847592295672, 100.383041479381, 95.88495439423205, 94.77904955456596, 90.81012760672328, 89.74966968278258, 88.36838506551656, 1623.3981981768734, 406.85419131892644, 2645.6106716705917, 1920.0305350411365, 750.5902061264079, 1294.8605776098873, 722.1764846421921, 1256.0179506143152, 333.04380250187756, 172.83655250708884, 326.77961158803066, 243.82859669993874, 2657.9893191578294, 903.5463782994489, 1083.640399728183, 2577.6816273189365, 563.4839090192909, 284.1204871164065, 244.24613769069296, 1066.5652068305349, 278.5747080032856, 221.18695143746027, 2845.02655325687, 1549.5313002979753, 1437.53066578969, 443.80743310346617, 1490.3370634776963, 1758.1992772154993, 446.9164097347399, 651.2952086450151, 948.173407209418, 1675.122152231215, 767.7939383903625, 1115.1664564318842, 893.4930477300297, 1058.9149298225855, 934.78816148832, 825.799756706227, 826.4180630136601, 741.4021522247479, 722.7017939245857, 1812.4462058904674, 753.1529046050903, 609.6077994121998, 436.2876081722443, 423.38337407596555, 398.51243959151066, 266.882431275715, 248.79906662862444, 247.65731647055125, 216.2017499983507, 195.53705106562018, 193.34071533284512, 191.48792353214753, 186.8126414325449, 528.9213645930176, 925.2335727163058, 165.21301593774209, 569.490514680433, 153.53715717338443, 146.639857454249, 145.21154099228426, 213.7821986134995, 138.13212063551114, 137.420569550559, 137.02322451304514, 135.75947790107386, 128.29206227186086, 127.67808437627058, 127.12535942879319, 124.4493687608444, 1078.6302137088187, 256.0316892791366, 593.7177138439179, 1467.7657579251252, 920.4956391994552, 569.0203893135076, 407.36494899735175, 1184.2355704819167, 414.2791801820859, 290.2640161095278, 329.7466955259632, 1236.867475808952, 1106.3318095475531, 558.8343796530546, 619.9417271508746, 275.19942689350444, 661.5554138133502, 851.6605110866815, 353.9962502174776, 538.263977496284, 724.8848888104206, 386.197840038808, 418.647438372165, 528.4160777164125, 373.90209984129734, 390.7717930605148, 396.5713244758727, 60575.64394235003, 4112.679407082813, 108.40917314850219, 68.82824051957371, 59.6224105010023, 51.38767151604346, 41.99665607990628, 41.861497244909295, 41.96674203710951, 40.91741149859085, 40.06787836045259, 34.9343983233329, 26.420862144580337, 24.425746745322037, 24.403186838851248, 24.351645697382807, 23.535089822491333, 22.623957266960343, 22.57775619938709, 21.70253774714141, 21.171563487498773, 21.171563487498773, 21.232711546279024, 21.086527524907908, 19.802632936618373, 19.490868509769246, 18.766566323191732, 18.605018054651865, 18.490894537034634, 16.426827590095908, 50.252695179297525, 62.57701200243679, 49.60961146446845, 39.58319945218226, 29.564837671504403, 22.111207865070433, 285.3591539839625, 216.91587512649258, 184.11980975912928, 179.84429943718234, 165.5679268700549, 162.05261768611828, 139.13836425420283, 136.232712630452, 128.7169555401589, 110.42470654644814, 98.56809704093519, 97.38311549061184, 96.10309364976011, 89.01014012161842, 86.22838625627239, 84.75734464118365, 84.58776725318236, 77.71822051571849, 76.73427175079557, 75.59486379212902, 71.04102660087648, 69.29986090853204, 68.947443815928, 67.24760262351366, 61.664599060193275, 58.31476586823299, 57.59100391078786, 57.53762516935506, 54.4793432926091, 53.812944073474206, 1119.2326349206216, 173.947711389605, 204.01710202715958, 101.71595446724554, 120.19238378808244, 244.8442991683284, 270.3743267934, 106.36347617822598, 111.2817203234076, 93.49532532105161, 363.4327985252895, 191.00476229440432, 353.5365502817649, 333.8348222711017, 243.06231644333673, 596.5743568127531, 244.08518870626932, 224.76194039896157, 167.20294101061774, 650.3158388890057, 202.9048700776113, 381.9466592388417, 267.241905461455, 234.4009708973201, 467.1621105019594, 312.50904747249643, 243.63202799680857, 278.5800879056198, 290.94135468859656, 304.83150678277025, 258.73581460744117, 265.62840187437484, 231.63428956768902, 265.51445653402504, 254.41855563380528, 286.10396447243875, 210.79500168816557, 213.75170300574501, 1407.3986711509233, 986.8238452327704, 689.5707820634262, 518.7121991751544, 394.09684305078343, 250.10823411234327, 245.12119084525654, 244.69565590693043, 234.79216881378673, 182.89469301888056, 152.7332937722774, 150.86605713491093, 150.85744883743394, 149.71497383903747, 140.85261186843204, 131.9154090175101, 118.54088535586641, 112.71325039144047, 107.55530676556882, 105.95278382690869, 102.93742834048203, 99.9939378858401, 86.47731460637426, 85.60492351610354, 83.68114575663326, 81.41720342619972, 1352.1480411552186, 79.44549284210258, 71.18066643444463, 70.37259813916255, 116.29142890880308, 134.0767871890638, 696.5477672625117, 190.60347471725828, 1144.5087001241234, 215.1663679346641, 101.69797032441764, 238.81273400943704, 313.64891681791505, 252.80649640521688, 150.57807252872044, 747.8610190008338, 380.1389960683182, 318.7473548748696, 304.9381178914972, 371.0504354041419, 248.0916805693362, 332.5553148657686, 267.26848177343385, 189.30586793677978, 202.34176055860016, 165.26330354541358, 159.40829305483896, 874.8526279990864, 339.9717871545644, 333.7777869273567, 263.4818311930881, 252.19478893103553, 176.55989816739043, 150.5871847897226, 119.24291679398928, 110.73642586834376, 106.6715045334275, 105.30018588595102, 81.16928303302171, 72.10808741761758, 70.76283675043977, 65.45741294876396, 58.878230206631265, 54.83924393688147, 53.98370799795713, 52.56974020744264, 52.37545151297961, 51.96334814565782, 49.593931003733736, 44.59956460920569, 43.44145844813628, 39.88857881461434, 39.42633044461267, 39.27995765530026, 38.781741896717826, 38.39507793188209, 37.77650752111134, 1951.45341350937, 259.5585752365529, 141.85163678628817, 287.59170576448054, 76.54184824433129, 305.4683258396284, 521.8184733144731, 134.59820326926263, 196.2242489228713, 328.16974306036127, 112.94211925807554, 190.8299325884201, 104.93446989975979, 189.83718946617321, 568.7441164253166, 797.1788855653775, 333.8481654898456, 340.75583136676784, 552.4396829911511, 435.06582986212766, 463.81218298932924, 298.957212259563, 519.9397622261632, 590.5562428016822, 536.0360062582919, 290.6452315536008, 232.7764197801744, 220.6583921117371, 435.43484657410136, 297.0461584890896, 225.6368391501214, 289.41093733114013, 283.67941530635017, 374.29206926483545, 271.1523634711532, 401.6419717083176, 276.57206659585063, 298.66683700079534, 266.19504993878536, 548.5823506979178, 484.61841244561214, 346.31731736010795, 261.75798075406425, 188.76441773064374, 165.39340533590104, 152.42641033604474, 146.57040751636788, 118.84460304796492, 100.58462713129686, 97.01887218770203, 93.4824117229665, 92.18273737799917, 85.52617902787888, 84.15772363212281, 82.8246690696768, 82.23960732188444, 73.81847721123204, 73.7237129991579, 71.9946088323708, 70.18909067173152, 70.09980081532387, 64.95395989715814, 62.245092939023756, 58.250580228654414, 58.06646830112899, 57.657649650928406, 57.481286384553705, 57.481286384553705, 56.91412088402558, 133.89052689378488, 192.22111282769222, 217.91462283929704, 101.11779376764903, 257.7363677577979, 159.82572748271804, 230.7775249689678, 257.5934648214238, 132.29404455638843, 188.30236430960815, 162.97076706660286, 171.2822097826203, 338.96053106119814, 226.9824879875554, 367.934025749215, 232.31641530447436, 225.65491668216723, 172.98865990847852, 146.25374051988678, 150.29741116386305, 480.05958267993947, 313.7149746667659, 247.52458481002338, 215.70098923837205, 188.36022335323787, 235.6531730547741, 192.19836087145873, 159.27369879814256, 161.37579796573212, 347.86084075464, 272.920205820821, 240.24895018523213, 211.0723900775925, 88.81802287124594, 75.20151779530515, 66.80579981376381, 65.37033442403488, 61.917138405480046, 60.210286866057324, 58.04330201558994, 58.2608708142345, 56.75431141246034, 54.79762754603681, 53.01650412583328, 52.828140996958, 51.89669422942279, 50.42574903935448, 47.21811298650942, 45.222209803515355, 43.74806274268174, 43.44695727978254, 43.37750980697644, 41.98868036100304, 40.40531446410912, 39.432190572159556, 38.692006378690394, 38.67777797546945, 38.6244862688712, 38.286448882834264, 159.28769411927215, 148.53500562117875, 209.46170027005974, 61.63950212724588, 149.18912813686623, 53.90727225339068, 178.86825234369826, 150.82683462905737, 267.7995167911864, 94.7470810603923, 195.34439764431428, 112.79578174371416, 142.75579690401105, 175.9704200893247, 179.64872154385773, 187.37182584601152, 243.02164545743182, 82.39579017693559, 174.37812543737311, 210.74761381297859, 140.68461375498774, 85.88405316091854, 108.31113690097818, 98.88088343423308, 74.13637012139021, 83.95947440945507, 75.60274052459296, 84.28259933442392, 81.5056317009332], \"Total\": [60576.0, 4113.0, 2174.0, 5513.0, 2760.0, 1813.0, 3358.0, 1408.0, 3831.0, 1367.0, 5358.0, 4077.0, 6222.0, 1663.0, 1922.0, 5821.0, 3811.0, 2155.0, 3687.0, 2261.0, 3001.0, 2022.0, 1652.0, 987.0, 1192.0, 1546.0, 875.0, 1348.0, 1116.0, 1593.0, 541.1241730181788, 316.94151536407026, 312.03953792273273, 292.98285081811173, 228.56405363207284, 195.20320054960413, 194.4838581690501, 194.50146364251725, 169.45734370885378, 161.26393037263097, 145.3405832076278, 129.15656864429153, 126.95946848282938, 122.91015153026405, 118.60869248781353, 114.75712114915208, 114.02318597957569, 109.5047828910388, 107.94979055139105, 107.1594040483298, 107.00315242721798, 94.86581376230156, 89.27133391010977, 87.10820704544638, 84.98044657485343, 84.18381353949057, 80.84864925126537, 79.76065737756132, 79.36537804478131, 78.98513441314753, 790.2585656018283, 367.3285522723726, 1131.6215304489417, 557.0685763233421, 447.52728317435, 1784.7641494712161, 191.0237750729301, 3001.7163189236817, 686.1485106325898, 3831.5517674366133, 2146.577566333687, 184.68751641814288, 2831.2741228329264, 396.7432154767064, 411.9701695285054, 1145.0431285019688, 528.9865453522098, 2301.9170090430284, 1225.7390962150898, 5358.547396577984, 540.3338095027274, 1116.5349706976458, 509.25164341349154, 3022.2665613184076, 1535.779837543047, 1078.8648306491841, 5513.625548478887, 883.9697016076591, 1505.139220406578, 5821.390603604329, 4387.557090796877, 998.0852490276019, 1236.4916197328114, 1341.6863980156695, 3039.2341733592552, 1158.268223129581, 784.216813346785, 3086.8963771553244, 1389.2404494799832, 6222.557992844877, 2261.6127032605254, 1139.9007683871416, 2768.8329225681973, 2406.5522768987735, 2994.2175590889697, 2064.941981437802, 2161.8896706082646, 3166.6157896548643, 4077.6846542922085, 1348.3694784425084, 692.3635254306784, 527.3158383282712, 435.5429685323924, 409.0750331979714, 316.7800659588947, 274.737092125001, 272.85618406006085, 253.29926112736067, 253.30726374278413, 245.8188765689035, 205.40276093304684, 193.40340458783257, 193.31267505778783, 175.52833172824427, 165.02601710755658, 161.67292085908213, 144.0296085202863, 143.9770739074787, 142.1911678366479, 140.01361727844636, 136.88405384161058, 135.95244566000113, 135.79781479156625, 130.49429546905174, 129.11337998973792, 122.59341922045657, 120.77194882977497, 117.31277161765837, 114.04610393033815, 626.0339906073955, 830.120968731487, 1137.5522295614528, 307.6356267500873, 437.16482528720303, 500.5785275792645, 277.1835942296337, 428.8485531163679, 349.2284559492848, 193.24290662640496, 240.9526059999306, 1094.8919953168202, 530.5716994630361, 415.137743393945, 490.4783209550855, 317.2104274425356, 865.0777013343003, 1348.435219668361, 1042.3805201825635, 495.05263591091295, 1786.4580025185649, 512.807135994205, 679.6010399480908, 976.9907515149597, 1378.7117790978589, 2064.941981437802, 2103.810016296397, 1487.4362327042804, 1289.875586762254, 2254.4072373478293, 935.429927534707, 2768.8329225681973, 5513.625548478887, 1669.9976478006315, 1052.5194805805243, 1147.0625877933062, 2185.5380337298748, 1515.9156278825321, 5358.547396577984, 6222.557992844877, 2040.458842371502, 4077.6846542922085, 3039.2341733592552, 518.4624849616902, 305.42137470707365, 1102.952362589302, 204.1334359484767, 195.24915866638798, 189.07228183389267, 473.5607098227281, 165.1543684136588, 161.95728866571093, 156.5116496365394, 141.3768007022067, 138.179001957739, 134.595378892561, 134.8817044695858, 124.94264937085694, 573.347741228231, 122.17129120420579, 119.54901174595969, 110.95770380889, 110.6488956515949, 109.39424484863676, 105.65993915936794, 103.98696291974002, 101.58664795761445, 101.32137615799758, 96.82320278011589, 95.71732389909764, 91.7483343562758, 90.68797891049098, 89.30661856737395, 1652.3405169054874, 411.6865635672699, 2760.0777357973902, 2022.2636610183274, 777.2108037214063, 1360.4172089771132, 777.4562779522593, 1428.1353875418108, 355.99184881166224, 179.31418678563458, 353.2923613012497, 259.63159385131945, 3687.01642284416, 1113.6089814857382, 1414.4706285772074, 3811.981385859672, 680.0222075097074, 317.83926330567823, 268.88363901261624, 1593.123383983642, 320.16849921594576, 241.68225059816567, 6222.557992844877, 2870.8885864158033, 2658.7136477985855, 584.9910191846105, 2994.2175590889697, 4077.6846542922085, 623.8131811232753, 1089.2951984184795, 2161.8896706082646, 5821.390603604329, 1576.7985104728336, 3166.6157896548643, 2155.8572460343667, 3086.8963771553244, 2627.0108875227897, 2040.458842371502, 2254.4072373478293, 2261.6127032605254, 2406.5522768987735, 1813.3853438404958, 754.0933606480011, 610.5468866220879, 437.22677964186477, 424.32240596950487, 399.4516247460187, 267.82151875529235, 249.73913840378953, 248.5968284514519, 217.14083535157152, 196.47614993422138, 194.2797624138097, 192.42713604211121, 187.75170370687837, 531.8181861997695, 930.4856822028319, 166.15210102457186, 572.8469251978962, 154.4762173774474, 147.57961616801998, 146.1506594090929, 215.18545429357457, 139.07142322150173, 138.35968958236387, 137.96227415908106, 136.69852392430545, 129.23119470344986, 128.61714564432327, 128.06445372953368, 125.38847306374849, 1116.3545052436034, 260.3542185447376, 636.8129899939113, 1663.962974023926, 1042.2454602506182, 649.8707244061325, 452.49964051477576, 1546.66123436098, 511.2824974063806, 336.5468132296603, 398.5317924790239, 2155.8572460343667, 2055.6437245328716, 882.3534171029701, 1119.1865415362024, 336.74303821513826, 1404.9294128829893, 2627.0108875227897, 550.7978023764739, 1268.785095951892, 3166.6157896548643, 711.1830774485677, 895.1902535218452, 1922.8992482615395, 742.9398992652737, 1907.40970783012, 4387.557090796877, 60576.552906535995, 4113.588360070651, 109.3182567963653, 69.73765626356553, 60.540442140005155, 52.29665291762665, 42.905619910616814, 42.77044402444653, 42.879099281239846, 41.826358334382846, 40.976825111862446, 35.84352755178919, 27.343644867920023, 25.335181028989467, 25.31214203592941, 25.26558058833998, 24.444531862741087, 23.532904074624952, 23.486707721383087, 22.6118768397888, 22.08079116614775, 22.08079116614775, 22.1513269351942, 21.99975274788355, 20.711837290780842, 20.3998152611791, 19.675513102728964, 19.515782443654803, 19.40035467569659, 17.337270291493958, 65.77399576484058, 118.55353669371607, 84.52929638937988, 78.8304182422639, 59.10270481392067, 30.287025080087528, 286.30010335618334, 217.85683316158617, 185.06073189590188, 180.78521805769415, 166.50892283031942, 162.99391319602128, 140.07940503813674, 137.17377750518045, 129.65795679522915, 111.36563808213967, 99.50922440392652, 98.3240390226059, 97.04421924355016, 89.95109670025744, 87.16930353408542, 85.69838646851116, 85.5287127009945, 78.659287668625, 77.67580522403337, 76.53591988328587, 71.98194138818042, 70.24088670715956, 69.8884469128828, 68.18857546563811, 62.60583978387609, 59.25567784770422, 58.53211637545945, 58.47867782953398, 55.42036358884765, 54.75392048144529, 1192.1073320622945, 192.8987384007124, 247.41100616062693, 112.16520216477224, 137.4337525319027, 321.3181918192374, 372.72913292421737, 120.42868610314467, 130.2065598369037, 104.01816424002226, 683.5041738804574, 284.3194539877538, 705.5129834846948, 654.8152890516218, 421.4599337583893, 1922.8992482615395, 486.3322067112908, 425.4949099525319, 264.89843164952356, 3358.5386368995246, 400.7984822592301, 1571.233908691631, 770.0189765062404, 600.460724388029, 2658.7136477985855, 1119.1865415362024, 683.0209152160606, 976.9907515149597, 1169.4041682778516, 1647.013742845989, 1041.6714735546323, 1211.677903358886, 701.9198464864941, 1527.2561761597658, 1247.5925662042755, 3166.6157896548643, 603.2383924905278, 820.8468111306905, 1408.3396008868747, 987.829271654639, 690.511666714099, 519.6532900032278, 395.03771252087836, 251.04911483403956, 246.0620588944717, 245.63658385291598, 235.7330294707122, 183.83562554192721, 153.6742834992935, 151.80699539162498, 151.79842315800428, 150.6559578518833, 141.79360053248698, 132.8563370989062, 119.48178168113338, 113.6542034277011, 108.49632152436787, 106.89386005482672, 103.8783815172217, 100.93479675783556, 87.4183850794829, 86.54578085646946, 84.62203867665887, 82.35813851853902, 1367.7945469317585, 80.38644482820607, 72.12152697843486, 71.31350660651573, 122.27309148784285, 142.49329721558414, 914.6702151986335, 224.78021395540495, 3358.5386368995246, 332.96944157111056, 111.20093363356813, 409.1822661227566, 624.3664143407095, 455.9234916013908, 201.64918452995045, 4077.6846542922085, 1800.1305323990553, 2185.5380337298748, 2055.6437245328716, 4387.557090796877, 1302.371617869276, 5358.547396577984, 2161.8896706082646, 940.9306030686803, 6222.557992844877, 1341.6863980156695, 782.3772488332759, 875.780110298625, 340.8991816366207, 334.70523286493096, 264.40920760466486, 253.1222481956505, 177.48730334000902, 151.51459111715891, 120.17036933162404, 111.66384705335705, 107.59892101639107, 106.227624492942, 82.0967008439997, 73.03551548572567, 71.69027877889297, 66.38482996344995, 59.80586809547164, 55.7667180325112, 54.91148774414844, 53.49717950296516, 53.30285340606716, 52.8909712196685, 50.52195460374934, 45.527021001918776, 44.36899244323198, 40.81639053962915, 40.35384314184317, 40.20752632482431, 39.71004069416427, 39.32284629443079, 38.70390726331658, 2174.9446717778906, 276.82720825914333, 154.25443619703978, 325.6155062946954, 81.0173721536016, 362.27271605393827, 649.350229403727, 150.23464125859076, 240.06043335825737, 449.4177236704124, 136.36536982638177, 276.0572340476743, 128.5124955353351, 276.9167660734602, 1202.8036937299505, 1922.8992482615395, 613.929379729513, 633.1397044270225, 1247.5925662042755, 895.1902535218452, 983.9577523145247, 535.165708158861, 1276.9057254594557, 1571.233908691631, 1647.013742845989, 588.7239240440219, 405.00531080046414, 378.40062672972766, 1593.123383983642, 733.285148668148, 415.37834989374386, 827.5525942843993, 785.3577716834853, 2040.458842371502, 742.9398992652737, 3811.981385859672, 830.7321926339713, 1404.9294128829893, 1907.40970783012, 549.5167021283164, 485.5528448374551, 347.2516738137024, 262.6923164158144, 189.69876618928055, 166.32775427281422, 153.36083060971785, 147.50476125791104, 119.7789325514487, 101.51900267409437, 97.95323073842054, 94.41675985079871, 93.1171619099829, 86.46052452316559, 85.09292380785958, 83.75930859921743, 83.173964913572, 74.75296362611114, 74.65831341379058, 72.9289671019213, 71.12358858074548, 71.0344035786894, 65.88871289849263, 63.18020081049573, 59.18492674528717, 59.00080035793456, 58.59246794375208, 58.41561488019839, 58.41561488019839, 57.84847307731307, 141.68629381733447, 213.21949700248538, 248.72981319407415, 114.02117830677622, 358.1300067623724, 229.91573541608838, 407.54018250337685, 480.77324636551447, 184.31265159018233, 315.6320551719679, 269.1335677350636, 296.22926498692425, 941.7664286117358, 509.4678949866801, 1348.435219668361, 629.6201929754352, 596.2246634303424, 351.77307311589453, 254.60210391353976, 295.90999226500264, 5513.625548478887, 3358.5386368995246, 1786.4580025185649, 1194.3830417558354, 770.0189765062404, 6222.557992844877, 1907.40970783012, 701.9198464864941, 1116.5349706976458, 348.8155145115828, 273.8678523916088, 241.19648344923587, 212.01992978939273, 89.76563061724076, 76.14911111387204, 67.75376429358005, 66.31785463034214, 62.86486542340111, 61.157788798125345, 58.99092963643424, 59.21289353744725, 57.70211304804523, 55.74607731569436, 53.96405696656702, 53.77573138591689, 52.8442767543648, 51.37347292205985, 48.16570775666098, 46.16991375879693, 44.695559332139226, 44.39448962893159, 44.325146547327364, 42.93660392466959, 41.35284357697579, 40.37970899985183, 39.63985334943162, 39.62596802388945, 39.57204836962177, 39.23395328644599, 180.96381871260618, 172.89102852281115, 259.8392380786337, 67.03311344392743, 191.6173358025651, 58.31454975114513, 248.7473918574667, 220.5370858978875, 554.2538567613276, 132.48750795077729, 391.59353552072696, 191.8384662773186, 295.86525817883546, 472.94437489706763, 497.01352604032843, 539.9411306883142, 920.7476561478093, 136.58286221942893, 774.1528764165661, 2261.6127032605254, 770.0189765062404, 180.958403162446, 684.6442767964616, 710.076031651613, 177.99955276939778, 609.7331444461678, 222.78697154409696, 2627.0108875227897, 1669.9976478006315], \"Category\": [\"Default\", \"Default\", \"Default\", \"Default\", \"Default\", \"Default\", \"Default\", \"Default\", \"Default\", \"Default\", \"Default\", \"Default\", \"Default\", \"Default\", \"Default\", \"Default\", \"Default\", \"Default\", \"Default\", \"Default\", \"Default\", \"Default\", \"Default\", \"Default\", \"Default\", \"Default\", \"Default\", \"Default\", \"Default\", \"Default\", \"Topic1\", \"Topic1\", \"Topic1\", \"Topic1\", \"Topic1\", \"Topic1\", \"Topic1\", \"Topic1\", \"Topic1\", \"Topic1\", \"Topic1\", \"Topic1\", \"Topic1\", \"Topic1\", \"Topic1\", \"Topic1\", \"Topic1\", \"Topic1\", \"Topic1\", \"Topic1\", \"Topic1\", \"Topic1\", \"Topic1\", \"Topic1\", \"Topic1\", \"Topic1\", \"Topic1\", \"Topic1\", \"Topic1\", \"Topic1\", \"Topic1\", \"Topic1\", \"Topic1\", \"Topic1\", \"Topic1\", \"Topic1\", \"Topic1\", \"Topic1\", \"Topic1\", \"Topic1\", \"Topic1\", \"Topic1\", \"Topic1\", \"Topic1\", \"Topic1\", \"Topic1\", \"Topic1\", \"Topic1\", \"Topic1\", \"Topic1\", \"Topic1\", \"Topic1\", \"Topic1\", \"Topic1\", \"Topic1\", \"Topic1\", \"Topic1\", \"Topic1\", \"Topic1\", \"Topic1\", \"Topic1\", \"Topic1\", \"Topic1\", \"Topic1\", \"Topic1\", \"Topic1\", \"Topic1\", \"Topic1\", \"Topic1\", \"Topic1\", \"Topic1\", \"Topic1\", \"Topic1\", \"Topic1\", \"Topic1\", \"Topic1\", \"Topic1\", \"Topic1\", \"Topic1\", \"Topic2\", \"Topic2\", \"Topic2\", \"Topic2\", \"Topic2\", \"Topic2\", \"Topic2\", \"Topic2\", \"Topic2\", \"Topic2\", \"Topic2\", \"Topic2\", \"Topic2\", \"Topic2\", \"Topic2\", \"Topic2\", \"Topic2\", \"Topic2\", \"Topic2\", \"Topic2\", \"Topic2\", \"Topic2\", \"Topic2\", \"Topic2\", \"Topic2\", \"Topic2\", \"Topic2\", \"Topic2\", \"Topic2\", \"Topic2\", \"Topic2\", \"Topic2\", \"Topic2\", \"Topic2\", \"Topic2\", \"Topic2\", \"Topic2\", \"Topic2\", \"Topic2\", \"Topic2\", \"Topic2\", \"Topic2\", \"Topic2\", \"Topic2\", \"Topic2\", \"Topic2\", \"Topic2\", \"Topic2\", \"Topic2\", \"Topic2\", \"Topic2\", \"Topic2\", \"Topic2\", \"Topic2\", \"Topic2\", \"Topic2\", \"Topic2\", \"Topic2\", \"Topic2\", \"Topic2\", \"Topic2\", \"Topic2\", \"Topic2\", \"Topic2\", \"Topic2\", \"Topic2\", \"Topic2\", \"Topic2\", \"Topic2\", \"Topic2\", \"Topic2\", \"Topic2\", \"Topic2\", \"Topic3\", \"Topic3\", \"Topic3\", \"Topic3\", \"Topic3\", \"Topic3\", \"Topic3\", \"Topic3\", \"Topic3\", \"Topic3\", \"Topic3\", \"Topic3\", \"Topic3\", \"Topic3\", \"Topic3\", \"Topic3\", \"Topic3\", \"Topic3\", \"Topic3\", \"Topic3\", \"Topic3\", \"Topic3\", \"Topic3\", \"Topic3\", \"Topic3\", \"Topic3\", \"Topic3\", \"Topic3\", \"Topic3\", \"Topic3\", \"Topic3\", \"Topic3\", \"Topic3\", \"Topic3\", \"Topic3\", \"Topic3\", \"Topic3\", \"Topic3\", \"Topic3\", \"Topic3\", \"Topic3\", \"Topic3\", \"Topic3\", \"Topic3\", \"Topic3\", \"Topic3\", \"Topic3\", \"Topic3\", \"Topic3\", \"Topic3\", \"Topic3\", \"Topic3\", \"Topic3\", \"Topic3\", \"Topic3\", \"Topic3\", \"Topic3\", \"Topic3\", \"Topic3\", \"Topic3\", \"Topic3\", \"Topic3\", \"Topic3\", \"Topic3\", \"Topic3\", \"Topic3\", \"Topic3\", \"Topic3\", \"Topic3\", \"Topic3\", \"Topic3\", \"Topic4\", \"Topic4\", \"Topic4\", \"Topic4\", \"Topic4\", \"Topic4\", \"Topic4\", \"Topic4\", \"Topic4\", \"Topic4\", \"Topic4\", \"Topic4\", \"Topic4\", \"Topic4\", \"Topic4\", \"Topic4\", \"Topic4\", \"Topic4\", \"Topic4\", \"Topic4\", \"Topic4\", \"Topic4\", \"Topic4\", \"Topic4\", \"Topic4\", \"Topic4\", \"Topic4\", \"Topic4\", \"Topic4\", \"Topic4\", \"Topic4\", \"Topic4\", \"Topic4\", \"Topic4\", \"Topic4\", \"Topic4\", \"Topic4\", \"Topic4\", \"Topic4\", \"Topic4\", \"Topic4\", \"Topic4\", \"Topic4\", \"Topic4\", \"Topic4\", \"Topic4\", \"Topic4\", \"Topic4\", \"Topic4\", \"Topic4\", \"Topic4\", \"Topic4\", \"Topic4\", \"Topic4\", \"Topic4\", \"Topic4\", \"Topic4\", \"Topic5\", \"Topic5\", \"Topic5\", \"Topic5\", \"Topic5\", \"Topic5\", \"Topic5\", \"Topic5\", \"Topic5\", \"Topic5\", \"Topic5\", \"Topic5\", \"Topic5\", \"Topic5\", \"Topic5\", \"Topic5\", \"Topic5\", \"Topic5\", \"Topic5\", \"Topic5\", \"Topic5\", \"Topic5\", \"Topic5\", \"Topic5\", \"Topic5\", \"Topic5\", \"Topic5\", \"Topic5\", \"Topic5\", \"Topic5\", \"Topic5\", \"Topic5\", \"Topic5\", \"Topic5\", \"Topic5\", \"Topic5\", \"Topic6\", \"Topic6\", \"Topic6\", \"Topic6\", \"Topic6\", \"Topic6\", \"Topic6\", \"Topic6\", \"Topic6\", \"Topic6\", \"Topic6\", \"Topic6\", \"Topic6\", \"Topic6\", \"Topic6\", \"Topic6\", \"Topic6\", \"Topic6\", \"Topic6\", \"Topic6\", \"Topic6\", \"Topic6\", \"Topic6\", \"Topic6\", \"Topic6\", \"Topic6\", \"Topic6\", \"Topic6\", \"Topic6\", \"Topic6\", \"Topic6\", \"Topic6\", \"Topic6\", \"Topic6\", \"Topic6\", \"Topic6\", \"Topic6\", \"Topic6\", \"Topic6\", \"Topic6\", \"Topic6\", \"Topic6\", \"Topic6\", \"Topic6\", \"Topic6\", \"Topic6\", \"Topic6\", \"Topic6\", \"Topic6\", \"Topic6\", \"Topic6\", \"Topic6\", \"Topic6\", \"Topic6\", \"Topic6\", \"Topic6\", \"Topic6\", \"Topic6\", \"Topic6\", \"Topic6\", \"Topic6\", \"Topic6\", \"Topic6\", \"Topic6\", \"Topic6\", \"Topic6\", \"Topic6\", \"Topic6\", \"Topic7\", \"Topic7\", \"Topic7\", \"Topic7\", \"Topic7\", \"Topic7\", \"Topic7\", \"Topic7\", \"Topic7\", \"Topic7\", \"Topic7\", \"Topic7\", \"Topic7\", \"Topic7\", \"Topic7\", \"Topic7\", \"Topic7\", \"Topic7\", \"Topic7\", \"Topic7\", \"Topic7\", \"Topic7\", \"Topic7\", \"Topic7\", \"Topic7\", \"Topic7\", \"Topic7\", \"Topic7\", \"Topic7\", \"Topic7\", \"Topic7\", \"Topic7\", \"Topic7\", \"Topic7\", \"Topic7\", \"Topic7\", \"Topic7\", \"Topic7\", \"Topic7\", \"Topic7\", \"Topic7\", \"Topic7\", \"Topic7\", \"Topic7\", \"Topic7\", \"Topic7\", \"Topic7\", \"Topic7\", \"Topic7\", \"Topic7\", \"Topic7\", \"Topic7\", \"Topic7\", \"Topic8\", \"Topic8\", \"Topic8\", \"Topic8\", \"Topic8\", \"Topic8\", \"Topic8\", \"Topic8\", \"Topic8\", \"Topic8\", \"Topic8\", \"Topic8\", \"Topic8\", \"Topic8\", \"Topic8\", \"Topic8\", \"Topic8\", \"Topic8\", \"Topic8\", \"Topic8\", \"Topic8\", \"Topic8\", \"Topic8\", \"Topic8\", \"Topic8\", \"Topic8\", \"Topic8\", \"Topic8\", \"Topic8\", \"Topic8\", \"Topic8\", \"Topic8\", \"Topic8\", \"Topic8\", \"Topic8\", \"Topic8\", \"Topic8\", \"Topic8\", \"Topic8\", \"Topic8\", \"Topic8\", \"Topic8\", \"Topic8\", \"Topic8\", \"Topic8\", \"Topic8\", \"Topic8\", \"Topic8\", \"Topic8\", \"Topic8\", \"Topic8\", \"Topic8\", \"Topic8\", \"Topic8\", \"Topic8\", \"Topic8\", \"Topic8\", \"Topic8\", \"Topic8\", \"Topic8\", \"Topic8\", \"Topic8\", \"Topic8\", \"Topic8\", \"Topic8\", \"Topic8\", \"Topic8\", \"Topic8\", \"Topic8\", \"Topic9\", \"Topic9\", \"Topic9\", \"Topic9\", \"Topic9\", \"Topic9\", \"Topic9\", \"Topic9\", \"Topic9\", \"Topic9\", \"Topic9\", \"Topic9\", \"Topic9\", \"Topic9\", \"Topic9\", \"Topic9\", \"Topic9\", \"Topic9\", \"Topic9\", \"Topic9\", \"Topic9\", \"Topic9\", \"Topic9\", \"Topic9\", \"Topic9\", \"Topic9\", \"Topic9\", \"Topic9\", \"Topic9\", \"Topic9\", \"Topic9\", \"Topic9\", \"Topic9\", \"Topic9\", \"Topic9\", \"Topic9\", \"Topic9\", \"Topic9\", \"Topic9\", \"Topic9\", \"Topic9\", \"Topic9\", \"Topic9\", \"Topic9\", \"Topic9\", \"Topic9\", \"Topic9\", \"Topic9\", \"Topic9\", \"Topic9\", \"Topic9\", \"Topic9\", \"Topic9\", \"Topic9\", \"Topic9\", \"Topic9\", \"Topic9\", \"Topic9\", \"Topic9\", \"Topic10\", \"Topic10\", \"Topic10\", \"Topic10\", \"Topic10\", \"Topic10\", \"Topic10\", \"Topic10\", \"Topic10\", \"Topic10\", \"Topic10\", \"Topic10\", \"Topic10\", \"Topic10\", \"Topic10\", \"Topic10\", \"Topic10\", \"Topic10\", \"Topic10\", \"Topic10\", \"Topic10\", \"Topic10\", \"Topic10\", \"Topic10\", \"Topic10\", \"Topic10\", \"Topic10\", \"Topic10\", \"Topic10\", \"Topic10\", \"Topic10\", \"Topic10\", \"Topic10\", \"Topic10\", \"Topic10\", \"Topic10\", \"Topic10\", \"Topic10\", \"Topic10\", \"Topic10\", \"Topic10\", \"Topic10\", \"Topic10\", \"Topic10\", \"Topic10\", \"Topic10\", \"Topic10\", \"Topic10\", \"Topic10\", \"Topic10\", \"Topic10\", \"Topic10\", \"Topic10\", \"Topic10\", \"Topic10\", \"Topic10\", \"Topic10\", \"Topic10\", \"Topic10\"], \"logprob\": [30.0, 29.0, 28.0, 27.0, 26.0, 25.0, 24.0, 23.0, 22.0, 21.0, 20.0, 19.0, 18.0, 17.0, 16.0, 15.0, 14.0, 13.0, 12.0, 11.0, 10.0, 9.0, 8.0, 7.0, 6.0, 5.0, 4.0, 3.0, 2.0, 1.0, -5.8251, -6.3612, -6.3769, -6.4405, -6.6893, -6.8478, -6.8515, -6.8516, -6.9899, -7.0398, -7.1444, -7.2632, -7.2805, -7.3132, -7.3491, -7.3824, -7.3888, -7.4296, -7.444, -7.4514, -7.4529, -7.5744, -7.6359, -7.6606, -7.6856, -7.6952, -7.7361, -7.7498, -7.7548, -7.7597, -5.4571, -6.2282, -5.1266, -5.851, -6.0673, -4.7259, -6.8959, -4.2452, -5.6691, -4.0266, -4.6244, -6.938, -4.3746, -6.2235, -6.1928, -5.2493, -5.9604, -4.6142, -5.2105, -3.9018, -5.9696, -5.3282, -6.0241, -4.4577, -5.0734, -5.3946, -4.0188, -5.5643, -5.1258, -4.0172, -4.2615, -5.4702, -5.3009, -5.2604, -4.6595, -5.3846, -5.6802, -4.7147, -5.3029, -4.4288, -5.0358, -5.4406, -5.0907, -5.1709, -5.1185, -5.2793, -5.2895, -5.2326, -5.2837, -4.719, -5.3862, -5.659, -5.8506, -5.9134, -6.1698, -6.3126, -6.3195, -6.3941, -6.3941, -6.4242, -6.6046, -6.6651, -6.6655, -6.7625, -6.8246, -6.8452, -6.9615, -6.9619, -6.9744, -6.99, -7.0127, -7.0196, -7.0207, -7.0609, -7.0716, -7.1238, -7.1389, -7.1682, -7.1966, -5.5122, -5.2421, -4.9343, -6.2213, -5.8908, -5.7678, -6.3354, -5.9196, -6.1249, -6.6883, -6.487, -5.1285, -5.7862, -6.0131, -5.8735, -6.2604, -5.3997, -5.0378, -5.2707, -5.8943, -4.8448, -5.8658, -5.6507, -5.3837, -5.1351, -4.9001, -4.928, -5.1726, -5.2896, -4.9388, -5.5089, -4.8366, -4.461, -5.1972, -5.4815, -5.4515, -5.205, -5.535, -5.3017, -5.2976, -5.588, -5.5649, -5.5908, -5.6007, -6.1311, -4.8474, -6.5356, -6.5803, -6.6126, -5.6945, -6.7486, -6.7682, -6.8026, -6.905, -6.928, -6.9545, -6.9525, -7.0294, -5.5059, -7.052, -7.0739, -7.1491, -7.1519, -7.1634, -7.1984, -7.2145, -7.2381, -7.2408, -7.2866, -7.2982, -7.341, -7.3527, -7.3682, -4.4575, -5.8413, -3.9691, -4.2896, -5.2289, -4.6836, -5.2675, -4.714, -6.0415, -6.6974, -6.0605, -6.3533, -3.9644, -5.0434, -4.8617, -3.9951, -5.5156, -6.2003, -6.3516, -4.8775, -6.2201, -6.4507, -3.8964, -4.504, -4.5791, -5.7544, -4.543, -4.3777, -5.7474, -5.3708, -4.9952, -4.4261, -5.2062, -4.833, -5.0546, -4.8847, -5.0094, -5.1334, -5.1326, -5.2412, -5.2667, -3.8574, -4.7356, -4.947, -5.2815, -5.3116, -5.3721, -5.773, -5.8432, -5.8478, -5.9836, -6.0841, -6.0954, -6.105, -6.1297, -5.089, -4.5298, -6.2526, -5.0151, -6.3259, -6.3719, -6.3816, -5.9949, -6.4316, -6.4368, -6.4397, -6.449, -6.5055, -6.5103, -6.5147, -6.5359, -4.3764, -5.8145, -4.9734, -4.0683, -4.5349, -5.0159, -5.3501, -4.283, -5.3333, -5.689, -5.5615, -4.2395, -4.351, -5.034, -4.9302, -5.7423, -4.8652, -4.6126, -5.4906, -5.0715, -4.7738, -5.4035, -5.3228, -5.09, -5.4358, -5.3917, -5.377, -0.1292, -2.819, -6.4549, -6.9092, -7.0528, -7.2014, -7.4032, -7.4064, -7.4039, -7.4292, -7.4502, -7.5873, -7.8666, -7.9452, -7.9461, -7.9482, -7.9823, -8.0218, -8.0238, -8.0634, -8.0881, -8.0881, -8.0853, -8.0922, -8.155, -8.1709, -8.2087, -8.2174, -8.2235, -8.3419, -7.2237, -7.0044, -7.2366, -7.4624, -7.7542, -8.0447, -5.4293, -5.7036, -5.8675, -5.891, -5.9737, -5.9952, -6.1476, -6.1687, -6.2255, -6.3788, -6.4923, -6.5044, -6.5177, -6.5943, -6.6261, -6.6433, -6.6453, -6.73, -6.7427, -6.7577, -6.8198, -6.8446, -6.8497, -6.8747, -6.9614, -7.0172, -7.0297, -7.0306, -7.0853, -7.0976, -4.0627, -5.9243, -5.7649, -6.4609, -6.294, -5.5825, -5.4833, -6.4162, -6.371, -6.5452, -5.1875, -5.8308, -5.2151, -5.2724, -5.5898, -4.6919, -5.5856, -5.668, -5.9639, -4.6056, -5.7703, -5.1378, -5.4949, -5.6261, -4.9364, -5.3385, -5.5874, -5.4534, -5.41, -5.3633, -5.5273, -5.501, -5.6379, -5.5014, -5.5441, -5.4267, -5.7322, -5.7183, -3.5495, -3.9045, -4.2629, -4.5476, -4.8224, -5.2771, -5.2972, -5.2989, -5.3403, -5.5901, -5.7703, -5.7826, -5.7826, -5.7902, -5.8512, -5.9168, -6.0237, -6.0741, -6.121, -6.136, -6.1648, -6.1939, -6.3391, -6.3492, -6.3719, -6.3994, -3.5895, -6.4239, -6.5337, -6.5452, -6.0429, -5.9006, -4.2528, -5.5488, -3.7562, -5.4276, -6.177, -5.3233, -5.0507, -5.2663, -5.7845, -4.1817, -4.8584, -5.0346, -5.0789, -4.8826, -5.2852, -4.9922, -5.2107, -5.5556, -5.489, -5.6914, -5.7275, -3.9959, -4.9411, -4.9595, -5.196, -5.2398, -5.5963, -5.7555, -5.9888, -6.0629, -6.1002, -6.1132, -6.3735, -6.4918, -6.5107, -6.5886, -6.6945, -6.7656, -6.7813, -6.8079, -6.8116, -6.8195, -6.8661, -6.9723, -6.9986, -7.0839, -7.0956, -7.0993, -7.1121, -7.1221, -7.1383, -3.1937, -5.211, -5.8152, -5.1085, -6.4322, -5.0482, -4.5127, -5.8677, -5.4907, -4.9765, -6.0431, -5.5186, -6.1167, -5.5238, -4.4266, -4.0889, -4.9593, -4.9388, -4.4557, -4.6945, -4.6305, -5.0697, -4.5163, -4.3889, -4.4858, -5.0979, -5.3199, -5.3734, -4.6937, -5.0761, -5.3511, -5.1022, -5.1222, -4.845, -5.1673, -4.7744, -5.1475, -5.0707, -5.1858, -4.2441, -4.368, -4.7041, -4.984, -5.3109, -5.4431, -5.5247, -5.5639, -5.7736, -5.9404, -5.9765, -6.0136, -6.0276, -6.1026, -6.1187, -6.1347, -6.1418, -6.2498, -6.2511, -6.2748, -6.3002, -6.3015, -6.3777, -6.4203, -6.4867, -6.4898, -6.4969, -6.4999, -6.4999, -6.5099, -5.6544, -5.2928, -5.1673, -5.9351, -4.9995, -5.4773, -5.11, -5.0, -5.6664, -5.3134, -5.4578, -5.4081, -4.7255, -5.1265, -4.6435, -5.1033, -5.1324, -5.3982, -5.5661, -5.5388, -4.3775, -4.8029, -5.0399, -5.1775, -5.3131, -5.089, -5.2929, -5.4808, -5.4677, -4.0821, -4.3247, -4.4522, -4.5817, -5.4473, -5.6137, -5.7321, -5.7538, -5.8081, -5.8361, -5.8727, -5.869, -5.8952, -5.9303, -5.9633, -5.9669, -5.9846, -6.0134, -6.0791, -6.1223, -6.1555, -6.1624, -6.164, -6.1965, -6.2349, -6.2593, -6.2783, -6.2786, -6.28, -6.2888, -4.8632, -4.9331, -4.5894, -5.8126, -4.9287, -5.9466, -4.7473, -4.9178, -4.3437, -5.3827, -4.6591, -5.2083, -4.9728, -4.7636, -4.7429, -4.7008, -4.4407, -5.5224, -4.7727, -4.5832, -4.9874, -5.4809, -5.2489, -5.34, -5.628, -5.5036, -5.6084, -5.4997, -5.5332], \"loglift\": [30.0, 29.0, 28.0, 27.0, 26.0, 25.0, 24.0, 23.0, 22.0, 21.0, 20.0, 19.0, 18.0, 17.0, 16.0, 15.0, 14.0, 13.0, 12.0, 11.0, 10.0, 9.0, 8.0, 7.0, 6.0, 5.0, 4.0, 3.0, 2.0, 1.0, 1.5333, 1.5321, 1.532, 1.5314, 1.5309, 1.5302, 1.5302, 1.53, 1.5295, 1.5292, 1.5286, 1.5278, 1.5276, 1.5274, 1.5271, 1.5268, 1.5268, 1.5265, 1.5263, 1.5263, 1.5263, 1.5251, 1.5245, 1.5242, 1.524, 1.5239, 1.5234, 1.5232, 1.5232, 1.5231, 1.5226, 1.5176, 1.494, 1.4783, 1.481, 1.4391, 1.5037, 1.3999, 1.4519, 1.3745, 1.356, 1.4954, 1.3289, 1.4453, 1.4382, 1.3595, 1.4206, 1.2964, 1.3302, 1.1638, 1.3903, 1.3059, 1.395, 1.1806, 1.2419, 1.2737, 1.0183, 1.3033, 1.2096, 0.9656, 1.004, 1.276, 1.2311, 1.1899, 0.9732, 1.2127, 1.3072, 0.9024, 1.1126, 0.4873, 0.8924, 1.1727, 0.6351, 0.6951, 0.5291, 0.7398, 0.6838, 0.359, 0.055, 1.7263, 1.7257, 1.7253, 1.7249, 1.7247, 1.7241, 1.7236, 1.7236, 1.7233, 1.7233, 1.7232, 1.7225, 1.7222, 1.7222, 1.7217, 1.7213, 1.7212, 1.7205, 1.7205, 1.7204, 1.7203, 1.7202, 1.7201, 1.7201, 1.7198, 1.7198, 1.7194, 1.7193, 1.719, 1.7188, 1.7004, 1.6884, 1.6811, 1.7018, 1.6809, 1.6685, 1.6919, 1.6714, 1.6714, 1.6998, 1.6805, 1.5251, 1.5919, 1.6104, 1.5831, 1.6321, 1.4895, 1.4076, 1.432, 1.5531, 1.3192, 1.5463, 1.4798, 1.3839, 1.288, 1.1191, 1.0725, 1.1746, 1.2001, 0.9926, 1.3022, 0.8893, 0.5761, 1.0343, 1.2116, 1.1556, 0.7574, 0.7933, -0.2361, -0.3815, 0.4431, -0.2261, 0.0419, 1.8005, 1.7992, 1.7989, 1.7977, 1.7975, 1.7973, 1.7973, 1.7966, 1.7965, 1.7963, 1.7956, 1.7955, 1.7953, 1.7951, 1.7947, 1.7947, 1.7946, 1.7944, 1.7938, 1.7938, 1.7937, 1.7934, 1.7932, 1.793, 1.793, 1.7925, 1.7924, 1.792, 1.7919, 1.7917, 1.7846, 1.7905, 1.7599, 1.7504, 1.7674, 1.7529, 1.7285, 1.6739, 1.7356, 1.7655, 1.7243, 1.7395, 1.475, 1.5932, 1.5359, 1.411, 1.6143, 1.6901, 1.7062, 1.401, 1.6631, 1.7137, 1.0197, 1.1856, 1.1874, 1.5261, 1.1046, 0.961, 1.4688, 1.288, 0.9781, 0.5566, 1.0827, 0.7586, 0.9215, 0.7324, 0.769, 0.8977, 0.7987, 0.687, 0.5993, 2.2917, 2.2909, 2.2907, 2.29, 2.29, 2.2898, 2.2887, 2.2884, 2.2884, 2.2879, 2.2874, 2.2873, 2.2873, 2.2872, 2.2867, 2.2865, 2.2865, 2.2863, 2.2861, 2.2858, 2.2857, 2.2857, 2.2854, 2.2854, 2.2854, 2.2853, 2.2849, 2.2849, 2.2848, 2.2847, 2.2578, 2.2755, 2.2221, 2.1667, 2.168, 2.1593, 2.1871, 2.0252, 2.0818, 2.1442, 2.1027, 1.7366, 1.6727, 1.8355, 1.7015, 2.0904, 1.539, 1.1658, 1.8501, 1.4347, 0.8178, 1.6816, 1.5322, 1.0005, 1.6056, 0.7068, -0.1115, 2.5112, 2.511, 2.5029, 2.4981, 2.4959, 2.4937, 2.4898, 2.4897, 2.4897, 2.4893, 2.4888, 2.4855, 2.4769, 2.4747, 2.4747, 2.4744, 2.4733, 2.4718, 2.4718, 2.4702, 2.4692, 2.4692, 2.4689, 2.4688, 2.4663, 2.4656, 2.4639, 2.4634, 2.4632, 2.4573, 2.2421, 1.8723, 1.9783, 1.8223, 1.8185, 2.1966, 2.5657, 2.5646, 2.5638, 2.5637, 2.5633, 2.5632, 2.5622, 2.5621, 2.5617, 2.5605, 2.5594, 2.5593, 2.5592, 2.5584, 2.5581, 2.5579, 2.5579, 2.5569, 2.5567, 2.5566, 2.5558, 2.5555, 2.5554, 2.555, 2.5538, 2.5529, 2.5527, 2.5527, 2.5518, 2.5516, 2.5059, 2.4655, 2.3761, 2.4712, 2.4349, 2.2971, 2.2479, 2.4447, 2.4119, 2.4623, 1.9373, 2.1711, 1.878, 1.8952, 2.0185, 1.3986, 1.8796, 1.9307, 2.1088, 0.9271, 1.8882, 1.1546, 1.5107, 1.6283, 0.83, 1.2932, 1.5381, 1.3142, 1.1778, 0.882, 1.1762, 1.0513, 1.4603, 0.8194, 0.979, 0.1649, 1.5175, 1.2234, 2.8524, 2.852, 2.8517, 2.8513, 2.8507, 2.8493, 2.8492, 2.8492, 2.8491, 2.8479, 2.8469, 2.8468, 2.8468, 2.8468, 2.8464, 2.846, 2.8452, 2.8448, 2.8444, 2.8442, 2.844, 2.8437, 2.8422, 2.8421, 2.8419, 2.8416, 2.8416, 2.8413, 2.8399, 2.8398, 2.8029, 2.7922, 2.5806, 2.6881, 1.7765, 2.4164, 2.7637, 2.3146, 2.1646, 2.2634, 2.561, 1.157, 1.298, 0.9278, 0.9448, 0.3829, 1.1949, 0.0734, 0.7626, 1.2496, -0.5729, 0.7589, 1.2622, 2.881, 2.8793, 2.8793, 2.8785, 2.8784, 2.8768, 2.8759, 2.8743, 2.8737, 2.8734, 2.8733, 2.8707, 2.8692, 2.869, 2.868, 2.8664, 2.8653, 2.865, 2.8645, 2.8645, 2.8643, 2.8635, 2.8614, 2.8609, 2.859, 2.8588, 2.8587, 2.8584, 2.8582, 2.8578, 2.7736, 2.8176, 2.7982, 2.7579, 2.8252, 2.7115, 2.6634, 2.7721, 2.6804, 2.5676, 2.6936, 2.5128, 2.6793, 2.5045, 2.133, 2.0015, 2.2728, 2.2625, 2.0674, 2.1605, 2.1299, 2.2998, 1.9835, 1.9035, 1.7595, 2.1762, 2.3282, 2.3427, 1.5849, 1.9784, 2.2718, 1.8314, 1.8637, 1.1861, 1.8741, 0.6317, 1.7822, 1.3336, 0.9128, 3.0989, 3.0987, 3.0979, 3.0971, 3.0957, 3.095, 3.0945, 3.0943, 3.0928, 3.0914, 3.091, 3.0907, 3.0905, 3.0898, 3.0896, 3.0894, 3.0893, 3.088, 3.088, 3.0877, 3.0874, 3.0874, 3.0863, 3.0857, 3.0847, 3.0847, 3.0845, 3.0845, 3.0845, 3.0843, 3.044, 2.9969, 2.9684, 2.9805, 2.7717, 2.737, 2.5319, 2.4766, 2.769, 2.5841, 2.599, 2.5528, 2.0787, 2.2921, 1.8018, 2.1036, 2.129, 2.3909, 2.5463, 2.4232, 0.6596, 0.7298, 1.1241, 1.3891, 1.6926, -0.173, 0.8056, 1.6174, 1.1664, 3.7154, 3.7147, 3.7142, 3.7137, 3.7075, 3.7056, 3.704, 3.7037, 3.7029, 3.7025, 3.7019, 3.7019, 3.7016, 3.701, 3.7004, 3.7004, 3.7, 3.6995, 3.6983, 3.6974, 3.6967, 3.6966, 3.6965, 3.6958, 3.695, 3.6944, 3.6939, 3.6939, 3.6939, 3.6937, 3.5905, 3.5663, 3.5026, 3.6342, 3.4678, 3.6395, 3.3883, 3.3382, 2.9907, 3.3829, 3.0227, 3.1871, 2.9894, 2.7295, 2.7005, 2.6598, 2.3861, 3.2127, 2.2276, 1.345, 2.0182, 2.9729, 1.8742, 1.7467, 2.8423, 1.7354, 2.6374, 0.2787, 0.6982]}, \"token.table\": {\"Topic\": [2, 5, 10, 10, 2, 2, 3, 4, 6, 2, 9, 6, 10, 1, 3, 10, 1, 1, 2, 3, 6, 7, 10, 10, 2, 6, 1, 4, 6, 8, 1, 3, 9, 8, 1, 2, 3, 6, 8, 9, 10, 2, 8, 9, 9, 1, 2, 3, 7, 8, 9, 2, 6, 2, 2, 1, 2, 4, 9, 2, 6, 8, 1, 2, 3, 2, 3, 4, 6, 8, 4, 8, 1, 3, 7, 9, 5, 1, 2, 3, 4, 7, 9, 2, 3, 2, 3, 4, 6, 7, 8, 9, 7, 3, 2, 1, 2, 7, 1, 5, 5, 5, 5, 1, 2, 3, 8, 4, 1, 2, 3, 4, 7, 4, 5, 1, 2, 3, 4, 9, 1, 7, 1, 4, 1, 3, 10, 10, 10, 7, 10, 9, 1, 3, 3, 4, 1, 2, 3, 4, 7, 8, 10, 7, 1, 2, 3, 4, 9, 10, 1, 2, 3, 6, 7, 9, 7, 3, 9, 1, 2, 9, 10, 3, 4, 2, 1, 2, 3, 1, 6, 7, 9, 9, 1, 2, 7, 9, 4, 8, 4, 9, 7, 2, 4, 8, 3, 4, 8, 1, 2, 3, 4, 7, 4, 6, 8, 3, 8, 4, 8, 1, 2, 6, 7, 4, 4, 2, 2, 4, 6, 8, 10, 3, 4, 1, 2, 3, 4, 8, 1, 3, 4, 6, 1, 2, 9, 4, 2, 8, 5, 6, 2, 4, 6, 8, 1, 2, 10, 1, 2, 3, 6, 7, 8, 3, 2, 6, 2, 3, 4, 6, 8, 8, 3, 2, 4, 6, 8, 10, 4, 6, 7, 2, 3, 4, 7, 10, 1, 9, 10, 2, 3, 4, 6, 7, 10, 4, 8, 2, 6, 10, 4, 3, 3, 6, 7, 1, 2, 4, 7, 1, 10, 4, 1, 3, 4, 9, 3, 4, 10, 1, 2, 6, 1, 8, 10, 5, 3, 1, 2, 3, 4, 6, 7, 8, 10, 10, 5, 6, 3, 4, 8, 2, 4, 6, 3, 6, 6, 8, 8, 1, 2, 10, 1, 2, 3, 4, 6, 7, 8, 2, 4, 6, 8, 2, 8, 2, 8, 1, 1, 2, 4, 7, 9, 10, 2, 7, 2, 3, 4, 8, 1, 3, 4, 1, 2, 1, 2, 3, 7, 4, 8, 2, 6, 7, 1, 2, 3, 4, 6, 7, 8, 9, 1, 9, 10, 1, 2, 6, 9, 1, 4, 8, 5, 8, 8, 6, 9, 10, 1, 7, 8, 3, 3, 10, 2, 9, 1, 3, 4, 7, 8, 2, 5, 5, 1, 1, 2, 3, 4, 7, 2, 6, 7, 1, 2, 1, 2, 3, 7, 8, 7, 2, 9, 5, 5, 10, 4, 8, 1, 2, 3, 4, 6, 7, 9, 3, 9, 2, 9, 1, 2, 3, 4, 6, 8, 9, 10, 1, 2, 1, 2, 3, 4, 8, 9, 1, 2, 4, 9, 4, 4, 6, 1, 9, 10, 1, 3, 1, 7, 3, 1, 2, 3, 4, 8, 9, 6, 1, 2, 3, 4, 6, 7, 10, 1, 2, 7, 9, 1, 3, 7, 8, 7, 1, 3, 4, 7, 9, 1, 3, 4, 7, 8, 2, 6, 8, 9, 10, 9, 7, 4, 2, 8, 2, 1, 2, 3, 4, 6, 7, 8, 9, 10, 2, 3, 4, 6, 7, 9, 10, 10, 3, 4, 8, 2, 3, 4, 6, 8, 9, 3, 4, 3, 10, 2, 3, 6, 4, 2, 9, 9, 9, 1, 2, 4, 6, 8, 10, 10, 6, 2, 9, 1, 3, 6, 1, 8, 4, 2, 4, 7, 4, 1, 1, 2, 9, 1, 7, 1, 2, 3, 4, 1, 4, 6, 1, 6, 9, 1, 2, 3, 4, 6, 8, 9, 9, 6, 2, 7, 7, 1, 2, 3, 4, 7, 9, 2, 1, 2, 3, 4, 7, 9, 4, 6, 8, 10, 1, 2, 1, 2, 3, 4, 7, 8, 9, 1, 2, 3, 4, 6, 7, 8, 1, 2, 9, 1, 5, 8, 1, 2, 3, 4, 7, 8, 1, 4, 6, 7, 9, 10, 1, 3, 6, 7, 8, 10, 6, 1, 2, 3, 5, 7, 10, 4, 4, 3, 4, 8, 1, 2, 8, 9, 6, 9, 9, 2, 6, 5, 1, 3, 4, 7, 1, 2, 3, 4, 7, 6, 10, 10, 1, 2, 3, 4, 6, 7, 9, 3, 4, 1, 2, 4, 8, 4, 5, 3, 1, 2, 6, 9, 6, 8, 4, 3, 6, 4, 8, 6, 2, 2, 1, 1, 8, 3, 9, 4, 3, 10, 2, 9, 1, 2, 6, 9, 10, 1, 2, 6, 9, 1, 2, 3, 4, 6, 7, 8, 1, 2, 3, 4, 6, 7, 8, 1, 2, 3, 7, 10, 7, 5, 5, 1, 2, 3, 7, 2, 6, 1, 2, 3, 4, 6, 7, 8, 9, 10, 2, 6, 9, 3, 9, 10, 8, 10, 6, 1, 2, 3, 6, 7, 9, 10, 6, 1, 10, 7, 9, 9, 5, 2, 10, 4, 5, 1, 2, 9, 7, 1, 2, 9, 1, 7, 9, 10, 1, 2, 8, 9, 10, 6, 1, 2, 3, 4, 10, 7, 10, 3, 5, 5, 1, 2, 3, 4, 6, 9, 7, 7, 7, 5, 1, 2, 3, 4, 6, 7, 8, 2, 9, 10, 4, 9, 1, 2, 3, 6, 7, 8, 9, 1, 3, 7, 8, 1, 2, 3, 6, 7, 9, 7, 1, 1, 3, 4, 9, 4, 3, 6, 1, 2, 3, 4, 6, 10, 9, 4, 6, 8, 3, 6, 8, 2, 1, 1, 2, 7, 2, 4, 6, 8, 8, 2, 6, 10, 3, 8, 5, 5, 1, 2, 3, 4, 8, 4, 7, 2, 3, 4, 6, 10, 10, 1, 1, 2, 3, 4, 7, 6, 9, 2, 2, 2, 9, 1, 3, 7, 9, 2, 3, 4, 3, 1, 2, 3, 7, 1, 4, 6, 7, 8, 9, 10, 2, 3, 4, 6, 8, 2, 3, 4, 6, 9, 10, 8, 5, 2, 4, 6, 8, 1, 2, 3, 4, 6, 7, 8, 9, 10, 1, 3, 3, 1, 2, 3, 7, 9, 6, 1, 2, 6, 10, 10, 5, 6, 7, 5, 1, 3, 4, 6, 7, 8, 5, 1, 2, 3, 4, 7, 3, 6, 6, 1, 2, 7, 9, 8, 2, 3, 6, 7, 7, 7, 4, 2, 4, 7, 1, 2, 3, 4, 6, 7, 9, 1, 3, 7, 2, 3, 4, 6, 1, 2, 3, 4, 6, 7, 8, 9, 9, 4, 4, 8, 2, 3, 6, 9, 10, 1, 2, 3, 4, 6, 8, 5, 6, 1, 5, 10, 2, 3, 9, 3, 10, 4, 6, 8, 6, 1, 9, 2, 3, 6, 8, 9, 6, 8, 6, 6, 6, 1, 2, 6, 5, 1, 2, 1, 3, 4, 6, 7, 8, 7, 1, 2, 3, 4, 6, 9, 1, 2, 9, 1, 3, 10, 1, 2, 3, 6, 9, 1, 2, 9, 4, 8, 1, 2, 6, 10, 8, 7, 10, 1, 6, 8, 1, 2, 4, 6, 8, 9, 6, 10, 10, 1, 2, 3, 4, 6, 7, 9, 7, 1, 2, 4, 8, 2, 10, 6, 7, 2, 3, 4, 6, 3, 1, 2, 3, 4, 9, 2, 4, 8, 3, 4, 8, 3, 6, 1, 2, 3, 4, 1, 2, 3, 7, 8, 1, 2, 3, 4, 6, 7, 8, 9, 3, 3, 1, 5, 10, 1, 2, 9, 10, 9, 1, 2, 3, 4, 7, 8, 1, 2, 1, 2, 3, 4, 8, 9, 9, 9, 9, 1, 2, 3, 5, 6, 7, 9, 10, 7, 9, 4, 7, 9, 1, 3, 2, 4, 6, 8, 10, 7, 2, 3, 4, 8, 2, 3, 4, 6, 3, 4, 3, 2, 4, 8, 9, 9, 5, 1, 2, 3, 4, 8, 9, 1, 2, 3, 4, 7, 8, 1, 2, 3, 4, 7, 8, 3, 8, 1, 1, 4, 7, 4, 4, 8, 6, 7, 3, 6, 9, 5, 10, 5, 1, 2, 9, 10, 1, 1, 2, 3, 4, 7, 8, 1, 2, 3, 4, 6, 8, 1, 2, 3, 4, 6, 8, 9, 2, 1, 2, 3, 6, 7, 8, 9, 10, 9, 10], \"Freq\": [0.14624427119240657, 0.04233386797674927, 0.8043434915582361, 0.9732649392003616, 0.9929942734359993, 0.13435057235290224, 0.032679868950705945, 0.6427040893638837, 0.18881702060407882, 0.9467211607679881, 0.051300161420925465, 0.27927161263948375, 0.7170487351554313, 0.07447795589229182, 0.9144237917886939, 0.008275328432476869, 0.9910265094701093, 0.23238381573125685, 0.09703939558008529, 0.02809035135212995, 0.07150271253269441, 0.07150271253269441, 0.4979653194241218, 0.9855746939014195, 0.9888096445122198, 0.9918506462339548, 0.991201552624237, 0.5034054576552763, 0.13056237805497808, 0.36476705621545424, 0.07359343945121417, 0.9255790269441168, 0.9920172416286196, 0.9955663786820388, 0.07835652500111817, 0.06980854045554165, 0.2578642004582252, 0.33052206909562576, 0.02421928954580016, 0.22652159045777798, 0.012821976818364791, 0.9743879871573126, 0.02555771769592951, 0.9946735862903284, 0.9990597153347384, 0.35065964873433286, 0.12133273821925816, 0.45720747050833044, 0.03246253393415914, 0.00016070561353544128, 0.03792652479436414, 0.9941249806354336, 0.9909089845300288, 0.9932095758470291, 0.9973720390864061, 0.14767876652192347, 0.2932775504167776, 0.020799826270693447, 0.5366355177838908, 0.3805490525861414, 0.03435512280291554, 0.5840370876495643, 0.022754191619316452, 0.9751796408278479, 0.993463127760336, 0.017633962077005367, 0.14748404646222668, 0.18756123300087524, 0.20359210761633467, 0.4424521393866801, 0.049372127158313184, 0.9504134477975288, 0.8922722215661137, 0.034027330483453494, 0.028356108736211243, 0.04536977397793799, 0.9999908725982337, 0.7080641209488545, 0.02757723418432381, 0.12148889654175082, 0.017142605033498584, 0.12297955784901157, 0.0022359919608911194, 0.9913767264877861, 0.9954076429579666, 0.32764482945465817, 0.0594217322940438, 0.14195191603577131, 0.21953028875299516, 0.0792289763920584, 0.15433144359703044, 0.01815664042318005, 0.9958210773428415, 0.991368748847403, 0.9987533525470013, 0.4513444001710189, 0.5443252208071087, 0.003874200859837072, 0.9875275971805708, 0.927818088941907, 0.9764663913011798, 0.9788927438292828, 0.9656673196169268, 0.020699336756164456, 0.9728688275397294, 0.9991079683195895, 0.9903713754409865, 0.9948900404755486, 0.17844890262219085, 0.027801821785341328, 0.025862159800317513, 0.7655199300893983, 0.0019396619850238135, 0.22805365289998444, 0.7601788429999482, 0.21036288919027094, 0.028427417458144724, 0.2331048231567867, 0.034112900949773664, 0.4917943220259037, 0.9907762637383071, 0.99264921187924, 0.18114702630029828, 0.8166464300423283, 0.0027199724138195504, 0.9964165609292286, 0.9672853554929649, 0.9746606899699044, 0.975797973061036, 0.9172584857615741, 0.08093457227308007, 0.9813200845303476, 0.016945659634636664, 0.982243056679118, 0.03314359356835856, 0.9665388502772673, 0.08742527283932429, 0.5000007042522999, 0.2550901796544668, 0.017964097158765263, 0.006586835624880597, 0.08383245340757124, 0.04910186556729172, 0.9916378727986037, 0.2725559852941274, 0.3009741448982544, 0.12142304558127003, 0.0671701954279366, 0.011625610747142875, 0.22476180777809557, 0.028202452530721737, 0.021151839398041303, 0.2890751384398978, 0.5287959849510325, 0.08695756196972536, 0.047004087551202896, 0.9815812365844913, 0.9886161852680817, 0.009716129584944291, 0.4452902999670324, 0.14444782901369588, 0.1466199768184131, 0.2639159582731436, 0.0042988302523155435, 0.9941044958479693, 0.9948392173068058, 0.04346186815812004, 0.9538736327334767, 0.9936022327833824, 0.18893842449354545, 0.16194722099446754, 0.08342735626987721, 0.5668152734806363, 0.9911266090284749, 0.12786649331515965, 0.8174322251219135, 0.011873317236407683, 0.04201327637498103, 0.30428472664293027, 0.6918855093904724, 0.9901727910313468, 0.9757664986818747, 0.9935544128522172, 0.1832139086980455, 0.2779797235418621, 0.5385857143623578, 0.016926443347716678, 0.8755587513500719, 0.10617496281749553, 0.8137679009670231, 0.03284740225257515, 0.03955816185256362, 0.07028637686303715, 0.04309014058939966, 0.11325095363226534, 0.6304303085529437, 0.2529271297787259, 0.9925058090857846, 0.9902607494831419, 0.07779354873574966, 0.9205569933730376, 0.9906250198759302, 0.9968621416332921, 0.8731479552095052, 0.11641972736126735, 0.9904729294944993, 0.9916881406312655, 0.9951594528953512, 0.19433233186370039, 0.17004079038073783, 0.016817221026666378, 0.5587054541081387, 0.05792598353629531, 0.0046471542571632826, 0.9944910110329425, 0.9975120908562524, 0.05212325889029559, 0.15962748035153027, 0.24432777604826061, 0.5440365146674603, 0.007320420046607717, 0.6266279559896205, 0.007320420046607717, 0.3572364982744566, 0.35735829712942263, 0.2715923058183612, 0.36847611081789355, 0.9969172123351272, 0.9935415863513691, 0.9691452889090609, 0.979498186856167, 0.9914431349305364, 0.05986490858622673, 0.5539737809471728, 0.27966740876849205, 0.10632722569792509, 0.9925949848817822, 0.07459000101766797, 0.9249160126190829, 0.9082432547069396, 0.0016808943640473895, 0.0011205962426982597, 0.0694769670472921, 0.0011205962426982597, 0.018489838004521284, 0.9944475732590776, 0.9962121296775845, 0.9903229509265025, 0.03996930860791945, 0.38137381963389816, 0.1865234401702908, 0.3897007589272147, 0.9834007822116316, 0.9896687567248119, 0.9918436191618489, 0.077804489744289, 0.0912190569415802, 0.7243866286537252, 0.0456095284707901, 0.059024095668081304, 0.1616742950151165, 0.8245389045770941, 0.012125572126133737, 0.08214636764030925, 0.10561675839468332, 0.8097284810259054, 0.9954254529794689, 0.982135202192743, 0.9442284529341163, 0.053853333817535154, 0.9840233076083293, 0.3444129647745277, 0.3066915448230318, 0.175486605861307, 0.0016400617370215605, 0.03280123474043121, 0.13776518590981107, 0.057797786932208224, 0.9392140376483837, 0.8346217709514022, 0.16380427280354623, 0.9951894626585064, 0.9991042676097923, 0.9869585648349558, 0.1681836018817972, 0.18319999490695768, 0.6457049000819001, 0.04396895232973767, 0.0015703197260620598, 0.9327699172808636, 0.021984476164868837, 0.3128725480300769, 0.684692097862922, 0.9922958779260118, 0.9975321857347664, 0.4142203764384892, 0.5737856726253204, 0.011596315129856921, 0.36606646921650227, 0.6335329916161758, 0.9976620463320712, 0.2544919816688029, 0.23702684567192422, 0.5064889439094802, 0.5194563963720237, 0.005526131876298124, 0.47524734136163865, 0.9472993294398921, 0.9902614807000282, 0.06036053030388906, 0.2937545808122601, 0.022132194444759324, 0.0965768484862225, 0.08048070707185208, 0.03621631818233344, 0.04828842424311125, 0.3621631818233344, 0.9914707821693428, 0.9879411103415149, 0.9892397584143626, 0.6264660741121254, 0.011459745258148636, 0.36161862814602364, 0.8403146853961225, 0.15755900351177296, 0.9922943345037561, 0.9354146762393256, 0.06179916779959509, 0.9916184383540004, 0.9978929732920682, 0.9831545687454275, 0.9948680617326924, 0.9625103209005271, 0.03734395487849355, 0.0032070814838118292, 0.6542446226976132, 0.011759298773976707, 0.07055579264386025, 0.09514341735308426, 0.016035407419059147, 0.15073282973915597, 0.7883684886896052, 0.12484427680128646, 0.020807379466881076, 0.06589003497845675, 0.9948706477801078, 0.9821193662420845, 0.16866452259311318, 0.8286561327400778, 0.9970293719237483, 0.3657299641080839, 0.5754868552877203, 0.0006722977281398601, 0.004033786368839161, 0.05042232961048951, 0.0026891909125594405, 0.9975046485756188, 0.9974084322337866, 0.00614221362722793, 0.09827541803564688, 0.009213320440841895, 0.8844787623208219, 0.09561532347473174, 0.35996357072840185, 0.5427575714889185, 0.9910452201043153, 0.9969900487115536, 0.7956983188577261, 0.17214627090671958, 0.026778308807711936, 0.005100630249087988, 0.10253134385147852, 0.8970343132476888, 0.996668780769267, 0.9949254422058472, 0.9835093587231418, 0.06596673202695484, 0.3931617228806509, 0.081798747713424, 0.18998418823762997, 0.06596673202695484, 0.0422187084972511, 0.13259313137417925, 0.028365694771590583, 0.18090641941598803, 0.10050356634221558, 0.7196055350102635, 0.33041236312931516, 0.23481081643707677, 0.05534826387445381, 0.3790517465341382, 0.9872778113218632, 0.26701216636485814, 0.7298332547306122, 0.9819865320078004, 0.9866413530297198, 0.9907064352254757, 0.9020276723559816, 0.09331320748510154, 0.9878321085492897, 0.9924427181816758, 0.9990488083371148, 0.9865252671496184, 0.9940892523356153, 0.9853692975018619, 0.9701039556425952, 0.04940491992136216, 0.9457513242089327, 0.42694130627873655, 0.4385052636535669, 0.010638840784843923, 0.12350306476318815, 0.9940549509006273, 0.9916227719712075, 0.9792773117817627, 0.9802431201928582, 0.9953903119323922, 0.8735002649884531, 0.0006662854805403914, 0.09627825193808656, 0.004330855623512544, 0.025318848260534873, 0.2370581719465319, 0.17596070495000304, 0.5840917844868156, 0.08826948163635746, 0.9079146682596768, 0.22758012908702457, 0.14174710626325454, 0.4311270117833935, 0.18343743163479997, 0.015940418524414437, 0.9946840697983441, 0.7267683205731045, 0.2729089203784719, 0.9480244710141964, 0.7263836557676341, 0.23112207228970177, 0.5044809423742592, 0.49428940818488026, 0.36625491023859086, 0.1121031800730278, 0.2794901201820693, 0.004606980003001143, 0.038391500025009524, 0.19042184012404723, 0.008446130005502095, 0.9872548610709283, 0.979979247919209, 0.12061280316482276, 0.8764530363310453, 0.22720484317995676, 0.3463728012743433, 0.0628578240497863, 0.02226214601763265, 0.17416855413794957, 0.11916795809438654, 0.04648859903682112, 0.0013095380010372146, 0.04395402575869058, 0.9546814394787595, 0.7930136052458636, 0.09502588137040306, 0.031675293790134354, 0.02488773083510556, 0.020362688865086367, 0.03506907526764875, 0.9596848157962826, 0.010604252108246216, 0.010604252108246216, 0.018557441189430878, 0.9952016844936838, 0.89944822837204, 0.0972376463104908, 0.9637901004472768, 0.03248730675664978, 0.9968311271876926, 0.7702540451707591, 0.2289443431494314, 0.9827714120418279, 0.01633415089266196, 0.9967309165948504, 0.20801643191661998, 0.030441429060968778, 0.48706286497550044, 0.1293760735091173, 0.10654500171339072, 0.03805178632621097, 0.9877373478421376, 0.03506058992450791, 0.08465849762259228, 0.3984935342639192, 0.08380336128297014, 0.24884467483004397, 0.08209308860372584, 0.06670063449052725, 0.01177699332782661, 0.4161204309165402, 0.12562126216348385, 0.4455629142361068, 0.35970947542967036, 0.07018721471798446, 0.5549176663640646, 0.0153534532195591, 0.9973731304936525, 0.4984807528357829, 0.23134619554686334, 0.02045049242403212, 0.20322676846381918, 0.046013607954072264, 0.000988990722897569, 0.9494310939816663, 0.01780183301215624, 0.0049449536144878445, 0.026208254156785578, 0.8745283634042113, 0.018847594038883864, 0.01507807523110709, 0.024501872250549023, 0.06596657913609352, 0.9858854280327758, 0.9956122554539414, 0.9934127857790775, 0.9927436407294722, 0.9991092395346145, 0.9932136840889919, 0.0006071594753496293, 0.14146815775646363, 0.09714551605594068, 0.16939749362254658, 0.18518363998163692, 0.015786146359090363, 0.3254374787874013, 0.05889446910891404, 0.006071594753496293, 0.021144135612515564, 0.06131799327629514, 0.09303419669506849, 0.3805944410252802, 0.050745925470037354, 0.021144135612515564, 0.37213678678027395, 0.9685488414222005, 0.5848570874441208, 0.06404426783995538, 0.34922251708956803, 0.1234698404399534, 0.11519608824552353, 0.12474272539294261, 0.24312102602093916, 0.37613750360831166, 0.01718394686535434, 0.13371096748223224, 0.8616929015521634, 0.655334551154854, 0.3411330540258144, 0.07352701051205926, 0.8279141383657873, 0.09705565387591822, 0.9969325886914898, 0.9928514106865653, 0.9842023075161641, 0.9865119098644138, 0.9963954851535896, 0.04604844303075928, 0.7444498289972751, 0.01151211075768982, 0.10360899681920838, 0.07482871992498383, 0.019186851262816367, 0.9685886775456293, 0.9823338405118243, 0.2792282079461505, 0.7204087765010683, 0.8699039182880007, 0.01963665729769753, 0.10996528086710618, 0.9891805664782635, 0.9791393611430141, 0.9959962882251553, 0.10817548395605814, 0.8822311691527408, 0.009014623663004845, 0.9975765509738419, 0.9974218001596178, 0.5893180975012341, 0.04990621726587028, 0.3599618649602133, 0.24795537912316043, 0.7488252449519445, 0.5658441812786985, 0.0953380451152634, 0.28773193796047963, 0.05101873765627609, 0.9934024037761627, 0.13824188291701078, 0.8524916113215666, 0.27246915701621005, 0.12989808648447224, 0.5956302502214824, 0.14862700122078668, 0.05360318076815258, 0.2728889202742313, 0.17786509982159718, 0.2607063791905603, 0.002436508216734208, 0.08527778758569728, 0.9898883258455534, 0.9954589490505147, 0.9989843448220956, 0.9907386076173678, 0.9944031287060437, 0.7243572630638742, 0.0017267157641570302, 0.15799449242036825, 0.03021752587274803, 0.01036029458494218, 0.07511213574083081, 0.9975375156371238, 0.6557540131666935, 0.08781777124735082, 0.1202095721172753, 0.060464694957192366, 0.05542597037742634, 0.019435080521954688, 0.04582179514599145, 0.07498111932980418, 0.8164610771467566, 0.06248426610817015, 0.6956745902733487, 0.30353519323402095, 0.09994802215280951, 0.05561412256271815, 0.6762887168239972, 0.01600217677512173, 0.03698863811954368, 0.10545696825572026, 0.009968569138600423, 0.09311577656756503, 0.019953380693049652, 0.25108004038754145, 0.06152292380356976, 0.04323232483494091, 0.057365969492517745, 0.4730614005977188, 0.7953176777303714, 0.06000707703596271, 0.14419611048940292, 0.9857587665107601, 0.9499089053617853, 0.9862513330609807, 0.36570488897044884, 0.005677610148399663, 0.49762583065385274, 0.01269112856701101, 0.040077248106350556, 0.07781665673983067, 0.38759291730247264, 0.06726819225910682, 0.028829225253902923, 0.5029098183180843, 0.0032032472504336584, 0.011211365376517804, 0.9979225230099986, 0.5915480691594283, 0.19426146468692337, 0.04235776297684795, 0.011684900131544263, 0.15774615177584755, 0.9788091556233397, 0.525731040635667, 0.027414066038192898, 0.3276423053919506, 0.0022108117772736205, 0.02343460483910038, 0.09329625700094679, 0.9889266291404427, 0.9985500990924233, 0.6697535236297528, 0.05649279955639902, 0.2730485311892619, 0.7375707084833057, 0.1771140188134254, 0.01213109717900174, 0.07197784326207698, 0.9894265135707376, 0.9854379916410007, 0.9872620285349301, 0.32357968724842384, 0.6717795680918365, 0.9998569715734413, 0.7714771866934041, 0.15028776364157223, 0.048092084365303114, 0.0290556343040373, 0.3184698213289648, 0.5195336040485947, 0.06274330808272141, 0.08650971265950984, 0.011883202288394209, 0.13881576276720137, 0.8618145271797085, 0.98490972386856, 0.09800277367460104, 0.033794059887793465, 0.033794059887793465, 0.11827920960727713, 0.13517623955117386, 0.07434693175314562, 0.506910898316902, 0.0037606837296999284, 0.9947008465056311, 0.16972978927533386, 0.14324712711889878, 0.3539046669996323, 0.33344079169693247, 0.997599211320717, 0.9818146706495675, 0.9943287200879359, 0.17216394876532937, 0.006751527402561935, 0.23967922279094872, 0.5772555929190455, 0.9960669897328828, 0.9966036860650536, 0.9971941800022642, 0.7589860107918737, 0.23931991331275296, 0.9921268955354346, 0.9799984631459143, 0.9969435702203296, 0.9973171000708355, 0.9927605807338684, 0.9921623492016447, 0.9973011278304966, 0.9973623238627214, 0.9930103670599407, 0.9830375121716468, 0.9925834990248003, 0.9904127132269724, 0.9810688250690837, 0.27670373986804814, 0.7161743855408305, 0.10677171516331417, 0.1518531060100468, 0.5765672618818966, 0.1020263056005002, 0.0640630290979885, 0.018038585630929273, 0.966868189817809, 0.014430868504743417, 0.9902685115004926, 0.1382847115274646, 0.1104187746957337, 0.5399025261147863, 0.1191268799556496, 0.023337722096574632, 0.005224863155949545, 0.0633950062921878, 0.05453765211611261, 0.15044869549272444, 0.5408630602963443, 0.026704643449958588, 0.1756488519877558, 0.0022567304323908664, 0.04964806951259906, 0.011235983286941415, 0.06741589972164849, 0.24719163231271113, 0.25842761559965255, 0.4157313816168324, 0.9956837762829287, 0.9510528785850427, 0.9510528785850427, 0.01956466634965965, 0.008333098630410592, 0.9586686511333229, 0.0130431108997731, 0.0961370552255178, 0.8940746135973154, 0.009436881822561815, 0.1530871940104472, 0.2222909940425672, 0.2049900440345372, 0.08598047882778542, 0.06133973184665179, 0.13945614248896904, 0.10066007277399269, 0.02306793334403999, 0.9545445630086534, 0.04150193752211537, 0.989927307365669, 0.9647870204872132, 0.03346082151978774, 0.9781863529236541, 0.9755575297978539, 0.9832019999931952, 0.9942681957158878, 0.17412452953078034, 0.06265228399004713, 0.7209080988984644, 0.008407882267062601, 0.02739342287010719, 0.002712220086149226, 0.003797108120608917, 0.9862307488702882, 0.4065920746428636, 0.5890372363415846, 0.10524360630367952, 0.8858003530559693, 0.9853328353856616, 0.9735710087390065, 0.990827359337263, 0.9950393826969385, 0.9932845494517278, 0.005237001139464295, 0.21550637658508465, 0.1746344775775686, 0.6056472307477379, 0.9947402407653918, 0.5965221923544259, 0.3163072981046272, 0.08705705452420932, 0.13910969276273702, 0.10982344165479238, 0.14643125553972317, 0.6003681477128651, 0.34087067624810014, 0.5649212230403297, 0.01133329614124118, 0.06102544076052943, 0.02266659228248236, 0.9929977991496917, 0.004809132110030155, 0.02725174862350421, 0.716560684394493, 0.2516779137582448, 0.9801282077400135, 0.9959677393962945, 0.9862424675917755, 0.48204742340979734, 0.5074183404313656, 0.9752058144204939, 0.3104873539449559, 0.012337245852117453, 0.04729277576645024, 0.05346139869250897, 0.5017146646527765, 0.07402347511270473, 0.9991605111546756, 0.9992590035204854, 0.9968904252732081, 0.9313809834423867, 0.2836830063954082, 0.3793116327448281, 0.0960861795855415, 0.002287766180608131, 0.0004575532361216262, 0.14595948232279876, 0.09196820046044686, 0.13048258722139097, 0.6959071318474185, 0.17397678296185462, 0.9832757903095417, 0.011522763167689942, 0.09115596753905776, 0.27689850354606255, 0.4048109096089339, 0.0034306009288892704, 0.03332583759492434, 0.18329210677208388, 0.006861201857778541, 0.03711132744300011, 0.8794684390265686, 0.08262521959007571, 0.9944337637335616, 0.0055081487632656885, 0.23685039682042458, 0.5976341408143272, 0.09639260335714954, 0.004590123969388073, 0.05783556201428972, 0.9936937323683681, 0.9827963013795398, 0.9908732795517786, 0.9662758114067576, 0.020586435396149294, 0.011579869910333978, 0.9947461040677844, 0.10794770266667005, 0.8801889602051558, 0.18195585038124562, 0.10353973076087616, 0.35591782449051185, 0.32432298017745037, 0.0022839646491369745, 0.03197550508791764, 0.9757664986818747, 0.27458536919048454, 0.3104686844824229, 0.41447829402427305, 0.18050643093569008, 0.7624840617111047, 0.056019237186938305, 0.9931706812183304, 0.9895032352534685, 0.0650386538676594, 0.8888616028580119, 0.043359102578439605, 0.4435179533365321, 0.16511923803870893, 0.24863885262805585, 0.14303933992888157, 0.9972544326786266, 0.709320941805649, 0.28557076877889764, 0.004094204570306776, 0.992455343506772, 0.9858217542679212, 0.976161522782797, 0.9481615568501913, 0.11266819756079886, 0.47994877858576523, 0.36639342986307033, 0.012863691847492783, 0.02838883718067373, 0.9960725187998857, 0.9942439134851949, 0.03608454818314848, 0.23815801800877995, 0.11366632677691771, 0.12810014605017708, 0.4835329456541896, 0.9838583320732494, 0.9966453640021344, 0.26981708986588415, 0.6448048195988468, 0.055123921585503215, 0.006527832819335906, 0.02393538700423166, 0.9918144895319054, 0.991182316024983, 0.9936082108697027, 0.9980306220928807, 0.9449401799260104, 0.051542191632327844, 0.9882841312896402, 0.0012654086188087581, 0.008857860331661308, 0.0012654086188087581, 0.08433059487775893, 0.8714161470701757, 0.043726975121800925, 0.9924137805389839, 0.0386131943212517, 0.1391870958091631, 0.8117750620095707, 0.009877793896134156, 0.10389354345912236, 0.05584277960927826, 0.3467447012948209, 0.04155741738364894, 0.02467471657154156, 0.24414982712893754, 0.18311237034670313, 0.15648384181945776, 0.16370617298035584, 0.026481880923292855, 0.11074241113377012, 0.5440822807876532, 0.11704390851897231, 0.1770289116349456, 0.017556586277845846, 0.5310867349048368, 0.095098175671665, 0.06144805197246046, 0.9663593452893531, 0.9910730394278368, 0.09750222199560667, 0.046945514294180986, 0.1661148967332558, 0.6861267473764914, 0.035207497346236065, 0.257718880574448, 0.030982597664687736, 0.21265328397126582, 0.1689959872619331, 0.06759839490477325, 0.02816599787698885, 0.05914859554167659, 0.13942168949109482, 0.10382606496373178, 0.8935334075666614, 0.9937541213385279, 0.40666953604249706, 0.43267327191732813, 0.1303798423724169, 0.022392105892215648, 0.0075844229634923965, 0.9939021453222859, 0.1926552659506457, 0.1250569270205946, 0.19603518289714827, 0.4833281233498655, 0.9795163947412873, 0.9894224110317439, 0.9093729430466374, 0.08915421010261151, 0.9729400242127573, 0.139615633086039, 0.14350735805010975, 0.5380309762827844, 0.005351121825597313, 0.14837201425519822, 0.02480974664595118, 0.9545561825471093, 0.7876044153102266, 0.038663426896089446, 0.08644968485754831, 0.023893128980729435, 0.06342539693066358, 0.9924169209790253, 0.006976568864527418, 0.9956566246614058, 0.8516131839145198, 0.14171803826711132, 0.001043963449481483, 0.005219817247407416, 0.9884239954576303, 0.5072621434730796, 0.14256387038785898, 0.3497787982771889, 0.9827527535124978, 0.9954544961594692, 0.9844494837336125, 0.9988693881360331, 0.9958377639526371, 0.9968834877656687, 0.9987428348558638, 0.31777051253818706, 0.08714776598037238, 0.15197720164869816, 0.17004442142511683, 0.04251110535627921, 0.20086497280841925, 0.029757773749395446, 0.8150184677022799, 0.17295687202490825, 0.012237514530064263, 0.00771747578629552, 0.9286695862842275, 0.020579935430121387, 0.041159870860242774, 0.13391748238772355, 0.002349429515574097, 0.2787989691814595, 0.05638630837377833, 0.03759087224918555, 0.021928008812024908, 0.40723444936617686, 0.061085167404926526, 0.9934969152349548, 0.9930659858198153, 0.19558012648523918, 0.8038805198842114, 0.11300896792922359, 0.2855767162535785, 0.5100675038967659, 0.02596151965941623, 0.06261307682565091, 0.19218047364098226, 0.06263659881632014, 0.037012535664189175, 0.47119805018640837, 0.024200504088123694, 0.21282208006908776, 0.9656313787720952, 0.9865858336974301, 0.9966685698560733, 0.507590982417001, 0.49067128300310087, 0.07855394630514048, 0.3456373637426181, 0.5734438080275255, 0.9941355433529304, 0.9842030856252629, 0.8827095296522347, 0.09114935360539379, 0.024946138881476197, 0.982569287339973, 0.09380005243970194, 0.9004805034211386, 0.20427706324503841, 0.1331357974383086, 0.08028799998188077, 0.47156496191889463, 0.11077711389905068, 0.938673867615744, 0.06039724617366717, 0.9938183016638767, 0.9863585036851805, 0.9865339235880913, 0.8661312539940882, 0.13325096215293664, 0.9912996688983886, 0.9508607987556038, 0.9149494832919518, 0.0831772257538138, 0.7221923296280676, 0.013287807352862328, 0.0890283092641776, 0.021260491764579725, 0.09633660330825188, 0.058466352352594245, 0.9956459879766043, 0.029107877110287464, 0.6650030385965675, 0.13210498073130464, 0.011195337350110563, 0.023510208435232185, 0.138822183141371, 0.1162130874388221, 0.8665010905526209, 0.01631060876334345, 0.9684658358854529, 0.026174752321228456, 0.984437842538888, 0.9196259850775658, 0.00874446261563454, 0.0058296417437563594, 0.03497785046253816, 0.0291482087187818, 0.9474282707247055, 0.0312830089390233, 0.01787600510801331, 0.09984381680774485, 0.8985943512697036, 0.0018520537576479962, 0.3796710203178392, 0.27039984861660743, 0.34633405268017525, 0.9664507011863918, 0.06859351597619857, 0.9260124656786808, 0.988462680365067, 0.1545796785636549, 0.8419071778913347, 0.011822333071107222, 0.3152622152295259, 0.42402767948371234, 0.11507070855877695, 0.06699322073627426, 0.06620506519820044, 0.9948826412126429, 0.9855441304357418, 0.9658316259818294, 0.7462007066282235, 0.09571684456749464, 0.018231779917618027, 0.0195340499117336, 0.04297490980581392, 0.03516128984112048, 0.041672639811698345, 0.9915441355131619, 0.8392696974281241, 0.1589459780769184, 0.0008733295498731781, 0.9884434533973452, 0.11604529650952326, 0.8786286735721047, 0.010966559293314958, 0.9884525443041217, 0.17008900305036448, 0.1630019612565993, 0.16441936961535233, 0.5017625589985752, 0.9914978769914752, 0.8362148324627399, 0.03493933840373565, 0.11925960841808435, 0.009783014753045981, 0.9880026207084912, 0.31357613496226394, 0.1086405506955875, 0.5753010980016339, 0.9519138624934773, 0.03087288202681548, 0.016906578252779907, 0.9953461845673477, 0.9743710885878513, 0.7014602970941085, 0.15716681184891582, 0.10885869704903854, 0.03209511736704176, 0.6899257814460944, 0.14033653980185637, 0.10749181772057083, 0.06214370711970501, 0.9818130180364569, 0.5880265365461981, 0.06997059950375302, 0.1014231816911078, 0.0904831531042018, 0.03851801731639824, 0.08455730428629436, 0.020740470862675976, 0.006381683342361839, 0.9955765279799371, 0.9914675750943723, 0.27835525552692486, 0.5314054878241293, 0.1940051780945234, 0.9859377534740067, 0.01565620348198078, 0.20353064526575013, 0.7775914396050454, 0.994887630291636, 0.2062214392844605, 0.5907546493787929, 0.10466125677970739, 0.04806665126179154, 0.03101074274954293, 0.01938171421846433, 0.05593527979596831, 0.9429090022748944, 0.4317379721910372, 0.12258200365385562, 0.3004297920058902, 0.12424413251695875, 0.017867885278358614, 0.003324257726206254, 0.9963164431518583, 0.9849946148010423, 0.9973645349614317, 0.021916326414767897, 0.0798885446731862, 0.7663644462454322, 0.005655826171553005, 0.05373034862975355, 0.03817682665798278, 0.03322797875787391, 0.002120934814332377, 0.9403951106364374, 0.056142991679787306, 0.9970403581572607, 0.9486960588669948, 0.040892071502887706, 0.004223323342742426, 0.9945926472158413, 0.016364711629296425, 0.40229916088687045, 0.17592065001493656, 0.4050266128250865, 0.98661650556201, 0.9837747508353847, 0.023458700446505186, 0.022341619472862083, 0.4680569279564606, 0.4859302235347503, 0.05777417061418918, 0.939793175324144, 0.99302509207719, 0.9872876426344076, 0.17062628699460425, 0.828039333944403, 0.9905087821393361, 0.7813407702268359, 0.05297225560859905, 0.1515595091023806, 0.013243063902149762, 0.9965780002380501, 0.9228673101929978, 0.5312779567648829, 0.0641420947801505, 0.343063022081714, 0.05669124538649665, 0.004535299630919732, 0.9988614115984839, 0.5702094347289208, 0.18557306473578267, 0.09640586519075234, 0.08785107851853541, 0.03849654002497619, 0.021386966680542328, 0.3094220057795917, 0.0966596571017037, 0.33497570823176626, 0.04721879800945296, 0.2110958028657897, 0.9699676544369064, 0.994225147010863, 0.994670353512152, 0.9938361638220251, 0.014212772848601904, 0.22412449492026082, 0.7620232827288868, 0.9992360455293182, 0.17897092344359655, 0.8170411722425059, 0.1468100746916586, 0.8497189171547512, 0.9074557339970816, 0.08925794104889327, 0.9871561140579984, 0.5915108978273942, 0.402227410522628, 0.9773549378803795, 0.9078327210633679, 0.014564161300481838, 0.029128322600963676, 0.04854720433493946, 0.9904632508987407, 0.30593257981543365, 0.5976136419376017, 0.0019002023591020722, 0.053205666054858027, 0.0038004047182041444, 0.03705394600249041, 0.30853127278396003, 0.017684494652918898, 0.3521109203215102, 0.228951046845825, 0.0903172405488358, 0.0022105618316148623, 0.4738848260671353, 0.2721070114343091, 0.02176856091474473, 0.014233289828871554, 0.02176856091474473, 0.015907794514621147, 0.1808465060609562, 0.9937826948408512, 0.24981103113779657, 0.023522135232283588, 0.08783582143700833, 0.19353655570866243, 0.34092208659448997, 0.0008932456417322882, 0.09349304383464616, 0.010123450606299265, 0.990934636258154, 0.9888749458950509], \"Term\": [\"_\", \"_\", \"_\", \"abortion\", \"absolute\", \"access\", \"access\", \"access\", \"access\", \"act\", \"act\", \"adult\", \"adult\", \"advice\", \"advice\", \"advice\", \"afraid\", \"age\", \"age\", \"age\", \"age\", \"age\", \"age\", \"ai\", \"amendment\", \"anonymous\", \"apartment\", \"application\", \"application\", \"application\", \"appreciate\", \"appreciate\", \"arab\", \"archive\", \"area\", \"area\", \"area\", \"area\", \"area\", \"area\", \"area\", \"argument\", \"argument\", \"armenia\", \"armenian\", \"article\", \"article\", \"article\", \"article\", \"article\", \"article\", \"assumption\", \"astronomy\", \"atheism\", \"atheist\", \"attack\", \"attack\", \"attack\", \"attack\", \"author\", \"author\", \"author\", \"authority\", \"authority\", \"auto\", \"available\", \"available\", \"available\", \"available\", \"available\", \"available_anonymous\", \"available_anonymous\", \"away\", \"away\", \"away\", \"away\", \"ax\", \"bad\", \"bad\", \"bad\", \"bad\", \"bad\", \"bad\", \"ban\", \"band\", \"base\", \"base\", \"base\", \"base\", \"base\", \"base\", \"base\", \"baseball\", \"battery\", \"belief\", \"believe\", \"believe\", \"believe\", \"believer\", \"bh\", \"bhj\", \"bhj_bhj\", \"bhj_giz\", \"bible\", \"bible\", \"bike\", \"binary\", \"bio\", \"bit\", \"bit\", \"bit\", \"bit\", \"bit\", \"bj\", \"bj\", \"black\", \"black\", \"black\", \"black\", \"black\", \"boy\", \"brave\", \"bus\", \"bus\", \"buy\", \"buy\", \"c\", \"cage\", \"cancer\", \"cap\", \"cap\", \"capital\", \"car\", \"car\", \"card\", \"card\", \"case\", \"case\", \"case\", \"case\", \"case\", \"case\", \"case\", \"catholic\", \"cause\", \"cause\", \"cause\", \"cause\", \"cause\", \"cause\", \"center\", \"center\", \"center\", \"center\", \"center\", \"center\", \"chastity_intellect\", \"cheap\", \"cheap\", \"child\", \"child\", \"child\", \"child\", \"chip\", \"chip\", \"christian\", \"church\", \"church\", \"circuit\", \"city\", \"city\", \"city\", \"city\", \"civilian\", \"claim\", \"claim\", \"claim\", \"claim\", \"client\", \"client\", \"clock\", \"closed_road\", \"coach\", \"code\", \"code\", \"code\", \"color\", \"color\", \"color\", \"come\", \"come\", \"come\", \"come\", \"come\", \"commercial\", \"commercial\", \"commercial\", \"communication_service\", \"comp\", \"compile\", \"compile\", \"complain\", \"conclusion\", \"conference\", \"conference\", \"configuration\", \"connector\", \"constitution\", \"contain\", \"contain\", \"contain\", \"contain\", \"contain\", \"controller\", \"controller\", \"cop\", \"copy\", \"copy\", \"copy\", \"copy\", \"cost\", \"cost\", \"cost\", \"cost\", \"country\", \"country\", \"country\", \"cpu\", \"crypto\", \"ctrl_key\", \"cx\", \"cycle\", \"datum\", \"datum\", \"datum\", \"datum\", \"daughter\", \"david_veal\", \"david_veal\", \"day\", \"day\", \"day\", \"day\", \"day\", \"day\", \"dealer\", \"debate\", \"derive\", \"design\", \"design\", \"design\", \"design\", \"deskjet\", \"detection\", \"detector\", \"develop\", \"develop\", \"develop\", \"develop\", \"develop\", \"development\", \"development\", \"development\", \"device\", \"device\", \"device\", \"devil\", \"diagnose\", \"die\", \"die\", \"diet\", \"difference\", \"difference\", \"difference\", \"difference\", \"difference\", \"difference\", \"directory\", \"directory\", \"discussion\", \"discussion\", \"disease\", \"disk\", \"distribution_usaorganization\", \"division\", \"division\", \"division\", \"do\", \"do\", \"do\", \"do\", \"doctor\", \"doctor\", \"documentation\", \"dog\", \"drive\", \"drive\", \"drive\", \"driver\", \"driver\", \"drug\", \"earth\", \"earth\", \"earth\", \"eat\", \"eat\", \"eat\", \"eau_claire\", \"eduin_article\", \"effect\", \"effect\", \"effect\", \"effect\", \"effect\", \"effect\", \"effect\", \"effect\", \"egg\", \"ei\", \"electrical\", \"email\", \"email\", \"email\", \"encryption\", \"encryption\", \"energy\", \"engine\", \"engine\", \"engineer\", \"entry\", \"equation\", \"eternal\", \"evidence\", \"evidence\", \"example\", \"example\", \"example\", \"example\", \"example\", \"example\", \"example\", \"exist\", \"exist\", \"exist\", \"exist\", \"existence\", \"explosion\", \"export\", \"export\", \"eye\", \"fact\", \"fact\", \"fact\", \"fact\", \"fact\", \"fact\", \"faith\", \"fan\", \"faq\", \"faq\", \"faq\", \"faq\", \"fast\", \"fast\", \"fast\", \"father\", \"federal\", \"feel\", \"feel\", \"feel\", \"feel\", \"file\", \"file\", \"firearm\", \"flight\", \"flyer\", \"follow\", \"follow\", \"follow\", \"follow\", \"follow\", \"follow\", \"follow\", \"follow\", \"food\", \"food\", \"food\", \"force\", \"force\", \"force\", \"force\", \"forever\", \"format\", \"format\", \"fq\", \"ftp\", \"functionality\", \"fund\", \"fund\", \"funding\", \"funny\", \"game\", \"gary_dare\", \"gateway\", \"gear\", \"gene\", \"german\", \"german\", \"get\", \"get\", \"get\", \"get\", \"gif\", \"gift\", \"giz\", \"giz_giz\", \"glad\", \"go\", \"go\", \"go\", \"go\", \"go\", \"goal\", \"goal\", \"goal\", \"god\", \"god\", \"good\", \"good\", \"good\", \"good\", \"good\", \"gordon_bank\", \"government\", \"government\", \"gp\", \"gq\", \"gq\", \"graphic\", \"graphic\", \"great\", \"great\", \"great\", \"great\", \"great\", \"great\", \"great\", \"greatly_appreciate\", \"greece\", \"greek\", \"greek\", \"group\", \"group\", \"group\", \"group\", \"group\", \"group\", \"group\", \"group\", \"gun\", \"gun\", \"hand\", \"hand\", \"hand\", \"hand\", \"hand\", \"hand\", \"happen\", \"happen\", \"happen\", \"happen\", \"hard_drive\", \"hardware\", \"hardware\", \"hate\", \"hate\", \"health\", \"hear\", \"hear\", \"hell\", \"hell\", \"helmet\", \"help\", \"help\", \"help\", \"help\", \"help\", \"help\", \"henry_spencer\", \"high\", \"high\", \"high\", \"high\", \"high\", \"high\", \"high\", \"history\", \"history\", \"history\", \"history\", \"hit\", \"hit\", \"hit\", \"hit\", \"hockey\", \"home\", \"home\", \"home\", \"home\", \"home\", \"host\", \"host\", \"host\", \"host\", \"host\", \"human\", \"human\", \"human\", \"human\", \"human\", \"human_right\", \"ice\", \"ide\", \"illegal\", \"image\", \"imply\", \"include\", \"include\", \"include\", \"include\", \"include\", \"include\", \"include\", \"include\", \"include\", \"increase\", \"increase\", \"increase\", \"increase\", \"increase\", \"increase\", \"increase\", \"infection\", \"info\", \"info\", \"info\", \"information\", \"information\", \"information\", \"information\", \"information\", \"information\", \"instal\", \"instal\", \"insurance\", \"insurance\", \"interested\", \"interested\", \"interested\", \"interface\", \"interpretation\", \"island\", \"islander\", \"israeli\", \"issue\", \"issue\", \"issue\", \"issue\", \"issue\", \"issue\", \"jake_livni\", \"japanese\", \"jewish\", \"jewish\", \"job\", \"job\", \"job\", \"joke\", \"jpeg\", \"jumper\", \"key\", \"key\", \"key\", \"keyboard\", \"kid\", \"kill\", \"kill\", \"kill\", \"king\", \"king\", \"know\", \"know\", \"know\", \"know\", \"koresh\", \"laboratory\", \"laboratory\", \"land\", \"land\", \"land\", \"large\", \"large\", \"large\", \"large\", \"large\", \"large\", \"large\", \"laser\", \"launch\", \"law\", \"leafs\", \"league\", \"leave\", \"leave\", \"leave\", \"leave\", \"leave\", \"leave\", \"legal\", \"let\", \"let\", \"let\", \"let\", \"let\", \"let\", \"library\", \"library\", \"library\", \"library\", \"life\", \"life\", \"line\", \"line\", \"line\", \"line\", \"line\", \"line\", \"line\", \"list\", \"list\", \"list\", \"list\", \"list\", \"list\", \"list\", \"live\", \"live\", \"live\", \"living\", \"lk\", \"log\", \"look\", \"look\", \"look\", \"look\", \"look\", \"look\", \"lose\", \"lose\", \"lose\", \"lose\", \"lose\", \"lose\", \"love\", \"low\", \"low\", \"low\", \"low\", \"low\", \"lunar\", \"m\", \"m\", \"m\", \"m\", \"m\", \"m\", \"mac\", \"machine\", \"mail\", \"mail\", \"mail\", \"man\", \"man\", \"man\", \"man\", \"mar\", \"marry\", \"massacre\", \"material\", \"material\", \"max\", \"maybe\", \"maybe\", \"maybe\", \"maybe\", \"mean\", \"mean\", \"mean\", \"mean\", \"mean\", \"medical\", \"medical\", \"medicine\", \"medium\", \"medium\", \"medium\", \"medium\", \"medium\", \"medium\", \"medium\", \"memory\", \"memory\", \"message\", \"message\", \"message\", \"message\", \"mhz\", \"midelfort_clinic\", \"mile\", \"military\", \"military\", \"military\", \"military\", \"mission\", \"mit\", \"mode\", \"model\", \"model\", \"modem\", \"modification\", \"moon\", \"moral\", \"morality\", \"morning\", \"mother\", \"motif\", \"motorcycle\", \"mountain_passe\", \"mouse\", \"mph\", \"msg\", \"nation\", \"nation\", \"national\", \"national\", \"national\", \"national\", \"national\", \"nature\", \"nature\", \"nature\", \"nazi\", \"need\", \"need\", \"need\", \"need\", \"need\", \"need\", \"need\", \"new\", \"new\", \"new\", \"new\", \"new\", \"new\", \"new\", \"new_york\", \"new_york\", \"new_york\", \"new_york\", \"new_york\", \"nhl\", \"night_biker\", \"ninjaite_drinke\", \"nntp_poste\", \"nntp_poste\", \"nntp_poste\", \"nntp_poste\", \"nuclear\", \"nuclear\", \"number\", \"number\", \"number\", \"number\", \"number\", \"number\", \"number\", \"number\", \"number\", \"objective\", \"objective\", \"occupy\", \"oil\", \"oil\", \"op\", \"openwindow\", \"opinions_employer\", \"orbit\", \"organization\", \"organization\", \"organization\", \"organization\", \"organization\", \"organization\", \"organization\", \"ozone\", \"pain\", \"pain\", \"pair\", \"pair\", \"palestinian\", \"parkline\", \"passage\", \"patient\", \"pc\", \"pc\", \"peace\", \"peace\", \"peace\", \"pen\", \"people\", \"people\", \"people\", \"percent\", \"percent\", \"percent\", \"percent\", \"person\", \"person\", \"person\", \"person\", \"person\", \"phase\", \"phone\", \"phone\", \"phone\", \"phone\", \"physician\", \"pitch\", \"pitcher\", \"pl\", \"pl\", \"pl_pl\", \"plan\", \"plan\", \"plan\", \"plan\", \"plan\", \"plan\", \"play\", \"player\", \"playoff\", \"pmf\", \"point\", \"point\", \"point\", \"point\", \"point\", \"point\", \"point\", \"population\", \"population\", \"population\", \"port\", \"port\", \"post\", \"post\", \"post\", \"post\", \"post\", \"post\", \"post\", \"posting_host\", \"posting_host\", \"posting_host\", \"postscript\", \"power\", \"power\", \"power\", \"power\", \"power\", \"power\", \"power_play\", \"pray\", \"prayer\", \"price\", \"price\", \"price\", \"printer\", \"probe\", \"probe\", \"problem\", \"problem\", \"problem\", \"problem\", \"problem\", \"problem\", \"proceeded_work\", \"program\", \"program\", \"program\", \"project\", \"project\", \"project\", \"proof\", \"prophet\", \"prove\", \"prove\", \"prove\", \"provide\", \"provide\", \"provide\", \"provide\", \"pub\", \"public\", \"public\", \"public\", \"public_access\", \"public_domain\", \"qax\", \"qq\", \"question\", \"question\", \"question\", \"question\", \"question\", \"ram\", \"ranger\", \"rate\", \"rate\", \"rate\", \"rate\", \"rate\", \"react\", \"realize\", \"reason\", \"reason\", \"reason\", \"reason\", \"reason\", \"regional\", \"relation\", \"relationship\", \"religion\", \"religious\", \"religious\", \"remember\", \"remember\", \"remember\", \"remember\", \"replace\", \"replace\", \"replace\", \"replacement\", \"reply\", \"reply\", \"reply\", \"reply\", \"report\", \"report\", \"report\", \"report\", \"report\", \"report\", \"report\", \"request\", \"request\", \"request\", \"request\", \"request\", \"research\", \"research\", \"research\", \"research\", \"research\", \"research\", \"reserve_universityline\", \"resistor\", \"resource\", \"resource\", \"resource\", \"resource\", \"result\", \"result\", \"result\", \"result\", \"result\", \"result\", \"result\", \"result\", \"result\", \"ride\", \"ride\", \"rider\", \"right\", \"right\", \"right\", \"right\", \"right\", \"ripem\", \"risk\", \"risk\", \"risk\", \"risk\", \"rk\", \"rlk\", \"rocket\", \"rocket\", \"rtp_ncline\", \"run\", \"run\", \"run\", \"run\", \"run\", \"run\", \"rust\", \"s\", \"s\", \"s\", \"s\", \"s\", \"sale\", \"sale\", \"satellite\", \"say\", \"say\", \"say\", \"say\", \"sci_space\", \"science\", \"science\", \"science\", \"sciencelines_article\", \"score\", \"scoring\", \"screen\", \"scripture\", \"scsi\", \"season\", \"second\", \"second\", \"second\", \"second\", \"second\", \"second\", \"second\", \"see\", \"see\", \"see\", \"sell\", \"sell\", \"sell\", \"sell\", \"send\", \"send\", \"send\", \"send\", \"send\", \"send\", \"send\", \"send\", \"serdar_argic\", \"serial\", \"server\", \"server\", \"service\", \"service\", \"service\", \"service\", \"service\", \"set\", \"set\", \"set\", \"set\", \"set\", \"set\", \"showed_picture\", \"shuttle\", \"sin\", \"sl\", \"sl\", \"slave\", \"slave\", \"slave\", \"slot\", \"sm\", \"software\", \"software\", \"software\", \"solar\", \"soldier\", \"soldier\", \"source\", \"source\", \"source\", \"source\", \"source\", \"space\", \"space\", \"space_shuttle\", \"space_station\", \"spacecraft\", \"speak\", \"speak\", \"specification\", \"spill\", \"stand\", \"stand\", \"start\", \"start\", \"start\", \"start\", \"start\", \"start\", \"stat\", \"state\", \"state\", \"state\", \"state\", \"state\", \"state\", \"statement\", \"statement\", \"statement\", \"stay\", \"stay\", \"steve_dyer\", \"stop\", \"stop\", \"stop\", \"stop\", \"stop\", \"story\", \"story\", \"story\", \"string\", \"string\", \"study\", \"study\", \"study\", \"study\", \"submission\", \"substance\", \"substance\", \"suddenly\", \"sun\", \"sun\", \"support\", \"support\", \"support\", \"support\", \"support\", \"support\", \"surveillance\", \"sy\", \"syndrome\", \"take\", \"take\", \"take\", \"take\", \"take\", \"take\", \"take\", \"talent\", \"talk\", \"talk\", \"talk\", \"tar\", \"tax\", \"tax\", \"team\", \"team\", \"technology\", \"technology\", \"technology\", \"technology\", \"technologyline\", \"tell\", \"tell\", \"tell\", \"tell\", \"territory\", \"text\", \"text\", \"text\", \"thank\", \"thank\", \"thank\", \"thanks_advance\", \"thermal\", \"thing\", \"thing\", \"thing\", \"thing\", \"think\", \"think\", \"think\", \"think\", \"tiff\", \"time\", \"time\", \"time\", \"time\", \"time\", \"time\", \"time\", \"time\", \"tin_version\", \"tire\", \"tm\", \"tm\", \"tm\", \"tomorrow\", \"treatment\", \"treatment\", \"treatment\", \"troop\", \"true\", \"true\", \"true\", \"true\", \"true\", \"true\", \"truth\", \"truth\", \"try\", \"try\", \"try\", \"try\", \"try\", \"try\", \"turk\", \"turkey\", \"turkish\", \"university\", \"university\", \"university\", \"university\", \"university\", \"university\", \"university\", \"university\", \"university_illinois\", \"university_illinois\", \"upgrade\", \"urbanaline\", \"urbanaline\", \"usaline\", \"usaline\", \"user\", \"user\", \"user\", \"user\", \"vat\", \"verse\", \"version\", \"version\", \"version\", \"version\", \"version_pl\", \"version_pl\", \"vga\", \"vice_president\", \"video\", \"video\", \"video_card\", \"view\", \"view\", \"view\", \"view\", \"village\", \"wam_umd\", \"want\", \"want\", \"want\", \"want\", \"want\", \"war\", \"way\", \"way\", \"way\", \"way\", \"way\", \"way\", \"well\", \"well\", \"well\", \"well\", \"well\", \"western_digital\", \"wheel\", \"widget\", \"wife\", \"win\", \"win\", \"win\", \"window\", \"window_manag\", \"window_manag\", \"wing\", \"wing\", \"wire\", \"wire\", \"wiring\", \"wm\", \"wm\", \"wm_wm\", \"woman\", \"woman\", \"woman\", \"woman\", \"wonderful\", \"word\", \"word\", \"word\", \"word\", \"word\", \"word\", \"work\", \"work\", \"work\", \"work\", \"work\", \"work\", \"world\", \"world\", \"world\", \"world\", \"world\", \"world\", \"world\", \"worship\", \"year\", \"year\", \"year\", \"year\", \"year\", \"year\", \"year\", \"year\", \"youth\", \"zone\"]}, \"R\": 30, \"lambda.step\": 0.01, \"plot.opts\": {\"xlab\": \"PC1\", \"ylab\": \"PC2\"}, \"topic.order\": [2, 9, 6, 1, 5, 4, 3, 8, 10, 7]};\n",
              "\n",
              "function LDAvis_load_lib(url, callback){\n",
              "  var s = document.createElement('script');\n",
              "  s.src = url;\n",
              "  s.async = true;\n",
              "  s.onreadystatechange = s.onload = callback;\n",
              "  s.onerror = function(){console.warn(\"failed to load library \" + url);};\n",
              "  document.getElementsByTagName(\"head\")[0].appendChild(s);\n",
              "}\n",
              "\n",
              "if(typeof(LDAvis) !== \"undefined\"){\n",
              "   // already loaded: just create the visualization\n",
              "   !function(LDAvis){\n",
              "       new LDAvis(\"#\" + \"ldavis_el2061382434459685609923280805\", ldavis_el2061382434459685609923280805_data);\n",
              "   }(LDAvis);\n",
              "}else if(typeof define === \"function\" && define.amd){\n",
              "   // require.js is available: use it to load d3/LDAvis\n",
              "   require.config({paths: {d3: \"https://d3js.org/d3.v5\"}});\n",
              "   require([\"d3\"], function(d3){\n",
              "      window.d3 = d3;\n",
              "      LDAvis_load_lib(\"https://cdn.jsdelivr.net/gh/bmabey/pyLDAvis@3.4.0/pyLDAvis/js/ldavis.v3.0.0.js\", function(){\n",
              "        new LDAvis(\"#\" + \"ldavis_el2061382434459685609923280805\", ldavis_el2061382434459685609923280805_data);\n",
              "      });\n",
              "    });\n",
              "}else{\n",
              "    // require.js not available: dynamically load d3 & LDAvis\n",
              "    LDAvis_load_lib(\"https://d3js.org/d3.v5.js\", function(){\n",
              "         LDAvis_load_lib(\"https://cdn.jsdelivr.net/gh/bmabey/pyLDAvis@3.4.0/pyLDAvis/js/ldavis.v3.0.0.js\", function(){\n",
              "                 new LDAvis(\"#\" + \"ldavis_el2061382434459685609923280805\", ldavis_el2061382434459685609923280805_data);\n",
              "            })\n",
              "         });\n",
              "}\n",
              "</script>"
            ],
            "text/plain": [
              "<IPython.core.display.HTML object>"
            ]
          },
          "execution_count": 36,
          "metadata": {},
          "output_type": "execute_result"
        }
      ],
      "source": [
        "import pyLDAvis\n",
        "import pyLDAvis.gensim_models as gensimvis\n",
        "\n",
        "class MyDict:\n",
        "    def __init__(self, id2word):\n",
        "        self.id2word = id2word\n",
        "        self.token2id = {v: k for k, v in id2word.items()}\n",
        "\n",
        "    def __len__(self):\n",
        "        return len(self.token2id)\n",
        "\n",
        "# Create an instance of MyDict\n",
        "my_dict = MyDict(id2word)\n",
        "\n",
        "# Prepare the pyLDAvis visualization\n",
        "lda_display = gensimvis.prepare(lda_model, corpus, my_dict)\n",
        "\n",
        "# Display the visualization\n",
        "pyLDAvis.display(lda_display)"
      ]
    },
    {
      "cell_type": "code",
      "execution_count": null,
      "metadata": {
        "id": "TAgieI5KZblb"
      },
      "outputs": [],
      "source": []
    }
  ],
  "metadata": {
    "colab": {
      "provenance": []
    },
    "kernelspec": {
      "display_name": "Python 3",
      "name": "python3"
    },
    "language_info": {
      "name": "python"
    }
  },
  "nbformat": 4,
  "nbformat_minor": 0
}
